{
 "cells": [
  {
   "cell_type": "markdown",
   "metadata": {},
   "source": [
    "##   Grammarly <br> <font size='4'>Monthly Users Analysis</font> <br> <font size='3'>Febraury 2016<br> <font size='2'> Reza Taeb - Data Scientist Candidate - Grammarly </font>"
   ]
  },
  {
   "cell_type": "code",
   "execution_count": 1,
   "metadata": {},
   "outputs": [],
   "source": [
    "# import essential libraries and packages\n",
    "\n",
    "import pandas as pd\n",
    "import numpy as np\n",
    "import re\n",
    "import timeit \n",
    "import seaborn as sns\n",
    "import datetime\n",
    "from datetime import datetime\n",
    "import matplotlib.pyplot as plt\n",
    "import altair as alt\n",
    "import warnings\n",
    "warnings.filterwarnings('ignore')"
   ]
  },
  {
   "cell_type": "code",
   "execution_count": 2,
   "metadata": {},
   "outputs": [],
   "source": [
    "# read JSON file \n",
    "\n",
    "df = pd.read_json(\"grammarly_data_exercise.json\")"
   ]
  },
  {
   "cell_type": "code",
   "execution_count": 3,
   "metadata": {},
   "outputs": [
    {
     "name": "stdout",
     "output_type": "stream",
     "text": [
      "<class 'pandas.core.frame.DataFrame'>\n",
      "RangeIndex: 4823567 entries, 0 to 4823566\n",
      "Data columns (total 5 columns):\n",
      " #   Column     Dtype         \n",
      "---  ------     -----         \n",
      " 0   date       datetime64[ns]\n",
      " 1   timestamp  datetime64[ns]\n",
      " 2   uid        object        \n",
      " 3   isFirst    bool          \n",
      " 4   utmSource  object        \n",
      "dtypes: bool(1), datetime64[ns](2), object(2)\n",
      "memory usage: 151.8+ MB\n"
     ]
    }
   ],
   "source": [
    "# dataframe summary\n",
    "\n",
    "df.info()"
   ]
  },
  {
   "cell_type": "code",
   "execution_count": 89,
   "metadata": {},
   "outputs": [
    {
     "data": {
      "text/html": [
       "<div>\n",
       "<style scoped>\n",
       "    .dataframe tbody tr th:only-of-type {\n",
       "        vertical-align: middle;\n",
       "    }\n",
       "\n",
       "    .dataframe tbody tr th {\n",
       "        vertical-align: top;\n",
       "    }\n",
       "\n",
       "    .dataframe thead th {\n",
       "        text-align: right;\n",
       "    }\n",
       "</style>\n",
       "<table border=\"1\" class=\"dataframe\">\n",
       "  <thead>\n",
       "    <tr style=\"text-align: right;\">\n",
       "      <th></th>\n",
       "      <th>date</th>\n",
       "      <th>timestamp</th>\n",
       "      <th>uid</th>\n",
       "      <th>isFirst</th>\n",
       "      <th>utmSource</th>\n",
       "    </tr>\n",
       "  </thead>\n",
       "  <tbody>\n",
       "    <tr>\n",
       "      <th>0</th>\n",
       "      <td>2016-02-01</td>\n",
       "      <td>2016-02-01 08:00:01.230</td>\n",
       "      <td>53386875</td>\n",
       "      <td>False</td>\n",
       "      <td>Biznesowe+Rewolucje</td>\n",
       "    </tr>\n",
       "    <tr>\n",
       "      <th>1</th>\n",
       "      <td>2016-02-01</td>\n",
       "      <td>2016-02-01 08:00:01.410</td>\n",
       "      <td>70935792</td>\n",
       "      <td>False</td>\n",
       "      <td>None</td>\n",
       "    </tr>\n",
       "    <tr>\n",
       "      <th>2</th>\n",
       "      <td>2016-02-01</td>\n",
       "      <td>2016-02-01 08:00:01.451</td>\n",
       "      <td>IG4TX0lZdTk1</td>\n",
       "      <td>False</td>\n",
       "      <td>None</td>\n",
       "    </tr>\n",
       "    <tr>\n",
       "      <th>3</th>\n",
       "      <td>2016-02-01</td>\n",
       "      <td>2016-02-01 08:00:01.556</td>\n",
       "      <td>70128721</td>\n",
       "      <td>False</td>\n",
       "      <td>Biznesowe+Rewolucje</td>\n",
       "    </tr>\n",
       "    <tr>\n",
       "      <th>4</th>\n",
       "      <td>2016-02-01</td>\n",
       "      <td>2016-02-01 08:00:01.673</td>\n",
       "      <td>53386875</td>\n",
       "      <td>False</td>\n",
       "      <td>Biznesowe+Rewolucje</td>\n",
       "    </tr>\n",
       "  </tbody>\n",
       "</table>\n",
       "</div>"
      ],
      "text/plain": [
       "        date               timestamp           uid  isFirst  \\\n",
       "0 2016-02-01 2016-02-01 08:00:01.230      53386875    False   \n",
       "1 2016-02-01 2016-02-01 08:00:01.410      70935792    False   \n",
       "2 2016-02-01 2016-02-01 08:00:01.451  IG4TX0lZdTk1    False   \n",
       "3 2016-02-01 2016-02-01 08:00:01.556      70128721    False   \n",
       "4 2016-02-01 2016-02-01 08:00:01.673      53386875    False   \n",
       "\n",
       "             utmSource  \n",
       "0  Biznesowe+Rewolucje  \n",
       "1                 None  \n",
       "2                 None  \n",
       "3  Biznesowe+Rewolucje  \n",
       "4  Biznesowe+Rewolucje  "
      ]
     },
     "execution_count": 89,
     "metadata": {},
     "output_type": "execute_result"
    }
   ],
   "source": [
    "df.head(5)"
   ]
  },
  {
   "cell_type": "markdown",
   "metadata": {},
   "source": [
    "The '.head' method shows a limited number of rows; if we want to get a better sense of the dataset, we need to see more rows. "
   ]
  },
  {
   "cell_type": "code",
   "execution_count": 5,
   "metadata": {},
   "outputs": [],
   "source": [
    "# Function to check more rows of df\n",
    "def display_all(data):\n",
    "    \n",
    "    '''This function shows more rows'''\n",
    "    \n",
    "    with pd.option_context(\"display.min_rows\", 20): \n",
    "        display(data)"
   ]
  },
  {
   "cell_type": "code",
   "execution_count": 6,
   "metadata": {},
   "outputs": [
    {
     "data": {
      "text/html": [
       "<div>\n",
       "<style scoped>\n",
       "    .dataframe tbody tr th:only-of-type {\n",
       "        vertical-align: middle;\n",
       "    }\n",
       "\n",
       "    .dataframe tbody tr th {\n",
       "        vertical-align: top;\n",
       "    }\n",
       "\n",
       "    .dataframe thead th {\n",
       "        text-align: right;\n",
       "    }\n",
       "</style>\n",
       "<table border=\"1\" class=\"dataframe\">\n",
       "  <thead>\n",
       "    <tr style=\"text-align: right;\">\n",
       "      <th></th>\n",
       "      <th>date</th>\n",
       "      <th>timestamp</th>\n",
       "      <th>uid</th>\n",
       "      <th>isFirst</th>\n",
       "      <th>utmSource</th>\n",
       "    </tr>\n",
       "  </thead>\n",
       "  <tbody>\n",
       "    <tr>\n",
       "      <th>0</th>\n",
       "      <td>2016-02-29</td>\n",
       "      <td>2016-02-29 08:00:01.255</td>\n",
       "      <td>g4Hjpoji4dmv</td>\n",
       "      <td>False</td>\n",
       "      <td>Biznesowe+Rewolucje</td>\n",
       "    </tr>\n",
       "    <tr>\n",
       "      <th>1</th>\n",
       "      <td>2016-02-29</td>\n",
       "      <td>2016-02-29 08:00:01.556</td>\n",
       "      <td>g4Hjpoji4dmv</td>\n",
       "      <td>False</td>\n",
       "      <td>Biznesowe+Rewolucje</td>\n",
       "    </tr>\n",
       "    <tr>\n",
       "      <th>2</th>\n",
       "      <td>2016-02-29</td>\n",
       "      <td>2016-02-29 08:00:01.770</td>\n",
       "      <td>75121338</td>\n",
       "      <td>False</td>\n",
       "      <td>program</td>\n",
       "    </tr>\n",
       "    <tr>\n",
       "      <th>3</th>\n",
       "      <td>2016-02-29</td>\n",
       "      <td>2016-02-29 08:00:03.129</td>\n",
       "      <td>11l0tD2wFPFO</td>\n",
       "      <td>False</td>\n",
       "      <td>None</td>\n",
       "    </tr>\n",
       "    <tr>\n",
       "      <th>4</th>\n",
       "      <td>2016-02-29</td>\n",
       "      <td>2016-02-29 08:00:03.610</td>\n",
       "      <td>56429432</td>\n",
       "      <td>False</td>\n",
       "      <td>None</td>\n",
       "    </tr>\n",
       "    <tr>\n",
       "      <th>5</th>\n",
       "      <td>2016-02-29</td>\n",
       "      <td>2016-02-29 08:00:03.620</td>\n",
       "      <td>53677597</td>\n",
       "      <td>False</td>\n",
       "      <td>Biznesowe+Rewolucje</td>\n",
       "    </tr>\n",
       "    <tr>\n",
       "      <th>6</th>\n",
       "      <td>2016-02-29</td>\n",
       "      <td>2016-02-29 08:00:03.694</td>\n",
       "      <td>53171302</td>\n",
       "      <td>False</td>\n",
       "      <td>program</td>\n",
       "    </tr>\n",
       "    <tr>\n",
       "      <th>7</th>\n",
       "      <td>2016-02-29</td>\n",
       "      <td>2016-02-29 08:00:03.834</td>\n",
       "      <td>60022150</td>\n",
       "      <td>False</td>\n",
       "      <td>answers</td>\n",
       "    </tr>\n",
       "    <tr>\n",
       "      <th>8</th>\n",
       "      <td>2016-02-29</td>\n",
       "      <td>2016-02-29 08:00:03.869</td>\n",
       "      <td>53677597</td>\n",
       "      <td>False</td>\n",
       "      <td>Biznesowe+Rewolucje</td>\n",
       "    </tr>\n",
       "    <tr>\n",
       "      <th>9</th>\n",
       "      <td>2016-02-29</td>\n",
       "      <td>2016-02-29 08:00:03.930</td>\n",
       "      <td>66538731</td>\n",
       "      <td>False</td>\n",
       "      <td>program</td>\n",
       "    </tr>\n",
       "    <tr>\n",
       "      <th>...</th>\n",
       "      <td>...</td>\n",
       "      <td>...</td>\n",
       "      <td>...</td>\n",
       "      <td>...</td>\n",
       "      <td>...</td>\n",
       "    </tr>\n",
       "    <tr>\n",
       "      <th>4823557</th>\n",
       "      <td>2016-02-06</td>\n",
       "      <td>2016-02-07 07:59:52.331</td>\n",
       "      <td>74413357</td>\n",
       "      <td>False</td>\n",
       "      <td>None</td>\n",
       "    </tr>\n",
       "    <tr>\n",
       "      <th>4823558</th>\n",
       "      <td>2016-02-06</td>\n",
       "      <td>2016-02-07 07:59:53.673</td>\n",
       "      <td>u7aeemcexZuo</td>\n",
       "      <td>False</td>\n",
       "      <td>None</td>\n",
       "    </tr>\n",
       "    <tr>\n",
       "      <th>4823559</th>\n",
       "      <td>2016-02-06</td>\n",
       "      <td>2016-02-07 07:59:54.413</td>\n",
       "      <td>50771682</td>\n",
       "      <td>False</td>\n",
       "      <td>Biznesowe+Rewolucje</td>\n",
       "    </tr>\n",
       "    <tr>\n",
       "      <th>4823560</th>\n",
       "      <td>2016-02-06</td>\n",
       "      <td>2016-02-07 07:59:55.030</td>\n",
       "      <td>51602958</td>\n",
       "      <td>False</td>\n",
       "      <td>answers</td>\n",
       "    </tr>\n",
       "    <tr>\n",
       "      <th>4823561</th>\n",
       "      <td>2016-02-06</td>\n",
       "      <td>2016-02-07 07:59:55.524</td>\n",
       "      <td>Owrk6WHGQ0jS</td>\n",
       "      <td>False</td>\n",
       "      <td>None</td>\n",
       "    </tr>\n",
       "    <tr>\n",
       "      <th>4823562</th>\n",
       "      <td>2016-02-06</td>\n",
       "      <td>2016-02-07 07:59:55.890</td>\n",
       "      <td>QLECxJO2VaIZ</td>\n",
       "      <td>False</td>\n",
       "      <td>Biznesowe+Rewolucje</td>\n",
       "    </tr>\n",
       "    <tr>\n",
       "      <th>4823563</th>\n",
       "      <td>2016-02-06</td>\n",
       "      <td>2016-02-07 07:59:57.185</td>\n",
       "      <td>58056634</td>\n",
       "      <td>False</td>\n",
       "      <td>shmoop_left</td>\n",
       "    </tr>\n",
       "    <tr>\n",
       "      <th>4823564</th>\n",
       "      <td>2016-02-06</td>\n",
       "      <td>2016-02-07 07:59:57.629</td>\n",
       "      <td>56936469</td>\n",
       "      <td>False</td>\n",
       "      <td>None</td>\n",
       "    </tr>\n",
       "    <tr>\n",
       "      <th>4823565</th>\n",
       "      <td>2016-02-06</td>\n",
       "      <td>2016-02-07 07:59:59.555</td>\n",
       "      <td>63953998</td>\n",
       "      <td>False</td>\n",
       "      <td>Biznesowe+Rewolucje</td>\n",
       "    </tr>\n",
       "    <tr>\n",
       "      <th>4823566</th>\n",
       "      <td>2016-02-06</td>\n",
       "      <td>2016-02-07 07:59:59.555</td>\n",
       "      <td>63953998</td>\n",
       "      <td>False</td>\n",
       "      <td>Biznesowe+Rewolucje</td>\n",
       "    </tr>\n",
       "  </tbody>\n",
       "</table>\n",
       "<p>4823567 rows × 5 columns</p>\n",
       "</div>"
      ],
      "text/plain": [
       "              date               timestamp           uid  isFirst  \\\n",
       "0       2016-02-29 2016-02-29 08:00:01.255  g4Hjpoji4dmv    False   \n",
       "1       2016-02-29 2016-02-29 08:00:01.556  g4Hjpoji4dmv    False   \n",
       "2       2016-02-29 2016-02-29 08:00:01.770      75121338    False   \n",
       "3       2016-02-29 2016-02-29 08:00:03.129  11l0tD2wFPFO    False   \n",
       "4       2016-02-29 2016-02-29 08:00:03.610      56429432    False   \n",
       "5       2016-02-29 2016-02-29 08:00:03.620      53677597    False   \n",
       "6       2016-02-29 2016-02-29 08:00:03.694      53171302    False   \n",
       "7       2016-02-29 2016-02-29 08:00:03.834      60022150    False   \n",
       "8       2016-02-29 2016-02-29 08:00:03.869      53677597    False   \n",
       "9       2016-02-29 2016-02-29 08:00:03.930      66538731    False   \n",
       "...            ...                     ...           ...      ...   \n",
       "4823557 2016-02-06 2016-02-07 07:59:52.331      74413357    False   \n",
       "4823558 2016-02-06 2016-02-07 07:59:53.673  u7aeemcexZuo    False   \n",
       "4823559 2016-02-06 2016-02-07 07:59:54.413      50771682    False   \n",
       "4823560 2016-02-06 2016-02-07 07:59:55.030      51602958    False   \n",
       "4823561 2016-02-06 2016-02-07 07:59:55.524  Owrk6WHGQ0jS    False   \n",
       "4823562 2016-02-06 2016-02-07 07:59:55.890  QLECxJO2VaIZ    False   \n",
       "4823563 2016-02-06 2016-02-07 07:59:57.185      58056634    False   \n",
       "4823564 2016-02-06 2016-02-07 07:59:57.629      56936469    False   \n",
       "4823565 2016-02-06 2016-02-07 07:59:59.555      63953998    False   \n",
       "4823566 2016-02-06 2016-02-07 07:59:59.555      63953998    False   \n",
       "\n",
       "                   utmSource  \n",
       "0        Biznesowe+Rewolucje  \n",
       "1        Biznesowe+Rewolucje  \n",
       "2                    program  \n",
       "3                       None  \n",
       "4                       None  \n",
       "5        Biznesowe+Rewolucje  \n",
       "6                    program  \n",
       "7                    answers  \n",
       "8        Biznesowe+Rewolucje  \n",
       "9                    program  \n",
       "...                      ...  \n",
       "4823557                 None  \n",
       "4823558                 None  \n",
       "4823559  Biznesowe+Rewolucje  \n",
       "4823560              answers  \n",
       "4823561                 None  \n",
       "4823562  Biznesowe+Rewolucje  \n",
       "4823563          shmoop_left  \n",
       "4823564                 None  \n",
       "4823565  Biznesowe+Rewolucje  \n",
       "4823566  Biznesowe+Rewolucje  \n",
       "\n",
       "[4823567 rows x 5 columns]"
      ]
     },
     "metadata": {},
     "output_type": "display_data"
    }
   ],
   "source": [
    "display_all(df)"
   ]
  },
  {
   "cell_type": "code",
   "execution_count": 7,
   "metadata": {
    "scrolled": true
   },
   "outputs": [
    {
     "name": "stdout",
     "output_type": "stream",
     "text": [
      "Total counts of NaN at each column in a DataFrame:\n",
      "\n",
      "date               0\n",
      "timestamp          0\n",
      "uid                0\n",
      "isFirst            0\n",
      "utmSource    1674386\n",
      "dtype: int64\n"
     ]
    }
   ],
   "source": [
    "# Count total NaN of each column in a DataFrame\n",
    "\n",
    "print(\"Total counts of NaN at each column in a DataFrame:\\n\\n\",df.isnull().sum(),sep = '')"
   ]
  },
  {
   "cell_type": "markdown",
   "metadata": {},
   "source": [
    "The only attribute that has NaN entries is **UtmSource**. I will take care of it later."
   ]
  },
  {
   "cell_type": "markdown",
   "metadata": {},
   "source": [
    "The first step should be sorting the dataframe based on the ***timestamp***. Since the dataset is relatively big, it would be better to use **Merge Sort** since it is slightly faster than 'Qucik Sort*."
   ]
  },
  {
   "cell_type": "code",
   "execution_count": 8,
   "metadata": {},
   "outputs": [
    {
     "name": "stdout",
     "output_type": "stream",
     "text": [
      "CPU times: user 737 ms, sys: 180 ms, total: 916 ms\n",
      "Wall time: 922 ms\n"
     ]
    }
   ],
   "source": [
    "%%time\n",
    "\n",
    "df.sort_values(by=['timestamp'], inplace=True, kind='mergesort')\n",
    "df = df.reset_index(drop= True)"
   ]
  },
  {
   "cell_type": "markdown",
   "metadata": {},
   "source": [
    "## Pre Processing Steps"
   ]
  },
  {
   "cell_type": "markdown",
   "metadata": {},
   "source": [
    "<font size='4'>\n",
    "Before jumping into questions, we need to do some preprocessing steps:\n",
    "</font>\n",
    "\n",
    "<br>\n",
    "<br>\n",
    "<font color='darkblue'>\n",
    "\n",
    "- Removing Exact Duplications \n",
    "- Removing In Practice Duplications (for instance: same [date/timestamp/uid] )\n",
    "- Checking the Entries With More Than One 'isFirst' \n",
    "- Checking the Entires With 'isFirst' not at their first appearance (delayed isFirst record)\n",
    "\n",
    "</font>\n",
    "<br>\n",
    "** The other data wrangling part (modifiying utmSource) will be done later for question three."
   ]
  },
  {
   "cell_type": "markdown",
   "metadata": {},
   "source": [
    "#### A -  Remove Duplications"
   ]
  },
  {
   "cell_type": "markdown",
   "metadata": {},
   "source": [
    "Keeping duplications is one of the most common mistakes that analysts make. "
   ]
  },
  {
   "cell_type": "code",
   "execution_count": 9,
   "metadata": {},
   "outputs": [
    {
     "name": "stdout",
     "output_type": "stream",
     "text": [
      "The number of exact duplications in original dataset: 12979\n"
     ]
    }
   ],
   "source": [
    "# Check the number of duplications\n",
    "print (\"The number of exact duplications in original dataset:\",df.duplicated().sum())\n",
    "\n",
    "# remove the duplicates \n",
    "df_clean = df.loc[~df.duplicated(),:]"
   ]
  },
  {
   "cell_type": "markdown",
   "metadata": {},
   "source": [
    "#### B - Remove In Practice Duplications "
   ]
  },
  {
   "cell_type": "markdown",
   "metadata": {},
   "source": [
    "The dataset had **12979** exact duplications.<br>\n",
    "However, we need to dig more into the data since it may still have some duplications, which are not exact duplications, but in practice, they are duplications or occurred because of some malfunctions.\n",
    "\n",
    "For instance, two entries may have exact ***\"date / timestamp / uid\"***, which can not be true in practice since two pings from the same user can not occur in 1 millisecond. "
   ]
  },
  {
   "cell_type": "code",
   "execution_count": 10,
   "metadata": {},
   "outputs": [
    {
     "name": "stdout",
     "output_type": "stream",
     "text": [
      "Number of same [date/timestamp/uid] combination: 488\n"
     ]
    }
   ],
   "source": [
    "# Check duplication of [date/timestamp/uid] combination\n",
    "print(\"Number of same [date/timestamp/uid] combination:\", df_clean.duplicated(subset=['date', 'timestamp', 'uid']).sum())"
   ]
  },
  {
   "cell_type": "code",
   "execution_count": 11,
   "metadata": {},
   "outputs": [],
   "source": [
    "# remove the entires with same combinations\n",
    "df_clean = df_clean.loc[~df_clean.duplicated(subset=['date', 'timestamp', 'uid']),:].copy()"
   ]
  },
  {
   "cell_type": "markdown",
   "metadata": {},
   "source": [
    "#### C - Removing Abnormal Entries - Same User id With More Than One \"isFirst\" "
   ]
  },
  {
   "cell_type": "markdown",
   "metadata": {},
   "source": [
    "As instruction explained, whenever a user pings to the website for the **first time ever**, it shows in the \"isFisrt\" column. So no user can have more than one \"first time usage,\" and I am removing these entries."
   ]
  },
  {
   "cell_type": "code",
   "execution_count": 12,
   "metadata": {},
   "outputs": [],
   "source": [
    "# check all first time users \n",
    "df_first = df_clean[df_clean['isFirst'] == True]"
   ]
  },
  {
   "cell_type": "code",
   "execution_count": 13,
   "metadata": {},
   "outputs": [
    {
     "name": "stdout",
     "output_type": "stream",
     "text": [
      "Number of First Time UNIQUE Users: 86598\n",
      "Number of Rows With isFirst=True: 86643\n"
     ]
    }
   ],
   "source": [
    "print (\"Number of First Time UNIQUE Users:\",df_first['uid'].nunique())\n",
    "print (\"Number of Rows With isFirst=True:\", len(df_first))"
   ]
  },
  {
   "cell_type": "markdown",
   "metadata": {},
   "source": [
    "So basically, there are **45** rows with user ids that appear more than once with \"isFirst\" as true.\n",
    "(Some user ids have more than one \"isFirst\", which is not meaningful, and its probably because of the system malfunctions)\n",
    "\n",
    "The best way is to keep the rows that appeared first in the dataset and change the others from \"isFirst\" True to False. However, since it's just 45 rows out of around 86 thousand, and it needs so much time for the system to go over all rows and rewrite them, it would be more logical simply to remove these 45 rows."
   ]
  },
  {
   "cell_type": "code",
   "execution_count": 14,
   "metadata": {},
   "outputs": [],
   "source": [
    "# dataframe that has more than one 'isFirst' \n",
    "df_first_err = df_first.loc[df_first.duplicated(subset=['uid','isFirst']),:]"
   ]
  },
  {
   "cell_type": "code",
   "execution_count": 15,
   "metadata": {},
   "outputs": [],
   "source": [
    "# Remove part of dataframe that has more than one \"isFirst\" occurence from main dataset \n",
    "\n",
    "df_cl = pd.concat([df_clean,df_first_err,df_first_err]).drop_duplicates(keep=False)"
   ]
  },
  {
   "cell_type": "markdown",
   "metadata": {},
   "source": [
    "#### D - Checking the Entries with Delayed \"isFirst\" \n",
    "\n",
    "Also, there may be some cases that could not be successfully recorded their First pings. They may have been occurred because of some system malfunction. I do not have access to the system, but I am checking, so if there are meaningful mistakes, they should be reported to the system administrator. "
   ]
  },
  {
   "cell_type": "code",
   "execution_count": 16,
   "metadata": {},
   "outputs": [],
   "source": [
    "# Getting subset of dataset that contain user ideas that have \"isFirst\" in month Febraury\n",
    "df_first = df_cl[df_cl['isFirst'] == True]\n",
    "first_uid = df_first['uid'].unique().tolist()\n",
    "df_first_all = df_cl[df_cl['uid'].isin(first_uid)]"
   ]
  },
  {
   "cell_type": "code",
   "execution_count": 17,
   "metadata": {},
   "outputs": [
    {
     "name": "stdout",
     "output_type": "stream",
     "text": [
      "<class 'pandas.core.frame.DataFrame'>\n",
      "Int64Index: 913546 entries, 26 to 4823565\n",
      "Data columns (total 5 columns):\n",
      " #   Column     Non-Null Count   Dtype         \n",
      "---  ------     --------------   -----         \n",
      " 0   date       913546 non-null  datetime64[ns]\n",
      " 1   timestamp  913546 non-null  datetime64[ns]\n",
      " 2   uid        913546 non-null  object        \n",
      " 3   isFirst    913546 non-null  bool          \n",
      " 4   utmSource  398995 non-null  object        \n",
      "dtypes: bool(1), datetime64[ns](2), object(2)\n",
      "memory usage: 35.7+ MB\n"
     ]
    }
   ],
   "source": [
    "df_first_all.info()"
   ]
  },
  {
   "cell_type": "markdown",
   "metadata": {},
   "source": [
    "913546 entries (pings) have a user ids that had their first ping ever sometime during February 2016.\n",
    "I will sort the data by **timestamp**, and check for the repeated user ids. For duplicated user ids, the first one (earliest) should have \"isFirst\" as True. Otherwise, the system could not successfully record the first time ping of some users. "
   ]
  },
  {
   "cell_type": "code",
   "execution_count": 18,
   "metadata": {},
   "outputs": [],
   "source": [
    "# Sort the sub dataset that have ids with first time user ids in Feb \n",
    "df_first_all_sorted = df_first_all.sort_values(by=['timestamp'])"
   ]
  },
  {
   "cell_type": "code",
   "execution_count": 19,
   "metadata": {},
   "outputs": [],
   "source": [
    "# Remove the user id duplication and just keep the first one  \n",
    "df_first_all_sorted = df_first_all_sorted.loc[~df_first_all_sorted.duplicated(subset=['uid']),:].copy()"
   ]
  },
  {
   "cell_type": "code",
   "execution_count": 20,
   "metadata": {},
   "outputs": [
    {
     "name": "stdout",
     "output_type": "stream",
     "text": [
      "<class 'pandas.core.frame.DataFrame'>\n",
      "Int64Index: 44 entries, 11420 to 4785343\n",
      "Data columns (total 5 columns):\n",
      " #   Column     Non-Null Count  Dtype         \n",
      "---  ------     --------------  -----         \n",
      " 0   date       44 non-null     datetime64[ns]\n",
      " 1   timestamp  44 non-null     datetime64[ns]\n",
      " 2   uid        44 non-null     object        \n",
      " 3   isFirst    44 non-null     bool          \n",
      " 4   utmSource  17 non-null     object        \n",
      "dtypes: bool(1), datetime64[ns](2), object(2)\n",
      "memory usage: 1.8+ KB\n"
     ]
    }
   ],
   "source": [
    "# Check if there are cases that their first usage did not record correctly\n",
    "error_first = df_first_all_sorted[df_first_all_sorted['isFirst'] == False]\n",
    "error_first.info()"
   ]
  },
  {
   "cell_type": "markdown",
   "metadata": {},
   "source": [
    "There are 44 cases of system malfucntion for recording the first ping."
   ]
  },
  {
   "cell_type": "code",
   "execution_count": 21,
   "metadata": {},
   "outputs": [],
   "source": [
    "error_first_user_list = error_first['uid'].tolist()\n",
    "\n",
    "# Check the difference between real first occurence and its recorded first\n",
    "\n",
    "df_first_err = df_first_all[df_first_all['uid'].isin(error_first_user_list)]\n",
    "df_first_err_grp = df_first_err.groupby(['uid','isFirst']).agg({'date': ['min']})"
   ]
  },
  {
   "cell_type": "code",
   "execution_count": 22,
   "metadata": {},
   "outputs": [
    {
     "data": {
      "text/html": [
       "<div>\n",
       "<style scoped>\n",
       "    .dataframe tbody tr th:only-of-type {\n",
       "        vertical-align: middle;\n",
       "    }\n",
       "\n",
       "    .dataframe tbody tr th {\n",
       "        vertical-align: top;\n",
       "    }\n",
       "\n",
       "    .dataframe thead tr th {\n",
       "        text-align: left;\n",
       "    }\n",
       "\n",
       "    .dataframe thead tr:last-of-type th {\n",
       "        text-align: right;\n",
       "    }\n",
       "</style>\n",
       "<table border=\"1\" class=\"dataframe\">\n",
       "  <thead>\n",
       "    <tr>\n",
       "      <th></th>\n",
       "      <th></th>\n",
       "      <th>date</th>\n",
       "    </tr>\n",
       "    <tr>\n",
       "      <th></th>\n",
       "      <th></th>\n",
       "      <th>min</th>\n",
       "    </tr>\n",
       "    <tr>\n",
       "      <th>uid</th>\n",
       "      <th>isFirst</th>\n",
       "      <th></th>\n",
       "    </tr>\n",
       "  </thead>\n",
       "  <tbody>\n",
       "    <tr>\n",
       "      <th rowspan=\"2\" valign=\"top\">50569954</th>\n",
       "      <th>False</th>\n",
       "      <td>2016-02-23</td>\n",
       "    </tr>\n",
       "    <tr>\n",
       "      <th>True</th>\n",
       "      <td>2016-02-23</td>\n",
       "    </tr>\n",
       "    <tr>\n",
       "      <th rowspan=\"2\" valign=\"top\">50571665</th>\n",
       "      <th>False</th>\n",
       "      <td>2016-02-23</td>\n",
       "    </tr>\n",
       "    <tr>\n",
       "      <th>True</th>\n",
       "      <td>2016-02-23</td>\n",
       "    </tr>\n",
       "    <tr>\n",
       "      <th rowspan=\"2\" valign=\"top\">50707349</th>\n",
       "      <th>False</th>\n",
       "      <td>2016-02-14</td>\n",
       "    </tr>\n",
       "    <tr>\n",
       "      <th>True</th>\n",
       "      <td>2016-02-14</td>\n",
       "    </tr>\n",
       "    <tr>\n",
       "      <th rowspan=\"2\" valign=\"top\">52010378</th>\n",
       "      <th>False</th>\n",
       "      <td>2016-02-23</td>\n",
       "    </tr>\n",
       "    <tr>\n",
       "      <th>True</th>\n",
       "      <td>2016-02-23</td>\n",
       "    </tr>\n",
       "    <tr>\n",
       "      <th rowspan=\"2\" valign=\"top\">52132056</th>\n",
       "      <th>False</th>\n",
       "      <td>2016-02-01</td>\n",
       "    </tr>\n",
       "    <tr>\n",
       "      <th>True</th>\n",
       "      <td>2016-02-01</td>\n",
       "    </tr>\n",
       "    <tr>\n",
       "      <th>...</th>\n",
       "      <th>...</th>\n",
       "      <td>...</td>\n",
       "    </tr>\n",
       "    <tr>\n",
       "      <th rowspan=\"2\" valign=\"top\">76359336</th>\n",
       "      <th>False</th>\n",
       "      <td>2016-02-23</td>\n",
       "    </tr>\n",
       "    <tr>\n",
       "      <th>True</th>\n",
       "      <td>2016-02-23</td>\n",
       "    </tr>\n",
       "    <tr>\n",
       "      <th rowspan=\"2\" valign=\"top\">77784600</th>\n",
       "      <th>False</th>\n",
       "      <td>2016-02-23</td>\n",
       "    </tr>\n",
       "    <tr>\n",
       "      <th>True</th>\n",
       "      <td>2016-02-23</td>\n",
       "    </tr>\n",
       "    <tr>\n",
       "      <th rowspan=\"2\" valign=\"top\">78619047</th>\n",
       "      <th>False</th>\n",
       "      <td>2016-02-02</td>\n",
       "    </tr>\n",
       "    <tr>\n",
       "      <th>True</th>\n",
       "      <td>2016-02-02</td>\n",
       "    </tr>\n",
       "    <tr>\n",
       "      <th rowspan=\"2\" valign=\"top\">79795434</th>\n",
       "      <th>False</th>\n",
       "      <td>2016-02-01</td>\n",
       "    </tr>\n",
       "    <tr>\n",
       "      <th>True</th>\n",
       "      <td>2016-02-01</td>\n",
       "    </tr>\n",
       "    <tr>\n",
       "      <th rowspan=\"2\" valign=\"top\">Xt0mzeFz4emB</th>\n",
       "      <th>False</th>\n",
       "      <td>2016-02-24</td>\n",
       "    </tr>\n",
       "    <tr>\n",
       "      <th>True</th>\n",
       "      <td>2016-02-24</td>\n",
       "    </tr>\n",
       "  </tbody>\n",
       "</table>\n",
       "<p>88 rows × 1 columns</p>\n",
       "</div>"
      ],
      "text/plain": [
       "                           date\n",
       "                            min\n",
       "uid          isFirst           \n",
       "50569954     False   2016-02-23\n",
       "             True    2016-02-23\n",
       "50571665     False   2016-02-23\n",
       "             True    2016-02-23\n",
       "50707349     False   2016-02-14\n",
       "             True    2016-02-14\n",
       "52010378     False   2016-02-23\n",
       "             True    2016-02-23\n",
       "52132056     False   2016-02-01\n",
       "             True    2016-02-01\n",
       "...                         ...\n",
       "76359336     False   2016-02-23\n",
       "             True    2016-02-23\n",
       "77784600     False   2016-02-23\n",
       "             True    2016-02-23\n",
       "78619047     False   2016-02-02\n",
       "             True    2016-02-02\n",
       "79795434     False   2016-02-01\n",
       "             True    2016-02-01\n",
       "Xt0mzeFz4emB False   2016-02-24\n",
       "             True    2016-02-24\n",
       "\n",
       "[88 rows x 1 columns]"
      ]
     },
     "metadata": {},
     "output_type": "display_data"
    }
   ],
   "source": [
    "# can be deleted\n",
    "display_all(df_first_err_grp)"
   ]
  },
  {
   "cell_type": "markdown",
   "metadata": {},
   "source": [
    "However, it seems that most of the malfunctions record occured on the same day (mostly the second pings are successfuly recorded). So if we want to stick to daily analysis, it would not make much difference and I will keep them in the dataset"
   ]
  },
  {
   "cell_type": "markdown",
   "metadata": {},
   "source": [
    "## Questions "
   ]
  },
  {
   "cell_type": "markdown",
   "metadata": {},
   "source": [
    "### 1 - Daily Active Users Over the Month\n",
    "\n",
    "In this part, the number of \"daily active users\" can be seen. I created a new column as **IsRegistered**, since It would be useful to see what portion of the daily users are registered and what portion is not registered. "
   ]
  },
  {
   "cell_type": "code",
   "execution_count": 23,
   "metadata": {},
   "outputs": [],
   "source": [
    "def reg_func(usid):\n",
    "    \n",
    "    '''This function check whether the user is registered or not, using its id'''\n",
    "    \n",
    "    try:\n",
    "        num = int(usid)\n",
    "        return(\"Registered\")\n",
    "    except ValueError: \n",
    "        # Handel the exception\n",
    "        return(\"Non Registered\")"
   ]
  },
  {
   "cell_type": "code",
   "execution_count": 24,
   "metadata": {},
   "outputs": [],
   "source": [
    "# Create new column for 'registered' and 'non registered users'\n",
    "df_cl['isRegistered'] = df_cl['uid'].apply(lambda x : reg_func(x))"
   ]
  },
  {
   "cell_type": "code",
   "execution_count": 25,
   "metadata": {},
   "outputs": [
    {
     "data": {
      "text/html": [
       "<div>\n",
       "<style scoped>\n",
       "    .dataframe tbody tr th:only-of-type {\n",
       "        vertical-align: middle;\n",
       "    }\n",
       "\n",
       "    .dataframe tbody tr th {\n",
       "        vertical-align: top;\n",
       "    }\n",
       "\n",
       "    .dataframe thead th {\n",
       "        text-align: right;\n",
       "    }\n",
       "</style>\n",
       "<table border=\"1\" class=\"dataframe\">\n",
       "  <thead>\n",
       "    <tr style=\"text-align: right;\">\n",
       "      <th></th>\n",
       "      <th>date</th>\n",
       "      <th>timestamp</th>\n",
       "      <th>uid</th>\n",
       "      <th>isFirst</th>\n",
       "      <th>utmSource</th>\n",
       "      <th>isRegistered</th>\n",
       "    </tr>\n",
       "  </thead>\n",
       "  <tbody>\n",
       "    <tr>\n",
       "      <th>0</th>\n",
       "      <td>2016-02-01</td>\n",
       "      <td>2016-02-01 08:00:01.230</td>\n",
       "      <td>53386875</td>\n",
       "      <td>False</td>\n",
       "      <td>Biznesowe+Rewolucje</td>\n",
       "      <td>Registered</td>\n",
       "    </tr>\n",
       "    <tr>\n",
       "      <th>1</th>\n",
       "      <td>2016-02-01</td>\n",
       "      <td>2016-02-01 08:00:01.410</td>\n",
       "      <td>70935792</td>\n",
       "      <td>False</td>\n",
       "      <td>None</td>\n",
       "      <td>Registered</td>\n",
       "    </tr>\n",
       "    <tr>\n",
       "      <th>2</th>\n",
       "      <td>2016-02-01</td>\n",
       "      <td>2016-02-01 08:00:01.451</td>\n",
       "      <td>IG4TX0lZdTk1</td>\n",
       "      <td>False</td>\n",
       "      <td>None</td>\n",
       "      <td>Non Registered</td>\n",
       "    </tr>\n",
       "    <tr>\n",
       "      <th>3</th>\n",
       "      <td>2016-02-01</td>\n",
       "      <td>2016-02-01 08:00:01.556</td>\n",
       "      <td>70128721</td>\n",
       "      <td>False</td>\n",
       "      <td>Biznesowe+Rewolucje</td>\n",
       "      <td>Registered</td>\n",
       "    </tr>\n",
       "    <tr>\n",
       "      <th>4</th>\n",
       "      <td>2016-02-01</td>\n",
       "      <td>2016-02-01 08:00:01.673</td>\n",
       "      <td>53386875</td>\n",
       "      <td>False</td>\n",
       "      <td>Biznesowe+Rewolucje</td>\n",
       "      <td>Registered</td>\n",
       "    </tr>\n",
       "  </tbody>\n",
       "</table>\n",
       "</div>"
      ],
      "text/plain": [
       "        date               timestamp           uid  isFirst  \\\n",
       "0 2016-02-01 2016-02-01 08:00:01.230      53386875    False   \n",
       "1 2016-02-01 2016-02-01 08:00:01.410      70935792    False   \n",
       "2 2016-02-01 2016-02-01 08:00:01.451  IG4TX0lZdTk1    False   \n",
       "3 2016-02-01 2016-02-01 08:00:01.556      70128721    False   \n",
       "4 2016-02-01 2016-02-01 08:00:01.673      53386875    False   \n",
       "\n",
       "             utmSource    isRegistered  \n",
       "0  Biznesowe+Rewolucje      Registered  \n",
       "1                 None      Registered  \n",
       "2                 None  Non Registered  \n",
       "3  Biznesowe+Rewolucje      Registered  \n",
       "4  Biznesowe+Rewolucje      Registered  "
      ]
     },
     "execution_count": 25,
     "metadata": {},
     "output_type": "execute_result"
    }
   ],
   "source": [
    "df_cl.head(5)"
   ]
  },
  {
   "cell_type": "code",
   "execution_count": 26,
   "metadata": {},
   "outputs": [
    {
     "name": "stdout",
     "output_type": "stream",
     "text": [
      "<class 'pandas.core.frame.DataFrame'>\n",
      "Int64Index: 4810055 entries, 0 to 4823565\n",
      "Data columns (total 6 columns):\n",
      " #   Column        Dtype         \n",
      "---  ------        -----         \n",
      " 0   date          datetime64[ns]\n",
      " 1   timestamp     datetime64[ns]\n",
      " 2   uid           object        \n",
      " 3   isFirst       bool          \n",
      " 4   utmSource     object        \n",
      " 5   isRegistered  object        \n",
      "dtypes: bool(1), datetime64[ns](2), object(3)\n",
      "memory usage: 224.8+ MB\n"
     ]
    }
   ],
   "source": [
    "df_cl.info()"
   ]
  },
  {
   "cell_type": "code",
   "execution_count": 27,
   "metadata": {},
   "outputs": [],
   "source": [
    "# Group by 'date' and 'isRegistered' columns \n",
    "df_grp_day = df_cl.groupby(by=['date','isRegistered'], as_index=False).agg({'uid': pd.Series.nunique})"
   ]
  },
  {
   "cell_type": "code",
   "execution_count": 28,
   "metadata": {},
   "outputs": [
    {
     "data": {
      "text/html": [
       "\n",
       "<div id=\"altair-viz-1\"></div>\n",
       "<script type=\"text/javascript\">\n",
       "  (function(spec, embedOpt){\n",
       "    const outputDiv = document.getElementById(\"altair-viz-1\");\n",
       "    const paths = {\n",
       "      \"vega\": \"https://cdn.jsdelivr.net/npm//vega@5?noext\",\n",
       "      \"vega-lib\": \"https://cdn.jsdelivr.net/npm//vega-lib?noext\",\n",
       "      \"vega-lite\": \"https://cdn.jsdelivr.net/npm//vega-lite@4.0.0?noext\",\n",
       "      \"vega-embed\": \"https://cdn.jsdelivr.net/npm//vega-embed@6?noext\",\n",
       "    };\n",
       "\n",
       "    function loadScript(lib) {\n",
       "      return new Promise(function(resolve, reject) {\n",
       "        var s = document.createElement('script');\n",
       "        s.src = paths[lib];\n",
       "        s.async = true;\n",
       "        s.onload = () => resolve(paths[lib]);\n",
       "        s.onerror = () => reject(`Error loading script: ${paths[lib]}`);\n",
       "        document.getElementsByTagName(\"head\")[0].appendChild(s);\n",
       "      });\n",
       "    }\n",
       "\n",
       "    function showError(err) {\n",
       "      outputDiv.innerHTML = `<div class=\"error\" style=\"color:red;\">${err}</div>`;\n",
       "      throw err;\n",
       "    }\n",
       "\n",
       "    function displayChart(vegaEmbed) {\n",
       "      vegaEmbed(outputDiv, spec, embedOpt)\n",
       "        .catch(err => showError(`Javascript Error: ${err.message}<br>This usually means there's a typo in your chart specification. See the javascript console for the full traceback.`));\n",
       "    }\n",
       "\n",
       "    if(typeof define === \"function\" && define.amd) {\n",
       "      requirejs.config({paths});\n",
       "      require([\"vega-embed\"], displayChart, err => showError(`Error loading script: ${err.message}`));\n",
       "    } else if (typeof vegaEmbed === \"function\") {\n",
       "      displayChart(vegaEmbed);\n",
       "    } else {\n",
       "      loadScript(\"vega\")\n",
       "        .then(() => loadScript(\"vega-lite\"))\n",
       "        .then(() => loadScript(\"vega-embed\"))\n",
       "        .catch(showError)\n",
       "        .then(() => displayChart(vegaEmbed));\n",
       "    }\n",
       "  })({\"config\": {\"view\": {\"continuousWidth\": 400, \"continuousHeight\": 300}, \"axis\": {\"gridOpacity\": 0.6}, \"axisX\": {\"grid\": false, \"labelFontSize\": 10, \"titleColor\": \"dimgray\", \"titleFont\": \"Helvetica Sans\", \"titleFontSize\": 16, \"titleY\": 50}, \"axisY\": {\"labelFontSize\": 10, \"labelPadding\": 10, \"titleColor\": \"dimgray\", \"titleFont\": \"Helvetica Sans\", \"titleFontSize\": 16, \"titleX\": -60}, \"legend\": {\"labelColor\": \"k\", \"labelFontSize\": 12}, \"title\": {\"color\": \"dimgrey\", \"dy\": -5, \"font\": \"Helvetica Sans\", \"fontSize\": 18}}, \"layer\": [{\"mark\": {\"type\": \"bar\", \"size\": 10}, \"encoding\": {\"color\": {\"type\": \"nominal\", \"field\": \"isRegistered\", \"legend\": {\"title\": \"\"}}, \"order\": {\"type\": \"nominal\", \"field\": \"isRegistered\", \"sort\": \"ascending\"}, \"tooltip\": [{\"type\": \"nominal\", \"field\": \"Date\", \"title\": \"Date\"}, {\"type\": \"quantitative\", \"field\": \"tot\", \"title\": \"Total Users\"}, {\"type\": \"quantitative\", \"field\": \"count_true\", \"title\": \"Registered Users\"}, {\"type\": \"quantitative\", \"field\": \"count_false\", \"title\": \"Non Registered Users\"}], \"x\": {\"type\": \"ordinal\", \"axis\": {\"labelAngle\": 90, \"title\": \"Date\"}, \"field\": \"Date\"}, \"y\": {\"type\": \"quantitative\", \"field\": \"uid\", \"title\": \"Daily Active Users\"}}, \"height\": 300, \"title\": [\"Daily Active Users\", \"February 2016\"], \"transform\": [{\"joinaggregate\": [{\"op\": \"sum\", \"field\": \"uid\", \"as\": \"tot\"}, {\"op\": \"max\", \"field\": \"uid\", \"as\": \"count_true\"}], \"groupby\": [\"Date\"]}, {\"calculate\": \"datum.tot - datum.count_true\", \"as\": \"count_false\"}], \"width\": 600}], \"data\": {\"name\": \"data-4c3f8e8ca147a065e011ca4ab14dbfe5\"}, \"$schema\": \"https://vega.github.io/schema/vega-lite/v4.0.0.json\", \"datasets\": {\"data-4c3f8e8ca147a065e011ca4ab14dbfe5\": [{\"date\": \"2016-02-01T00:00:00\", \"isRegistered\": \"Non Registered\", \"uid\": 22358, \"Date\": \"Feb 01\"}, {\"date\": \"2016-02-01T00:00:00\", \"isRegistered\": \"Registered\", \"uid\": 90146, \"Date\": \"Feb 01\"}, {\"date\": \"2016-02-02T00:00:00\", \"isRegistered\": \"Non Registered\", \"uid\": 22041, \"Date\": \"Feb 02\"}, {\"date\": \"2016-02-02T00:00:00\", \"isRegistered\": \"Registered\", \"uid\": 90276, \"Date\": \"Feb 02\"}, {\"date\": \"2016-02-03T00:00:00\", \"isRegistered\": \"Non Registered\", \"uid\": 22131, \"Date\": \"Feb 03\"}, {\"date\": \"2016-02-03T00:00:00\", \"isRegistered\": \"Registered\", \"uid\": 90931, \"Date\": \"Feb 03\"}, {\"date\": \"2016-02-04T00:00:00\", \"isRegistered\": \"Non Registered\", \"uid\": 21598, \"Date\": \"Feb 04\"}, {\"date\": \"2016-02-04T00:00:00\", \"isRegistered\": \"Registered\", \"uid\": 89500, \"Date\": \"Feb 04\"}, {\"date\": \"2016-02-05T00:00:00\", \"isRegistered\": \"Non Registered\", \"uid\": 19824, \"Date\": \"Feb 05\"}, {\"date\": \"2016-02-05T00:00:00\", \"isRegistered\": \"Registered\", \"uid\": 82596, \"Date\": \"Feb 05\"}, {\"date\": \"2016-02-06T00:00:00\", \"isRegistered\": \"Non Registered\", \"uid\": 18241, \"Date\": \"Feb 06\"}, {\"date\": \"2016-02-06T00:00:00\", \"isRegistered\": \"Registered\", \"uid\": 76566, \"Date\": \"Feb 06\"}, {\"date\": \"2016-02-07T00:00:00\", \"isRegistered\": \"Non Registered\", \"uid\": 19749, \"Date\": \"Feb 07\"}, {\"date\": \"2016-02-07T00:00:00\", \"isRegistered\": \"Registered\", \"uid\": 84426, \"Date\": \"Feb 07\"}, {\"date\": \"2016-02-08T00:00:00\", \"isRegistered\": \"Non Registered\", \"uid\": 21978, \"Date\": \"Feb 08\"}, {\"date\": \"2016-02-08T00:00:00\", \"isRegistered\": \"Registered\", \"uid\": 92824, \"Date\": \"Feb 08\"}, {\"date\": \"2016-02-09T00:00:00\", \"isRegistered\": \"Non Registered\", \"uid\": 22043, \"Date\": \"Feb 09\"}, {\"date\": \"2016-02-09T00:00:00\", \"isRegistered\": \"Registered\", \"uid\": 93816, \"Date\": \"Feb 09\"}, {\"date\": \"2016-02-10T00:00:00\", \"isRegistered\": \"Non Registered\", \"uid\": 22110, \"Date\": \"Feb 10\"}, {\"date\": \"2016-02-10T00:00:00\", \"isRegistered\": \"Registered\", \"uid\": 95003, \"Date\": \"Feb 10\"}, {\"date\": \"2016-02-11T00:00:00\", \"isRegistered\": \"Non Registered\", \"uid\": 21601, \"Date\": \"Feb 11\"}, {\"date\": \"2016-02-11T00:00:00\", \"isRegistered\": \"Registered\", \"uid\": 93689, \"Date\": \"Feb 11\"}, {\"date\": \"2016-02-12T00:00:00\", \"isRegistered\": \"Non Registered\", \"uid\": 19948, \"Date\": \"Feb 12\"}, {\"date\": \"2016-02-12T00:00:00\", \"isRegistered\": \"Registered\", \"uid\": 86184, \"Date\": \"Feb 12\"}, {\"date\": \"2016-02-13T00:00:00\", \"isRegistered\": \"Non Registered\", \"uid\": 18312, \"Date\": \"Feb 13\"}, {\"date\": \"2016-02-13T00:00:00\", \"isRegistered\": \"Registered\", \"uid\": 79476, \"Date\": \"Feb 13\"}, {\"date\": \"2016-02-14T00:00:00\", \"isRegistered\": \"Non Registered\", \"uid\": 19889, \"Date\": \"Feb 14\"}, {\"date\": \"2016-02-14T00:00:00\", \"isRegistered\": \"Registered\", \"uid\": 86269, \"Date\": \"Feb 14\"}, {\"date\": \"2016-02-15T00:00:00\", \"isRegistered\": \"Non Registered\", \"uid\": 22209, \"Date\": \"Feb 15\"}, {\"date\": \"2016-02-15T00:00:00\", \"isRegistered\": \"Registered\", \"uid\": 97200, \"Date\": \"Feb 15\"}, {\"date\": \"2016-02-16T00:00:00\", \"isRegistered\": \"Non Registered\", \"uid\": 22657, \"Date\": \"Feb 16\"}, {\"date\": \"2016-02-16T00:00:00\", \"isRegistered\": \"Registered\", \"uid\": 98217, \"Date\": \"Feb 16\"}, {\"date\": \"2016-02-17T00:00:00\", \"isRegistered\": \"Non Registered\", \"uid\": 22736, \"Date\": \"Feb 17\"}, {\"date\": \"2016-02-17T00:00:00\", \"isRegistered\": \"Registered\", \"uid\": 99317, \"Date\": \"Feb 17\"}, {\"date\": \"2016-02-18T00:00:00\", \"isRegistered\": \"Non Registered\", \"uid\": 22216, \"Date\": \"Feb 18\"}, {\"date\": \"2016-02-18T00:00:00\", \"isRegistered\": \"Registered\", \"uid\": 98158, \"Date\": \"Feb 18\"}, {\"date\": \"2016-02-19T00:00:00\", \"isRegistered\": \"Non Registered\", \"uid\": 20774, \"Date\": \"Feb 19\"}, {\"date\": \"2016-02-19T00:00:00\", \"isRegistered\": \"Registered\", \"uid\": 91678, \"Date\": \"Feb 19\"}, {\"date\": \"2016-02-20T00:00:00\", \"isRegistered\": \"Non Registered\", \"uid\": 19121, \"Date\": \"Feb 20\"}, {\"date\": \"2016-02-20T00:00:00\", \"isRegistered\": \"Registered\", \"uid\": 85544, \"Date\": \"Feb 20\"}, {\"date\": \"2016-02-21T00:00:00\", \"isRegistered\": \"Non Registered\", \"uid\": 21797, \"Date\": \"Feb 21\"}, {\"date\": \"2016-02-21T00:00:00\", \"isRegistered\": \"Registered\", \"uid\": 98509, \"Date\": \"Feb 21\"}, {\"date\": \"2016-02-22T00:00:00\", \"isRegistered\": \"Non Registered\", \"uid\": 23845, \"Date\": \"Feb 22\"}, {\"date\": \"2016-02-22T00:00:00\", \"isRegistered\": \"Registered\", \"uid\": 106172, \"Date\": \"Feb 22\"}, {\"date\": \"2016-02-23T00:00:00\", \"isRegistered\": \"Non Registered\", \"uid\": 23948, \"Date\": \"Feb 23\"}, {\"date\": \"2016-02-23T00:00:00\", \"isRegistered\": \"Registered\", \"uid\": 107759, \"Date\": \"Feb 23\"}, {\"date\": \"2016-02-24T00:00:00\", \"isRegistered\": \"Non Registered\", \"uid\": 23821, \"Date\": \"Feb 24\"}, {\"date\": \"2016-02-24T00:00:00\", \"isRegistered\": \"Registered\", \"uid\": 108126, \"Date\": \"Feb 24\"}, {\"date\": \"2016-02-25T00:00:00\", \"isRegistered\": \"Non Registered\", \"uid\": 23639, \"Date\": \"Feb 25\"}, {\"date\": \"2016-02-25T00:00:00\", \"isRegistered\": \"Registered\", \"uid\": 106695, \"Date\": \"Feb 25\"}, {\"date\": \"2016-02-26T00:00:00\", \"isRegistered\": \"Non Registered\", \"uid\": 21995, \"Date\": \"Feb 26\"}, {\"date\": \"2016-02-26T00:00:00\", \"isRegistered\": \"Registered\", \"uid\": 98663, \"Date\": \"Feb 26\"}, {\"date\": \"2016-02-27T00:00:00\", \"isRegistered\": \"Non Registered\", \"uid\": 20350, \"Date\": \"Feb 27\"}, {\"date\": \"2016-02-27T00:00:00\", \"isRegistered\": \"Registered\", \"uid\": 92439, \"Date\": \"Feb 27\"}, {\"date\": \"2016-02-28T00:00:00\", \"isRegistered\": \"Non Registered\", \"uid\": 22979, \"Date\": \"Feb 28\"}, {\"date\": \"2016-02-28T00:00:00\", \"isRegistered\": \"Registered\", \"uid\": 105117, \"Date\": \"Feb 28\"}, {\"date\": \"2016-02-29T00:00:00\", \"isRegistered\": \"Non Registered\", \"uid\": 25165, \"Date\": \"Feb 29\"}, {\"date\": \"2016-02-29T00:00:00\", \"isRegistered\": \"Registered\", \"uid\": 113479, \"Date\": \"Feb 29\"}]}}, {\"mode\": \"vega-lite\"});\n",
       "</script>"
      ],
      "text/plain": [
       "alt.LayerChart(...)"
      ]
     },
     "execution_count": 28,
     "metadata": {},
     "output_type": "execute_result"
    }
   ],
   "source": [
    "# Stacked bar chart - daily active users\n",
    "\n",
    "# This column is just added for having better visulization in Altair\n",
    "df_grp_day['Date'] = df_grp_day['date'].dt.strftime('%b %d')\n",
    "\n",
    "\n",
    "fig1 = alt.Chart(df_grp_day).transform_joinaggregate(\n",
    "    tot = 'sum(uid):Q',\n",
    "    count_true = 'max(uid):Q',  #kalak rashti\n",
    "    groupby=['Date']\n",
    ").transform_calculate(\n",
    "    count_false = \"datum.tot - datum.count_true\"\n",
    ").mark_bar(size=10).encode(\n",
    "    x=alt.X('Date:O', axis = alt.Axis(title = 'Date',labelAngle=90)),\n",
    "    y=alt.Y('uid:Q', title = 'Daily Active Users'),\n",
    "    color=alt.Color('isRegistered',legend=alt.Legend(title=\"\")),\n",
    "    order=alt.Order('isRegistered', sort='ascending'),\n",
    "    tooltip=[alt.Tooltip('Date', title = 'Date'),\n",
    "             alt.Tooltip('tot:Q', title = 'Total Users'),\n",
    "             alt.Tooltip('count_true:Q', title = 'Registered Users'),\n",
    "             alt.Tooltip('count_false:Q' , title = \"Non Registered Users\")]\n",
    ").properties(\n",
    "    height= 300,\n",
    "    width = 600 ,title=[\"Daily Active Users\", \"February 2016\"]\n",
    ")\n",
    "\n",
    "chart_a = alt.layer(fig1\n",
    "    ).configure_title(fontSize=18,font='Helvetica Sans', color='dimgrey', dy=-5\n",
    "    ).configure_legend(labelFontSize=12, labelColor='k'\n",
    "    ).configure_axisY(labelPadding=10, titleX=-60, labelFontSize=10,titleFontSize=16, titleColor = 'dimgray', titleFont = 'Helvetica Sans' \n",
    "    ).configure_axisX(grid=False,titleY=50,titleFontSize=16, labelFontSize=10, titleColor = 'dimgray', titleFont = 'Helvetica Sans'\n",
    "    ).configure_axis(gridOpacity = 0.6\n",
    "    )\n",
    "\n",
    "\n",
    "chart_a\n"
   ]
  },
  {
   "cell_type": "code",
   "execution_count": 29,
   "metadata": {},
   "outputs": [],
   "source": [
    "chart_a.save('chart_a.html')"
   ]
  },
  {
   "cell_type": "markdown",
   "metadata": {},
   "source": [
    "### 2 -  Daily Retention Curve\n",
    "\n",
    "The retention Curve is very insightful. It tells us to what extent our product is successful in keeping the users throughout a certain time.\n",
    "\n",
    "For this specific exercise, the retention curve is calculated for three certain cohorts: Feb 4th, Feb 10th, and Feb 14th."
   ]
  },
  {
   "cell_type": "code",
   "execution_count": 30,
   "metadata": {},
   "outputs": [],
   "source": [
    "def cohort_func(data, start_date, end_date=\"2016-02-29\"):\n",
    "    '''This function takes the dataset and start date outputs the \n",
    "    list of cohort users, num of daily users, and retention dataframe for users that have the specfic first date'''\n",
    "    \n",
    "    # user ids of cohort \n",
    "    cohort_list = data[(data['date'] == start_date)&(data['isFirst']== True)]['uid'].unique().tolist()\n",
    "    cohort_size = len(cohort_list)\n",
    "    \n",
    "    # create a dataframe for cohort users over the month\n",
    "    df_cohort = data[data['uid'].isin(cohort_list)]\n",
    "        \n",
    "    # cohort_data calculates the percentage of unique users who used the app on each day.\n",
    "    cohort_ret = pd.DataFrame((df_cohort.groupby(['date']).nunique()['uid']/cohort_size))\n",
    "    cohort_ret.reset_index(inplace=True)\n",
    "    cohort_ret.columns = ['Date', 'Retention Percentage']\n",
    "    \n",
    "    # Add new columns as \"Cohort Life Time\" and \"Cohort Users\"\n",
    "    cohort_ret[\"Cohort Life Time\"] = np.arange(0,len(cohort_ret))\n",
    "    cohort_ret[\"Number of Users\"] = df_cohort.groupby(['date']).nunique()['uid'].tolist()\n",
    "    \n",
    "    return cohort_list, cohort_size, cohort_ret"
   ]
  },
  {
   "cell_type": "code",
   "execution_count": 31,
   "metadata": {},
   "outputs": [],
   "source": [
    "# Create cohort user list, size, daily retenrion perc, numb of users for 3 cohort dates (4th, 10th, and 14th Feb)\n",
    "\n",
    "# Cohort 4th Feb\n",
    "cohort_4 = cohort_func(df_cl, start_date = \"2016-02-04\")\n",
    "cohort_list_4 = cohort_4[0]\n",
    "cohort_size_4 = cohort_4[1]\n",
    "cohort_ret_4 = cohort_4[2]\n",
    "\n",
    "# Cohort 10th Feb\n",
    "cohort_10 = cohort_func(df_cl, start_date = \"2016-02-10\")\n",
    "cohort_list_10 = cohort_10[0]\n",
    "cohort_size_10 = cohort_10[1]\n",
    "cohort_ret_10 = cohort_10[2]\n",
    "\n",
    "# Cohort 14th Feb\n",
    "cohort_14 = cohort_func(df_cl, start_date = \"2016-02-14\")\n",
    "cohort_list_14 = cohort_14[0]\n",
    "cohort_size_14 = cohort_14[1]\n",
    "cohort_ret_14 = cohort_14[2]"
   ]
  },
  {
   "cell_type": "markdown",
   "metadata": {},
   "source": [
    "For having a better comparison, I am going to concat all three cohorts' retention dfs. I also added one more column as \"Cohort\" to show the label of each row. "
   ]
  },
  {
   "cell_type": "code",
   "execution_count": 32,
   "metadata": {},
   "outputs": [],
   "source": [
    "# Create all cohorts Size Dfs and Concat them for plotting purpuse\n",
    "\n",
    "df_cohort_size_4 = pd.DataFrame(data=[[cohort_size_4,'4th Feb']], columns=['Size','Cohort'])\n",
    "df_cohort_size_10 = pd.DataFrame(data=[[cohort_size_10,'10th Feb']], columns=['Size','Cohort'])\n",
    "df_cohort_size_14 = pd.DataFrame(data=[[cohort_size_14,'14th Feb']], columns=['Size','Cohort'])\n",
    "\n",
    "# concat all cohorts size dfs\n",
    "cohort_size_all = pd.concat([df_cohort_size_4 , df_cohort_size_10, df_cohort_size_14 ], ignore_index=True)"
   ]
  },
  {
   "cell_type": "code",
   "execution_count": 33,
   "metadata": {},
   "outputs": [],
   "source": [
    "# Concat all cohorts Retention Dfs with adding one column to show Cohort label\n",
    "\n",
    "# Add new column \"Cohort\" to all retention dfs \n",
    "cohort_ret_4['Cohort']  = \"4th Feb\"\n",
    "cohort_ret_10['Cohort'] = \"10th Feb\"\n",
    "cohort_ret_14['Cohort'] = \"14th Feb\"\n",
    "\n",
    "# Concat all cohorts\n",
    "cohort_ret_all = pd.concat([cohort_ret_4, cohort_ret_10, cohort_ret_14], ignore_index=True)"
   ]
  },
  {
   "cell_type": "code",
   "execution_count": 96,
   "metadata": {},
   "outputs": [
    {
     "data": {
      "text/html": [
       "\n",
       "<div id=\"altair-viz-14\"></div>\n",
       "<script type=\"text/javascript\">\n",
       "  (function(spec, embedOpt){\n",
       "    const outputDiv = document.getElementById(\"altair-viz-14\");\n",
       "    const paths = {\n",
       "      \"vega\": \"https://cdn.jsdelivr.net/npm//vega@5?noext\",\n",
       "      \"vega-lib\": \"https://cdn.jsdelivr.net/npm//vega-lib?noext\",\n",
       "      \"vega-lite\": \"https://cdn.jsdelivr.net/npm//vega-lite@4.0.0?noext\",\n",
       "      \"vega-embed\": \"https://cdn.jsdelivr.net/npm//vega-embed@6?noext\",\n",
       "    };\n",
       "\n",
       "    function loadScript(lib) {\n",
       "      return new Promise(function(resolve, reject) {\n",
       "        var s = document.createElement('script');\n",
       "        s.src = paths[lib];\n",
       "        s.async = true;\n",
       "        s.onload = () => resolve(paths[lib]);\n",
       "        s.onerror = () => reject(`Error loading script: ${paths[lib]}`);\n",
       "        document.getElementsByTagName(\"head\")[0].appendChild(s);\n",
       "      });\n",
       "    }\n",
       "\n",
       "    function showError(err) {\n",
       "      outputDiv.innerHTML = `<div class=\"error\" style=\"color:red;\">${err}</div>`;\n",
       "      throw err;\n",
       "    }\n",
       "\n",
       "    function displayChart(vegaEmbed) {\n",
       "      vegaEmbed(outputDiv, spec, embedOpt)\n",
       "        .catch(err => showError(`Javascript Error: ${err.message}<br>This usually means there's a typo in your chart specification. See the javascript console for the full traceback.`));\n",
       "    }\n",
       "\n",
       "    if(typeof define === \"function\" && define.amd) {\n",
       "      requirejs.config({paths});\n",
       "      require([\"vega-embed\"], displayChart, err => showError(`Error loading script: ${err.message}`));\n",
       "    } else if (typeof vegaEmbed === \"function\") {\n",
       "      displayChart(vegaEmbed);\n",
       "    } else {\n",
       "      loadScript(\"vega\")\n",
       "        .then(() => loadScript(\"vega-lite\"))\n",
       "        .then(() => loadScript(\"vega-embed\"))\n",
       "        .catch(showError)\n",
       "        .then(() => displayChart(vegaEmbed));\n",
       "    }\n",
       "  })({\"config\": {\"view\": {\"continuousWidth\": 400, \"continuousHeight\": 300}, \"axis\": {\"gridOpacity\": 1}, \"axisX\": {\"grid\": false, \"labelFontSize\": 10, \"titleColor\": \"dimgray\", \"titleFont\": \"Helvetica Sans\", \"titleFontSize\": 13, \"titleY\": 30}, \"axisY\": {\"labelFontSize\": 10, \"labelPadding\": 10, \"titleColor\": \"dimgray\", \"titleFont\": \"Helvetica Sans\", \"titleFontSize\": 13, \"titleX\": -60}, \"legend\": {\"labelColor\": \"dimgray\", \"labelFontSize\": 10, \"titleColor\": \"dimgray\", \"titleFont\": \"Helvetica Sans\"}, \"title\": {\"color\": \"dimgrey\", \"dy\": -15, \"font\": \"Helvetica Sans\", \"fontSize\": 18}}, \"layer\": [{\"mark\": \"rect\", \"encoding\": {\"color\": {\"type\": \"quantitative\", \"field\": \"Retention Percentage\", \"legend\": {\"format\": \".0%\"}, \"title\": \"Retention Percentage\"}, \"tooltip\": [{\"type\": \"temporal\", \"field\": \"Date\", \"title\": \"Date\"}, {\"type\": \"nominal\", \"field\": \"Cohort\", \"title\": \"Cohort\"}, {\"type\": \"quantitative\", \"field\": \"Number of Users\", \"title\": \"Number of Users\"}, {\"type\": \"quantitative\", \"field\": \"Retention Percentage\", \"format\": \".2%\", \"title\": \"Retention Percentage\"}], \"x\": {\"type\": \"ordinal\", \"field\": \"Cohort Life Time\", \"title\": \"Cohort Life - Days\"}, \"y\": {\"type\": \"ordinal\", \"field\": \"Cohort\", \"sort\": [\"4th Feb\", \"10th Feb\", \"14th Feb\"], \"title\": \"Cohort\"}}, \"height\": 200, \"title\": [\"Daily Cohort Retention Percentage\", \"February 2016\"], \"width\": 800}, {\"mark\": {\"type\": \"text\", \"align\": \"center\", \"baseline\": \"middle\", \"dx\": 0, \"fontSize\": 7}, \"encoding\": {\"text\": {\"type\": \"quantitative\", \"field\": \"Retention Percentage\", \"format\": \".1%\"}, \"x\": {\"type\": \"ordinal\", \"field\": \"Cohort Life Time\"}, \"y\": {\"type\": \"ordinal\", \"field\": \"Cohort\", \"sort\": [\"4th Feb\", \"10th Feb\", \"14th Feb\"], \"title\": \"Cohort\"}}}], \"data\": {\"name\": \"data-693614a6f53676ba395135f5aa8c8b0c\"}, \"$schema\": \"https://vega.github.io/schema/vega-lite/v4.0.0.json\", \"datasets\": {\"data-693614a6f53676ba395135f5aa8c8b0c\": [{\"Date\": \"2016-02-04T00:00:00\", \"Retention Percentage\": 1.0, \"Cohort Life Time\": 0, \"Number of Users\": 2735, \"Cohort\": \"4th Feb\", \"date\": \"Feb 04\"}, {\"Date\": \"2016-02-05T00:00:00\", \"Retention Percentage\": 0.5447897623400365, \"Cohort Life Time\": 1, \"Number of Users\": 1490, \"Cohort\": \"4th Feb\", \"date\": \"Feb 05\"}, {\"Date\": \"2016-02-06T00:00:00\", \"Retention Percentage\": 0.43948811700182816, \"Cohort Life Time\": 2, \"Number of Users\": 1202, \"Cohort\": \"4th Feb\", \"date\": \"Feb 06\"}, {\"Date\": \"2016-02-07T00:00:00\", \"Retention Percentage\": 0.4628884826325411, \"Cohort Life Time\": 3, \"Number of Users\": 1266, \"Cohort\": \"4th Feb\", \"date\": \"Feb 07\"}, {\"Date\": \"2016-02-08T00:00:00\", \"Retention Percentage\": 0.48007312614259595, \"Cohort Life Time\": 4, \"Number of Users\": 1313, \"Cohort\": \"4th Feb\", \"date\": \"Feb 08\"}, {\"Date\": \"2016-02-09T00:00:00\", \"Retention Percentage\": 0.4409506398537477, \"Cohort Life Time\": 5, \"Number of Users\": 1206, \"Cohort\": \"4th Feb\", \"date\": \"Feb 09\"}, {\"Date\": \"2016-02-10T00:00:00\", \"Retention Percentage\": 0.4376599634369287, \"Cohort Life Time\": 6, \"Number of Users\": 1197, \"Cohort\": \"4th Feb\", \"date\": \"Feb 10\"}, {\"Date\": \"2016-02-11T00:00:00\", \"Retention Percentage\": 0.43290676416819013, \"Cohort Life Time\": 7, \"Number of Users\": 1184, \"Cohort\": \"4th Feb\", \"date\": \"Feb 11\"}, {\"Date\": \"2016-02-12T00:00:00\", \"Retention Percentage\": 0.37184643510054843, \"Cohort Life Time\": 8, \"Number of Users\": 1017, \"Cohort\": \"4th Feb\", \"date\": \"Feb 12\"}, {\"Date\": \"2016-02-13T00:00:00\", \"Retention Percentage\": 0.33638025594149906, \"Cohort Life Time\": 9, \"Number of Users\": 920, \"Cohort\": \"4th Feb\", \"date\": \"Feb 13\"}, {\"Date\": \"2016-02-14T00:00:00\", \"Retention Percentage\": 0.3550274223034735, \"Cohort Life Time\": 10, \"Number of Users\": 971, \"Cohort\": \"4th Feb\", \"date\": \"Feb 14\"}, {\"Date\": \"2016-02-15T00:00:00\", \"Retention Percentage\": 0.39378427787934184, \"Cohort Life Time\": 11, \"Number of Users\": 1077, \"Cohort\": \"4th Feb\", \"date\": \"Feb 15\"}, {\"Date\": \"2016-02-16T00:00:00\", \"Retention Percentage\": 0.3926873857404022, \"Cohort Life Time\": 12, \"Number of Users\": 1074, \"Cohort\": \"4th Feb\", \"date\": \"Feb 16\"}, {\"Date\": \"2016-02-17T00:00:00\", \"Retention Percentage\": 0.39159049360146253, \"Cohort Life Time\": 13, \"Number of Users\": 1071, \"Cohort\": \"4th Feb\", \"date\": \"Feb 17\"}, {\"Date\": \"2016-02-18T00:00:00\", \"Retention Percentage\": 0.3846435100548446, \"Cohort Life Time\": 14, \"Number of Users\": 1052, \"Cohort\": \"4th Feb\", \"date\": \"Feb 18\"}, {\"Date\": \"2016-02-19T00:00:00\", \"Retention Percentage\": 0.3495429616087751, \"Cohort Life Time\": 15, \"Number of Users\": 956, \"Cohort\": \"4th Feb\", \"date\": \"Feb 19\"}, {\"Date\": \"2016-02-20T00:00:00\", \"Retention Percentage\": 0.3159049360146252, \"Cohort Life Time\": 16, \"Number of Users\": 864, \"Cohort\": \"4th Feb\", \"date\": \"Feb 20\"}, {\"Date\": \"2016-02-21T00:00:00\", \"Retention Percentage\": 0.3663619744058501, \"Cohort Life Time\": 17, \"Number of Users\": 1002, \"Cohort\": \"4th Feb\", \"date\": \"Feb 21\"}, {\"Date\": \"2016-02-22T00:00:00\", \"Retention Percentage\": 0.3850091407678245, \"Cohort Life Time\": 18, \"Number of Users\": 1053, \"Cohort\": \"4th Feb\", \"date\": \"Feb 22\"}, {\"Date\": \"2016-02-23T00:00:00\", \"Retention Percentage\": 0.3813528336380256, \"Cohort Life Time\": 19, \"Number of Users\": 1043, \"Cohort\": \"4th Feb\", \"date\": \"Feb 23\"}, {\"Date\": \"2016-02-24T00:00:00\", \"Retention Percentage\": 0.38354661791590494, \"Cohort Life Time\": 20, \"Number of Users\": 1049, \"Cohort\": \"4th Feb\", \"date\": \"Feb 24\"}, {\"Date\": \"2016-02-25T00:00:00\", \"Retention Percentage\": 0.3744058500914077, \"Cohort Life Time\": 21, \"Number of Users\": 1024, \"Cohort\": \"4th Feb\", \"date\": \"Feb 25\"}, {\"Date\": \"2016-02-26T00:00:00\", \"Retention Percentage\": 0.33089579524680074, \"Cohort Life Time\": 22, \"Number of Users\": 905, \"Cohort\": \"4th Feb\", \"date\": \"Feb 26\"}, {\"Date\": \"2016-02-27T00:00:00\", \"Retention Percentage\": 0.30310786106032905, \"Cohort Life Time\": 23, \"Number of Users\": 829, \"Cohort\": \"4th Feb\", \"date\": \"Feb 27\"}, {\"Date\": \"2016-02-28T00:00:00\", \"Retention Percentage\": 0.34259597806215725, \"Cohort Life Time\": 24, \"Number of Users\": 937, \"Cohort\": \"4th Feb\", \"date\": \"Feb 28\"}, {\"Date\": \"2016-02-29T00:00:00\", \"Retention Percentage\": 0.36489945155393055, \"Cohort Life Time\": 25, \"Number of Users\": 998, \"Cohort\": \"4th Feb\", \"date\": \"Feb 29\"}, {\"Date\": \"2016-02-10T00:00:00\", \"Retention Percentage\": 1.0, \"Cohort Life Time\": 0, \"Number of Users\": 3129, \"Cohort\": \"10th Feb\", \"date\": \"Feb 10\"}, {\"Date\": \"2016-02-11T00:00:00\", \"Retention Percentage\": 0.6056248002556728, \"Cohort Life Time\": 1, \"Number of Users\": 1895, \"Cohort\": \"10th Feb\", \"date\": \"Feb 11\"}, {\"Date\": \"2016-02-12T00:00:00\", \"Retention Percentage\": 0.506871204857782, \"Cohort Life Time\": 2, \"Number of Users\": 1586, \"Cohort\": \"10th Feb\", \"date\": \"Feb 12\"}, {\"Date\": \"2016-02-13T00:00:00\", \"Retention Percentage\": 0.43720038350910834, \"Cohort Life Time\": 3, \"Number of Users\": 1368, \"Cohort\": \"10th Feb\", \"date\": \"Feb 13\"}, {\"Date\": \"2016-02-14T00:00:00\", \"Retention Percentage\": 0.4637264301693832, \"Cohort Life Time\": 4, \"Number of Users\": 1451, \"Cohort\": \"10th Feb\", \"date\": \"Feb 14\"}, {\"Date\": \"2016-02-15T00:00:00\", \"Retention Percentage\": 0.49440715883668906, \"Cohort Life Time\": 5, \"Number of Users\": 1547, \"Cohort\": \"10th Feb\", \"date\": \"Feb 15\"}, {\"Date\": \"2016-02-16T00:00:00\", \"Retention Percentage\": 0.48769574944071586, \"Cohort Life Time\": 6, \"Number of Users\": 1526, \"Cohort\": \"10th Feb\", \"date\": \"Feb 16\"}, {\"Date\": \"2016-02-17T00:00:00\", \"Retention Percentage\": 0.48322147651006714, \"Cohort Life Time\": 7, \"Number of Users\": 1512, \"Cohort\": \"10th Feb\", \"date\": \"Feb 17\"}, {\"Date\": \"2016-02-18T00:00:00\", \"Retention Percentage\": 0.4522211569191435, \"Cohort Life Time\": 8, \"Number of Users\": 1415, \"Cohort\": \"10th Feb\", \"date\": \"Feb 18\"}, {\"Date\": \"2016-02-19T00:00:00\", \"Retention Percentage\": 0.4186641099392777, \"Cohort Life Time\": 9, \"Number of Users\": 1310, \"Cohort\": \"10th Feb\", \"date\": \"Feb 19\"}, {\"Date\": \"2016-02-20T00:00:00\", \"Retention Percentage\": 0.38414829018855867, \"Cohort Life Time\": 10, \"Number of Users\": 1202, \"Cohort\": \"10th Feb\", \"date\": \"Feb 20\"}, {\"Date\": \"2016-02-21T00:00:00\", \"Retention Percentage\": 0.4221796100990732, \"Cohort Life Time\": 11, \"Number of Users\": 1321, \"Cohort\": \"10th Feb\", \"date\": \"Feb 21\"}, {\"Date\": \"2016-02-22T00:00:00\", \"Retention Percentage\": 0.45254074784276127, \"Cohort Life Time\": 12, \"Number of Users\": 1416, \"Cohort\": \"10th Feb\", \"date\": \"Feb 22\"}, {\"Date\": \"2016-02-23T00:00:00\", \"Retention Percentage\": 0.4566954298497923, \"Cohort Life Time\": 13, \"Number of Users\": 1429, \"Cohort\": \"10th Feb\", \"date\": \"Feb 23\"}, {\"Date\": \"2016-02-24T00:00:00\", \"Retention Percentage\": 0.44263342921061044, \"Cohort Life Time\": 14, \"Number of Users\": 1385, \"Cohort\": \"10th Feb\", \"date\": \"Feb 24\"}, {\"Date\": \"2016-02-25T00:00:00\", \"Retention Percentage\": 0.42793224672419305, \"Cohort Life Time\": 15, \"Number of Users\": 1339, \"Cohort\": \"10th Feb\", \"date\": \"Feb 25\"}, {\"Date\": \"2016-02-26T00:00:00\", \"Retention Percentage\": 0.38734419942473636, \"Cohort Life Time\": 16, \"Number of Users\": 1212, \"Cohort\": \"10th Feb\", \"date\": \"Feb 26\"}, {\"Date\": \"2016-02-27T00:00:00\", \"Retention Percentage\": 0.36880792585490574, \"Cohort Life Time\": 17, \"Number of Users\": 1154, \"Cohort\": \"10th Feb\", \"date\": \"Feb 27\"}, {\"Date\": \"2016-02-28T00:00:00\", \"Retention Percentage\": 0.4074784276126558, \"Cohort Life Time\": 18, \"Number of Users\": 1275, \"Cohort\": \"10th Feb\", \"date\": \"Feb 28\"}, {\"Date\": \"2016-02-29T00:00:00\", \"Retention Percentage\": 0.4346436561201662, \"Cohort Life Time\": 19, \"Number of Users\": 1360, \"Cohort\": \"10th Feb\", \"date\": \"Feb 29\"}, {\"Date\": \"2016-02-14T00:00:00\", \"Retention Percentage\": 1.0, \"Cohort Life Time\": 0, \"Number of Users\": 2761, \"Cohort\": \"14th Feb\", \"date\": \"Feb 14\"}, {\"Date\": \"2016-02-15T00:00:00\", \"Retention Percentage\": 0.6091995653748642, \"Cohort Life Time\": 1, \"Number of Users\": 1682, \"Cohort\": \"14th Feb\", \"date\": \"Feb 15\"}, {\"Date\": \"2016-02-16T00:00:00\", \"Retention Percentage\": 0.5505251720391162, \"Cohort Life Time\": 2, \"Number of Users\": 1520, \"Cohort\": \"14th Feb\", \"date\": \"Feb 16\"}, {\"Date\": \"2016-02-17T00:00:00\", \"Retention Percentage\": 0.5150307859471206, \"Cohort Life Time\": 3, \"Number of Users\": 1422, \"Cohort\": \"14th Feb\", \"date\": \"Feb 17\"}, {\"Date\": \"2016-02-18T00:00:00\", \"Retention Percentage\": 0.4748279608837378, \"Cohort Life Time\": 4, \"Number of Users\": 1311, \"Cohort\": \"14th Feb\", \"date\": \"Feb 18\"}, {\"Date\": \"2016-02-19T00:00:00\", \"Retention Percentage\": 0.437522636725824, \"Cohort Life Time\": 5, \"Number of Users\": 1208, \"Cohort\": \"14th Feb\", \"date\": \"Feb 19\"}, {\"Date\": \"2016-02-20T00:00:00\", \"Retention Percentage\": 0.42991669684896777, \"Cohort Life Time\": 6, \"Number of Users\": 1187, \"Cohort\": \"14th Feb\", \"date\": \"Feb 20\"}, {\"Date\": \"2016-02-21T00:00:00\", \"Retention Percentage\": 0.47410358565737054, \"Cohort Life Time\": 7, \"Number of Users\": 1309, \"Cohort\": \"14th Feb\", \"date\": \"Feb 21\"}, {\"Date\": \"2016-02-22T00:00:00\", \"Retention Percentage\": 0.45744295545092356, \"Cohort Life Time\": 8, \"Number of Users\": 1263, \"Cohort\": \"14th Feb\", \"date\": \"Feb 22\"}, {\"Date\": \"2016-02-23T00:00:00\", \"Retention Percentage\": 0.440420137631293, \"Cohort Life Time\": 9, \"Number of Users\": 1216, \"Cohort\": \"14th Feb\", \"date\": \"Feb 23\"}, {\"Date\": \"2016-02-24T00:00:00\", \"Retention Percentage\": 0.43824701195219123, \"Cohort Life Time\": 10, \"Number of Users\": 1210, \"Cohort\": \"14th Feb\", \"date\": \"Feb 24\"}, {\"Date\": \"2016-02-25T00:00:00\", \"Retention Percentage\": 0.4288301340094169, \"Cohort Life Time\": 11, \"Number of Users\": 1184, \"Cohort\": \"14th Feb\", \"date\": \"Feb 25\"}, {\"Date\": \"2016-02-26T00:00:00\", \"Retention Percentage\": 0.3868163708801159, \"Cohort Life Time\": 12, \"Number of Users\": 1068, \"Cohort\": \"14th Feb\", \"date\": \"Feb 26\"}, {\"Date\": \"2016-02-27T00:00:00\", \"Retention Percentage\": 0.38247011952191234, \"Cohort Life Time\": 13, \"Number of Users\": 1056, \"Cohort\": \"14th Feb\", \"date\": \"Feb 27\"}, {\"Date\": \"2016-02-28T00:00:00\", \"Retention Percentage\": 0.43353857298080406, \"Cohort Life Time\": 14, \"Number of Users\": 1197, \"Cohort\": \"14th Feb\", \"date\": \"Feb 28\"}, {\"Date\": \"2016-02-29T00:00:00\", \"Retention Percentage\": 0.427743571169866, \"Cohort Life Time\": 15, \"Number of Users\": 1181, \"Cohort\": \"14th Feb\", \"date\": \"Feb 29\"}]}}, {\"mode\": \"vega-lite\"});\n",
       "</script>"
      ],
      "text/plain": [
       "alt.LayerChart(...)"
      ]
     },
     "execution_count": 96,
     "metadata": {},
     "output_type": "execute_result"
    }
   ],
   "source": [
    "# Plot the retention heatmap\n",
    "\n",
    "## Retention Heat Map\n",
    "fig2 = alt.Chart(cohort_ret_all).mark_rect().encode(\n",
    "        alt.X('Cohort Life Time:O', title='Cohort Life - Days'),\n",
    "        alt.Y('Cohort:O', title= 'Cohort', sort=[\"4th Feb\",\"10th Feb\",\"14th Feb\"]),\n",
    "        alt.Color('Retention Percentage:Q', title='Retention Percentage', legend = alt.Legend(format=\".0%\")),\n",
    "        tooltip=[alt.Tooltip('Date', title = 'Date'),\n",
    "                 alt.Tooltip('Cohort', title = 'Cohort'),\n",
    "                 alt.Tooltip('Number of Users:Q', title = 'Number of Users'),\n",
    "                 alt.Tooltip('Retention Percentage:Q', title = 'Retention Percentage', format=(\".2%\"))]\n",
    ").properties(\n",
    "    height= 200,\n",
    "    width = 800 ,title=[\"Daily Cohort Retention Percentage\", \"February 2016\"]\n",
    ")\n",
    "\n",
    "\n",
    "chart_b = alt.layer(fig2\n",
    "    ).configure_title(fontSize=18,font='Helvetica Sans', color='dimgrey', dy=-15\n",
    "    ).configure_legend(labelFontSize=10, titleColor ='dimgray', titleFont = \"Helvetica Sans\", labelColor = 'dimgray'\n",
    "    ).configure_axisY(labelPadding=10, titleX=-60, labelFontSize=10,titleFontSize=13, titleColor = 'dimgray', titleFont = 'Helvetica Sans' \n",
    "    ).configure_axisX(grid=False,titleY=30,titleFontSize=13, labelFontSize=10, titleColor = 'dimgray', titleFont = 'Helvetica Sans'\n",
    "    ).configure_axis(gridOpacity = 1\n",
    "    )\n",
    "    \n",
    "\n",
    "annotation = alt.Chart(cohort_ret_all).mark_text(\n",
    "    align='center',\n",
    "    baseline='middle',\n",
    "    fontSize = 7,\n",
    "    dx = 0\n",
    ").encode(\n",
    "    x='Cohort Life Time:O',\n",
    "    y=alt.Y('Cohort:O', title= 'Cohort', sort=[\"4th Feb\",\"10th Feb\",\"14th Feb\"]),\n",
    "    text=alt.Text('Retention Percentage:Q' , format=(\".1%\"))\n",
    ")    \n",
    "    \n",
    "    \n",
    "    \n",
    "chart_b2 = chart_b + annotation\n",
    "chart_b2\n",
    "\n"
   ]
  },
  {
   "cell_type": "code",
   "execution_count": 35,
   "metadata": {},
   "outputs": [],
   "source": [
    "chart_b2.save('chart_b2.html')"
   ]
  },
  {
   "cell_type": "code",
   "execution_count": 36,
   "metadata": {},
   "outputs": [
    {
     "data": {
      "text/html": [
       "\n",
       "<div id=\"altair-viz-3\"></div>\n",
       "<script type=\"text/javascript\">\n",
       "  (function(spec, embedOpt){\n",
       "    const outputDiv = document.getElementById(\"altair-viz-3\");\n",
       "    const paths = {\n",
       "      \"vega\": \"https://cdn.jsdelivr.net/npm//vega@5?noext\",\n",
       "      \"vega-lib\": \"https://cdn.jsdelivr.net/npm//vega-lib?noext\",\n",
       "      \"vega-lite\": \"https://cdn.jsdelivr.net/npm//vega-lite@4.0.0?noext\",\n",
       "      \"vega-embed\": \"https://cdn.jsdelivr.net/npm//vega-embed@6?noext\",\n",
       "    };\n",
       "\n",
       "    function loadScript(lib) {\n",
       "      return new Promise(function(resolve, reject) {\n",
       "        var s = document.createElement('script');\n",
       "        s.src = paths[lib];\n",
       "        s.async = true;\n",
       "        s.onload = () => resolve(paths[lib]);\n",
       "        s.onerror = () => reject(`Error loading script: ${paths[lib]}`);\n",
       "        document.getElementsByTagName(\"head\")[0].appendChild(s);\n",
       "      });\n",
       "    }\n",
       "\n",
       "    function showError(err) {\n",
       "      outputDiv.innerHTML = `<div class=\"error\" style=\"color:red;\">${err}</div>`;\n",
       "      throw err;\n",
       "    }\n",
       "\n",
       "    function displayChart(vegaEmbed) {\n",
       "      vegaEmbed(outputDiv, spec, embedOpt)\n",
       "        .catch(err => showError(`Javascript Error: ${err.message}<br>This usually means there's a typo in your chart specification. See the javascript console for the full traceback.`));\n",
       "    }\n",
       "\n",
       "    if(typeof define === \"function\" && define.amd) {\n",
       "      requirejs.config({paths});\n",
       "      require([\"vega-embed\"], displayChart, err => showError(`Error loading script: ${err.message}`));\n",
       "    } else if (typeof vegaEmbed === \"function\") {\n",
       "      displayChart(vegaEmbed);\n",
       "    } else {\n",
       "      loadScript(\"vega\")\n",
       "        .then(() => loadScript(\"vega-lite\"))\n",
       "        .then(() => loadScript(\"vega-embed\"))\n",
       "        .catch(showError)\n",
       "        .then(() => displayChart(vegaEmbed));\n",
       "    }\n",
       "  })({\"config\": {\"view\": {\"continuousWidth\": 400, \"continuousHeight\": 300}, \"axis\": {\"gridOpacity\": 0.6}, \"axisX\": {\"grid\": false, \"labelFontSize\": 10, \"titleColor\": \"dimgray\", \"titleFont\": \"Helvetica Sans\", \"titleFontSize\": 12, \"titleY\": 30}, \"axisY\": {\"labelFontSize\": 10, \"labelPadding\": 5, \"titleColor\": \"dimgray\", \"titleFont\": \"Helvetica Sans\", \"titleFontSize\": 12, \"titleX\": -50}, \"legend\": {\"labelFontSize\": 12, \"titleColor\": \"dimgray\"}, \"title\": {\"color\": \"dimgrey\", \"dy\": -5, \"font\": \"Helvetica Sans\", \"fontSize\": 14}}, \"layer\": [{\"mark\": {\"type\": \"bar\", \"size\": 60}, \"encoding\": {\"color\": {\"type\": \"ordinal\", \"field\": \"Cohort\", \"legend\": null, \"scale\": {\"domain\": [\"4th Feb\", \"10th Feb\", \"14th Feb\"], \"range\": [\"#8c144a\", \"#4147d0\", \"#476108\"]}}, \"tooltip\": [{\"type\": \"nominal\", \"field\": \"Cohort\", \"title\": \"Cohort\"}, {\"type\": \"quantitative\", \"field\": \"Size\", \"title\": \"Total Users\"}], \"x\": {\"type\": \"ordinal\", \"axis\": {\"labelAngle\": 0, \"title\": \"Cohort\"}, \"field\": \"Cohort\", \"sort\": [\"4th Feb\", \"10th Feb\", \"14th Feb\"]}, \"y\": {\"type\": \"quantitative\", \"field\": \"Size\", \"title\": \"Size\"}}, \"height\": 220, \"title\": [\"Cohort Total Users\", \"February 2016\"], \"width\": 400}], \"data\": {\"name\": \"data-c242d0c3a6efadff4b2536302116778f\"}, \"$schema\": \"https://vega.github.io/schema/vega-lite/v4.0.0.json\", \"datasets\": {\"data-c242d0c3a6efadff4b2536302116778f\": [{\"Size\": 2735, \"Cohort\": \"4th Feb\"}, {\"Size\": 3129, \"Cohort\": \"10th Feb\"}, {\"Size\": 2761, \"Cohort\": \"14th Feb\"}]}}, {\"mode\": \"vega-lite\"});\n",
       "</script>"
      ],
      "text/plain": [
       "alt.LayerChart(...)"
      ]
     },
     "execution_count": 36,
     "metadata": {},
     "output_type": "execute_result"
    }
   ],
   "source": [
    "# Cohort Total Users - Bar Chart \n",
    "fig3 = alt.Chart(cohort_size_all).mark_bar(size=60).encode(\n",
    "    x=alt.X('Cohort:O', axis = alt.Axis(title = 'Cohort',labelAngle=0), sort=[\"4th Feb\",\"10th Feb\",\"14th Feb\"]),\n",
    "    y=alt.Y('Size:Q', title = 'Size'),\n",
    "    color=alt.Color('Cohort:O', legend=None, scale=alt.Scale(domain=['4th Feb', '10th Feb', '14th Feb'],range=['#8c144a', '#4147d0','#476108'])),\n",
    "    tooltip=[alt.Tooltip('Cohort', title = 'Cohort'),\n",
    "             alt.Tooltip('Size:Q', title = 'Total Users')]\n",
    ").properties(\n",
    "    height= 220,\n",
    "    width = 400 ,title=[\"Cohort Total Users\", \"February 2016\"]\n",
    ")\n",
    "\n",
    "chart_c = alt.layer(fig3\n",
    "    ).configure_title(fontSize=14,font='Helvetica Sans', color='dimgrey', dy=-5\n",
    "    ).configure_legend(labelFontSize=12, titleColor ='dimgray'\n",
    "    ).configure_axisY(labelPadding=5, titleX=-50, labelFontSize=10,titleFontSize=12, titleColor = 'dimgray', titleFont = 'Helvetica Sans' \n",
    "    ).configure_axisX(grid=False,titleY=30,titleFontSize=12, labelFontSize=10, titleColor = 'dimgray', titleFont = 'Helvetica Sans'\n",
    "    ).configure_axis(gridOpacity = 0.6\n",
    "    )\n",
    "\n",
    "\n",
    "chart_c\n"
   ]
  },
  {
   "cell_type": "code",
   "execution_count": 37,
   "metadata": {},
   "outputs": [],
   "source": [
    "chart_c.save('chart_c.html')"
   ]
  },
  {
   "cell_type": "code",
   "execution_count": 90,
   "metadata": {},
   "outputs": [
    {
     "data": {
      "text/html": [
       "\n",
       "<div id=\"altair-viz-9\"></div>\n",
       "<script type=\"text/javascript\">\n",
       "  (function(spec, embedOpt){\n",
       "    const outputDiv = document.getElementById(\"altair-viz-9\");\n",
       "    const paths = {\n",
       "      \"vega\": \"https://cdn.jsdelivr.net/npm//vega@5?noext\",\n",
       "      \"vega-lib\": \"https://cdn.jsdelivr.net/npm//vega-lib?noext\",\n",
       "      \"vega-lite\": \"https://cdn.jsdelivr.net/npm//vega-lite@4.0.0?noext\",\n",
       "      \"vega-embed\": \"https://cdn.jsdelivr.net/npm//vega-embed@6?noext\",\n",
       "    };\n",
       "\n",
       "    function loadScript(lib) {\n",
       "      return new Promise(function(resolve, reject) {\n",
       "        var s = document.createElement('script');\n",
       "        s.src = paths[lib];\n",
       "        s.async = true;\n",
       "        s.onload = () => resolve(paths[lib]);\n",
       "        s.onerror = () => reject(`Error loading script: ${paths[lib]}`);\n",
       "        document.getElementsByTagName(\"head\")[0].appendChild(s);\n",
       "      });\n",
       "    }\n",
       "\n",
       "    function showError(err) {\n",
       "      outputDiv.innerHTML = `<div class=\"error\" style=\"color:red;\">${err}</div>`;\n",
       "      throw err;\n",
       "    }\n",
       "\n",
       "    function displayChart(vegaEmbed) {\n",
       "      vegaEmbed(outputDiv, spec, embedOpt)\n",
       "        .catch(err => showError(`Javascript Error: ${err.message}<br>This usually means there's a typo in your chart specification. See the javascript console for the full traceback.`));\n",
       "    }\n",
       "\n",
       "    if(typeof define === \"function\" && define.amd) {\n",
       "      requirejs.config({paths});\n",
       "      require([\"vega-embed\"], displayChart, err => showError(`Error loading script: ${err.message}`));\n",
       "    } else if (typeof vegaEmbed === \"function\") {\n",
       "      displayChart(vegaEmbed);\n",
       "    } else {\n",
       "      loadScript(\"vega\")\n",
       "        .then(() => loadScript(\"vega-lite\"))\n",
       "        .then(() => loadScript(\"vega-embed\"))\n",
       "        .catch(showError)\n",
       "        .then(() => displayChart(vegaEmbed));\n",
       "    }\n",
       "  })({\"config\": {\"view\": {\"continuousWidth\": 400, \"continuousHeight\": 300}, \"axis\": {\"gridOpacity\": 0.6}, \"axisX\": {\"grid\": false, \"labelFontSize\": 10, \"titleColor\": \"dimgray\", \"titleFont\": \"Helvetica Sans\", \"titleFontSize\": 16, \"titleY\": 50}, \"axisY\": {\"labelFontSize\": 10, \"labelPadding\": 10, \"titleColor\": \"dimgray\", \"titleFont\": \"Helvetica Sans\", \"titleFontSize\": 16, \"titleX\": -60}, \"legend\": {\"labelFontSize\": 12, \"title\": null}, \"title\": {\"color\": \"dimgrey\", \"dy\": -5, \"font\": \"Helvetica Sans\", \"fontSize\": 18}}, \"layer\": [{\"mark\": \"line\", \"encoding\": {\"color\": {\"type\": \"ordinal\", \"field\": \"Cohort\", \"legend\": {\"title\": \"Cohort\"}, \"scale\": {\"domain\": [\"4th Feb\", \"10th Feb\", \"14th Feb\"], \"range\": [\"#8c144a\", \"#4147d0\", \"#476108\"]}}, \"tooltip\": [{\"type\": \"nominal\", \"field\": \"date\", \"title\": \"Date\"}, {\"type\": \"quantitative\", \"field\": \"Retention Percentage\", \"format\": \".2%\", \"title\": \"Retention Percentage\"}, {\"type\": \"ordinal\", \"field\": \"Cohort\", \"title\": \"cohort\"}], \"x\": {\"type\": \"ordinal\", \"axis\": {\"labelAngle\": 90, \"title\": \"Date\"}, \"field\": \"date\"}, \"y\": {\"type\": \"quantitative\", \"axis\": {\"format\": \"%\", \"title\": \"Retention Percentage\"}, \"field\": \"Retention Percentage\", \"scale\": {\"domain\": [0, 1.02]}}}, \"height\": 400, \"title\": [\"Retention Percentage\", \"Across Cohorts\"], \"width\": 800}, {\"mark\": \"point\", \"encoding\": {\"opacity\": {\"value\": 0}, \"x\": {\"type\": \"ordinal\", \"field\": \"date\"}}, \"selection\": {\"selector004\": {\"type\": \"single\", \"nearest\": true, \"on\": \"mouseover\", \"fields\": [\"date\"], \"empty\": \"none\"}}}, {\"mark\": \"point\", \"encoding\": {\"color\": {\"type\": \"ordinal\", \"field\": \"Cohort\", \"legend\": {\"title\": \"Cohort\"}, \"scale\": {\"domain\": [\"4th Feb\", \"10th Feb\", \"14th Feb\"], \"range\": [\"#8c144a\", \"#4147d0\", \"#476108\"]}}, \"opacity\": {\"condition\": {\"value\": 0.5, \"selection\": \"selector004\"}, \"value\": 0}, \"tooltip\": [{\"type\": \"nominal\", \"field\": \"date\", \"title\": \"Date\"}, {\"type\": \"quantitative\", \"field\": \"Retention Percentage\", \"format\": \".2%\", \"title\": \"Retention Percentage\"}, {\"type\": \"ordinal\", \"field\": \"Cohort\", \"title\": \"cohort\"}], \"x\": {\"type\": \"ordinal\", \"axis\": {\"labelAngle\": 90, \"title\": \"Date\"}, \"field\": \"date\"}, \"y\": {\"type\": \"quantitative\", \"axis\": {\"format\": \"%\", \"title\": \"Retention Percentage\"}, \"field\": \"Retention Percentage\", \"scale\": {\"domain\": [0, 1.02]}}}, \"height\": 400, \"title\": [\"Retention Percentage\", \"Across Cohorts\"], \"width\": 800}, {\"mark\": {\"type\": \"rule\", \"color\": \"gray\"}, \"encoding\": {\"x\": {\"type\": \"ordinal\", \"field\": \"date\"}}, \"transform\": [{\"filter\": {\"selection\": \"selector004\"}}]}, {\"mark\": {\"type\": \"text\", \"align\": \"left\", \"dx\": 5, \"dy\": -5}, \"encoding\": {\"color\": {\"type\": \"ordinal\", \"field\": \"Cohort\", \"legend\": {\"title\": \"Cohort\"}, \"scale\": {\"domain\": [\"4th Feb\", \"10th Feb\", \"14th Feb\"], \"range\": [\"#8c144a\", \"#4147d0\", \"#476108\"]}}, \"text\": {\"condition\": {\"type\": \"quantitative\", \"field\": \"Retention Percentage\", \"format\": \".2%\", \"selection\": \"selector004\"}, \"value\": \" \"}, \"tooltip\": [{\"type\": \"nominal\", \"field\": \"date\", \"title\": \"Date\"}, {\"type\": \"quantitative\", \"field\": \"Retention Percentage\", \"format\": \".2%\", \"title\": \"Retention Percentage\"}, {\"type\": \"ordinal\", \"field\": \"Cohort\", \"title\": \"cohort\"}], \"x\": {\"type\": \"ordinal\", \"axis\": {\"labelAngle\": 90, \"title\": \"Date\"}, \"field\": \"date\"}, \"y\": {\"type\": \"quantitative\", \"axis\": {\"format\": \"%\", \"title\": \"Retention Percentage\"}, \"field\": \"Retention Percentage\", \"scale\": {\"domain\": [0, 1.02]}}}, \"height\": 400, \"title\": [\"Retention Percentage\", \"Across Cohorts\"], \"width\": 800}], \"data\": {\"name\": \"data-693614a6f53676ba395135f5aa8c8b0c\"}, \"$schema\": \"https://vega.github.io/schema/vega-lite/v4.0.0.json\", \"datasets\": {\"data-693614a6f53676ba395135f5aa8c8b0c\": [{\"Date\": \"2016-02-04T00:00:00\", \"Retention Percentage\": 1.0, \"Cohort Life Time\": 0, \"Number of Users\": 2735, \"Cohort\": \"4th Feb\", \"date\": \"Feb 04\"}, {\"Date\": \"2016-02-05T00:00:00\", \"Retention Percentage\": 0.5447897623400365, \"Cohort Life Time\": 1, \"Number of Users\": 1490, \"Cohort\": \"4th Feb\", \"date\": \"Feb 05\"}, {\"Date\": \"2016-02-06T00:00:00\", \"Retention Percentage\": 0.43948811700182816, \"Cohort Life Time\": 2, \"Number of Users\": 1202, \"Cohort\": \"4th Feb\", \"date\": \"Feb 06\"}, {\"Date\": \"2016-02-07T00:00:00\", \"Retention Percentage\": 0.4628884826325411, \"Cohort Life Time\": 3, \"Number of Users\": 1266, \"Cohort\": \"4th Feb\", \"date\": \"Feb 07\"}, {\"Date\": \"2016-02-08T00:00:00\", \"Retention Percentage\": 0.48007312614259595, \"Cohort Life Time\": 4, \"Number of Users\": 1313, \"Cohort\": \"4th Feb\", \"date\": \"Feb 08\"}, {\"Date\": \"2016-02-09T00:00:00\", \"Retention Percentage\": 0.4409506398537477, \"Cohort Life Time\": 5, \"Number of Users\": 1206, \"Cohort\": \"4th Feb\", \"date\": \"Feb 09\"}, {\"Date\": \"2016-02-10T00:00:00\", \"Retention Percentage\": 0.4376599634369287, \"Cohort Life Time\": 6, \"Number of Users\": 1197, \"Cohort\": \"4th Feb\", \"date\": \"Feb 10\"}, {\"Date\": \"2016-02-11T00:00:00\", \"Retention Percentage\": 0.43290676416819013, \"Cohort Life Time\": 7, \"Number of Users\": 1184, \"Cohort\": \"4th Feb\", \"date\": \"Feb 11\"}, {\"Date\": \"2016-02-12T00:00:00\", \"Retention Percentage\": 0.37184643510054843, \"Cohort Life Time\": 8, \"Number of Users\": 1017, \"Cohort\": \"4th Feb\", \"date\": \"Feb 12\"}, {\"Date\": \"2016-02-13T00:00:00\", \"Retention Percentage\": 0.33638025594149906, \"Cohort Life Time\": 9, \"Number of Users\": 920, \"Cohort\": \"4th Feb\", \"date\": \"Feb 13\"}, {\"Date\": \"2016-02-14T00:00:00\", \"Retention Percentage\": 0.3550274223034735, \"Cohort Life Time\": 10, \"Number of Users\": 971, \"Cohort\": \"4th Feb\", \"date\": \"Feb 14\"}, {\"Date\": \"2016-02-15T00:00:00\", \"Retention Percentage\": 0.39378427787934184, \"Cohort Life Time\": 11, \"Number of Users\": 1077, \"Cohort\": \"4th Feb\", \"date\": \"Feb 15\"}, {\"Date\": \"2016-02-16T00:00:00\", \"Retention Percentage\": 0.3926873857404022, \"Cohort Life Time\": 12, \"Number of Users\": 1074, \"Cohort\": \"4th Feb\", \"date\": \"Feb 16\"}, {\"Date\": \"2016-02-17T00:00:00\", \"Retention Percentage\": 0.39159049360146253, \"Cohort Life Time\": 13, \"Number of Users\": 1071, \"Cohort\": \"4th Feb\", \"date\": \"Feb 17\"}, {\"Date\": \"2016-02-18T00:00:00\", \"Retention Percentage\": 0.3846435100548446, \"Cohort Life Time\": 14, \"Number of Users\": 1052, \"Cohort\": \"4th Feb\", \"date\": \"Feb 18\"}, {\"Date\": \"2016-02-19T00:00:00\", \"Retention Percentage\": 0.3495429616087751, \"Cohort Life Time\": 15, \"Number of Users\": 956, \"Cohort\": \"4th Feb\", \"date\": \"Feb 19\"}, {\"Date\": \"2016-02-20T00:00:00\", \"Retention Percentage\": 0.3159049360146252, \"Cohort Life Time\": 16, \"Number of Users\": 864, \"Cohort\": \"4th Feb\", \"date\": \"Feb 20\"}, {\"Date\": \"2016-02-21T00:00:00\", \"Retention Percentage\": 0.3663619744058501, \"Cohort Life Time\": 17, \"Number of Users\": 1002, \"Cohort\": \"4th Feb\", \"date\": \"Feb 21\"}, {\"Date\": \"2016-02-22T00:00:00\", \"Retention Percentage\": 0.3850091407678245, \"Cohort Life Time\": 18, \"Number of Users\": 1053, \"Cohort\": \"4th Feb\", \"date\": \"Feb 22\"}, {\"Date\": \"2016-02-23T00:00:00\", \"Retention Percentage\": 0.3813528336380256, \"Cohort Life Time\": 19, \"Number of Users\": 1043, \"Cohort\": \"4th Feb\", \"date\": \"Feb 23\"}, {\"Date\": \"2016-02-24T00:00:00\", \"Retention Percentage\": 0.38354661791590494, \"Cohort Life Time\": 20, \"Number of Users\": 1049, \"Cohort\": \"4th Feb\", \"date\": \"Feb 24\"}, {\"Date\": \"2016-02-25T00:00:00\", \"Retention Percentage\": 0.3744058500914077, \"Cohort Life Time\": 21, \"Number of Users\": 1024, \"Cohort\": \"4th Feb\", \"date\": \"Feb 25\"}, {\"Date\": \"2016-02-26T00:00:00\", \"Retention Percentage\": 0.33089579524680074, \"Cohort Life Time\": 22, \"Number of Users\": 905, \"Cohort\": \"4th Feb\", \"date\": \"Feb 26\"}, {\"Date\": \"2016-02-27T00:00:00\", \"Retention Percentage\": 0.30310786106032905, \"Cohort Life Time\": 23, \"Number of Users\": 829, \"Cohort\": \"4th Feb\", \"date\": \"Feb 27\"}, {\"Date\": \"2016-02-28T00:00:00\", \"Retention Percentage\": 0.34259597806215725, \"Cohort Life Time\": 24, \"Number of Users\": 937, \"Cohort\": \"4th Feb\", \"date\": \"Feb 28\"}, {\"Date\": \"2016-02-29T00:00:00\", \"Retention Percentage\": 0.36489945155393055, \"Cohort Life Time\": 25, \"Number of Users\": 998, \"Cohort\": \"4th Feb\", \"date\": \"Feb 29\"}, {\"Date\": \"2016-02-10T00:00:00\", \"Retention Percentage\": 1.0, \"Cohort Life Time\": 0, \"Number of Users\": 3129, \"Cohort\": \"10th Feb\", \"date\": \"Feb 10\"}, {\"Date\": \"2016-02-11T00:00:00\", \"Retention Percentage\": 0.6056248002556728, \"Cohort Life Time\": 1, \"Number of Users\": 1895, \"Cohort\": \"10th Feb\", \"date\": \"Feb 11\"}, {\"Date\": \"2016-02-12T00:00:00\", \"Retention Percentage\": 0.506871204857782, \"Cohort Life Time\": 2, \"Number of Users\": 1586, \"Cohort\": \"10th Feb\", \"date\": \"Feb 12\"}, {\"Date\": \"2016-02-13T00:00:00\", \"Retention Percentage\": 0.43720038350910834, \"Cohort Life Time\": 3, \"Number of Users\": 1368, \"Cohort\": \"10th Feb\", \"date\": \"Feb 13\"}, {\"Date\": \"2016-02-14T00:00:00\", \"Retention Percentage\": 0.4637264301693832, \"Cohort Life Time\": 4, \"Number of Users\": 1451, \"Cohort\": \"10th Feb\", \"date\": \"Feb 14\"}, {\"Date\": \"2016-02-15T00:00:00\", \"Retention Percentage\": 0.49440715883668906, \"Cohort Life Time\": 5, \"Number of Users\": 1547, \"Cohort\": \"10th Feb\", \"date\": \"Feb 15\"}, {\"Date\": \"2016-02-16T00:00:00\", \"Retention Percentage\": 0.48769574944071586, \"Cohort Life Time\": 6, \"Number of Users\": 1526, \"Cohort\": \"10th Feb\", \"date\": \"Feb 16\"}, {\"Date\": \"2016-02-17T00:00:00\", \"Retention Percentage\": 0.48322147651006714, \"Cohort Life Time\": 7, \"Number of Users\": 1512, \"Cohort\": \"10th Feb\", \"date\": \"Feb 17\"}, {\"Date\": \"2016-02-18T00:00:00\", \"Retention Percentage\": 0.4522211569191435, \"Cohort Life Time\": 8, \"Number of Users\": 1415, \"Cohort\": \"10th Feb\", \"date\": \"Feb 18\"}, {\"Date\": \"2016-02-19T00:00:00\", \"Retention Percentage\": 0.4186641099392777, \"Cohort Life Time\": 9, \"Number of Users\": 1310, \"Cohort\": \"10th Feb\", \"date\": \"Feb 19\"}, {\"Date\": \"2016-02-20T00:00:00\", \"Retention Percentage\": 0.38414829018855867, \"Cohort Life Time\": 10, \"Number of Users\": 1202, \"Cohort\": \"10th Feb\", \"date\": \"Feb 20\"}, {\"Date\": \"2016-02-21T00:00:00\", \"Retention Percentage\": 0.4221796100990732, \"Cohort Life Time\": 11, \"Number of Users\": 1321, \"Cohort\": \"10th Feb\", \"date\": \"Feb 21\"}, {\"Date\": \"2016-02-22T00:00:00\", \"Retention Percentage\": 0.45254074784276127, \"Cohort Life Time\": 12, \"Number of Users\": 1416, \"Cohort\": \"10th Feb\", \"date\": \"Feb 22\"}, {\"Date\": \"2016-02-23T00:00:00\", \"Retention Percentage\": 0.4566954298497923, \"Cohort Life Time\": 13, \"Number of Users\": 1429, \"Cohort\": \"10th Feb\", \"date\": \"Feb 23\"}, {\"Date\": \"2016-02-24T00:00:00\", \"Retention Percentage\": 0.44263342921061044, \"Cohort Life Time\": 14, \"Number of Users\": 1385, \"Cohort\": \"10th Feb\", \"date\": \"Feb 24\"}, {\"Date\": \"2016-02-25T00:00:00\", \"Retention Percentage\": 0.42793224672419305, \"Cohort Life Time\": 15, \"Number of Users\": 1339, \"Cohort\": \"10th Feb\", \"date\": \"Feb 25\"}, {\"Date\": \"2016-02-26T00:00:00\", \"Retention Percentage\": 0.38734419942473636, \"Cohort Life Time\": 16, \"Number of Users\": 1212, \"Cohort\": \"10th Feb\", \"date\": \"Feb 26\"}, {\"Date\": \"2016-02-27T00:00:00\", \"Retention Percentage\": 0.36880792585490574, \"Cohort Life Time\": 17, \"Number of Users\": 1154, \"Cohort\": \"10th Feb\", \"date\": \"Feb 27\"}, {\"Date\": \"2016-02-28T00:00:00\", \"Retention Percentage\": 0.4074784276126558, \"Cohort Life Time\": 18, \"Number of Users\": 1275, \"Cohort\": \"10th Feb\", \"date\": \"Feb 28\"}, {\"Date\": \"2016-02-29T00:00:00\", \"Retention Percentage\": 0.4346436561201662, \"Cohort Life Time\": 19, \"Number of Users\": 1360, \"Cohort\": \"10th Feb\", \"date\": \"Feb 29\"}, {\"Date\": \"2016-02-14T00:00:00\", \"Retention Percentage\": 1.0, \"Cohort Life Time\": 0, \"Number of Users\": 2761, \"Cohort\": \"14th Feb\", \"date\": \"Feb 14\"}, {\"Date\": \"2016-02-15T00:00:00\", \"Retention Percentage\": 0.6091995653748642, \"Cohort Life Time\": 1, \"Number of Users\": 1682, \"Cohort\": \"14th Feb\", \"date\": \"Feb 15\"}, {\"Date\": \"2016-02-16T00:00:00\", \"Retention Percentage\": 0.5505251720391162, \"Cohort Life Time\": 2, \"Number of Users\": 1520, \"Cohort\": \"14th Feb\", \"date\": \"Feb 16\"}, {\"Date\": \"2016-02-17T00:00:00\", \"Retention Percentage\": 0.5150307859471206, \"Cohort Life Time\": 3, \"Number of Users\": 1422, \"Cohort\": \"14th Feb\", \"date\": \"Feb 17\"}, {\"Date\": \"2016-02-18T00:00:00\", \"Retention Percentage\": 0.4748279608837378, \"Cohort Life Time\": 4, \"Number of Users\": 1311, \"Cohort\": \"14th Feb\", \"date\": \"Feb 18\"}, {\"Date\": \"2016-02-19T00:00:00\", \"Retention Percentage\": 0.437522636725824, \"Cohort Life Time\": 5, \"Number of Users\": 1208, \"Cohort\": \"14th Feb\", \"date\": \"Feb 19\"}, {\"Date\": \"2016-02-20T00:00:00\", \"Retention Percentage\": 0.42991669684896777, \"Cohort Life Time\": 6, \"Number of Users\": 1187, \"Cohort\": \"14th Feb\", \"date\": \"Feb 20\"}, {\"Date\": \"2016-02-21T00:00:00\", \"Retention Percentage\": 0.47410358565737054, \"Cohort Life Time\": 7, \"Number of Users\": 1309, \"Cohort\": \"14th Feb\", \"date\": \"Feb 21\"}, {\"Date\": \"2016-02-22T00:00:00\", \"Retention Percentage\": 0.45744295545092356, \"Cohort Life Time\": 8, \"Number of Users\": 1263, \"Cohort\": \"14th Feb\", \"date\": \"Feb 22\"}, {\"Date\": \"2016-02-23T00:00:00\", \"Retention Percentage\": 0.440420137631293, \"Cohort Life Time\": 9, \"Number of Users\": 1216, \"Cohort\": \"14th Feb\", \"date\": \"Feb 23\"}, {\"Date\": \"2016-02-24T00:00:00\", \"Retention Percentage\": 0.43824701195219123, \"Cohort Life Time\": 10, \"Number of Users\": 1210, \"Cohort\": \"14th Feb\", \"date\": \"Feb 24\"}, {\"Date\": \"2016-02-25T00:00:00\", \"Retention Percentage\": 0.4288301340094169, \"Cohort Life Time\": 11, \"Number of Users\": 1184, \"Cohort\": \"14th Feb\", \"date\": \"Feb 25\"}, {\"Date\": \"2016-02-26T00:00:00\", \"Retention Percentage\": 0.3868163708801159, \"Cohort Life Time\": 12, \"Number of Users\": 1068, \"Cohort\": \"14th Feb\", \"date\": \"Feb 26\"}, {\"Date\": \"2016-02-27T00:00:00\", \"Retention Percentage\": 0.38247011952191234, \"Cohort Life Time\": 13, \"Number of Users\": 1056, \"Cohort\": \"14th Feb\", \"date\": \"Feb 27\"}, {\"Date\": \"2016-02-28T00:00:00\", \"Retention Percentage\": 0.43353857298080406, \"Cohort Life Time\": 14, \"Number of Users\": 1197, \"Cohort\": \"14th Feb\", \"date\": \"Feb 28\"}, {\"Date\": \"2016-02-29T00:00:00\", \"Retention Percentage\": 0.427743571169866, \"Cohort Life Time\": 15, \"Number of Users\": 1181, \"Cohort\": \"14th Feb\", \"date\": \"Feb 29\"}]}}, {\"mode\": \"vega-lite\"});\n",
       "</script>"
      ],
      "text/plain": [
       "alt.LayerChart(...)"
      ]
     },
     "execution_count": 90,
     "metadata": {},
     "output_type": "execute_result"
    }
   ],
   "source": [
    "### Plot Cohort Retention throughout the end of the month\n",
    "\n",
    "\n",
    "# This column is just added for having better visulization in Altair\n",
    "cohort_ret_all['date'] =  cohort_ret_all['Date'].dt.strftime('%b %d')\n",
    "\n",
    "\n",
    "# Create a selection that chooses the nearest point & selects based on x-value\n",
    "nearest = alt.selection(type='single', nearest=True, on='mouseover',\n",
    "                        fields=['date'], empty='none')\n",
    "\n",
    "\n",
    "fig3_b = alt.Chart(cohort_ret_all).mark_line().encode(\n",
    "    x=alt.X('date:O', axis = alt.Axis(title = 'Date',labelAngle=90)),\n",
    "    y=alt.Y('Retention Percentage:Q', axis = alt.Axis(title = 'Retention Percentage',format=\"%\"),scale=alt.Scale(domain=(0,1.02))),\n",
    "    color = alt.Color(\"Cohort:O\",legend=alt.Legend(title=\"Cohort\"), scale=alt.Scale(domain=['4th Feb', '10th Feb', '14th Feb'],range=['#8c144a', '#4147d0','#476108'])),\n",
    "    tooltip = [alt.Tooltip('date', title = 'Date'),\n",
    "               alt.Tooltip('Retention Percentage:Q', title = 'Retention Percentage',format=(\".2%\")),\n",
    "               alt.Tooltip('Cohort:O', title='cohort')]\n",
    ").properties(\n",
    "    height= 400,\n",
    "    width = 800 ,title=[\"Retention Percentage\", \"Across Cohorts\"]\n",
    ")\n",
    "\n",
    "                          \n",
    "\n",
    "# Transparent selectors across the chart. This is what tells us\n",
    "# the x-value of the cursor\n",
    "selectors = alt.Chart(cohort_ret_all).mark_point().encode(\n",
    "    x='date:O',\n",
    "    opacity=alt.value(0),\n",
    ").add_selection(\n",
    "    nearest\n",
    ")\n",
    "\n",
    "# Draw points on the line, and highlight based on selection\n",
    "points = fig3_b.mark_point().encode(\n",
    "    opacity=alt.condition(nearest, alt.value(0.5), alt.value(0))\n",
    ")\n",
    "\n",
    "\n",
    "# Draw text labels near the points, and highlight based on selection\n",
    "text = fig3_b.mark_text(align='left', dx=5, dy=-5).encode(\n",
    "    text=alt.condition(nearest, 'Retention Percentage:Q', alt.value(' '), format=(\".2%\"))\n",
    ")\n",
    "\n",
    "# Draw a rule at the location of the selection\n",
    "rules = alt.Chart(cohort_ret_all).mark_rule(color='gray').encode(\n",
    "    x='date:O',\n",
    ").transform_filter(\n",
    "    nearest\n",
    ")\n",
    "\n",
    "chart_c2 = alt.layer(fig3_b, selectors, points, rules, text\n",
    "    ).configure_title(fontSize=18,font='Helvetica Sans', color='dimgrey', dy=-5\n",
    "    ).configure_legend(labelFontSize=12, title=None\n",
    "    ).configure_axisY(labelPadding=10, titleX=-60, labelFontSize=10,titleFontSize=16, titleColor = 'dimgray', titleFont = 'Helvetica Sans' \n",
    "    ).configure_axisX(grid=False,titleY=50,titleFontSize=16, labelFontSize=10, titleColor = 'dimgray', titleFont = 'Helvetica Sans'\n",
    "    ).configure_axis(gridOpacity = 0.6\n",
    "    )\n",
    "\n",
    "\n",
    "chart_c2\n"
   ]
  },
  {
   "cell_type": "code",
   "execution_count": 91,
   "metadata": {},
   "outputs": [],
   "source": [
    "chart_c2.save('chart_c2.html')"
   ]
  },
  {
   "cell_type": "markdown",
   "metadata": {},
   "source": [
    "### 3 -  Source & User Analysis\n",
    "\n",
    "In this part, several metrics are defined to measure the value of sources and users for the business. Identifying the best and worst users can help us improve points with more potential"
   ]
  },
  {
   "cell_type": "markdown",
   "metadata": {},
   "source": [
    "### 3-1 Source Analysis"
   ]
  },
  {
   "cell_type": "markdown",
   "metadata": {},
   "source": [
    "In this part, I am going to look closer to the traffic sources, 'utmSource'.\n",
    "Almost one third of the traffic sources, **1667897** is \"Not Available\"."
   ]
  },
  {
   "cell_type": "code",
   "execution_count": 40,
   "metadata": {},
   "outputs": [
    {
     "name": "stdout",
     "output_type": "stream",
     "text": [
      "Number of NaN entries in utmSource Column: 1667896\n",
      "Number of Unique Traffic Sources: 52\n"
     ]
    }
   ],
   "source": [
    "print (\"Number of NaN entries in utmSource Column:\",df_cl['utmSource'].isnull().sum())\n",
    "print (\"Number of Unique Traffic Sources:\", df_cl['utmSource'].nunique())\n",
    "df_cl = df_cl.replace(np.nan, 'NA', regex=True)"
   ]
  },
  {
   "cell_type": "code",
   "execution_count": 41,
   "metadata": {},
   "outputs": [
    {
     "name": "stdout",
     "output_type": "stream",
     "text": [
      "Traffic Sources:\n",
      "\n",
      " ['Biznesowe+Rewolucje' 'NA' 'answers' 'program' 'MosaLingua+FR'\n",
      " 'Just-In-Time+Travels+Newsletter' 'shmoop_left' 'twitter' 'handbook'\n",
      " 'salesmanago' 'youtube' 'Grub+Street' 'contenthub' 'blog'\n",
      " 'MembershipCancellation' 'facebook' 'dict' 'other' 'tapjoy' 'liveintent'\n",
      " 'placement' 'Facebook_org' 'Blog_org' 'Wise+Ink+Master+Email+List'\n",
      " \"Sarah+Doody's+UX+Notebook\" 'google' 'TrialIntro' 'LinkedIn_org' 'Bing'\n",
      " 'pandora' 'nettedbythewebbys' 'taboola' 'Twitter_org' 'GPlus_org' 'brand'\n",
      " 're:+charity' 'outbrain' 'email-sendgrid' 'facebook.com' 'Pre-quote+List'\n",
      " 'SummerInvite' 'digg' 'Sticky Blogging Secrets' 'Book+Quote'\n",
      " 'blogger_outreach' 'display' 'sendgrid.com' 'shmoop_logo' 'cafemom.com'\n",
      " 'shmoop_right' 'bing' 'card' 'gsp']\n"
     ]
    }
   ],
   "source": [
    "source_list = df_cl['utmSource'].unique()\n",
    "print (\"Traffic Sources:\\n\\n\",source_list)"
   ]
  },
  {
   "cell_type": "markdown",
   "metadata": {},
   "source": [
    "Some sources are recorded in slightly different names, for instance, 'Twitter_org' and 'twitter.' \n",
    "First, some modifications need to be made. "
   ]
  },
  {
   "cell_type": "code",
   "execution_count": 42,
   "metadata": {},
   "outputs": [],
   "source": [
    "def src_correction (word): \n",
    "    '''This function modifies the names of traffic sources'''\n",
    "    \n",
    "    word = word.lower()\n",
    "    word = re.sub('blog.*','blog', word)\n",
    "    word = re.sub('biznesowe\\+rewolucje','biznesowe rewolucje', word)\n",
    "    word = re.sub('blogger_outreach','blogger outreach', word)\n",
    "    word = re.sub('book\\+quote','book quote', word)\n",
    "    word = re.sub('cafemom.*','cefemom', word)\n",
    "    word = re.sub('email-sendgrid','sendgrid', word)\n",
    "    word = re.sub('facebook.*','facebook', word)\n",
    "    word = re.sub('gplus_org','google', word)  #gplus_org is considered as google plus and added to google\n",
    "    word = re.sub('grub.*','grub street', word)\n",
    "    word = re.sub('just.*','just in time travels newsletter', word)\n",
    "    word = re.sub('linkedin.*','linkedin', word)\n",
    "    word = re.sub('mosalingua\\+fr','mosalingua fr', word)\n",
    "    word = re.sub('pre-quote\\+list','pre quote list', word)\n",
    "    word = re.sub('re:\\+charity','charity', word)\n",
    "    word = re.sub(\"sarah\\+doody's\\+ux\\+notebook\",\"sarah doody notebook\", word)\n",
    "    word = re.sub('sendgrid.*','sendgrid', word)\n",
    "    word = re.sub('shmoop.*','shmoop', word)\n",
    "    word = re.sub('twitter.*','twitter', word)\n",
    "    word = re.sub('wise\\+ink\\+master\\+email\\+list','wise ink master email list', word)\n",
    "    \n",
    "    return word"
   ]
  },
  {
   "cell_type": "code",
   "execution_count": 43,
   "metadata": {},
   "outputs": [],
   "source": [
    "# Apply source name correction function on 'utmSource' column\n",
    "df_cl['utmSource'] = df_cl['utmSource'].apply(lambda x : src_correction(x))"
   ]
  },
  {
   "cell_type": "markdown",
   "metadata": {},
   "source": [
    "For source analysis, based on the main goals of a business, some metrics should be defined. \n",
    "Here, I am defining some metrics based on my perception of the nature of the business, although it would be better to come up with metrics in collaboration with other teams."
   ]
  },
  {
   "cell_type": "markdown",
   "metadata": {},
   "source": [
    "### 3 - 1 - 1 Daily Unique Actice Users per Source\n",
    "\n",
    "One metric that I believe could be valuable is: **Daily Unique Active Users per Source**\n",
    "This metric is valuable because it shows the power of each source as the gate for our product/website. \n",
    "\n",
    "Be careful! Some users may use the product from various sources each day. Therefore, some users may be counted several times: "
   ]
  },
  {
   "cell_type": "code",
   "execution_count": 44,
   "metadata": {},
   "outputs": [
    {
     "name": "stdout",
     "output_type": "stream",
     "text": [
      "Number of cases that a user used more than 1 traffic source in some days: 1002\n",
      "Percentage of cases that a user used more than 1 traffic source in some days: 0.03\n"
     ]
    }
   ],
   "source": [
    "# Number of 'uniques sources' for each user in each day\n",
    "df_cl_grp_user_day = df_cl.groupby(['date','uid'])['utmSource'].nunique().reset_index()\n",
    "\n",
    "# Number of cases that users used more than 1 source in some days. \n",
    "num_multi_src = len(df_cl_grp_user_day[df_cl_grp_user_day['utmSource'] > 1])\n",
    "all_cases = len(df_cl_grp_user_day)\n",
    "print (\"Number of cases that a user used more than 1 traffic source in some days:\", num_multi_src)\n",
    "print (\"Percentage of cases that a user used more than 1 traffic source in some days:\", round((num_multi_src*100/all_cases),2))"
   ]
  },
  {
   "cell_type": "markdown",
   "metadata": {},
   "source": [
    "1002 out of around 3.3 million cases, users used more than one source in some days. This is a very low number so basically, we can drop these rows, and it would not impact the final result very much."
   ]
  },
  {
   "cell_type": "code",
   "execution_count": 45,
   "metadata": {},
   "outputs": [],
   "source": [
    "# Users with More than 1 sources\n",
    "multi_srcs = df_cl_grp_user_day[df_cl_grp_user_day['utmSource'] > 1]\n",
    "multi_srcs_date_uid = multi_srcs[['date','uid']]"
   ]
  },
  {
   "cell_type": "code",
   "execution_count": 46,
   "metadata": {},
   "outputs": [],
   "source": [
    "# remove the entries that have ids with more than 1 source \n",
    "df_cl_src_uniq = pd.merge(df_cl, multi_srcs_date_uid, on=['date','uid'], how='outer', indicator=True).query(\"_merge != 'both'\").drop('_merge', axis=1).reset_index(drop=True)"
   ]
  },
  {
   "cell_type": "markdown",
   "metadata": {},
   "source": [
    "Now we have the dataframe that shows each user used one specific source to use our product. So, we need to count the daily unique users for each traffic source. "
   ]
  },
  {
   "cell_type": "code",
   "execution_count": 47,
   "metadata": {},
   "outputs": [
    {
     "name": "stdout",
     "output_type": "stream",
     "text": [
      "<class 'pandas.core.frame.DataFrame'>\n",
      "Int64Index: 4810055 entries, 0 to 4823565\n",
      "Data columns (total 6 columns):\n",
      " #   Column        Dtype         \n",
      "---  ------        -----         \n",
      " 0   date          datetime64[ns]\n",
      " 1   timestamp     datetime64[ns]\n",
      " 2   uid           object        \n",
      " 3   isFirst       bool          \n",
      " 4   utmSource     object        \n",
      " 5   isRegistered  object        \n",
      "dtypes: bool(1), datetime64[ns](2), object(3)\n",
      "memory usage: 224.8+ MB\n"
     ]
    }
   ],
   "source": [
    "# Clean DataFrame Info\n",
    "df_cl.info()"
   ]
  },
  {
   "cell_type": "code",
   "execution_count": 48,
   "metadata": {},
   "outputs": [],
   "source": [
    "# Count Unique Users per Source Per Day\n",
    "df_uniqusers_perday_persrc = df_cl_src_uniq.groupby([\"date\",\"utmSource\"]).nunique()['uid'].reset_index()"
   ]
  },
  {
   "cell_type": "code",
   "execution_count": 49,
   "metadata": {},
   "outputs": [
    {
     "data": {
      "text/html": [
       "<div>\n",
       "<style scoped>\n",
       "    .dataframe tbody tr th:only-of-type {\n",
       "        vertical-align: middle;\n",
       "    }\n",
       "\n",
       "    .dataframe tbody tr th {\n",
       "        vertical-align: top;\n",
       "    }\n",
       "\n",
       "    .dataframe thead th {\n",
       "        text-align: right;\n",
       "    }\n",
       "</style>\n",
       "<table border=\"1\" class=\"dataframe\">\n",
       "  <thead>\n",
       "    <tr style=\"text-align: right;\">\n",
       "      <th></th>\n",
       "      <th>date</th>\n",
       "      <th>utmSource</th>\n",
       "      <th>uid</th>\n",
       "    </tr>\n",
       "  </thead>\n",
       "  <tbody>\n",
       "    <tr>\n",
       "      <th>0</th>\n",
       "      <td>2016-02-01</td>\n",
       "      <td>answers</td>\n",
       "      <td>5703</td>\n",
       "    </tr>\n",
       "    <tr>\n",
       "      <th>1</th>\n",
       "      <td>2016-02-01</td>\n",
       "      <td>bing</td>\n",
       "      <td>1</td>\n",
       "    </tr>\n",
       "    <tr>\n",
       "      <th>2</th>\n",
       "      <td>2016-02-01</td>\n",
       "      <td>biznesowe rewolucje</td>\n",
       "      <td>43938</td>\n",
       "    </tr>\n",
       "    <tr>\n",
       "      <th>3</th>\n",
       "      <td>2016-02-01</td>\n",
       "      <td>blog</td>\n",
       "      <td>35</td>\n",
       "    </tr>\n",
       "    <tr>\n",
       "      <th>4</th>\n",
       "      <td>2016-02-01</td>\n",
       "      <td>book quote</td>\n",
       "      <td>2</td>\n",
       "    </tr>\n",
       "  </tbody>\n",
       "</table>\n",
       "</div>"
      ],
      "text/plain": [
       "        date            utmSource    uid\n",
       "0 2016-02-01              answers   5703\n",
       "1 2016-02-01                 bing      1\n",
       "2 2016-02-01  biznesowe rewolucje  43938\n",
       "3 2016-02-01                 blog     35\n",
       "4 2016-02-01           book quote      2"
      ]
     },
     "execution_count": 49,
     "metadata": {},
     "output_type": "execute_result"
    }
   ],
   "source": [
    "df_uniqusers_perday_persrc.head()"
   ]
  },
  {
   "cell_type": "markdown",
   "metadata": {},
   "source": [
    "Some sources have a minimal number of pings, so let's focus more on the top ones. \n",
    "The average daily users for **all sources** is around 116098. In other words, on average, each day, 116098 unique users from various sources use the product. So I assign the threshold as **580 (~0.5%)** of the daily users to filter out some sources that do not bring much value into the business (although these sources can be the topic of the other research and see how we can boost their users). "
   ]
  },
  {
   "cell_type": "code",
   "execution_count": 50,
   "metadata": {},
   "outputs": [
    {
     "data": {
      "text/plain": [
       "116098.20689655172"
      ]
     },
     "execution_count": 50,
     "metadata": {},
     "output_type": "execute_result"
    }
   ],
   "source": [
    "# Average Daily Users for All Sources \n",
    "df_uniqusers_perday_persrc.groupby('date')['uid'].sum().mean()"
   ]
  },
  {
   "cell_type": "code",
   "execution_count": 51,
   "metadata": {},
   "outputs": [
    {
     "name": "stdout",
     "output_type": "stream",
     "text": [
      "Number of Sources that Have at least 580 Unique Users: 11\n"
     ]
    }
   ],
   "source": [
    "# filter out the major traffic sources based on their daily traffic \n",
    "df_uniqusers_perday_persrc_top = df_uniqusers_perday_persrc[df_uniqusers_perday_persrc['uid'] > 580]\n",
    "print (\"Number of Sources that Have at least 580 Unique Users:\", df_uniqusers_perday_persrc_top['utmSource'].nunique() )"
   ]
  },
  {
   "cell_type": "code",
   "execution_count": 52,
   "metadata": {},
   "outputs": [],
   "source": [
    "top_src = df_uniqusers_perday_persrc_top['utmSource'].unique().tolist()"
   ]
  },
  {
   "cell_type": "code",
   "execution_count": 53,
   "metadata": {},
   "outputs": [
    {
     "data": {
      "text/html": [
       "\n",
       "<div id=\"altair-viz-5\"></div>\n",
       "<script type=\"text/javascript\">\n",
       "  (function(spec, embedOpt){\n",
       "    const outputDiv = document.getElementById(\"altair-viz-5\");\n",
       "    const paths = {\n",
       "      \"vega\": \"https://cdn.jsdelivr.net/npm//vega@5?noext\",\n",
       "      \"vega-lib\": \"https://cdn.jsdelivr.net/npm//vega-lib?noext\",\n",
       "      \"vega-lite\": \"https://cdn.jsdelivr.net/npm//vega-lite@4.0.0?noext\",\n",
       "      \"vega-embed\": \"https://cdn.jsdelivr.net/npm//vega-embed@6?noext\",\n",
       "    };\n",
       "\n",
       "    function loadScript(lib) {\n",
       "      return new Promise(function(resolve, reject) {\n",
       "        var s = document.createElement('script');\n",
       "        s.src = paths[lib];\n",
       "        s.async = true;\n",
       "        s.onload = () => resolve(paths[lib]);\n",
       "        s.onerror = () => reject(`Error loading script: ${paths[lib]}`);\n",
       "        document.getElementsByTagName(\"head\")[0].appendChild(s);\n",
       "      });\n",
       "    }\n",
       "\n",
       "    function showError(err) {\n",
       "      outputDiv.innerHTML = `<div class=\"error\" style=\"color:red;\">${err}</div>`;\n",
       "      throw err;\n",
       "    }\n",
       "\n",
       "    function displayChart(vegaEmbed) {\n",
       "      vegaEmbed(outputDiv, spec, embedOpt)\n",
       "        .catch(err => showError(`Javascript Error: ${err.message}<br>This usually means there's a typo in your chart specification. See the javascript console for the full traceback.`));\n",
       "    }\n",
       "\n",
       "    if(typeof define === \"function\" && define.amd) {\n",
       "      requirejs.config({paths});\n",
       "      require([\"vega-embed\"], displayChart, err => showError(`Error loading script: ${err.message}`));\n",
       "    } else if (typeof vegaEmbed === \"function\") {\n",
       "      displayChart(vegaEmbed);\n",
       "    } else {\n",
       "      loadScript(\"vega\")\n",
       "        .then(() => loadScript(\"vega-lite\"))\n",
       "        .then(() => loadScript(\"vega-embed\"))\n",
       "        .catch(showError)\n",
       "        .then(() => displayChart(vegaEmbed));\n",
       "    }\n",
       "  })({\"config\": {\"view\": {\"continuousWidth\": 400, \"continuousHeight\": 300}, \"axis\": {\"gridOpacity\": 0.6}, \"axisX\": {\"grid\": false, \"labelFontSize\": 10, \"titleColor\": \"dimgray\", \"titleFont\": \"Helvetica Sans\", \"titleFontSize\": 16, \"titleY\": 50}, \"axisY\": {\"labelFontSize\": 10, \"labelPadding\": 10, \"titleColor\": \"dimgray\", \"titleFont\": \"Helvetica Sans\", \"titleFontSize\": 16, \"titleX\": -60}, \"legend\": {\"labelFontSize\": 12, \"title\": null}, \"title\": {\"color\": \"dimgrey\", \"dy\": -5, \"font\": \"Helvetica Sans\", \"fontSize\": 18}}, \"layer\": [{\"mark\": \"line\", \"encoding\": {\"color\": {\"type\": \"ordinal\", \"field\": \"utmSource\", \"legend\": {\"title\": \"Source\"}, \"scale\": {\"range\": [\"#d5c56f\", \"#e78c19\", \"#fa8775\", \"#ea5f94\", \"#34cda5\", \"#9d02d7\", \"#0000ff\", \"#6b9c2e\", \"#c95d1a\", \"#7e745b\", \"#91a9e7\"]}}, \"tooltip\": [{\"type\": \"nominal\", \"field\": \"Date\", \"title\": \"Date\"}, {\"type\": \"quantitative\", \"field\": \"uid\", \"title\": \"Number of Users\"}, {\"type\": \"ordinal\", \"field\": \"utmSource\", \"title\": \"Traffic Source\"}], \"x\": {\"type\": \"ordinal\", \"axis\": {\"labelAngle\": 90, \"title\": \"Date\"}, \"field\": \"Date\"}, \"y\": {\"type\": \"quantitative\", \"axis\": {\"title\": \"Number of Unique Users\"}, \"field\": \"uid\"}}, \"height\": 400, \"title\": [\"Daily Unique Users\", \"Across Traffic Sources\"], \"width\": 800}, {\"mark\": \"point\", \"encoding\": {\"opacity\": {\"value\": 0}, \"x\": {\"type\": \"ordinal\", \"field\": \"Date\"}}, \"selection\": {\"selector002\": {\"type\": \"single\", \"nearest\": true, \"on\": \"mouseover\", \"fields\": [\"Date\"], \"empty\": \"none\"}}}, {\"mark\": \"point\", \"encoding\": {\"color\": {\"type\": \"ordinal\", \"field\": \"utmSource\", \"legend\": {\"title\": \"Source\"}, \"scale\": {\"range\": [\"#d5c56f\", \"#e78c19\", \"#fa8775\", \"#ea5f94\", \"#34cda5\", \"#9d02d7\", \"#0000ff\", \"#6b9c2e\", \"#c95d1a\", \"#7e745b\", \"#91a9e7\"]}}, \"opacity\": {\"condition\": {\"value\": 0.5, \"selection\": \"selector002\"}, \"value\": 0}, \"tooltip\": [{\"type\": \"nominal\", \"field\": \"Date\", \"title\": \"Date\"}, {\"type\": \"quantitative\", \"field\": \"uid\", \"title\": \"Number of Users\"}, {\"type\": \"ordinal\", \"field\": \"utmSource\", \"title\": \"Traffic Source\"}], \"x\": {\"type\": \"ordinal\", \"axis\": {\"labelAngle\": 90, \"title\": \"Date\"}, \"field\": \"Date\"}, \"y\": {\"type\": \"quantitative\", \"axis\": {\"title\": \"Number of Unique Users\"}, \"field\": \"uid\"}}, \"height\": 400, \"title\": [\"Daily Unique Users\", \"Across Traffic Sources\"], \"width\": 800}, {\"mark\": {\"type\": \"rule\", \"color\": \"gray\"}, \"encoding\": {\"x\": {\"type\": \"ordinal\", \"field\": \"Date\"}}, \"transform\": [{\"filter\": {\"selection\": \"selector002\"}}]}, {\"mark\": {\"type\": \"text\", \"align\": \"left\", \"dx\": 5, \"dy\": -5}, \"encoding\": {\"color\": {\"type\": \"ordinal\", \"field\": \"utmSource\", \"legend\": {\"title\": \"Source\"}, \"scale\": {\"range\": [\"#d5c56f\", \"#e78c19\", \"#fa8775\", \"#ea5f94\", \"#34cda5\", \"#9d02d7\", \"#0000ff\", \"#6b9c2e\", \"#c95d1a\", \"#7e745b\", \"#91a9e7\"]}}, \"text\": {\"condition\": {\"type\": \"quantitative\", \"field\": \"uid\", \"selection\": \"selector002\"}, \"value\": \" \"}, \"tooltip\": [{\"type\": \"nominal\", \"field\": \"Date\", \"title\": \"Date\"}, {\"type\": \"quantitative\", \"field\": \"uid\", \"title\": \"Number of Users\"}, {\"type\": \"ordinal\", \"field\": \"utmSource\", \"title\": \"Traffic Source\"}], \"x\": {\"type\": \"ordinal\", \"axis\": {\"labelAngle\": 90, \"title\": \"Date\"}, \"field\": \"Date\"}, \"y\": {\"type\": \"quantitative\", \"axis\": {\"title\": \"Number of Unique Users\"}, \"field\": \"uid\"}}, \"height\": 400, \"title\": [\"Daily Unique Users\", \"Across Traffic Sources\"], \"width\": 800}], \"data\": {\"name\": \"data-3198f522b16313fca6ec89017dbe8196\"}, \"$schema\": \"https://vega.github.io/schema/vega-lite/v4.0.0.json\", \"datasets\": {\"data-3198f522b16313fca6ec89017dbe8196\": [{\"date\": \"2016-02-01T00:00:00\", \"utmSource\": \"answers\", \"uid\": 5703, \"Date\": \"Feb 01\"}, {\"date\": \"2016-02-01T00:00:00\", \"utmSource\": \"biznesowe rewolucje\", \"uid\": 43938, \"Date\": \"Feb 01\"}, {\"date\": \"2016-02-01T00:00:00\", \"utmSource\": \"grub street\", \"uid\": 1708, \"Date\": \"Feb 01\"}, {\"date\": \"2016-02-01T00:00:00\", \"utmSource\": \"mosalingua fr\", \"uid\": 2956, \"Date\": \"Feb 01\"}, {\"date\": \"2016-02-01T00:00:00\", \"utmSource\": \"na\", \"uid\": 36654, \"Date\": \"Feb 01\"}, {\"date\": \"2016-02-01T00:00:00\", \"utmSource\": \"other\", \"uid\": 2203, \"Date\": \"Feb 01\"}, {\"date\": \"2016-02-01T00:00:00\", \"utmSource\": \"program\", \"uid\": 9364, \"Date\": \"Feb 01\"}, {\"date\": \"2016-02-01T00:00:00\", \"utmSource\": \"salesmanago\", \"uid\": 776, \"Date\": \"Feb 01\"}, {\"date\": \"2016-02-01T00:00:00\", \"utmSource\": \"shmoop\", \"uid\": 4077, \"Date\": \"Feb 01\"}, {\"date\": \"2016-02-01T00:00:00\", \"utmSource\": \"twitter\", \"uid\": 3042, \"Date\": \"Feb 01\"}, {\"date\": \"2016-02-02T00:00:00\", \"utmSource\": \"answers\", \"uid\": 5705, \"Date\": \"Feb 02\"}, {\"date\": \"2016-02-02T00:00:00\", \"utmSource\": \"biznesowe rewolucje\", \"uid\": 43964, \"Date\": \"Feb 02\"}, {\"date\": \"2016-02-02T00:00:00\", \"utmSource\": \"grub street\", \"uid\": 1720, \"Date\": \"Feb 02\"}, {\"date\": \"2016-02-02T00:00:00\", \"utmSource\": \"mosalingua fr\", \"uid\": 3026, \"Date\": \"Feb 02\"}, {\"date\": \"2016-02-02T00:00:00\", \"utmSource\": \"na\", \"uid\": 36452, \"Date\": \"Feb 02\"}, {\"date\": \"2016-02-02T00:00:00\", \"utmSource\": \"other\", \"uid\": 2137, \"Date\": \"Feb 02\"}, {\"date\": \"2016-02-02T00:00:00\", \"utmSource\": \"program\", \"uid\": 9471, \"Date\": \"Feb 02\"}, {\"date\": \"2016-02-02T00:00:00\", \"utmSource\": \"salesmanago\", \"uid\": 761, \"Date\": \"Feb 02\"}, {\"date\": \"2016-02-02T00:00:00\", \"utmSource\": \"shmoop\", \"uid\": 3998, \"Date\": \"Feb 02\"}, {\"date\": \"2016-02-02T00:00:00\", \"utmSource\": \"twitter\", \"uid\": 3019, \"Date\": \"Feb 02\"}, {\"date\": \"2016-02-03T00:00:00\", \"utmSource\": \"answers\", \"uid\": 5829, \"Date\": \"Feb 03\"}, {\"date\": \"2016-02-03T00:00:00\", \"utmSource\": \"biznesowe rewolucje\", \"uid\": 44262, \"Date\": \"Feb 03\"}, {\"date\": \"2016-02-03T00:00:00\", \"utmSource\": \"grub street\", \"uid\": 1728, \"Date\": \"Feb 03\"}, {\"date\": \"2016-02-03T00:00:00\", \"utmSource\": \"mosalingua fr\", \"uid\": 3022, \"Date\": \"Feb 03\"}, {\"date\": \"2016-02-03T00:00:00\", \"utmSource\": \"na\", \"uid\": 36728, \"Date\": \"Feb 03\"}, {\"date\": \"2016-02-03T00:00:00\", \"utmSource\": \"other\", \"uid\": 2170, \"Date\": \"Feb 03\"}, {\"date\": \"2016-02-03T00:00:00\", \"utmSource\": \"program\", \"uid\": 9499, \"Date\": \"Feb 03\"}, {\"date\": \"2016-02-03T00:00:00\", \"utmSource\": \"salesmanago\", \"uid\": 754, \"Date\": \"Feb 03\"}, {\"date\": \"2016-02-03T00:00:00\", \"utmSource\": \"shmoop\", \"uid\": 3996, \"Date\": \"Feb 03\"}, {\"date\": \"2016-02-03T00:00:00\", \"utmSource\": \"twitter\", \"uid\": 3010, \"Date\": \"Feb 03\"}, {\"date\": \"2016-02-04T00:00:00\", \"utmSource\": \"answers\", \"uid\": 5759, \"Date\": \"Feb 04\"}, {\"date\": \"2016-02-04T00:00:00\", \"utmSource\": \"biznesowe rewolucje\", \"uid\": 43470, \"Date\": \"Feb 04\"}, {\"date\": \"2016-02-04T00:00:00\", \"utmSource\": \"grub street\", \"uid\": 1664, \"Date\": \"Feb 04\"}, {\"date\": \"2016-02-04T00:00:00\", \"utmSource\": \"mosalingua fr\", \"uid\": 2991, \"Date\": \"Feb 04\"}, {\"date\": \"2016-02-04T00:00:00\", \"utmSource\": \"na\", \"uid\": 36111, \"Date\": \"Feb 04\"}, {\"date\": \"2016-02-04T00:00:00\", \"utmSource\": \"other\", \"uid\": 2127, \"Date\": \"Feb 04\"}, {\"date\": \"2016-02-04T00:00:00\", \"utmSource\": \"program\", \"uid\": 9256, \"Date\": \"Feb 04\"}, {\"date\": \"2016-02-04T00:00:00\", \"utmSource\": \"salesmanago\", \"uid\": 767, \"Date\": \"Feb 04\"}, {\"date\": \"2016-02-04T00:00:00\", \"utmSource\": \"shmoop\", \"uid\": 3920, \"Date\": \"Feb 04\"}, {\"date\": \"2016-02-04T00:00:00\", \"utmSource\": \"twitter\", \"uid\": 2979, \"Date\": \"Feb 04\"}, {\"date\": \"2016-02-05T00:00:00\", \"utmSource\": \"answers\", \"uid\": 5317, \"Date\": \"Feb 05\"}, {\"date\": \"2016-02-05T00:00:00\", \"utmSource\": \"biznesowe rewolucje\", \"uid\": 39876, \"Date\": \"Feb 05\"}, {\"date\": \"2016-02-05T00:00:00\", \"utmSource\": \"grub street\", \"uid\": 1459, \"Date\": \"Feb 05\"}, {\"date\": \"2016-02-05T00:00:00\", \"utmSource\": \"mosalingua fr\", \"uid\": 2748, \"Date\": \"Feb 05\"}, {\"date\": \"2016-02-05T00:00:00\", \"utmSource\": \"na\", \"uid\": 33311, \"Date\": \"Feb 05\"}, {\"date\": \"2016-02-05T00:00:00\", \"utmSource\": \"other\", \"uid\": 2021, \"Date\": \"Feb 05\"}, {\"date\": \"2016-02-05T00:00:00\", \"utmSource\": \"program\", \"uid\": 8600, \"Date\": \"Feb 05\"}, {\"date\": \"2016-02-05T00:00:00\", \"utmSource\": \"salesmanago\", \"uid\": 672, \"Date\": \"Feb 05\"}, {\"date\": \"2016-02-05T00:00:00\", \"utmSource\": \"shmoop\", \"uid\": 3679, \"Date\": \"Feb 05\"}, {\"date\": \"2016-02-05T00:00:00\", \"utmSource\": \"twitter\", \"uid\": 2834, \"Date\": \"Feb 05\"}, {\"date\": \"2016-02-06T00:00:00\", \"utmSource\": \"answers\", \"uid\": 5412, \"Date\": \"Feb 06\"}, {\"date\": \"2016-02-06T00:00:00\", \"utmSource\": \"biznesowe rewolucje\", \"uid\": 36831, \"Date\": \"Feb 06\"}, {\"date\": \"2016-02-06T00:00:00\", \"utmSource\": \"grub street\", \"uid\": 1252, \"Date\": \"Feb 06\"}, {\"date\": \"2016-02-06T00:00:00\", \"utmSource\": \"mosalingua fr\", \"uid\": 2561, \"Date\": \"Feb 06\"}, {\"date\": \"2016-02-06T00:00:00\", \"utmSource\": \"na\", \"uid\": 30727, \"Date\": \"Feb 06\"}, {\"date\": \"2016-02-06T00:00:00\", \"utmSource\": \"other\", \"uid\": 1834, \"Date\": \"Feb 06\"}, {\"date\": \"2016-02-06T00:00:00\", \"utmSource\": \"program\", \"uid\": 7779, \"Date\": \"Feb 06\"}, {\"date\": \"2016-02-06T00:00:00\", \"utmSource\": \"salesmanago\", \"uid\": 599, \"Date\": \"Feb 06\"}, {\"date\": \"2016-02-06T00:00:00\", \"utmSource\": \"shmoop\", \"uid\": 3455, \"Date\": \"Feb 06\"}, {\"date\": \"2016-02-06T00:00:00\", \"utmSource\": \"twitter\", \"uid\": 2561, \"Date\": \"Feb 06\"}, {\"date\": \"2016-02-07T00:00:00\", \"utmSource\": \"answers\", \"uid\": 5749, \"Date\": \"Feb 07\"}, {\"date\": \"2016-02-07T00:00:00\", \"utmSource\": \"biznesowe rewolucje\", \"uid\": 40854, \"Date\": \"Feb 07\"}, {\"date\": \"2016-02-07T00:00:00\", \"utmSource\": \"grub street\", \"uid\": 1462, \"Date\": \"Feb 07\"}, {\"date\": \"2016-02-07T00:00:00\", \"utmSource\": \"mosalingua fr\", \"uid\": 2872, \"Date\": \"Feb 07\"}, {\"date\": \"2016-02-07T00:00:00\", \"utmSource\": \"na\", \"uid\": 33753, \"Date\": \"Feb 07\"}, {\"date\": \"2016-02-07T00:00:00\", \"utmSource\": \"other\", \"uid\": 2052, \"Date\": \"Feb 07\"}, {\"date\": \"2016-02-07T00:00:00\", \"utmSource\": \"program\", \"uid\": 8471, \"Date\": \"Feb 07\"}, {\"date\": \"2016-02-07T00:00:00\", \"utmSource\": \"salesmanago\", \"uid\": 662, \"Date\": \"Feb 07\"}, {\"date\": \"2016-02-07T00:00:00\", \"utmSource\": \"shmoop\", \"uid\": 3617, \"Date\": \"Feb 07\"}, {\"date\": \"2016-02-07T00:00:00\", \"utmSource\": \"twitter\", \"uid\": 2776, \"Date\": \"Feb 07\"}, {\"date\": \"2016-02-08T00:00:00\", \"utmSource\": \"answers\", \"uid\": 6007, \"Date\": \"Feb 08\"}, {\"date\": \"2016-02-08T00:00:00\", \"utmSource\": \"biznesowe rewolucje\", \"uid\": 44947, \"Date\": \"Feb 08\"}, {\"date\": \"2016-02-08T00:00:00\", \"utmSource\": \"grub street\", \"uid\": 1700, \"Date\": \"Feb 08\"}, {\"date\": \"2016-02-08T00:00:00\", \"utmSource\": \"mosalingua fr\", \"uid\": 3114, \"Date\": \"Feb 08\"}, {\"date\": \"2016-02-08T00:00:00\", \"utmSource\": \"na\", \"uid\": 37452, \"Date\": \"Feb 08\"}, {\"date\": \"2016-02-08T00:00:00\", \"utmSource\": \"other\", \"uid\": 2238, \"Date\": \"Feb 08\"}, {\"date\": \"2016-02-08T00:00:00\", \"utmSource\": \"program\", \"uid\": 9453, \"Date\": \"Feb 08\"}, {\"date\": \"2016-02-08T00:00:00\", \"utmSource\": \"salesmanago\", \"uid\": 744, \"Date\": \"Feb 08\"}, {\"date\": \"2016-02-08T00:00:00\", \"utmSource\": \"shmoop\", \"uid\": 3944, \"Date\": \"Feb 08\"}, {\"date\": \"2016-02-08T00:00:00\", \"utmSource\": \"twitter\", \"uid\": 3078, \"Date\": \"Feb 08\"}, {\"date\": \"2016-02-09T00:00:00\", \"utmSource\": \"answers\", \"uid\": 5993, \"Date\": \"Feb 09\"}, {\"date\": \"2016-02-09T00:00:00\", \"utmSource\": \"biznesowe rewolucje\", \"uid\": 45708, \"Date\": \"Feb 09\"}, {\"date\": \"2016-02-09T00:00:00\", \"utmSource\": \"grub street\", \"uid\": 1666, \"Date\": \"Feb 09\"}, {\"date\": \"2016-02-09T00:00:00\", \"utmSource\": \"mosalingua fr\", \"uid\": 3162, \"Date\": \"Feb 09\"}, {\"date\": \"2016-02-09T00:00:00\", \"utmSource\": \"na\", \"uid\": 37676, \"Date\": \"Feb 09\"}, {\"date\": \"2016-02-09T00:00:00\", \"utmSource\": \"other\", \"uid\": 2311, \"Date\": \"Feb 09\"}, {\"date\": \"2016-02-09T00:00:00\", \"utmSource\": \"program\", \"uid\": 9428, \"Date\": \"Feb 09\"}, {\"date\": \"2016-02-09T00:00:00\", \"utmSource\": \"salesmanago\", \"uid\": 752, \"Date\": \"Feb 09\"}, {\"date\": \"2016-02-09T00:00:00\", \"utmSource\": \"shmoop\", \"uid\": 3977, \"Date\": \"Feb 09\"}, {\"date\": \"2016-02-09T00:00:00\", \"utmSource\": \"twitter\", \"uid\": 3091, \"Date\": \"Feb 09\"}, {\"date\": \"2016-02-10T00:00:00\", \"utmSource\": \"answers\", \"uid\": 6173, \"Date\": \"Feb 10\"}, {\"date\": \"2016-02-10T00:00:00\", \"utmSource\": \"biznesowe rewolucje\", \"uid\": 45909, \"Date\": \"Feb 10\"}, {\"date\": \"2016-02-10T00:00:00\", \"utmSource\": \"grub street\", \"uid\": 1659, \"Date\": \"Feb 10\"}, {\"date\": \"2016-02-10T00:00:00\", \"utmSource\": \"handbook\", \"uid\": 604, \"Date\": \"Feb 10\"}, {\"date\": \"2016-02-10T00:00:00\", \"utmSource\": \"mosalingua fr\", \"uid\": 3279, \"Date\": \"Feb 10\"}, {\"date\": \"2016-02-10T00:00:00\", \"utmSource\": \"na\", \"uid\": 38263, \"Date\": \"Feb 10\"}, {\"date\": \"2016-02-10T00:00:00\", \"utmSource\": \"other\", \"uid\": 2304, \"Date\": \"Feb 10\"}, {\"date\": \"2016-02-10T00:00:00\", \"utmSource\": \"program\", \"uid\": 9611, \"Date\": \"Feb 10\"}, {\"date\": \"2016-02-10T00:00:00\", \"utmSource\": \"salesmanago\", \"uid\": 738, \"Date\": \"Feb 10\"}, {\"date\": \"2016-02-10T00:00:00\", \"utmSource\": \"shmoop\", \"uid\": 3943, \"Date\": \"Feb 10\"}, {\"date\": \"2016-02-10T00:00:00\", \"utmSource\": \"twitter\", \"uid\": 3063, \"Date\": \"Feb 10\"}, {\"date\": \"2016-02-11T00:00:00\", \"utmSource\": \"answers\", \"uid\": 6300, \"Date\": \"Feb 11\"}, {\"date\": \"2016-02-11T00:00:00\", \"utmSource\": \"biznesowe rewolucje\", \"uid\": 45126, \"Date\": \"Feb 11\"}, {\"date\": \"2016-02-11T00:00:00\", \"utmSource\": \"grub street\", \"uid\": 1622, \"Date\": \"Feb 11\"}, {\"date\": \"2016-02-11T00:00:00\", \"utmSource\": \"handbook\", \"uid\": 590, \"Date\": \"Feb 11\"}, {\"date\": \"2016-02-11T00:00:00\", \"utmSource\": \"mosalingua fr\", \"uid\": 3194, \"Date\": \"Feb 11\"}, {\"date\": \"2016-02-11T00:00:00\", \"utmSource\": \"na\", \"uid\": 37579, \"Date\": \"Feb 11\"}, {\"date\": \"2016-02-11T00:00:00\", \"utmSource\": \"other\", \"uid\": 2239, \"Date\": \"Feb 11\"}, {\"date\": \"2016-02-11T00:00:00\", \"utmSource\": \"program\", \"uid\": 9434, \"Date\": \"Feb 11\"}, {\"date\": \"2016-02-11T00:00:00\", \"utmSource\": \"salesmanago\", \"uid\": 734, \"Date\": \"Feb 11\"}, {\"date\": \"2016-02-11T00:00:00\", \"utmSource\": \"shmoop\", \"uid\": 3880, \"Date\": \"Feb 11\"}, {\"date\": \"2016-02-11T00:00:00\", \"utmSource\": \"twitter\", \"uid\": 3045, \"Date\": \"Feb 11\"}, {\"date\": \"2016-02-12T00:00:00\", \"utmSource\": \"answers\", \"uid\": 6033, \"Date\": \"Feb 12\"}, {\"date\": \"2016-02-12T00:00:00\", \"utmSource\": \"biznesowe rewolucje\", \"uid\": 41228, \"Date\": \"Feb 12\"}, {\"date\": \"2016-02-12T00:00:00\", \"utmSource\": \"grub street\", \"uid\": 1404, \"Date\": \"Feb 12\"}, {\"date\": \"2016-02-12T00:00:00\", \"utmSource\": \"mosalingua fr\", \"uid\": 2922, \"Date\": \"Feb 12\"}, {\"date\": \"2016-02-12T00:00:00\", \"utmSource\": \"na\", \"uid\": 34550, \"Date\": \"Feb 12\"}, {\"date\": \"2016-02-12T00:00:00\", \"utmSource\": \"other\", \"uid\": 2051, \"Date\": \"Feb 12\"}, {\"date\": \"2016-02-12T00:00:00\", \"utmSource\": \"program\", \"uid\": 8728, \"Date\": \"Feb 12\"}, {\"date\": \"2016-02-12T00:00:00\", \"utmSource\": \"salesmanago\", \"uid\": 665, \"Date\": \"Feb 12\"}, {\"date\": \"2016-02-12T00:00:00\", \"utmSource\": \"shmoop\", \"uid\": 3696, \"Date\": \"Feb 12\"}, {\"date\": \"2016-02-12T00:00:00\", \"utmSource\": \"twitter\", \"uid\": 2845, \"Date\": \"Feb 12\"}, {\"date\": \"2016-02-13T00:00:00\", \"utmSource\": \"answers\", \"uid\": 6048, \"Date\": \"Feb 13\"}, {\"date\": \"2016-02-13T00:00:00\", \"utmSource\": \"biznesowe rewolucje\", \"uid\": 37994, \"Date\": \"Feb 13\"}, {\"date\": \"2016-02-13T00:00:00\", \"utmSource\": \"grub street\", \"uid\": 1188, \"Date\": \"Feb 13\"}, {\"date\": \"2016-02-13T00:00:00\", \"utmSource\": \"mosalingua fr\", \"uid\": 2702, \"Date\": \"Feb 13\"}, {\"date\": \"2016-02-13T00:00:00\", \"utmSource\": \"na\", \"uid\": 31575, \"Date\": \"Feb 13\"}, {\"date\": \"2016-02-13T00:00:00\", \"utmSource\": \"other\", \"uid\": 1972, \"Date\": \"Feb 13\"}, {\"date\": \"2016-02-13T00:00:00\", \"utmSource\": \"program\", \"uid\": 7903, \"Date\": \"Feb 13\"}, {\"date\": \"2016-02-13T00:00:00\", \"utmSource\": \"salesmanago\", \"uid\": 604, \"Date\": \"Feb 13\"}, {\"date\": \"2016-02-13T00:00:00\", \"utmSource\": \"shmoop\", \"uid\": 3452, \"Date\": \"Feb 13\"}, {\"date\": \"2016-02-13T00:00:00\", \"utmSource\": \"twitter\", \"uid\": 2563, \"Date\": \"Feb 13\"}, {\"date\": \"2016-02-14T00:00:00\", \"utmSource\": \"answers\", \"uid\": 6459, \"Date\": \"Feb 14\"}, {\"date\": \"2016-02-14T00:00:00\", \"utmSource\": \"biznesowe rewolucje\", \"uid\": 41346, \"Date\": \"Feb 14\"}, {\"date\": \"2016-02-14T00:00:00\", \"utmSource\": \"grub street\", \"uid\": 1346, \"Date\": \"Feb 14\"}, {\"date\": \"2016-02-14T00:00:00\", \"utmSource\": \"mosalingua fr\", \"uid\": 2964, \"Date\": \"Feb 14\"}, {\"date\": \"2016-02-14T00:00:00\", \"utmSource\": \"na\", \"uid\": 34549, \"Date\": \"Feb 14\"}, {\"date\": \"2016-02-14T00:00:00\", \"utmSource\": \"other\", \"uid\": 2050, \"Date\": \"Feb 14\"}, {\"date\": \"2016-02-14T00:00:00\", \"utmSource\": \"program\", \"uid\": 8464, \"Date\": \"Feb 14\"}, {\"date\": \"2016-02-14T00:00:00\", \"utmSource\": \"salesmanago\", \"uid\": 645, \"Date\": \"Feb 14\"}, {\"date\": \"2016-02-14T00:00:00\", \"utmSource\": \"shmoop\", \"uid\": 3671, \"Date\": \"Feb 14\"}, {\"date\": \"2016-02-14T00:00:00\", \"utmSource\": \"twitter\", \"uid\": 2727, \"Date\": \"Feb 14\"}, {\"date\": \"2016-02-15T00:00:00\", \"utmSource\": \"answers\", \"uid\": 7078, \"Date\": \"Feb 15\"}, {\"date\": \"2016-02-15T00:00:00\", \"utmSource\": \"biznesowe rewolucje\", \"uid\": 46753, \"Date\": \"Feb 15\"}, {\"date\": \"2016-02-15T00:00:00\", \"utmSource\": \"grub street\", \"uid\": 1613, \"Date\": \"Feb 15\"}, {\"date\": \"2016-02-15T00:00:00\", \"utmSource\": \"handbook\", \"uid\": 624, \"Date\": \"Feb 15\"}, {\"date\": \"2016-02-15T00:00:00\", \"utmSource\": \"mosalingua fr\", \"uid\": 3330, \"Date\": \"Feb 15\"}, {\"date\": \"2016-02-15T00:00:00\", \"utmSource\": \"na\", \"uid\": 39044, \"Date\": \"Feb 15\"}, {\"date\": \"2016-02-15T00:00:00\", \"utmSource\": \"other\", \"uid\": 2332, \"Date\": \"Feb 15\"}, {\"date\": \"2016-02-15T00:00:00\", \"utmSource\": \"program\", \"uid\": 9375, \"Date\": \"Feb 15\"}, {\"date\": \"2016-02-15T00:00:00\", \"utmSource\": \"salesmanago\", \"uid\": 728, \"Date\": \"Feb 15\"}, {\"date\": \"2016-02-15T00:00:00\", \"utmSource\": \"shmoop\", \"uid\": 4022, \"Date\": \"Feb 15\"}, {\"date\": \"2016-02-15T00:00:00\", \"utmSource\": \"twitter\", \"uid\": 3008, \"Date\": \"Feb 15\"}, {\"date\": \"2016-02-16T00:00:00\", \"utmSource\": \"answers\", \"uid\": 7079, \"Date\": \"Feb 16\"}, {\"date\": \"2016-02-16T00:00:00\", \"utmSource\": \"biznesowe rewolucje\", \"uid\": 47081, \"Date\": \"Feb 16\"}, {\"date\": \"2016-02-16T00:00:00\", \"utmSource\": \"grub street\", \"uid\": 1655, \"Date\": \"Feb 16\"}, {\"date\": \"2016-02-16T00:00:00\", \"utmSource\": \"handbook\", \"uid\": 637, \"Date\": \"Feb 16\"}, {\"date\": \"2016-02-16T00:00:00\", \"utmSource\": \"mosalingua fr\", \"uid\": 3362, \"Date\": \"Feb 16\"}, {\"date\": \"2016-02-16T00:00:00\", \"utmSource\": \"na\", \"uid\": 39609, \"Date\": \"Feb 16\"}, {\"date\": \"2016-02-16T00:00:00\", \"utmSource\": \"other\", \"uid\": 2367, \"Date\": \"Feb 16\"}, {\"date\": \"2016-02-16T00:00:00\", \"utmSource\": \"program\", \"uid\": 9707, \"Date\": \"Feb 16\"}, {\"date\": \"2016-02-16T00:00:00\", \"utmSource\": \"salesmanago\", \"uid\": 727, \"Date\": \"Feb 16\"}, {\"date\": \"2016-02-16T00:00:00\", \"utmSource\": \"shmoop\", \"uid\": 4041, \"Date\": \"Feb 16\"}, {\"date\": \"2016-02-16T00:00:00\", \"utmSource\": \"twitter\", \"uid\": 3059, \"Date\": \"Feb 16\"}, {\"date\": \"2016-02-17T00:00:00\", \"utmSource\": \"answers\", \"uid\": 7265, \"Date\": \"Feb 17\"}, {\"date\": \"2016-02-17T00:00:00\", \"utmSource\": \"biznesowe rewolucje\", \"uid\": 47568, \"Date\": \"Feb 17\"}, {\"date\": \"2016-02-17T00:00:00\", \"utmSource\": \"grub street\", \"uid\": 1668, \"Date\": \"Feb 17\"}, {\"date\": \"2016-02-17T00:00:00\", \"utmSource\": \"handbook\", \"uid\": 620, \"Date\": \"Feb 17\"}, {\"date\": \"2016-02-17T00:00:00\", \"utmSource\": \"mosalingua fr\", \"uid\": 3441, \"Date\": \"Feb 17\"}, {\"date\": \"2016-02-17T00:00:00\", \"utmSource\": \"na\", \"uid\": 39995, \"Date\": \"Feb 17\"}, {\"date\": \"2016-02-17T00:00:00\", \"utmSource\": \"other\", \"uid\": 2362, \"Date\": \"Feb 17\"}, {\"date\": \"2016-02-17T00:00:00\", \"utmSource\": \"program\", \"uid\": 9764, \"Date\": \"Feb 17\"}, {\"date\": \"2016-02-17T00:00:00\", \"utmSource\": \"salesmanago\", \"uid\": 725, \"Date\": \"Feb 17\"}, {\"date\": \"2016-02-17T00:00:00\", \"utmSource\": \"shmoop\", \"uid\": 4038, \"Date\": \"Feb 17\"}, {\"date\": \"2016-02-17T00:00:00\", \"utmSource\": \"twitter\", \"uid\": 3052, \"Date\": \"Feb 17\"}, {\"date\": \"2016-02-18T00:00:00\", \"utmSource\": \"answers\", \"uid\": 7270, \"Date\": \"Feb 18\"}, {\"date\": \"2016-02-18T00:00:00\", \"utmSource\": \"biznesowe rewolucje\", \"uid\": 46901, \"Date\": \"Feb 18\"}, {\"date\": \"2016-02-18T00:00:00\", \"utmSource\": \"grub street\", \"uid\": 1609, \"Date\": \"Feb 18\"}, {\"date\": \"2016-02-18T00:00:00\", \"utmSource\": \"handbook\", \"uid\": 612, \"Date\": \"Feb 18\"}, {\"date\": \"2016-02-18T00:00:00\", \"utmSource\": \"mosalingua fr\", \"uid\": 3406, \"Date\": \"Feb 18\"}, {\"date\": \"2016-02-18T00:00:00\", \"utmSource\": \"na\", \"uid\": 39292, \"Date\": \"Feb 18\"}, {\"date\": \"2016-02-18T00:00:00\", \"utmSource\": \"other\", \"uid\": 2334, \"Date\": \"Feb 18\"}, {\"date\": \"2016-02-18T00:00:00\", \"utmSource\": \"program\", \"uid\": 9617, \"Date\": \"Feb 18\"}, {\"date\": \"2016-02-18T00:00:00\", \"utmSource\": \"salesmanago\", \"uid\": 694, \"Date\": \"Feb 18\"}, {\"date\": \"2016-02-18T00:00:00\", \"utmSource\": \"shmoop\", \"uid\": 4013, \"Date\": \"Feb 18\"}, {\"date\": \"2016-02-18T00:00:00\", \"utmSource\": \"twitter\", \"uid\": 3077, \"Date\": \"Feb 18\"}, {\"date\": \"2016-02-19T00:00:00\", \"utmSource\": \"answers\", \"uid\": 7185, \"Date\": \"Feb 19\"}, {\"date\": \"2016-02-19T00:00:00\", \"utmSource\": \"biznesowe rewolucje\", \"uid\": 43441, \"Date\": \"Feb 19\"}, {\"date\": \"2016-02-19T00:00:00\", \"utmSource\": \"grub street\", \"uid\": 1435, \"Date\": \"Feb 19\"}, {\"date\": \"2016-02-19T00:00:00\", \"utmSource\": \"mosalingua fr\", \"uid\": 3175, \"Date\": \"Feb 19\"}, {\"date\": \"2016-02-19T00:00:00\", \"utmSource\": \"na\", \"uid\": 36731, \"Date\": \"Feb 19\"}, {\"date\": \"2016-02-19T00:00:00\", \"utmSource\": \"other\", \"uid\": 2187, \"Date\": \"Feb 19\"}, {\"date\": \"2016-02-19T00:00:00\", \"utmSource\": \"program\", \"uid\": 8927, \"Date\": \"Feb 19\"}, {\"date\": \"2016-02-19T00:00:00\", \"utmSource\": \"salesmanago\", \"uid\": 636, \"Date\": \"Feb 19\"}, {\"date\": \"2016-02-19T00:00:00\", \"utmSource\": \"shmoop\", \"uid\": 3820, \"Date\": \"Feb 19\"}, {\"date\": \"2016-02-19T00:00:00\", \"utmSource\": \"twitter\", \"uid\": 2864, \"Date\": \"Feb 19\"}, {\"date\": \"2016-02-20T00:00:00\", \"utmSource\": \"answers\", \"uid\": 7190, \"Date\": \"Feb 20\"}, {\"date\": \"2016-02-20T00:00:00\", \"utmSource\": \"biznesowe rewolucje\", \"uid\": 40174, \"Date\": \"Feb 20\"}, {\"date\": \"2016-02-20T00:00:00\", \"utmSource\": \"grub street\", \"uid\": 1205, \"Date\": \"Feb 20\"}, {\"date\": \"2016-02-20T00:00:00\", \"utmSource\": \"mosalingua fr\", \"uid\": 2994, \"Date\": \"Feb 20\"}, {\"date\": \"2016-02-20T00:00:00\", \"utmSource\": \"na\", \"uid\": 34167, \"Date\": \"Feb 20\"}, {\"date\": \"2016-02-20T00:00:00\", \"utmSource\": \"other\", \"uid\": 1992, \"Date\": \"Feb 20\"}, {\"date\": \"2016-02-20T00:00:00\", \"utmSource\": \"program\", \"uid\": 8197, \"Date\": \"Feb 20\"}, {\"date\": \"2016-02-20T00:00:00\", \"utmSource\": \"salesmanago\", \"uid\": 603, \"Date\": \"Feb 20\"}, {\"date\": \"2016-02-20T00:00:00\", \"utmSource\": \"shmoop\", \"uid\": 3604, \"Date\": \"Feb 20\"}, {\"date\": \"2016-02-20T00:00:00\", \"utmSource\": \"twitter\", \"uid\": 2664, \"Date\": \"Feb 20\"}, {\"date\": \"2016-02-21T00:00:00\", \"utmSource\": \"answers\", \"uid\": 7979, \"Date\": \"Feb 21\"}, {\"date\": \"2016-02-21T00:00:00\", \"utmSource\": \"biznesowe rewolucje\", \"uid\": 46719, \"Date\": \"Feb 21\"}, {\"date\": \"2016-02-21T00:00:00\", \"utmSource\": \"grub street\", \"uid\": 1508, \"Date\": \"Feb 21\"}, {\"date\": \"2016-02-21T00:00:00\", \"utmSource\": \"handbook\", \"uid\": 616, \"Date\": \"Feb 21\"}, {\"date\": \"2016-02-21T00:00:00\", \"utmSource\": \"mosalingua fr\", \"uid\": 3520, \"Date\": \"Feb 21\"}, {\"date\": \"2016-02-21T00:00:00\", \"utmSource\": \"na\", \"uid\": 39489, \"Date\": \"Feb 21\"}, {\"date\": \"2016-02-21T00:00:00\", \"utmSource\": \"other\", \"uid\": 2328, \"Date\": \"Feb 21\"}, {\"date\": \"2016-02-21T00:00:00\", \"utmSource\": \"program\", \"uid\": 9177, \"Date\": \"Feb 21\"}, {\"date\": \"2016-02-21T00:00:00\", \"utmSource\": \"salesmanago\", \"uid\": 669, \"Date\": \"Feb 21\"}, {\"date\": \"2016-02-21T00:00:00\", \"utmSource\": \"shmoop\", \"uid\": 3925, \"Date\": \"Feb 21\"}, {\"date\": \"2016-02-21T00:00:00\", \"utmSource\": \"twitter\", \"uid\": 2913, \"Date\": \"Feb 21\"}, {\"date\": \"2016-02-22T00:00:00\", \"utmSource\": \"answers\", \"uid\": 8294, \"Date\": \"Feb 22\"}, {\"date\": \"2016-02-22T00:00:00\", \"utmSource\": \"biznesowe rewolucje\", \"uid\": 50351, \"Date\": \"Feb 22\"}, {\"date\": \"2016-02-22T00:00:00\", \"utmSource\": \"grub street\", \"uid\": 1632, \"Date\": \"Feb 22\"}, {\"date\": \"2016-02-22T00:00:00\", \"utmSource\": \"handbook\", \"uid\": 677, \"Date\": \"Feb 22\"}, {\"date\": \"2016-02-22T00:00:00\", \"utmSource\": \"mosalingua fr\", \"uid\": 3746, \"Date\": \"Feb 22\"}, {\"date\": \"2016-02-22T00:00:00\", \"utmSource\": \"na\", \"uid\": 42948, \"Date\": \"Feb 22\"}, {\"date\": \"2016-02-22T00:00:00\", \"utmSource\": \"other\", \"uid\": 2510, \"Date\": \"Feb 22\"}, {\"date\": \"2016-02-22T00:00:00\", \"utmSource\": \"program\", \"uid\": 10062, \"Date\": \"Feb 22\"}, {\"date\": \"2016-02-22T00:00:00\", \"utmSource\": \"salesmanago\", \"uid\": 743, \"Date\": \"Feb 22\"}, {\"date\": \"2016-02-22T00:00:00\", \"utmSource\": \"shmoop\", \"uid\": 4277, \"Date\": \"Feb 22\"}, {\"date\": \"2016-02-22T00:00:00\", \"utmSource\": \"twitter\", \"uid\": 3175, \"Date\": \"Feb 22\"}, {\"date\": \"2016-02-23T00:00:00\", \"utmSource\": \"answers\", \"uid\": 8444, \"Date\": \"Feb 23\"}, {\"date\": \"2016-02-23T00:00:00\", \"utmSource\": \"biznesowe rewolucje\", \"uid\": 51111, \"Date\": \"Feb 23\"}, {\"date\": \"2016-02-23T00:00:00\", \"utmSource\": \"grub street\", \"uid\": 1661, \"Date\": \"Feb 23\"}, {\"date\": \"2016-02-23T00:00:00\", \"utmSource\": \"handbook\", \"uid\": 671, \"Date\": \"Feb 23\"}, {\"date\": \"2016-02-23T00:00:00\", \"utmSource\": \"mosalingua fr\", \"uid\": 3782, \"Date\": \"Feb 23\"}, {\"date\": \"2016-02-23T00:00:00\", \"utmSource\": \"na\", \"uid\": 43407, \"Date\": \"Feb 23\"}, {\"date\": \"2016-02-23T00:00:00\", \"utmSource\": \"other\", \"uid\": 2489, \"Date\": \"Feb 23\"}, {\"date\": \"2016-02-23T00:00:00\", \"utmSource\": \"program\", \"uid\": 10254, \"Date\": \"Feb 23\"}, {\"date\": \"2016-02-23T00:00:00\", \"utmSource\": \"salesmanago\", \"uid\": 734, \"Date\": \"Feb 23\"}, {\"date\": \"2016-02-23T00:00:00\", \"utmSource\": \"shmoop\", \"uid\": 4338, \"Date\": \"Feb 23\"}, {\"date\": \"2016-02-23T00:00:00\", \"utmSource\": \"twitter\", \"uid\": 3191, \"Date\": \"Feb 23\"}, {\"date\": \"2016-02-24T00:00:00\", \"utmSource\": \"answers\", \"uid\": 8567, \"Date\": \"Feb 24\"}, {\"date\": \"2016-02-24T00:00:00\", \"utmSource\": \"biznesowe rewolucje\", \"uid\": 51090, \"Date\": \"Feb 24\"}, {\"date\": \"2016-02-24T00:00:00\", \"utmSource\": \"grub street\", \"uid\": 1651, \"Date\": \"Feb 24\"}, {\"date\": \"2016-02-24T00:00:00\", \"utmSource\": \"handbook\", \"uid\": 682, \"Date\": \"Feb 24\"}, {\"date\": \"2016-02-24T00:00:00\", \"utmSource\": \"mosalingua fr\", \"uid\": 3845, \"Date\": \"Feb 24\"}, {\"date\": \"2016-02-24T00:00:00\", \"utmSource\": \"na\", \"uid\": 43488, \"Date\": \"Feb 24\"}, {\"date\": \"2016-02-24T00:00:00\", \"utmSource\": \"other\", \"uid\": 2510, \"Date\": \"Feb 24\"}, {\"date\": \"2016-02-24T00:00:00\", \"utmSource\": \"program\", \"uid\": 10223, \"Date\": \"Feb 24\"}, {\"date\": \"2016-02-24T00:00:00\", \"utmSource\": \"salesmanago\", \"uid\": 700, \"Date\": \"Feb 24\"}, {\"date\": \"2016-02-24T00:00:00\", \"utmSource\": \"shmoop\", \"uid\": 4315, \"Date\": \"Feb 24\"}, {\"date\": \"2016-02-24T00:00:00\", \"utmSource\": \"twitter\", \"uid\": 3238, \"Date\": \"Feb 24\"}, {\"date\": \"2016-02-25T00:00:00\", \"utmSource\": \"answers\", \"uid\": 8505, \"Date\": \"Feb 25\"}, {\"date\": \"2016-02-25T00:00:00\", \"utmSource\": \"biznesowe rewolucje\", \"uid\": 50261, \"Date\": \"Feb 25\"}, {\"date\": \"2016-02-25T00:00:00\", \"utmSource\": \"grub street\", \"uid\": 1607, \"Date\": \"Feb 25\"}, {\"date\": \"2016-02-25T00:00:00\", \"utmSource\": \"handbook\", \"uid\": 681, \"Date\": \"Feb 25\"}, {\"date\": \"2016-02-25T00:00:00\", \"utmSource\": \"mosalingua fr\", \"uid\": 3851, \"Date\": \"Feb 25\"}, {\"date\": \"2016-02-25T00:00:00\", \"utmSource\": \"na\", \"uid\": 43151, \"Date\": \"Feb 25\"}, {\"date\": \"2016-02-25T00:00:00\", \"utmSource\": \"other\", \"uid\": 2441, \"Date\": \"Feb 25\"}, {\"date\": \"2016-02-25T00:00:00\", \"utmSource\": \"program\", \"uid\": 9996, \"Date\": \"Feb 25\"}, {\"date\": \"2016-02-25T00:00:00\", \"utmSource\": \"salesmanago\", \"uid\": 696, \"Date\": \"Feb 25\"}, {\"date\": \"2016-02-25T00:00:00\", \"utmSource\": \"shmoop\", \"uid\": 4308, \"Date\": \"Feb 25\"}, {\"date\": \"2016-02-25T00:00:00\", \"utmSource\": \"twitter\", \"uid\": 3231, \"Date\": \"Feb 25\"}, {\"date\": \"2016-02-26T00:00:00\", \"utmSource\": \"answers\", \"uid\": 8151, \"Date\": \"Feb 26\"}, {\"date\": \"2016-02-26T00:00:00\", \"utmSource\": \"biznesowe rewolucje\", \"uid\": 46223, \"Date\": \"Feb 26\"}, {\"date\": \"2016-02-26T00:00:00\", \"utmSource\": \"grub street\", \"uid\": 1398, \"Date\": \"Feb 26\"}, {\"date\": \"2016-02-26T00:00:00\", \"utmSource\": \"handbook\", \"uid\": 640, \"Date\": \"Feb 26\"}, {\"date\": \"2016-02-26T00:00:00\", \"utmSource\": \"mosalingua fr\", \"uid\": 3468, \"Date\": \"Feb 26\"}, {\"date\": \"2016-02-26T00:00:00\", \"utmSource\": \"na\", \"uid\": 39842, \"Date\": \"Feb 26\"}, {\"date\": \"2016-02-26T00:00:00\", \"utmSource\": \"other\", \"uid\": 2294, \"Date\": \"Feb 26\"}, {\"date\": \"2016-02-26T00:00:00\", \"utmSource\": \"program\", \"uid\": 9318, \"Date\": \"Feb 26\"}, {\"date\": \"2016-02-26T00:00:00\", \"utmSource\": \"salesmanago\", \"uid\": 630, \"Date\": \"Feb 26\"}, {\"date\": \"2016-02-26T00:00:00\", \"utmSource\": \"shmoop\", \"uid\": 4119, \"Date\": \"Feb 26\"}, {\"date\": \"2016-02-26T00:00:00\", \"utmSource\": \"twitter\", \"uid\": 3065, \"Date\": \"Feb 26\"}, {\"date\": \"2016-02-27T00:00:00\", \"utmSource\": \"answers\", \"uid\": 8189, \"Date\": \"Feb 27\"}, {\"date\": \"2016-02-27T00:00:00\", \"utmSource\": \"biznesowe rewolucje\", \"uid\": 43343, \"Date\": \"Feb 27\"}, {\"date\": \"2016-02-27T00:00:00\", \"utmSource\": \"grub street\", \"uid\": 1163, \"Date\": \"Feb 27\"}, {\"date\": \"2016-02-27T00:00:00\", \"utmSource\": \"handbook\", \"uid\": 597, \"Date\": \"Feb 27\"}, {\"date\": \"2016-02-27T00:00:00\", \"utmSource\": \"mosalingua fr\", \"uid\": 3255, \"Date\": \"Feb 27\"}, {\"date\": \"2016-02-27T00:00:00\", \"utmSource\": \"na\", \"uid\": 36838, \"Date\": \"Feb 27\"}, {\"date\": \"2016-02-27T00:00:00\", \"utmSource\": \"other\", \"uid\": 2135, \"Date\": \"Feb 27\"}, {\"date\": \"2016-02-27T00:00:00\", \"utmSource\": \"program\", \"uid\": 8444, \"Date\": \"Feb 27\"}, {\"date\": \"2016-02-27T00:00:00\", \"utmSource\": \"salesmanago\", \"uid\": 606, \"Date\": \"Feb 27\"}, {\"date\": \"2016-02-27T00:00:00\", \"utmSource\": \"shmoop\", \"uid\": 3940, \"Date\": \"Feb 27\"}, {\"date\": \"2016-02-27T00:00:00\", \"utmSource\": \"twitter\", \"uid\": 2869, \"Date\": \"Feb 27\"}, {\"date\": \"2016-02-28T00:00:00\", \"utmSource\": \"answers\", \"uid\": 9107, \"Date\": \"Feb 28\"}, {\"date\": \"2016-02-28T00:00:00\", \"utmSource\": \"biznesowe rewolucje\", \"uid\": 49287, \"Date\": \"Feb 28\"}, {\"date\": \"2016-02-28T00:00:00\", \"utmSource\": \"grub street\", \"uid\": 1465, \"Date\": \"Feb 28\"}, {\"date\": \"2016-02-28T00:00:00\", \"utmSource\": \"handbook\", \"uid\": 658, \"Date\": \"Feb 28\"}, {\"date\": \"2016-02-28T00:00:00\", \"utmSource\": \"mosalingua fr\", \"uid\": 3852, \"Date\": \"Feb 28\"}, {\"date\": \"2016-02-28T00:00:00\", \"utmSource\": \"na\", \"uid\": 42278, \"Date\": \"Feb 28\"}, {\"date\": \"2016-02-28T00:00:00\", \"utmSource\": \"other\", \"uid\": 2429, \"Date\": \"Feb 28\"}, {\"date\": \"2016-02-28T00:00:00\", \"utmSource\": \"program\", \"uid\": 9459, \"Date\": \"Feb 28\"}, {\"date\": \"2016-02-28T00:00:00\", \"utmSource\": \"salesmanago\", \"uid\": 665, \"Date\": \"Feb 28\"}, {\"date\": \"2016-02-28T00:00:00\", \"utmSource\": \"shmoop\", \"uid\": 4295, \"Date\": \"Feb 28\"}, {\"date\": \"2016-02-28T00:00:00\", \"utmSource\": \"twitter\", \"uid\": 3086, \"Date\": \"Feb 28\"}, {\"date\": \"2016-02-29T00:00:00\", \"utmSource\": \"answers\", \"uid\": 9312, \"Date\": \"Feb 29\"}, {\"date\": \"2016-02-29T00:00:00\", \"utmSource\": \"biznesowe rewolucje\", \"uid\": 53437, \"Date\": \"Feb 29\"}, {\"date\": \"2016-02-29T00:00:00\", \"utmSource\": \"grub street\", \"uid\": 1624, \"Date\": \"Feb 29\"}, {\"date\": \"2016-02-29T00:00:00\", \"utmSource\": \"handbook\", \"uid\": 719, \"Date\": \"Feb 29\"}, {\"date\": \"2016-02-29T00:00:00\", \"utmSource\": \"mosalingua fr\", \"uid\": 4066, \"Date\": \"Feb 29\"}, {\"date\": \"2016-02-29T00:00:00\", \"utmSource\": \"na\", \"uid\": 45982, \"Date\": \"Feb 29\"}, {\"date\": \"2016-02-29T00:00:00\", \"utmSource\": \"other\", \"uid\": 2624, \"Date\": \"Feb 29\"}, {\"date\": \"2016-02-29T00:00:00\", \"utmSource\": \"program\", \"uid\": 10463, \"Date\": \"Feb 29\"}, {\"date\": \"2016-02-29T00:00:00\", \"utmSource\": \"salesmanago\", \"uid\": 725, \"Date\": \"Feb 29\"}, {\"date\": \"2016-02-29T00:00:00\", \"utmSource\": \"shmoop\", \"uid\": 4666, \"Date\": \"Feb 29\"}, {\"date\": \"2016-02-29T00:00:00\", \"utmSource\": \"twitter\", \"uid\": 3347, \"Date\": \"Feb 29\"}]}}, {\"mode\": \"vega-lite\"});\n",
       "</script>"
      ],
      "text/plain": [
       "alt.LayerChart(...)"
      ]
     },
     "execution_count": 53,
     "metadata": {},
     "output_type": "execute_result"
    }
   ],
   "source": [
    "# Plot the Number of daily active users for each source through the month (Feb 2016)\n",
    "\n",
    "# This column is just added for having better visulization in Altair\n",
    "df_uniqusers_perday_persrc_top['Date'] =  df_uniqusers_perday_persrc_top['date'].dt.strftime('%b %d')\n",
    "\n",
    "# Create a selection that chooses the nearest point & selects based on x-value\n",
    "nearest = alt.selection(type='single', nearest=True, on='mouseover',\n",
    "                        fields=['Date'], empty='none')\n",
    "\n",
    "\n",
    "fig4 = alt.Chart(df_uniqusers_perday_persrc_top).mark_line().encode(\n",
    "    x=alt.X('Date:O', axis = alt.Axis(title = 'Date',labelAngle=90)),\n",
    "    y=alt.Y('uid:Q', axis = alt.Axis(title = 'Number of Unique Users')),\n",
    "    color = alt.Color(\"utmSource:O\",legend=alt.Legend(title=\"Source\"), scale=alt.Scale(range=[\"#d5c56f\",\"#e78c19\",\"#fa8775\",\"#ea5f94\",\"#34cda5\",\"#9d02d7\",\"#0000ff\",\"#6b9c2e\",\"#c95d1a\",\"#7e745b\",\"#91a9e7\"])),\n",
    "    tooltip = [alt.Tooltip('Date', title = 'Date'),\n",
    "               alt.Tooltip('uid:Q', title = 'Number of Users'),\n",
    "               alt.Tooltip('utmSource:O', title='Traffic Source')]\n",
    ").properties(\n",
    "    height= 400,\n",
    "    width = 800 ,title=[\"Daily Unique Users\", \"Across Traffic Sources\"]\n",
    ")\n",
    "\n",
    "\n",
    "\n",
    "\n",
    "# Transparent selectors across the chart. This is what tells us\n",
    "# the x-value of the cursor\n",
    "selectors = alt.Chart(df_uniqusers_perday_persrc_top).mark_point().encode(\n",
    "    x='Date:O',\n",
    "    opacity=alt.value(0),\n",
    ").add_selection(\n",
    "    nearest\n",
    ")\n",
    "\n",
    "# Draw points on the line, and highlight based on selection\n",
    "points = fig4.mark_point().encode(\n",
    "    opacity=alt.condition(nearest, alt.value(0.5), alt.value(0))\n",
    ")\n",
    "\n",
    "\n",
    "# Draw text labels near the points, and highlight based on selection\n",
    "text = fig4.mark_text(align='left', dx=5, dy=-5).encode(\n",
    "    text=alt.condition(nearest, 'uid:Q', alt.value(' '))\n",
    ")\n",
    "\n",
    "# Draw a rule at the location of the selection\n",
    "rules = alt.Chart(df_uniqusers_perday_persrc_top).mark_rule(color='gray').encode(\n",
    "    x='Date:O',\n",
    ").transform_filter(\n",
    "    nearest\n",
    ")\n",
    "\n",
    "\n",
    "                          \n",
    "chart_d = alt.layer(fig4, selectors, points, rules, text\n",
    "    ).configure_title(fontSize=18,font='Helvetica Sans', color='dimgrey', dy=-5\n",
    "    ).configure_legend(labelFontSize=12, title=None\n",
    "    ).configure_axisY(labelPadding=10, titleX=-60, labelFontSize=10,titleFontSize=16, titleColor = 'dimgray', titleFont = 'Helvetica Sans' \n",
    "    ).configure_axisX(grid=False,titleY=50,titleFontSize=16, labelFontSize=10, titleColor = 'dimgray', titleFont = 'Helvetica Sans'\n",
    "    ).configure_axis(gridOpacity = 0.6\n",
    "    )\n",
    "\n",
    "\n",
    "chart_d\n"
   ]
  },
  {
   "cell_type": "code",
   "execution_count": 54,
   "metadata": {},
   "outputs": [],
   "source": [
    "chart_d.save('chart_d.html')"
   ]
  },
  {
   "cell_type": "markdown",
   "metadata": {},
   "source": [
    "### 3 - 1 - 2 Daily User Activity Distribution Per Source\n",
    "\n",
    "This metric shows how consistent users' activities are across various sources throughout the month. In other words, we want to investigate the **user activity distribution of each source**. "
   ]
  },
  {
   "cell_type": "code",
   "execution_count": 55,
   "metadata": {},
   "outputs": [
    {
     "data": {
      "text/html": [
       "<div>\n",
       "<style scoped>\n",
       "    .dataframe tbody tr th:only-of-type {\n",
       "        vertical-align: middle;\n",
       "    }\n",
       "\n",
       "    .dataframe tbody tr th {\n",
       "        vertical-align: top;\n",
       "    }\n",
       "\n",
       "    .dataframe thead th {\n",
       "        text-align: right;\n",
       "    }\n",
       "</style>\n",
       "<table border=\"1\" class=\"dataframe\">\n",
       "  <thead>\n",
       "    <tr style=\"text-align: right;\">\n",
       "      <th></th>\n",
       "      <th>uid</th>\n",
       "      <th>utmSource</th>\n",
       "      <th>date</th>\n",
       "    </tr>\n",
       "  </thead>\n",
       "  <tbody>\n",
       "    <tr>\n",
       "      <th>0</th>\n",
       "      <td>007lqy8pw8PF</td>\n",
       "      <td>na</td>\n",
       "      <td>1</td>\n",
       "    </tr>\n",
       "    <tr>\n",
       "      <th>1</th>\n",
       "      <td>008wXBXcFOF5</td>\n",
       "      <td>biznesowe rewolucje</td>\n",
       "      <td>1</td>\n",
       "    </tr>\n",
       "    <tr>\n",
       "      <th>2</th>\n",
       "      <td>00BBLeYvGxwU</td>\n",
       "      <td>na</td>\n",
       "      <td>1</td>\n",
       "    </tr>\n",
       "    <tr>\n",
       "      <th>3</th>\n",
       "      <td>00Dd47PrCevO</td>\n",
       "      <td>na</td>\n",
       "      <td>1</td>\n",
       "    </tr>\n",
       "    <tr>\n",
       "      <th>4</th>\n",
       "      <td>00FhDR8eh9W0</td>\n",
       "      <td>na</td>\n",
       "      <td>2</td>\n",
       "    </tr>\n",
       "  </tbody>\n",
       "</table>\n",
       "</div>"
      ],
      "text/plain": [
       "            uid            utmSource  date\n",
       "0  007lqy8pw8PF                   na     1\n",
       "1  008wXBXcFOF5  biznesowe rewolucje     1\n",
       "2  00BBLeYvGxwU                   na     1\n",
       "3  00Dd47PrCevO                   na     1\n",
       "4  00FhDR8eh9W0                   na     2"
      ]
     },
     "execution_count": 55,
     "metadata": {},
     "output_type": "execute_result"
    }
   ],
   "source": [
    "# df for number of active days for each user and source\n",
    "\n",
    "df_uniqday_peruser_persrc = df_cl.groupby(['uid','utmSource']).nunique()['date'].reset_index()\n",
    "df_uniqday_peruser_persrc.head()"
   ]
  },
  {
   "cell_type": "code",
   "execution_count": 56,
   "metadata": {},
   "outputs": [],
   "source": [
    "# df for number of total unique users for each source and number of active days \n",
    "df_uniqday_alluser_persrc = df_uniqday_peruser_persrc.groupby(['date','utmSource']).agg({'uid':['count']}).reset_index()\n",
    "\n",
    "df_uniqday_alluser_persrc.columns = ['Number of Days','utmSource','Daily Users of Source']"
   ]
  },
  {
   "cell_type": "code",
   "execution_count": 57,
   "metadata": {},
   "outputs": [],
   "source": [
    "# Calculate percentage of users activity from all month activity for each source\n",
    "\n",
    "# Total users of each source \n",
    "df_uniqday_alluser_persrc['Total Users'] = df_uniqday_alluser_persrc.groupby('utmSource')['Daily Users of Source'].transform('sum')\n",
    "\n",
    "# Percentage of daily activity \n",
    "df_uniqday_alluser_persrc['Perc of User Activity'] = df_uniqday_alluser_persrc['Daily Users of Source']/df_uniqday_alluser_persrc['Total Users']"
   ]
  },
  {
   "cell_type": "code",
   "execution_count": 58,
   "metadata": {},
   "outputs": [
    {
     "data": {
      "text/html": [
       "<div>\n",
       "<style scoped>\n",
       "    .dataframe tbody tr th:only-of-type {\n",
       "        vertical-align: middle;\n",
       "    }\n",
       "\n",
       "    .dataframe tbody tr th {\n",
       "        vertical-align: top;\n",
       "    }\n",
       "\n",
       "    .dataframe thead th {\n",
       "        text-align: right;\n",
       "    }\n",
       "</style>\n",
       "<table border=\"1\" class=\"dataframe\">\n",
       "  <thead>\n",
       "    <tr style=\"text-align: right;\">\n",
       "      <th></th>\n",
       "      <th>Number of Days</th>\n",
       "      <th>utmSource</th>\n",
       "      <th>Daily Users of Source</th>\n",
       "      <th>Total Users</th>\n",
       "      <th>Perc of User Activity</th>\n",
       "    </tr>\n",
       "  </thead>\n",
       "  <tbody>\n",
       "    <tr>\n",
       "      <th>0</th>\n",
       "      <td>1</td>\n",
       "      <td>answers</td>\n",
       "      <td>1161</td>\n",
       "      <td>14979</td>\n",
       "      <td>0.077509</td>\n",
       "    </tr>\n",
       "    <tr>\n",
       "      <th>1</th>\n",
       "      <td>1</td>\n",
       "      <td>biznesowe rewolucje</td>\n",
       "      <td>5173</td>\n",
       "      <td>86287</td>\n",
       "      <td>0.059951</td>\n",
       "    </tr>\n",
       "    <tr>\n",
       "      <th>2</th>\n",
       "      <td>1</td>\n",
       "      <td>blog</td>\n",
       "      <td>3</td>\n",
       "      <td>46</td>\n",
       "      <td>0.065217</td>\n",
       "    </tr>\n",
       "    <tr>\n",
       "      <th>3</th>\n",
       "      <td>1</td>\n",
       "      <td>contenthub</td>\n",
       "      <td>11</td>\n",
       "      <td>182</td>\n",
       "      <td>0.060440</td>\n",
       "    </tr>\n",
       "    <tr>\n",
       "      <th>4</th>\n",
       "      <td>1</td>\n",
       "      <td>dict</td>\n",
       "      <td>31</td>\n",
       "      <td>342</td>\n",
       "      <td>0.090643</td>\n",
       "    </tr>\n",
       "  </tbody>\n",
       "</table>\n",
       "</div>"
      ],
      "text/plain": [
       "   Number of Days            utmSource  Daily Users of Source  Total Users  \\\n",
       "0               1              answers                   1161        14979   \n",
       "1               1  biznesowe rewolucje                   5173        86287   \n",
       "2               1                 blog                      3           46   \n",
       "3               1           contenthub                     11          182   \n",
       "4               1                 dict                     31          342   \n",
       "\n",
       "   Perc of User Activity  \n",
       "0               0.077509  \n",
       "1               0.059951  \n",
       "2               0.065217  \n",
       "3               0.060440  \n",
       "4               0.090643  "
      ]
     },
     "execution_count": 58,
     "metadata": {},
     "output_type": "execute_result"
    }
   ],
   "source": [
    "df_uniqday_alluser_persrc.head()"
   ]
  },
  {
   "cell_type": "code",
   "execution_count": 59,
   "metadata": {},
   "outputs": [],
   "source": [
    "top_src.remove('na')"
   ]
  },
  {
   "cell_type": "code",
   "execution_count": 60,
   "metadata": {},
   "outputs": [],
   "source": [
    "df_uniqday_alluser_persrc_top = df_uniqday_alluser_persrc[df_uniqday_alluser_persrc['utmSource'].isin(top_src)]"
   ]
  },
  {
   "cell_type": "code",
   "execution_count": 61,
   "metadata": {
    "scrolled": false
   },
   "outputs": [
    {
     "data": {
      "text/html": [
       "\n",
       "<div id=\"altair-viz-6\"></div>\n",
       "<script type=\"text/javascript\">\n",
       "  (function(spec, embedOpt){\n",
       "    const outputDiv = document.getElementById(\"altair-viz-6\");\n",
       "    const paths = {\n",
       "      \"vega\": \"https://cdn.jsdelivr.net/npm//vega@5?noext\",\n",
       "      \"vega-lib\": \"https://cdn.jsdelivr.net/npm//vega-lib?noext\",\n",
       "      \"vega-lite\": \"https://cdn.jsdelivr.net/npm//vega-lite@4.0.0?noext\",\n",
       "      \"vega-embed\": \"https://cdn.jsdelivr.net/npm//vega-embed@6?noext\",\n",
       "    };\n",
       "\n",
       "    function loadScript(lib) {\n",
       "      return new Promise(function(resolve, reject) {\n",
       "        var s = document.createElement('script');\n",
       "        s.src = paths[lib];\n",
       "        s.async = true;\n",
       "        s.onload = () => resolve(paths[lib]);\n",
       "        s.onerror = () => reject(`Error loading script: ${paths[lib]}`);\n",
       "        document.getElementsByTagName(\"head\")[0].appendChild(s);\n",
       "      });\n",
       "    }\n",
       "\n",
       "    function showError(err) {\n",
       "      outputDiv.innerHTML = `<div class=\"error\" style=\"color:red;\">${err}</div>`;\n",
       "      throw err;\n",
       "    }\n",
       "\n",
       "    function displayChart(vegaEmbed) {\n",
       "      vegaEmbed(outputDiv, spec, embedOpt)\n",
       "        .catch(err => showError(`Javascript Error: ${err.message}<br>This usually means there's a typo in your chart specification. See the javascript console for the full traceback.`));\n",
       "    }\n",
       "\n",
       "    if(typeof define === \"function\" && define.amd) {\n",
       "      requirejs.config({paths});\n",
       "      require([\"vega-embed\"], displayChart, err => showError(`Error loading script: ${err.message}`));\n",
       "    } else if (typeof vegaEmbed === \"function\") {\n",
       "      displayChart(vegaEmbed);\n",
       "    } else {\n",
       "      loadScript(\"vega\")\n",
       "        .then(() => loadScript(\"vega-lite\"))\n",
       "        .then(() => loadScript(\"vega-embed\"))\n",
       "        .catch(showError)\n",
       "        .then(() => displayChart(vegaEmbed));\n",
       "    }\n",
       "  })({\"config\": {\"view\": {\"continuousWidth\": 400, \"continuousHeight\": 300}, \"axis\": {\"gridOpacity\": 0.6}, \"axisX\": {\"grid\": false, \"labelFontSize\": 10, \"titleColor\": \"dimgray\", \"titleFont\": \"Helvetica Sans\", \"titleFontSize\": 16, \"titleY\": 50}, \"axisY\": {\"labelFontSize\": 10, \"labelPadding\": 10, \"titleColor\": \"dimgray\", \"titleFont\": \"Helvetica Sans\", \"titleFontSize\": 16, \"titleX\": -60}, \"legend\": {\"labelFontSize\": 12, \"title\": null}, \"title\": {\"color\": \"dimgrey\", \"dy\": -5, \"font\": \"Helvetica Sans\", \"fontSize\": 18}}, \"layer\": [{\"mark\": \"line\", \"encoding\": {\"color\": {\"type\": \"ordinal\", \"field\": \"utmSource\", \"legend\": {\"title\": \"Source\"}, \"scale\": {\"range\": [\"#d5c56f\", \"#e78c19\", \"#fa8775\", \"#ea5f94\", \"#34cda5\", \"#9d02d7\", \"#0000ff\", \"#6b9c2e\", \"#c95d1a\", \"#7e745b\", \"#91a9e7\"]}}, \"tooltip\": [{\"type\": \"ordinal\", \"field\": \"utmSource\", \"title\": \"Traffic Source\"}, {\"type\": \"quantitative\", \"field\": \"Number of Days\", \"title\": \"Number of Active Days\"}, {\"type\": \"quantitative\", \"field\": \"Perc of User Activity\", \"format\": \".2%\", \"title\": \"User Activity(%)\"}, {\"type\": \"quantitative\", \"field\": \"Daily Users of Source\", \"title\": \"Number of Users\"}], \"x\": {\"type\": \"ordinal\", \"axis\": {\"labelAngle\": 90, \"title\": \"Number of Active Days\"}, \"field\": \"Number of Days\"}, \"y\": {\"type\": \"quantitative\", \"axis\": {\"title\": \"Activity Perc\"}, \"field\": \"Perc of User Activity\", \"scale\": {\"domain\": [0.005, 0.12]}}}, \"height\": 400, \"title\": [\"Users Activty Distribution\", \"Across Traffic Sources\"], \"width\": 800}], \"data\": {\"name\": \"data-568a4403cbe6fe396c34fad5ecbf56c7\"}, \"$schema\": \"https://vega.github.io/schema/vega-lite/v4.0.0.json\", \"datasets\": {\"data-568a4403cbe6fe396c34fad5ecbf56c7\": [{\"Number of Days\": 1, \"utmSource\": \"answers\", \"Daily Users of Source\": 1161, \"Total Users\": 14979, \"Perc of User Activity\": 0.07750851191668336}, {\"Number of Days\": 1, \"utmSource\": \"biznesowe rewolucje\", \"Daily Users of Source\": 5173, \"Total Users\": 86287, \"Perc of User Activity\": 0.05995109344397186}, {\"Number of Days\": 1, \"utmSource\": \"grub street\", \"Daily Users of Source\": 64, \"Total Users\": 2431, \"Perc of User Activity\": 0.02632661456190868}, {\"Number of Days\": 1, \"utmSource\": \"handbook\", \"Daily Users of Source\": 76, \"Total Users\": 1158, \"Perc of User Activity\": 0.06563039723661486}, {\"Number of Days\": 1, \"utmSource\": \"mosalingua fr\", \"Daily Users of Source\": 402, \"Total Users\": 6345, \"Perc of User Activity\": 0.06335697399527186}, {\"Number of Days\": 1, \"utmSource\": \"other\", \"Daily Users of Source\": 322, \"Total Users\": 4417, \"Perc of User Activity\": 0.07290015847860538}, {\"Number of Days\": 1, \"utmSource\": \"program\", \"Daily Users of Source\": 850, \"Total Users\": 16493, \"Perc of User Activity\": 0.051537015703631846}, {\"Number of Days\": 1, \"utmSource\": \"salesmanago\", \"Daily Users of Source\": 37, \"Total Users\": 1122, \"Perc of User Activity\": 0.03297682709447415}, {\"Number of Days\": 1, \"utmSource\": \"shmoop\", \"Daily Users of Source\": 430, \"Total Users\": 6915, \"Perc of User Activity\": 0.06218365871294288}, {\"Number of Days\": 1, \"utmSource\": \"twitter\", \"Daily Users of Source\": 234, \"Total Users\": 5152, \"Perc of User Activity\": 0.045419254658385096}, {\"Number of Days\": 2, \"utmSource\": \"answers\", \"Daily Users of Source\": 829, \"Total Users\": 14979, \"Perc of User Activity\": 0.05534414847453101}, {\"Number of Days\": 2, \"utmSource\": \"biznesowe rewolucje\", \"Daily Users of Source\": 3605, \"Total Users\": 86287, \"Perc of User Activity\": 0.041779178787071054}, {\"Number of Days\": 2, \"utmSource\": \"grub street\", \"Daily Users of Source\": 39, \"Total Users\": 2431, \"Perc of User Activity\": 0.016042780748663103}, {\"Number of Days\": 2, \"utmSource\": \"handbook\", \"Daily Users of Source\": 51, \"Total Users\": 1158, \"Perc of User Activity\": 0.04404145077720207}, {\"Number of Days\": 2, \"utmSource\": \"mosalingua fr\", \"Daily Users of Source\": 306, \"Total Users\": 6345, \"Perc of User Activity\": 0.04822695035460993}, {\"Number of Days\": 2, \"utmSource\": \"other\", \"Daily Users of Source\": 195, \"Total Users\": 4417, \"Perc of User Activity\": 0.04414761150101879}, {\"Number of Days\": 2, \"utmSource\": \"program\", \"Daily Users of Source\": 584, \"Total Users\": 16493, \"Perc of User Activity\": 0.035408961377554116}, {\"Number of Days\": 2, \"utmSource\": \"salesmanago\", \"Daily Users of Source\": 30, \"Total Users\": 1122, \"Perc of User Activity\": 0.026737967914438502}, {\"Number of Days\": 2, \"utmSource\": \"shmoop\", \"Daily Users of Source\": 269, \"Total Users\": 6915, \"Perc of User Activity\": 0.03890093998553868}, {\"Number of Days\": 2, \"utmSource\": \"twitter\", \"Daily Users of Source\": 170, \"Total Users\": 5152, \"Perc of User Activity\": 0.03299689440993789}, {\"Number of Days\": 3, \"utmSource\": \"answers\", \"Daily Users of Source\": 619, \"Total Users\": 14979, \"Perc of User Activity\": 0.041324520996061154}, {\"Number of Days\": 3, \"utmSource\": \"biznesowe rewolucje\", \"Daily Users of Source\": 2973, \"Total Users\": 86287, \"Perc of User Activity\": 0.03445478461413654}, {\"Number of Days\": 3, \"utmSource\": \"grub street\", \"Daily Users of Source\": 53, \"Total Users\": 2431, \"Perc of User Activity\": 0.021801727684080625}, {\"Number of Days\": 3, \"utmSource\": \"handbook\", \"Daily Users of Source\": 47, \"Total Users\": 1158, \"Perc of User Activity\": 0.04058721934369603}, {\"Number of Days\": 3, \"utmSource\": \"mosalingua fr\", \"Daily Users of Source\": 204, \"Total Users\": 6345, \"Perc of User Activity\": 0.03215130023640662}, {\"Number of Days\": 3, \"utmSource\": \"other\", \"Daily Users of Source\": 160, \"Total Users\": 4417, \"Perc of User Activity\": 0.03622368123160516}, {\"Number of Days\": 3, \"utmSource\": \"program\", \"Daily Users of Source\": 508, \"Total Users\": 16493, \"Perc of User Activity\": 0.030800945855817618}, {\"Number of Days\": 3, \"utmSource\": \"salesmanago\", \"Daily Users of Source\": 19, \"Total Users\": 1122, \"Perc of User Activity\": 0.01693404634581105}, {\"Number of Days\": 3, \"utmSource\": \"shmoop\", \"Daily Users of Source\": 223, \"Total Users\": 6915, \"Perc of User Activity\": 0.03224873463485177}, {\"Number of Days\": 3, \"utmSource\": \"twitter\", \"Daily Users of Source\": 157, \"Total Users\": 5152, \"Perc of User Activity\": 0.030473602484472048}, {\"Number of Days\": 4, \"utmSource\": \"answers\", \"Daily Users of Source\": 599, \"Total Users\": 14979, \"Perc of User Activity\": 0.039989318379064026}, {\"Number of Days\": 4, \"utmSource\": \"biznesowe rewolucje\", \"Daily Users of Source\": 2757, \"Total Users\": 86287, \"Perc of User Activity\": 0.03195151065629817}, {\"Number of Days\": 4, \"utmSource\": \"grub street\", \"Daily Users of Source\": 44, \"Total Users\": 2431, \"Perc of User Activity\": 0.01809954751131222}, {\"Number of Days\": 4, \"utmSource\": \"handbook\", \"Daily Users of Source\": 38, \"Total Users\": 1158, \"Perc of User Activity\": 0.03281519861830743}, {\"Number of Days\": 4, \"utmSource\": \"mosalingua fr\", \"Daily Users of Source\": 217, \"Total Users\": 6345, \"Perc of User Activity\": 0.034200157604412924}, {\"Number of Days\": 4, \"utmSource\": \"other\", \"Daily Users of Source\": 153, \"Total Users\": 4417, \"Perc of User Activity\": 0.03463889517772244}, {\"Number of Days\": 4, \"utmSource\": \"program\", \"Daily Users of Source\": 491, \"Total Users\": 16493, \"Perc of User Activity\": 0.029770205541744983}, {\"Number of Days\": 4, \"utmSource\": \"salesmanago\", \"Daily Users of Source\": 24, \"Total Users\": 1122, \"Perc of User Activity\": 0.0213903743315508}, {\"Number of Days\": 4, \"utmSource\": \"shmoop\", \"Daily Users of Source\": 208, \"Total Users\": 6915, \"Perc of User Activity\": 0.030079537237888646}, {\"Number of Days\": 4, \"utmSource\": \"twitter\", \"Daily Users of Source\": 139, \"Total Users\": 5152, \"Perc of User Activity\": 0.026979813664596272}, {\"Number of Days\": 5, \"utmSource\": \"answers\", \"Daily Users of Source\": 563, \"Total Users\": 14979, \"Perc of User Activity\": 0.03758595366846919}, {\"Number of Days\": 5, \"utmSource\": \"biznesowe rewolucje\", \"Daily Users of Source\": 2732, \"Total Users\": 86287, \"Perc of User Activity\": 0.03166177987414095}, {\"Number of Days\": 5, \"utmSource\": \"grub street\", \"Daily Users of Source\": 37, \"Total Users\": 2431, \"Perc of User Activity\": 0.015220074043603456}, {\"Number of Days\": 5, \"utmSource\": \"handbook\", \"Daily Users of Source\": 41, \"Total Users\": 1158, \"Perc of User Activity\": 0.03540587219343696}, {\"Number of Days\": 5, \"utmSource\": \"mosalingua fr\", \"Daily Users of Source\": 218, \"Total Users\": 6345, \"Perc of User Activity\": 0.034357762017336486}, {\"Number of Days\": 5, \"utmSource\": \"other\", \"Daily Users of Source\": 151, \"Total Users\": 4417, \"Perc of User Activity\": 0.03418609916232737}, {\"Number of Days\": 5, \"utmSource\": \"program\", \"Daily Users of Source\": 463, \"Total Users\": 16493, \"Perc of User Activity\": 0.02807251561268417}, {\"Number of Days\": 5, \"utmSource\": \"salesmanago\", \"Daily Users of Source\": 35, \"Total Users\": 1122, \"Perc of User Activity\": 0.031194295900178252}, {\"Number of Days\": 5, \"utmSource\": \"shmoop\", \"Daily Users of Source\": 188, \"Total Users\": 6915, \"Perc of User Activity\": 0.027187274041937815}, {\"Number of Days\": 5, \"utmSource\": \"twitter\", \"Daily Users of Source\": 136, \"Total Users\": 5152, \"Perc of User Activity\": 0.026397515527950312}, {\"Number of Days\": 6, \"utmSource\": \"answers\", \"Daily Users of Source\": 552, \"Total Users\": 14979, \"Perc of User Activity\": 0.036851592229120766}, {\"Number of Days\": 6, \"utmSource\": \"biznesowe rewolucje\", \"Daily Users of Source\": 2673, \"Total Users\": 86287, \"Perc of User Activity\": 0.03097801522824991}, {\"Number of Days\": 6, \"utmSource\": \"grub street\", \"Daily Users of Source\": 41, \"Total Users\": 2431, \"Perc of User Activity\": 0.01686548745372275}, {\"Number of Days\": 6, \"utmSource\": \"handbook\", \"Daily Users of Source\": 31, \"Total Users\": 1158, \"Perc of User Activity\": 0.02677029360967185}, {\"Number of Days\": 6, \"utmSource\": \"mosalingua fr\", \"Daily Users of Source\": 215, \"Total Users\": 6345, \"Perc of User Activity\": 0.0338849487785658}, {\"Number of Days\": 6, \"utmSource\": \"other\", \"Daily Users of Source\": 133, \"Total Users\": 4417, \"Perc of User Activity\": 0.030110935023771792}, {\"Number of Days\": 6, \"utmSource\": \"program\", \"Daily Users of Source\": 456, \"Total Users\": 16493, \"Perc of User Activity\": 0.027648093130418966}, {\"Number of Days\": 6, \"utmSource\": \"salesmanago\", \"Daily Users of Source\": 14, \"Total Users\": 1122, \"Perc of User Activity\": 0.012477718360071301}, {\"Number of Days\": 6, \"utmSource\": \"shmoop\", \"Daily Users of Source\": 187, \"Total Users\": 6915, \"Perc of User Activity\": 0.027042660882140274}, {\"Number of Days\": 6, \"utmSource\": \"twitter\", \"Daily Users of Source\": 172, \"Total Users\": 5152, \"Perc of User Activity\": 0.033385093167701864}, {\"Number of Days\": 7, \"utmSource\": \"answers\", \"Daily Users of Source\": 534, \"Total Users\": 14979, \"Perc of User Activity\": 0.035649909873823354}, {\"Number of Days\": 7, \"utmSource\": \"biznesowe rewolucje\", \"Daily Users of Source\": 2525, \"Total Users\": 86287, \"Perc of User Activity\": 0.02926280899787917}, {\"Number of Days\": 7, \"utmSource\": \"grub street\", \"Daily Users of Source\": 44, \"Total Users\": 2431, \"Perc of User Activity\": 0.01809954751131222}, {\"Number of Days\": 7, \"utmSource\": \"handbook\", \"Daily Users of Source\": 33, \"Total Users\": 1158, \"Perc of User Activity\": 0.02849740932642487}, {\"Number of Days\": 7, \"utmSource\": \"mosalingua fr\", \"Daily Users of Source\": 196, \"Total Users\": 6345, \"Perc of User Activity\": 0.030890464933018124}, {\"Number of Days\": 7, \"utmSource\": \"other\", \"Daily Users of Source\": 137, \"Total Users\": 4417, \"Perc of User Activity\": 0.03101652705456192}, {\"Number of Days\": 7, \"utmSource\": \"program\", \"Daily Users of Source\": 409, \"Total Users\": 16493, \"Perc of User Activity\": 0.02479839932092403}, {\"Number of Days\": 7, \"utmSource\": \"salesmanago\", \"Daily Users of Source\": 28, \"Total Users\": 1122, \"Perc of User Activity\": 0.024955436720142603}, {\"Number of Days\": 7, \"utmSource\": \"shmoop\", \"Daily Users of Source\": 176, \"Total Users\": 6915, \"Perc of User Activity\": 0.025451916124367317}, {\"Number of Days\": 7, \"utmSource\": \"twitter\", \"Daily Users of Source\": 138, \"Total Users\": 5152, \"Perc of User Activity\": 0.026785714285714284}, {\"Number of Days\": 8, \"utmSource\": \"answers\", \"Daily Users of Source\": 541, \"Total Users\": 14979, \"Perc of User Activity\": 0.036117230789772345}, {\"Number of Days\": 8, \"utmSource\": \"biznesowe rewolucje\", \"Daily Users of Source\": 2468, \"Total Users\": 86287, \"Perc of User Activity\": 0.02860222281456071}, {\"Number of Days\": 8, \"utmSource\": \"grub street\", \"Daily Users of Source\": 50, \"Total Users\": 2431, \"Perc of User Activity\": 0.020567667626491155}, {\"Number of Days\": 8, \"utmSource\": \"handbook\", \"Daily Users of Source\": 32, \"Total Users\": 1158, \"Perc of User Activity\": 0.027633851468048358}, {\"Number of Days\": 8, \"utmSource\": \"mosalingua fr\", \"Daily Users of Source\": 176, \"Total Users\": 6345, \"Perc of User Activity\": 0.027738376674546886}, {\"Number of Days\": 8, \"utmSource\": \"other\", \"Daily Users of Source\": 115, \"Total Users\": 4417, \"Perc of User Activity\": 0.02603577088521621}, {\"Number of Days\": 8, \"utmSource\": \"program\", \"Daily Users of Source\": 414, \"Total Users\": 16493, \"Perc of User Activity\": 0.025101558236827744}, {\"Number of Days\": 8, \"utmSource\": \"salesmanago\", \"Daily Users of Source\": 24, \"Total Users\": 1122, \"Perc of User Activity\": 0.0213903743315508}, {\"Number of Days\": 8, \"utmSource\": \"shmoop\", \"Daily Users of Source\": 167, \"Total Users\": 6915, \"Perc of User Activity\": 0.024150397686189443}, {\"Number of Days\": 8, \"utmSource\": \"twitter\", \"Daily Users of Source\": 116, \"Total Users\": 5152, \"Perc of User Activity\": 0.02251552795031056}, {\"Number of Days\": 9, \"utmSource\": \"answers\", \"Daily Users of Source\": 515, \"Total Users\": 14979, \"Perc of User Activity\": 0.03438146738767608}, {\"Number of Days\": 9, \"utmSource\": \"biznesowe rewolucje\", \"Daily Users of Source\": 2354, \"Total Users\": 86287, \"Perc of User Activity\": 0.02728105044792379}, {\"Number of Days\": 9, \"utmSource\": \"grub street\", \"Daily Users of Source\": 51, \"Total Users\": 2431, \"Perc of User Activity\": 0.02097902097902098}, {\"Number of Days\": 9, \"utmSource\": \"handbook\", \"Daily Users of Source\": 31, \"Total Users\": 1158, \"Perc of User Activity\": 0.02677029360967185}, {\"Number of Days\": 9, \"utmSource\": \"mosalingua fr\", \"Daily Users of Source\": 218, \"Total Users\": 6345, \"Perc of User Activity\": 0.034357762017336486}, {\"Number of Days\": 9, \"utmSource\": \"other\", \"Daily Users of Source\": 138, \"Total Users\": 4417, \"Perc of User Activity\": 0.031242925062259452}, {\"Number of Days\": 9, \"utmSource\": \"program\", \"Daily Users of Source\": 405, \"Total Users\": 16493, \"Perc of User Activity\": 0.024555872188201055}, {\"Number of Days\": 9, \"utmSource\": \"salesmanago\", \"Daily Users of Source\": 31, \"Total Users\": 1122, \"Perc of User Activity\": 0.027629233511586453}, {\"Number of Days\": 9, \"utmSource\": \"shmoop\", \"Daily Users of Source\": 181, \"Total Users\": 6915, \"Perc of User Activity\": 0.026174981923355024}, {\"Number of Days\": 9, \"utmSource\": \"twitter\", \"Daily Users of Source\": 121, \"Total Users\": 5152, \"Perc of User Activity\": 0.023486024844720496}, {\"Number of Days\": 10, \"utmSource\": \"answers\", \"Daily Users of Source\": 483, \"Total Users\": 14979, \"Perc of User Activity\": 0.03224514320048067}, {\"Number of Days\": 10, \"utmSource\": \"biznesowe rewolucje\", \"Daily Users of Source\": 2336, \"Total Users\": 86287, \"Perc of User Activity\": 0.02707244428477059}, {\"Number of Days\": 10, \"utmSource\": \"grub street\", \"Daily Users of Source\": 56, \"Total Users\": 2431, \"Perc of User Activity\": 0.023035787741670095}, {\"Number of Days\": 10, \"utmSource\": \"handbook\", \"Daily Users of Source\": 35, \"Total Users\": 1158, \"Perc of User Activity\": 0.030224525043177894}, {\"Number of Days\": 10, \"utmSource\": \"mosalingua fr\", \"Daily Users of Source\": 159, \"Total Users\": 6345, \"Perc of User Activity\": 0.025059101654846337}, {\"Number of Days\": 10, \"utmSource\": \"other\", \"Daily Users of Source\": 121, \"Total Users\": 4417, \"Perc of User Activity\": 0.027394158931401402}, {\"Number of Days\": 10, \"utmSource\": \"program\", \"Daily Users of Source\": 386, \"Total Users\": 16493, \"Perc of User Activity\": 0.02340386830776693}, {\"Number of Days\": 10, \"utmSource\": \"salesmanago\", \"Daily Users of Source\": 25, \"Total Users\": 1122, \"Perc of User Activity\": 0.022281639928698752}, {\"Number of Days\": 10, \"utmSource\": \"shmoop\", \"Daily Users of Source\": 150, \"Total Users\": 6915, \"Perc of User Activity\": 0.021691973969631236}, {\"Number of Days\": 10, \"utmSource\": \"twitter\", \"Daily Users of Source\": 117, \"Total Users\": 5152, \"Perc of User Activity\": 0.022709627329192548}, {\"Number of Days\": 11, \"utmSource\": \"answers\", \"Daily Users of Source\": 492, \"Total Users\": 14979, \"Perc of User Activity\": 0.032845984378129384}, {\"Number of Days\": 11, \"utmSource\": \"biznesowe rewolucje\", \"Daily Users of Source\": 2288, \"Total Users\": 86287, \"Perc of User Activity\": 0.02651616118302873}, {\"Number of Days\": 11, \"utmSource\": \"grub street\", \"Daily Users of Source\": 48, \"Total Users\": 2431, \"Perc of User Activity\": 0.01974496092143151}, {\"Number of Days\": 11, \"utmSource\": \"handbook\", \"Daily Users of Source\": 27, \"Total Users\": 1158, \"Perc of User Activity\": 0.023316062176165803}, {\"Number of Days\": 11, \"utmSource\": \"mosalingua fr\", \"Daily Users of Source\": 180, \"Total Users\": 6345, \"Perc of User Activity\": 0.028368794326241134}, {\"Number of Days\": 11, \"utmSource\": \"other\", \"Daily Users of Source\": 134, \"Total Users\": 4417, \"Perc of User Activity\": 0.030337333031469325}, {\"Number of Days\": 11, \"utmSource\": \"program\", \"Daily Users of Source\": 403, \"Total Users\": 16493, \"Perc of User Activity\": 0.02443460862183957}, {\"Number of Days\": 11, \"utmSource\": \"salesmanago\", \"Daily Users of Source\": 23, \"Total Users\": 1122, \"Perc of User Activity\": 0.020499108734402853}, {\"Number of Days\": 11, \"utmSource\": \"shmoop\", \"Daily Users of Source\": 160, \"Total Users\": 6915, \"Perc of User Activity\": 0.023138105567606652}, {\"Number of Days\": 11, \"utmSource\": \"twitter\", \"Daily Users of Source\": 120, \"Total Users\": 5152, \"Perc of User Activity\": 0.023291925465838508}, {\"Number of Days\": 12, \"utmSource\": \"answers\", \"Daily Users of Source\": 470, \"Total Users\": 14979, \"Perc of User Activity\": 0.03137726149943254}, {\"Number of Days\": 12, \"utmSource\": \"biznesowe rewolucje\", \"Daily Users of Source\": 2443, \"Total Users\": 86287, \"Perc of User Activity\": 0.02831249203240349}, {\"Number of Days\": 12, \"utmSource\": \"grub street\", \"Daily Users of Source\": 65, \"Total Users\": 2431, \"Perc of User Activity\": 0.026737967914438502}, {\"Number of Days\": 12, \"utmSource\": \"handbook\", \"Daily Users of Source\": 27, \"Total Users\": 1158, \"Perc of User Activity\": 0.023316062176165803}, {\"Number of Days\": 12, \"utmSource\": \"mosalingua fr\", \"Daily Users of Source\": 180, \"Total Users\": 6345, \"Perc of User Activity\": 0.028368794326241134}, {\"Number of Days\": 12, \"utmSource\": \"other\", \"Daily Users of Source\": 119, \"Total Users\": 4417, \"Perc of User Activity\": 0.02694136291600634}, {\"Number of Days\": 12, \"utmSource\": \"program\", \"Daily Users of Source\": 415, \"Total Users\": 16493, \"Perc of User Activity\": 0.02516219002000849}, {\"Number of Days\": 12, \"utmSource\": \"salesmanago\", \"Daily Users of Source\": 26, \"Total Users\": 1122, \"Perc of User Activity\": 0.023172905525846704}, {\"Number of Days\": 12, \"utmSource\": \"shmoop\", \"Daily Users of Source\": 146, \"Total Users\": 6915, \"Perc of User Activity\": 0.02111352133044107}, {\"Number of Days\": 12, \"utmSource\": \"twitter\", \"Daily Users of Source\": 121, \"Total Users\": 5152, \"Perc of User Activity\": 0.023486024844720496}, {\"Number of Days\": 13, \"utmSource\": \"answers\", \"Daily Users of Source\": 452, \"Total Users\": 14979, \"Perc of User Activity\": 0.03017557914413512}, {\"Number of Days\": 13, \"utmSource\": \"biznesowe rewolucje\", \"Daily Users of Source\": 2394, \"Total Users\": 86287, \"Perc of User Activity\": 0.02774461969937534}, {\"Number of Days\": 13, \"utmSource\": \"grub street\", \"Daily Users of Source\": 71, \"Total Users\": 2431, \"Perc of User Activity\": 0.029206088029617442}, {\"Number of Days\": 13, \"utmSource\": \"handbook\", \"Daily Users of Source\": 36, \"Total Users\": 1158, \"Perc of User Activity\": 0.031088082901554404}, {\"Number of Days\": 13, \"utmSource\": \"mosalingua fr\", \"Daily Users of Source\": 169, \"Total Users\": 6345, \"Perc of User Activity\": 0.026635145784081955}, {\"Number of Days\": 13, \"utmSource\": \"other\", \"Daily Users of Source\": 145, \"Total Users\": 4417, \"Perc of User Activity\": 0.032827711116142175}, {\"Number of Days\": 13, \"utmSource\": \"program\", \"Daily Users of Source\": 492, \"Total Users\": 16493, \"Perc of User Activity\": 0.029830837324925728}, {\"Number of Days\": 13, \"utmSource\": \"salesmanago\", \"Daily Users of Source\": 28, \"Total Users\": 1122, \"Perc of User Activity\": 0.024955436720142603}, {\"Number of Days\": 13, \"utmSource\": \"shmoop\", \"Daily Users of Source\": 148, \"Total Users\": 6915, \"Perc of User Activity\": 0.021402747650036153}, {\"Number of Days\": 13, \"utmSource\": \"twitter\", \"Daily Users of Source\": 121, \"Total Users\": 5152, \"Perc of User Activity\": 0.023486024844720496}, {\"Number of Days\": 14, \"utmSource\": \"answers\", \"Daily Users of Source\": 456, \"Total Users\": 14979, \"Perc of User Activity\": 0.03044261966753455}, {\"Number of Days\": 14, \"utmSource\": \"biznesowe rewolucje\", \"Daily Users of Source\": 2576, \"Total Users\": 86287, \"Perc of User Activity\": 0.0298538597934799}, {\"Number of Days\": 14, \"utmSource\": \"grub street\", \"Daily Users of Source\": 70, \"Total Users\": 2431, \"Perc of User Activity\": 0.028794734677087618}, {\"Number of Days\": 14, \"utmSource\": \"handbook\", \"Daily Users of Source\": 41, \"Total Users\": 1158, \"Perc of User Activity\": 0.03540587219343696}, {\"Number of Days\": 14, \"utmSource\": \"mosalingua fr\", \"Daily Users of Source\": 170, \"Total Users\": 6345, \"Perc of User Activity\": 0.026792750197005517}, {\"Number of Days\": 14, \"utmSource\": \"other\", \"Daily Users of Source\": 124, \"Total Users\": 4417, \"Perc of User Activity\": 0.028073352954494}, {\"Number of Days\": 14, \"utmSource\": \"program\", \"Daily Users of Source\": 433, \"Total Users\": 16493, \"Perc of User Activity\": 0.026253562117261868}, {\"Number of Days\": 14, \"utmSource\": \"salesmanago\", \"Daily Users of Source\": 22, \"Total Users\": 1122, \"Perc of User Activity\": 0.0196078431372549}, {\"Number of Days\": 14, \"utmSource\": \"shmoop\", \"Daily Users of Source\": 137, \"Total Users\": 6915, \"Perc of User Activity\": 0.019812002892263196}, {\"Number of Days\": 14, \"utmSource\": \"twitter\", \"Daily Users of Source\": 139, \"Total Users\": 5152, \"Perc of User Activity\": 0.026979813664596272}, {\"Number of Days\": 15, \"utmSource\": \"answers\", \"Daily Users of Source\": 431, \"Total Users\": 14979, \"Perc of User Activity\": 0.028773616396288136}, {\"Number of Days\": 15, \"utmSource\": \"biznesowe rewolucje\", \"Daily Users of Source\": 2627, \"Total Users\": 86287, \"Perc of User Activity\": 0.030444910589080627}, {\"Number of Days\": 15, \"utmSource\": \"grub street\", \"Daily Users of Source\": 73, \"Total Users\": 2431, \"Perc of User Activity\": 0.030028794734677088}, {\"Number of Days\": 15, \"utmSource\": \"handbook\", \"Daily Users of Source\": 39, \"Total Users\": 1158, \"Perc of User Activity\": 0.03367875647668394}, {\"Number of Days\": 15, \"utmSource\": \"mosalingua fr\", \"Daily Users of Source\": 178, \"Total Users\": 6345, \"Perc of User Activity\": 0.02805358550039401}, {\"Number of Days\": 15, \"utmSource\": \"other\", \"Daily Users of Source\": 124, \"Total Users\": 4417, \"Perc of User Activity\": 0.028073352954494}, {\"Number of Days\": 15, \"utmSource\": \"program\", \"Daily Users of Source\": 471, \"Total Users\": 16493, \"Perc of User Activity\": 0.028557569878130115}, {\"Number of Days\": 15, \"utmSource\": \"salesmanago\", \"Daily Users of Source\": 19, \"Total Users\": 1122, \"Perc of User Activity\": 0.01693404634581105}, {\"Number of Days\": 15, \"utmSource\": \"shmoop\", \"Daily Users of Source\": 138, \"Total Users\": 6915, \"Perc of User Activity\": 0.019956616052060738}, {\"Number of Days\": 15, \"utmSource\": \"twitter\", \"Daily Users of Source\": 135, \"Total Users\": 5152, \"Perc of User Activity\": 0.026203416149068324}, {\"Number of Days\": 16, \"utmSource\": \"answers\", \"Daily Users of Source\": 420, \"Total Users\": 14979, \"Perc of User Activity\": 0.028039254956939715}, {\"Number of Days\": 16, \"utmSource\": \"biznesowe rewolucje\", \"Daily Users of Source\": 2623, \"Total Users\": 86287, \"Perc of User Activity\": 0.03039855366393547}, {\"Number of Days\": 16, \"utmSource\": \"grub street\", \"Daily Users of Source\": 78, \"Total Users\": 2431, \"Perc of User Activity\": 0.03208556149732621}, {\"Number of Days\": 16, \"utmSource\": \"handbook\", \"Daily Users of Source\": 35, \"Total Users\": 1158, \"Perc of User Activity\": 0.030224525043177894}, {\"Number of Days\": 16, \"utmSource\": \"mosalingua fr\", \"Daily Users of Source\": 185, \"Total Users\": 6345, \"Perc of User Activity\": 0.029156816390858944}, {\"Number of Days\": 16, \"utmSource\": \"other\", \"Daily Users of Source\": 130, \"Total Users\": 4417, \"Perc of User Activity\": 0.029431741000679194}, {\"Number of Days\": 16, \"utmSource\": \"program\", \"Daily Users of Source\": 466, \"Total Users\": 16493, \"Perc of User Activity\": 0.0282544109622264}, {\"Number of Days\": 16, \"utmSource\": \"salesmanago\", \"Daily Users of Source\": 31, \"Total Users\": 1122, \"Perc of User Activity\": 0.027629233511586453}, {\"Number of Days\": 16, \"utmSource\": \"shmoop\", \"Daily Users of Source\": 167, \"Total Users\": 6915, \"Perc of User Activity\": 0.024150397686189443}, {\"Number of Days\": 16, \"utmSource\": \"twitter\", \"Daily Users of Source\": 153, \"Total Users\": 5152, \"Perc of User Activity\": 0.0296972049689441}, {\"Number of Days\": 17, \"utmSource\": \"answers\", \"Daily Users of Source\": 388, \"Total Users\": 14979, \"Perc of User Activity\": 0.025902930769744308}, {\"Number of Days\": 17, \"utmSource\": \"biznesowe rewolucje\", \"Daily Users of Source\": 2793, \"Total Users\": 86287, \"Perc of User Activity\": 0.03236872298260456}, {\"Number of Days\": 17, \"utmSource\": \"grub street\", \"Daily Users of Source\": 87, \"Total Users\": 2431, \"Perc of User Activity\": 0.03578774167009461}, {\"Number of Days\": 17, \"utmSource\": \"handbook\", \"Daily Users of Source\": 42, \"Total Users\": 1158, \"Perc of User Activity\": 0.03626943005181347}, {\"Number of Days\": 17, \"utmSource\": \"mosalingua fr\", \"Daily Users of Source\": 198, \"Total Users\": 6345, \"Perc of User Activity\": 0.031205673758865248}, {\"Number of Days\": 17, \"utmSource\": \"other\", \"Daily Users of Source\": 132, \"Total Users\": 4417, \"Perc of User Activity\": 0.02988453701607426}, {\"Number of Days\": 17, \"utmSource\": \"program\", \"Daily Users of Source\": 485, \"Total Users\": 16493, \"Perc of User Activity\": 0.029406414842660523}, {\"Number of Days\": 17, \"utmSource\": \"salesmanago\", \"Daily Users of Source\": 46, \"Total Users\": 1122, \"Perc of User Activity\": 0.040998217468805706}, {\"Number of Days\": 17, \"utmSource\": \"shmoop\", \"Daily Users of Source\": 186, \"Total Users\": 6915, \"Perc of User Activity\": 0.026898047722342732}, {\"Number of Days\": 17, \"utmSource\": \"twitter\", \"Daily Users of Source\": 151, \"Total Users\": 5152, \"Perc of User Activity\": 0.029309006211180124}, {\"Number of Days\": 18, \"utmSource\": \"answers\", \"Daily Users of Source\": 451, \"Total Users\": 14979, \"Perc of User Activity\": 0.030108819013285267}, {\"Number of Days\": 18, \"utmSource\": \"biznesowe rewolucje\", \"Daily Users of Source\": 2914, \"Total Users\": 86287, \"Perc of User Activity\": 0.033771019968245504}, {\"Number of Days\": 18, \"utmSource\": \"grub street\", \"Daily Users of Source\": 77, \"Total Users\": 2431, \"Perc of User Activity\": 0.03167420814479638}, {\"Number of Days\": 18, \"utmSource\": \"handbook\", \"Daily Users of Source\": 46, \"Total Users\": 1158, \"Perc of User Activity\": 0.039723661485319514}, {\"Number of Days\": 18, \"utmSource\": \"mosalingua fr\", \"Daily Users of Source\": 190, \"Total Users\": 6345, \"Perc of User Activity\": 0.029944838455476755}, {\"Number of Days\": 18, \"utmSource\": \"other\", \"Daily Users of Source\": 123, \"Total Users\": 4417, \"Perc of User Activity\": 0.027846954946796468}, {\"Number of Days\": 18, \"utmSource\": \"program\", \"Daily Users of Source\": 533, \"Total Users\": 16493, \"Perc of User Activity\": 0.0323167404353362}, {\"Number of Days\": 18, \"utmSource\": \"salesmanago\", \"Daily Users of Source\": 38, \"Total Users\": 1122, \"Perc of User Activity\": 0.0338680926916221}, {\"Number of Days\": 18, \"utmSource\": \"shmoop\", \"Daily Users of Source\": 191, \"Total Users\": 6915, \"Perc of User Activity\": 0.02762111352133044}, {\"Number of Days\": 18, \"utmSource\": \"twitter\", \"Daily Users of Source\": 153, \"Total Users\": 5152, \"Perc of User Activity\": 0.0296972049689441}, {\"Number of Days\": 19, \"utmSource\": \"answers\", \"Daily Users of Source\": 465, \"Total Users\": 14979, \"Perc of User Activity\": 0.031043460845183255}, {\"Number of Days\": 19, \"utmSource\": \"biznesowe rewolucje\", \"Daily Users of Source\": 3129, \"Total Users\": 86287, \"Perc of User Activity\": 0.036262704694797594}, {\"Number of Days\": 19, \"utmSource\": \"grub street\", \"Daily Users of Source\": 101, \"Total Users\": 2431, \"Perc of User Activity\": 0.04154668860551213}, {\"Number of Days\": 19, \"utmSource\": \"handbook\", \"Daily Users of Source\": 37, \"Total Users\": 1158, \"Perc of User Activity\": 0.03195164075993091}, {\"Number of Days\": 19, \"utmSource\": \"mosalingua fr\", \"Daily Users of Source\": 190, \"Total Users\": 6345, \"Perc of User Activity\": 0.029944838455476755}, {\"Number of Days\": 19, \"utmSource\": \"other\", \"Daily Users of Source\": 141, \"Total Users\": 4417, \"Perc of User Activity\": 0.03192211908535205}, {\"Number of Days\": 19, \"utmSource\": \"program\", \"Daily Users of Source\": 595, \"Total Users\": 16493, \"Perc of User Activity\": 0.036075910992542294}, {\"Number of Days\": 19, \"utmSource\": \"salesmanago\", \"Daily Users of Source\": 50, \"Total Users\": 1122, \"Perc of User Activity\": 0.044563279857397504}, {\"Number of Days\": 19, \"utmSource\": \"shmoop\", \"Daily Users of Source\": 252, \"Total Users\": 6915, \"Perc of User Activity\": 0.03644251626898048}, {\"Number of Days\": 19, \"utmSource\": \"twitter\", \"Daily Users of Source\": 172, \"Total Users\": 5152, \"Perc of User Activity\": 0.033385093167701864}, {\"Number of Days\": 20, \"utmSource\": \"answers\", \"Daily Users of Source\": 452, \"Total Users\": 14979, \"Perc of User Activity\": 0.03017557914413512}, {\"Number of Days\": 20, \"utmSource\": \"biznesowe rewolucje\", \"Daily Users of Source\": 3344, \"Total Users\": 86287, \"Perc of User Activity\": 0.038754389421349685}, {\"Number of Days\": 20, \"utmSource\": \"grub street\", \"Daily Users of Source\": 102, \"Total Users\": 2431, \"Perc of User Activity\": 0.04195804195804196}, {\"Number of Days\": 20, \"utmSource\": \"handbook\", \"Daily Users of Source\": 40, \"Total Users\": 1158, \"Perc of User Activity\": 0.03454231433506045}, {\"Number of Days\": 20, \"utmSource\": \"mosalingua fr\", \"Daily Users of Source\": 213, \"Total Users\": 6345, \"Perc of User Activity\": 0.033569739952718676}, {\"Number of Days\": 20, \"utmSource\": \"other\", \"Daily Users of Source\": 162, \"Total Users\": 4417, \"Perc of User Activity\": 0.036676477247000225}, {\"Number of Days\": 20, \"utmSource\": \"program\", \"Daily Users of Source\": 627, \"Total Users\": 16493, \"Perc of User Activity\": 0.038016128054326075}, {\"Number of Days\": 20, \"utmSource\": \"salesmanago\", \"Daily Users of Source\": 47, \"Total Users\": 1122, \"Perc of User Activity\": 0.04188948306595366}, {\"Number of Days\": 20, \"utmSource\": \"shmoop\", \"Daily Users of Source\": 200, \"Total Users\": 6915, \"Perc of User Activity\": 0.028922631959508314}, {\"Number of Days\": 20, \"utmSource\": \"twitter\", \"Daily Users of Source\": 181, \"Total Users\": 5152, \"Perc of User Activity\": 0.03513198757763975}, {\"Number of Days\": 21, \"utmSource\": \"answers\", \"Daily Users of Source\": 468, \"Total Users\": 14979, \"Perc of User Activity\": 0.031243741237732825}, {\"Number of Days\": 21, \"utmSource\": \"biznesowe rewolucje\", \"Daily Users of Source\": 3387, \"Total Users\": 86287, \"Perc of User Activity\": 0.0392527263666601}, {\"Number of Days\": 21, \"utmSource\": \"grub street\", \"Daily Users of Source\": 129, \"Total Users\": 2431, \"Perc of User Activity\": 0.05306458247634718}, {\"Number of Days\": 21, \"utmSource\": \"handbook\", \"Daily Users of Source\": 45, \"Total Users\": 1158, \"Perc of User Activity\": 0.038860103626943004}, {\"Number of Days\": 21, \"utmSource\": \"mosalingua fr\", \"Daily Users of Source\": 245, \"Total Users\": 6345, \"Perc of User Activity\": 0.038613081166272656}, {\"Number of Days\": 21, \"utmSource\": \"other\", \"Daily Users of Source\": 146, \"Total Users\": 4417, \"Perc of User Activity\": 0.03305410912383971}, {\"Number of Days\": 21, \"utmSource\": \"program\", \"Daily Users of Source\": 695, \"Total Users\": 16493, \"Perc of User Activity\": 0.04213908931061663}, {\"Number of Days\": 21, \"utmSource\": \"salesmanago\", \"Daily Users of Source\": 56, \"Total Users\": 1122, \"Perc of User Activity\": 0.049910873440285206}, {\"Number of Days\": 21, \"utmSource\": \"shmoop\", \"Daily Users of Source\": 259, \"Total Users\": 6915, \"Perc of User Activity\": 0.037454808387563265}, {\"Number of Days\": 21, \"utmSource\": \"twitter\", \"Daily Users of Source\": 199, \"Total Users\": 5152, \"Perc of User Activity\": 0.03862577639751553}, {\"Number of Days\": 22, \"utmSource\": \"answers\", \"Daily Users of Source\": 466, \"Total Users\": 14979, \"Perc of User Activity\": 0.031110220976033113}, {\"Number of Days\": 22, \"utmSource\": \"biznesowe rewolucje\", \"Daily Users of Source\": 3364, \"Total Users\": 86287, \"Perc of User Activity\": 0.03898617404707546}, {\"Number of Days\": 22, \"utmSource\": \"grub street\", \"Daily Users of Source\": 112, \"Total Users\": 2431, \"Perc of User Activity\": 0.04607157548334019}, {\"Number of Days\": 22, \"utmSource\": \"handbook\", \"Daily Users of Source\": 48, \"Total Users\": 1158, \"Perc of User Activity\": 0.04145077720207254}, {\"Number of Days\": 22, \"utmSource\": \"mosalingua fr\", \"Daily Users of Source\": 226, \"Total Users\": 6345, \"Perc of User Activity\": 0.03561859732072498}, {\"Number of Days\": 22, \"utmSource\": \"other\", \"Daily Users of Source\": 156, \"Total Users\": 4417, \"Perc of User Activity\": 0.035318089200815035}, {\"Number of Days\": 22, \"utmSource\": \"program\", \"Daily Users of Source\": 612, \"Total Users\": 16493, \"Perc of User Activity\": 0.037106651306614925}, {\"Number of Days\": 22, \"utmSource\": \"salesmanago\", \"Daily Users of Source\": 46, \"Total Users\": 1122, \"Perc of User Activity\": 0.040998217468805706}, {\"Number of Days\": 22, \"utmSource\": \"shmoop\", \"Daily Users of Source\": 231, \"Total Users\": 6915, \"Perc of User Activity\": 0.0334056399132321}, {\"Number of Days\": 22, \"utmSource\": \"twitter\", \"Daily Users of Source\": 215, \"Total Users\": 5152, \"Perc of User Activity\": 0.04173136645962733}, {\"Number of Days\": 23, \"utmSource\": \"answers\", \"Daily Users of Source\": 455, \"Total Users\": 14979, \"Perc of User Activity\": 0.03037585953668469}, {\"Number of Days\": 23, \"utmSource\": \"biznesowe rewolucje\", \"Daily Users of Source\": 3434, \"Total Users\": 86287, \"Perc of User Activity\": 0.039797420237115674}, {\"Number of Days\": 23, \"utmSource\": \"grub street\", \"Daily Users of Source\": 130, \"Total Users\": 2431, \"Perc of User Activity\": 0.053475935828877004}, {\"Number of Days\": 23, \"utmSource\": \"handbook\", \"Daily Users of Source\": 27, \"Total Users\": 1158, \"Perc of User Activity\": 0.023316062176165803}, {\"Number of Days\": 23, \"utmSource\": \"mosalingua fr\", \"Daily Users of Source\": 259, \"Total Users\": 6345, \"Perc of User Activity\": 0.040819542947202525}, {\"Number of Days\": 23, \"utmSource\": \"other\", \"Daily Users of Source\": 160, \"Total Users\": 4417, \"Perc of User Activity\": 0.03622368123160516}, {\"Number of Days\": 23, \"utmSource\": \"program\", \"Daily Users of Source\": 723, \"Total Users\": 16493, \"Perc of User Activity\": 0.04383677923967744}, {\"Number of Days\": 23, \"utmSource\": \"salesmanago\", \"Daily Users of Source\": 45, \"Total Users\": 1122, \"Perc of User Activity\": 0.040106951871657755}, {\"Number of Days\": 23, \"utmSource\": \"shmoop\", \"Daily Users of Source\": 271, \"Total Users\": 6915, \"Perc of User Activity\": 0.039190166305133764}, {\"Number of Days\": 23, \"utmSource\": \"twitter\", \"Daily Users of Source\": 209, \"Total Users\": 5152, \"Perc of User Activity\": 0.0405667701863354}, {\"Number of Days\": 24, \"utmSource\": \"answers\", \"Daily Users of Source\": 450, \"Total Users\": 14979, \"Perc of User Activity\": 0.03004205888243541}, {\"Number of Days\": 24, \"utmSource\": \"biznesowe rewolucje\", \"Daily Users of Source\": 3310, \"Total Users\": 86287, \"Perc of User Activity\": 0.03836035555761586}, {\"Number of Days\": 24, \"utmSource\": \"grub street\", \"Daily Users of Source\": 141, \"Total Users\": 2431, \"Perc of User Activity\": 0.05800082270670506}, {\"Number of Days\": 24, \"utmSource\": \"handbook\", \"Daily Users of Source\": 49, \"Total Users\": 1158, \"Perc of User Activity\": 0.04231433506044905}, {\"Number of Days\": 24, \"utmSource\": \"mosalingua fr\", \"Daily Users of Source\": 244, \"Total Users\": 6345, \"Perc of User Activity\": 0.038455476753349094}, {\"Number of Days\": 24, \"utmSource\": \"other\", \"Daily Users of Source\": 168, \"Total Users\": 4417, \"Perc of User Activity\": 0.03803486529318542}, {\"Number of Days\": 24, \"utmSource\": \"program\", \"Daily Users of Source\": 715, \"Total Users\": 16493, \"Perc of User Activity\": 0.043351724974231495}, {\"Number of Days\": 24, \"utmSource\": \"salesmanago\", \"Daily Users of Source\": 48, \"Total Users\": 1122, \"Perc of User Activity\": 0.0427807486631016}, {\"Number of Days\": 24, \"utmSource\": \"shmoop\", \"Daily Users of Source\": 288, \"Total Users\": 6915, \"Perc of User Activity\": 0.041648590021691974}, {\"Number of Days\": 24, \"utmSource\": \"twitter\", \"Daily Users of Source\": 239, \"Total Users\": 5152, \"Perc of User Activity\": 0.04638975155279503}, {\"Number of Days\": 25, \"utmSource\": \"answers\", \"Daily Users of Source\": 492, \"Total Users\": 14979, \"Perc of User Activity\": 0.032845984378129384}, {\"Number of Days\": 25, \"utmSource\": \"biznesowe rewolucje\", \"Daily Users of Source\": 3348, \"Total Users\": 86287, \"Perc of User Activity\": 0.03880074634649484}, {\"Number of Days\": 25, \"utmSource\": \"grub street\", \"Daily Users of Source\": 139, \"Total Users\": 2431, \"Perc of User Activity\": 0.057178116001645414}, {\"Number of Days\": 25, \"utmSource\": \"handbook\", \"Daily Users of Source\": 39, \"Total Users\": 1158, \"Perc of User Activity\": 0.03367875647668394}, {\"Number of Days\": 25, \"utmSource\": \"mosalingua fr\", \"Daily Users of Source\": 277, \"Total Users\": 6345, \"Perc of User Activity\": 0.043656422379826636}, {\"Number of Days\": 25, \"utmSource\": \"other\", \"Daily Users of Source\": 155, \"Total Users\": 4417, \"Perc of User Activity\": 0.0350916911931175}, {\"Number of Days\": 25, \"utmSource\": \"program\", \"Daily Users of Source\": 718, \"Total Users\": 16493, \"Perc of User Activity\": 0.043533620323773725}, {\"Number of Days\": 25, \"utmSource\": \"salesmanago\", \"Daily Users of Source\": 61, \"Total Users\": 1122, \"Perc of User Activity\": 0.054367201426024955}, {\"Number of Days\": 25, \"utmSource\": \"shmoop\", \"Daily Users of Source\": 284, \"Total Users\": 6915, \"Perc of User Activity\": 0.04107013738250181}, {\"Number of Days\": 25, \"utmSource\": \"twitter\", \"Daily Users of Source\": 207, \"Total Users\": 5152, \"Perc of User Activity\": 0.04017857142857143}, {\"Number of Days\": 26, \"utmSource\": \"answers\", \"Daily Users of Source\": 459, \"Total Users\": 14979, \"Perc of User Activity\": 0.03064290006008412}, {\"Number of Days\": 26, \"utmSource\": \"biznesowe rewolucje\", \"Daily Users of Source\": 3305, \"Total Users\": 86287, \"Perc of User Activity\": 0.03830240940118442}, {\"Number of Days\": 26, \"utmSource\": \"grub street\", \"Daily Users of Source\": 167, \"Total Users\": 2431, \"Perc of User Activity\": 0.06869600987248047}, {\"Number of Days\": 26, \"utmSource\": \"handbook\", \"Daily Users of Source\": 37, \"Total Users\": 1158, \"Perc of User Activity\": 0.03195164075993091}, {\"Number of Days\": 26, \"utmSource\": \"mosalingua fr\", \"Daily Users of Source\": 230, \"Total Users\": 6345, \"Perc of User Activity\": 0.036249014972419225}, {\"Number of Days\": 26, \"utmSource\": \"other\", \"Daily Users of Source\": 160, \"Total Users\": 4417, \"Perc of User Activity\": 0.03622368123160516}, {\"Number of Days\": 26, \"utmSource\": \"program\", \"Daily Users of Source\": 724, \"Total Users\": 16493, \"Perc of User Activity\": 0.043897411022858185}, {\"Number of Days\": 26, \"utmSource\": \"salesmanago\", \"Daily Users of Source\": 45, \"Total Users\": 1122, \"Perc of User Activity\": 0.040106951871657755}, {\"Number of Days\": 26, \"utmSource\": \"shmoop\", \"Daily Users of Source\": 316, \"Total Users\": 6915, \"Perc of User Activity\": 0.04569775849602314}, {\"Number of Days\": 26, \"utmSource\": \"twitter\", \"Daily Users of Source\": 257, \"Total Users\": 5152, \"Perc of User Activity\": 0.04988354037267081}, {\"Number of Days\": 27, \"utmSource\": \"answers\", \"Daily Users of Source\": 473, \"Total Users\": 14979, \"Perc of User Activity\": 0.03157754189198211}, {\"Number of Days\": 27, \"utmSource\": \"biznesowe rewolucje\", \"Daily Users of Source\": 3358, \"Total Users\": 86287, \"Perc of User Activity\": 0.038916638659357725}, {\"Number of Days\": 27, \"utmSource\": \"grub street\", \"Daily Users of Source\": 136, \"Total Users\": 2431, \"Perc of User Activity\": 0.055944055944055944}, {\"Number of Days\": 27, \"utmSource\": \"handbook\", \"Daily Users of Source\": 40, \"Total Users\": 1158, \"Perc of User Activity\": 0.03454231433506045}, {\"Number of Days\": 27, \"utmSource\": \"mosalingua fr\", \"Daily Users of Source\": 226, \"Total Users\": 6345, \"Perc of User Activity\": 0.03561859732072498}, {\"Number of Days\": 27, \"utmSource\": \"other\", \"Daily Users of Source\": 173, \"Total Users\": 4417, \"Perc of User Activity\": 0.03916685533167308}, {\"Number of Days\": 27, \"utmSource\": \"program\", \"Daily Users of Source\": 738, \"Total Users\": 16493, \"Perc of User Activity\": 0.044746255987388586}, {\"Number of Days\": 27, \"utmSource\": \"salesmanago\", \"Daily Users of Source\": 72, \"Total Users\": 1122, \"Perc of User Activity\": 0.06417112299465241}, {\"Number of Days\": 27, \"utmSource\": \"shmoop\", \"Daily Users of Source\": 393, \"Total Users\": 6915, \"Perc of User Activity\": 0.05683297180043384}, {\"Number of Days\": 27, \"utmSource\": \"twitter\", \"Daily Users of Source\": 263, \"Total Users\": 5152, \"Perc of User Activity\": 0.051048136645962736}, {\"Number of Days\": 28, \"utmSource\": \"answers\", \"Daily Users of Source\": 461, \"Total Users\": 14979, \"Perc of User Activity\": 0.03077642032178383}, {\"Number of Days\": 28, \"utmSource\": \"biznesowe rewolucje\", \"Daily Users of Source\": 3034, \"Total Users\": 86287, \"Perc of User Activity\": 0.03516172772260016}, {\"Number of Days\": 28, \"utmSource\": \"grub street\", \"Daily Users of Source\": 131, \"Total Users\": 2431, \"Perc of User Activity\": 0.053887289181406825}, {\"Number of Days\": 28, \"utmSource\": \"handbook\", \"Daily Users of Source\": 39, \"Total Users\": 1158, \"Perc of User Activity\": 0.03367875647668394}, {\"Number of Days\": 28, \"utmSource\": \"mosalingua fr\", \"Daily Users of Source\": 248, \"Total Users\": 6345, \"Perc of User Activity\": 0.03908589440504334}, {\"Number of Days\": 28, \"utmSource\": \"other\", \"Daily Users of Source\": 182, \"Total Users\": 4417, \"Perc of User Activity\": 0.04120443740095087}, {\"Number of Days\": 28, \"utmSource\": \"program\", \"Daily Users of Source\": 804, \"Total Users\": 16493, \"Perc of User Activity\": 0.04874795367731765}, {\"Number of Days\": 28, \"utmSource\": \"salesmanago\", \"Daily Users of Source\": 67, \"Total Users\": 1122, \"Perc of User Activity\": 0.059714795008912656}, {\"Number of Days\": 28, \"utmSource\": \"shmoop\", \"Daily Users of Source\": 370, \"Total Users\": 6915, \"Perc of User Activity\": 0.05350686912509038}, {\"Number of Days\": 28, \"utmSource\": \"twitter\", \"Daily Users of Source\": 264, \"Total Users\": 5152, \"Perc of User Activity\": 0.05124223602484472}, {\"Number of Days\": 29, \"utmSource\": \"answers\", \"Daily Users of Source\": 382, \"Total Users\": 14979, \"Perc of User Activity\": 0.02550236998464517}, {\"Number of Days\": 29, \"utmSource\": \"biznesowe rewolucje\", \"Daily Users of Source\": 3020, \"Total Users\": 86287, \"Perc of User Activity\": 0.03499947848459212}, {\"Number of Days\": 29, \"utmSource\": \"grub street\", \"Daily Users of Source\": 95, \"Total Users\": 2431, \"Perc of User Activity\": 0.0390785684903332}, {\"Number of Days\": 29, \"utmSource\": \"handbook\", \"Daily Users of Source\": 49, \"Total Users\": 1158, \"Perc of User Activity\": 0.04231433506044905}, {\"Number of Days\": 29, \"utmSource\": \"mosalingua fr\", \"Daily Users of Source\": 226, \"Total Users\": 6345, \"Perc of User Activity\": 0.03561859732072498}, {\"Number of Days\": 29, \"utmSource\": \"other\", \"Daily Users of Source\": 158, \"Total Users\": 4417, \"Perc of User Activity\": 0.0357708852162101}, {\"Number of Days\": 29, \"utmSource\": \"program\", \"Daily Users of Source\": 878, \"Total Users\": 16493, \"Perc of User Activity\": 0.053234705632692655}, {\"Number of Days\": 29, \"utmSource\": \"salesmanago\", \"Daily Users of Source\": 85, \"Total Users\": 1122, \"Perc of User Activity\": 0.07575757575757576}, {\"Number of Days\": 29, \"utmSource\": \"shmoop\", \"Daily Users of Source\": 599, \"Total Users\": 6915, \"Perc of User Activity\": 0.0866232827187274}, {\"Number of Days\": 29, \"utmSource\": \"twitter\", \"Daily Users of Source\": 353, \"Total Users\": 5152, \"Perc of User Activity\": 0.06851708074534162}]}}, {\"mode\": \"vega-lite\"});\n",
       "</script>"
      ],
      "text/plain": [
       "alt.LayerChart(...)"
      ]
     },
     "execution_count": 61,
     "metadata": {},
     "output_type": "execute_result"
    }
   ],
   "source": [
    "# Create a selection that chooses the nearest point & selects based on x-value\n",
    "nearest = alt.selection(type='single', nearest=True, on='mouseover',\n",
    "                        fields=['Date'], empty='none')\n",
    "\n",
    "\n",
    "fig5 = alt.Chart(df_uniqday_alluser_persrc_top).mark_line().encode(\n",
    "    x=alt.X('Number of Days:O', axis = alt.Axis(title = 'Number of Active Days',labelAngle=90)),\n",
    "    y=alt.Y('Perc of User Activity:Q', axis = alt.Axis(title = 'Activity Perc'),scale=alt.Scale(domain=(.005,0.12))),\n",
    "    color = alt.Color(\"utmSource:O\",legend=alt.Legend(title=\"Source\"), scale=alt.Scale(range=[\"#d5c56f\",\"#e78c19\",\"#fa8775\",\"#ea5f94\",\"#34cda5\",\"#9d02d7\",\"#0000ff\",\"#6b9c2e\",\"#c95d1a\",\"#7e745b\",\"#91a9e7\"])),\n",
    "    tooltip = [alt.Tooltip('utmSource:O', title='Traffic Source'),\n",
    "               alt.Tooltip('Number of Days', title = 'Number of Active Days'),\n",
    "               alt.Tooltip('Perc of User Activity:Q', title = 'User Activity(%)',format=(\".2%\")),\n",
    "               alt.Tooltip('Daily Users of Source:Q', title = 'Number of Users')\n",
    "               ]\n",
    ").properties(\n",
    "    height= 400,\n",
    "    width = 800 ,title=[\"Users Activty Distribution\", \"Across Traffic Sources\"]\n",
    ")\n",
    "\n",
    "\n",
    "\n",
    "\n",
    "\n",
    "             \n",
    "chart_e = alt.layer(fig5\n",
    "    ).configure_title(fontSize=18,font='Helvetica Sans', color='dimgrey', dy=-5\n",
    "    ).configure_legend(labelFontSize=12, title=None\n",
    "    ).configure_axisY(labelPadding=10, titleX=-60, labelFontSize=10,titleFontSize=16, titleColor = 'dimgray', titleFont = 'Helvetica Sans' \n",
    "    ).configure_axisX(grid=False,titleY=50,titleFontSize=16, labelFontSize=10, titleColor = 'dimgray', titleFont = 'Helvetica Sans'\n",
    "    ).configure_axis(gridOpacity = 0.6\n",
    "    )\n",
    "\n",
    "\n",
    "chart_e\n"
   ]
  },
  {
   "cell_type": "code",
   "execution_count": 62,
   "metadata": {},
   "outputs": [],
   "source": [
    "chart_e.save('chart_e.html')"
   ]
  },
  {
   "cell_type": "markdown",
   "metadata": {},
   "source": [
    "### 3 - 2 Users Analysis"
   ]
  },
  {
   "cell_type": "code",
   "execution_count": 63,
   "metadata": {},
   "outputs": [
    {
     "name": "stdout",
     "output_type": "stream",
     "text": [
      "Number of unique users in February 2016: 246840\n",
      "Number of unique Registered users in Feb 2016: 180009\n",
      "Number of unique NoN Registered users in Feb 2016: 66831\n"
     ]
    }
   ],
   "source": [
    "# Some User Main Data\n",
    "print (\"Number of unique users in February 2016:\", df_cl['uid'].nunique())\n",
    "print (\"Number of unique Registered users in Feb 2016:\", df_cl[df_cl['isRegistered'] == \"Registered\"]['uid'].nunique())\n",
    "print (\"Number of unique NoN Registered users in Feb 2016:\", df_cl[df_cl['isRegistered'] == \"Non Registered\"]['uid'].nunique())"
   ]
  },
  {
   "cell_type": "markdown",
   "metadata": {},
   "source": [
    "In order to analysis the best and worst users, certain metrics should be defined. Again thiese metrics may vary business to business and based on the major goals of the buinses. For the sake of the project, I am defining metrics based on my insight and perception.  "
   ]
  },
  {
   "cell_type": "code",
   "execution_count": 64,
   "metadata": {},
   "outputs": [],
   "source": [
    "# Top Users\n",
    "\n",
    "df_cl_top_user = df_cl.groupby('uid').count().sort_values(by='timestamp',ascending=False)"
   ]
  },
  {
   "cell_type": "code",
   "execution_count": 65,
   "metadata": {},
   "outputs": [
    {
     "data": {
      "text/html": [
       "<div>\n",
       "<style scoped>\n",
       "    .dataframe tbody tr th:only-of-type {\n",
       "        vertical-align: middle;\n",
       "    }\n",
       "\n",
       "    .dataframe tbody tr th {\n",
       "        vertical-align: top;\n",
       "    }\n",
       "\n",
       "    .dataframe thead th {\n",
       "        text-align: right;\n",
       "    }\n",
       "</style>\n",
       "<table border=\"1\" class=\"dataframe\">\n",
       "  <thead>\n",
       "    <tr style=\"text-align: right;\">\n",
       "      <th></th>\n",
       "      <th>date</th>\n",
       "      <th>timestamp</th>\n",
       "      <th>isFirst</th>\n",
       "      <th>utmSource</th>\n",
       "      <th>isRegistered</th>\n",
       "    </tr>\n",
       "  </thead>\n",
       "  <tbody>\n",
       "    <tr>\n",
       "      <th>count</th>\n",
       "      <td>246840.000000</td>\n",
       "      <td>246840.000000</td>\n",
       "      <td>246840.000000</td>\n",
       "      <td>246840.000000</td>\n",
       "      <td>246840.000000</td>\n",
       "    </tr>\n",
       "    <tr>\n",
       "      <th>mean</th>\n",
       "      <td>19.486530</td>\n",
       "      <td>19.486530</td>\n",
       "      <td>19.486530</td>\n",
       "      <td>19.486530</td>\n",
       "      <td>19.486530</td>\n",
       "    </tr>\n",
       "    <tr>\n",
       "      <th>std</th>\n",
       "      <td>32.045012</td>\n",
       "      <td>32.045012</td>\n",
       "      <td>32.045012</td>\n",
       "      <td>32.045012</td>\n",
       "      <td>32.045012</td>\n",
       "    </tr>\n",
       "    <tr>\n",
       "      <th>min</th>\n",
       "      <td>1.000000</td>\n",
       "      <td>1.000000</td>\n",
       "      <td>1.000000</td>\n",
       "      <td>1.000000</td>\n",
       "      <td>1.000000</td>\n",
       "    </tr>\n",
       "    <tr>\n",
       "      <th>5%</th>\n",
       "      <td>2.000000</td>\n",
       "      <td>2.000000</td>\n",
       "      <td>2.000000</td>\n",
       "      <td>2.000000</td>\n",
       "      <td>2.000000</td>\n",
       "    </tr>\n",
       "    <tr>\n",
       "      <th>10%</th>\n",
       "      <td>3.000000</td>\n",
       "      <td>3.000000</td>\n",
       "      <td>3.000000</td>\n",
       "      <td>3.000000</td>\n",
       "      <td>3.000000</td>\n",
       "    </tr>\n",
       "    <tr>\n",
       "      <th>25%</th>\n",
       "      <td>7.000000</td>\n",
       "      <td>7.000000</td>\n",
       "      <td>7.000000</td>\n",
       "      <td>7.000000</td>\n",
       "      <td>7.000000</td>\n",
       "    </tr>\n",
       "    <tr>\n",
       "      <th>50%</th>\n",
       "      <td>17.000000</td>\n",
       "      <td>17.000000</td>\n",
       "      <td>17.000000</td>\n",
       "      <td>17.000000</td>\n",
       "      <td>17.000000</td>\n",
       "    </tr>\n",
       "    <tr>\n",
       "      <th>75%</th>\n",
       "      <td>26.000000</td>\n",
       "      <td>26.000000</td>\n",
       "      <td>26.000000</td>\n",
       "      <td>26.000000</td>\n",
       "      <td>26.000000</td>\n",
       "    </tr>\n",
       "    <tr>\n",
       "      <th>90%</th>\n",
       "      <td>33.000000</td>\n",
       "      <td>33.000000</td>\n",
       "      <td>33.000000</td>\n",
       "      <td>33.000000</td>\n",
       "      <td>33.000000</td>\n",
       "    </tr>\n",
       "    <tr>\n",
       "      <th>99%</th>\n",
       "      <td>82.000000</td>\n",
       "      <td>82.000000</td>\n",
       "      <td>82.000000</td>\n",
       "      <td>82.000000</td>\n",
       "      <td>82.000000</td>\n",
       "    </tr>\n",
       "    <tr>\n",
       "      <th>max</th>\n",
       "      <td>2807.000000</td>\n",
       "      <td>2807.000000</td>\n",
       "      <td>2807.000000</td>\n",
       "      <td>2807.000000</td>\n",
       "      <td>2807.000000</td>\n",
       "    </tr>\n",
       "  </tbody>\n",
       "</table>\n",
       "</div>"
      ],
      "text/plain": [
       "                date      timestamp        isFirst      utmSource  \\\n",
       "count  246840.000000  246840.000000  246840.000000  246840.000000   \n",
       "mean       19.486530      19.486530      19.486530      19.486530   \n",
       "std        32.045012      32.045012      32.045012      32.045012   \n",
       "min         1.000000       1.000000       1.000000       1.000000   \n",
       "5%          2.000000       2.000000       2.000000       2.000000   \n",
       "10%         3.000000       3.000000       3.000000       3.000000   \n",
       "25%         7.000000       7.000000       7.000000       7.000000   \n",
       "50%        17.000000      17.000000      17.000000      17.000000   \n",
       "75%        26.000000      26.000000      26.000000      26.000000   \n",
       "90%        33.000000      33.000000      33.000000      33.000000   \n",
       "99%        82.000000      82.000000      82.000000      82.000000   \n",
       "max      2807.000000    2807.000000    2807.000000    2807.000000   \n",
       "\n",
       "        isRegistered  \n",
       "count  246840.000000  \n",
       "mean       19.486530  \n",
       "std        32.045012  \n",
       "min         1.000000  \n",
       "5%          2.000000  \n",
       "10%         3.000000  \n",
       "25%         7.000000  \n",
       "50%        17.000000  \n",
       "75%        26.000000  \n",
       "90%        33.000000  \n",
       "99%        82.000000  \n",
       "max      2807.000000  "
      ]
     },
     "execution_count": 65,
     "metadata": {},
     "output_type": "execute_result"
    }
   ],
   "source": [
    "df_cl_top_user.describe(percentiles = [.05,.1,.25,.5,.75,.9,.99])"
   ]
  },
  {
   "cell_type": "markdown",
   "metadata": {},
   "source": [
    "### 3 - 2 - 1  Average Daily Ping "
   ]
  },
  {
   "cell_type": "markdown",
   "metadata": {},
   "source": [
    "\"Average Daily Ping\" can be a good metric. This shows to what extent each user is involved to our business. \n",
    "\n",
    "In order to calculate this metric, I need to group the df per day and user id and count the occurence (timestamp can be used to count the occuerenc). Then the output df should be grouped per user id and calculate the mean based on the total days.  "
   ]
  },
  {
   "cell_type": "markdown",
   "metadata": {},
   "source": [
    "##### Top Users -> Including NA Source"
   ]
  },
  {
   "cell_type": "code",
   "execution_count": 66,
   "metadata": {},
   "outputs": [],
   "source": [
    "# Grouping the df into [id,date] and count the occurence\n",
    "\n",
    "df_cl_grp_user_day = df_cl.groupby(['uid','date'])['timestamp'].count().reset_index()"
   ]
  },
  {
   "cell_type": "code",
   "execution_count": 67,
   "metadata": {},
   "outputs": [],
   "source": [
    "# Group the output df per user id and calculate the average \n",
    "\n",
    "df_avgdaily_ping = df_cl_grp_user_day.groupby(['uid']).mean().reset_index()"
   ]
  },
  {
   "cell_type": "code",
   "execution_count": 68,
   "metadata": {},
   "outputs": [
    {
     "data": {
      "text/html": [
       "<div>\n",
       "<style scoped>\n",
       "    .dataframe tbody tr th:only-of-type {\n",
       "        vertical-align: middle;\n",
       "    }\n",
       "\n",
       "    .dataframe tbody tr th {\n",
       "        vertical-align: top;\n",
       "    }\n",
       "\n",
       "    .dataframe thead th {\n",
       "        text-align: right;\n",
       "    }\n",
       "</style>\n",
       "<table border=\"1\" class=\"dataframe\">\n",
       "  <thead>\n",
       "    <tr style=\"text-align: right;\">\n",
       "      <th></th>\n",
       "      <th>timestamp</th>\n",
       "    </tr>\n",
       "  </thead>\n",
       "  <tbody>\n",
       "    <tr>\n",
       "      <th>count</th>\n",
       "      <td>246840.000000</td>\n",
       "    </tr>\n",
       "    <tr>\n",
       "      <th>mean</th>\n",
       "      <td>1.716204</td>\n",
       "    </tr>\n",
       "    <tr>\n",
       "      <th>std</th>\n",
       "      <td>3.683295</td>\n",
       "    </tr>\n",
       "    <tr>\n",
       "      <th>min</th>\n",
       "      <td>1.000000</td>\n",
       "    </tr>\n",
       "    <tr>\n",
       "      <th>5%</th>\n",
       "      <td>1.000000</td>\n",
       "    </tr>\n",
       "    <tr>\n",
       "      <th>10%</th>\n",
       "      <td>1.000000</td>\n",
       "    </tr>\n",
       "    <tr>\n",
       "      <th>25%</th>\n",
       "      <td>1.000000</td>\n",
       "    </tr>\n",
       "    <tr>\n",
       "      <th>50%</th>\n",
       "      <td>1.200000</td>\n",
       "    </tr>\n",
       "    <tr>\n",
       "      <th>75%</th>\n",
       "      <td>1.750000</td>\n",
       "    </tr>\n",
       "    <tr>\n",
       "      <th>90%</th>\n",
       "      <td>2.500000</td>\n",
       "    </tr>\n",
       "    <tr>\n",
       "      <th>99.5%</th>\n",
       "      <td>15.000000</td>\n",
       "    </tr>\n",
       "    <tr>\n",
       "      <th>max</th>\n",
       "      <td>482.000000</td>\n",
       "    </tr>\n",
       "  </tbody>\n",
       "</table>\n",
       "</div>"
      ],
      "text/plain": [
       "           timestamp\n",
       "count  246840.000000\n",
       "mean        1.716204\n",
       "std         3.683295\n",
       "min         1.000000\n",
       "5%          1.000000\n",
       "10%         1.000000\n",
       "25%         1.000000\n",
       "50%         1.200000\n",
       "75%         1.750000\n",
       "90%         2.500000\n",
       "99.5%      15.000000\n",
       "max       482.000000"
      ]
     },
     "execution_count": 68,
     "metadata": {},
     "output_type": "execute_result"
    }
   ],
   "source": [
    "df_avgdaily_ping.describe(percentiles = [.05,.1,.25,.5,.75,.9,.995])"
   ]
  },
  {
   "cell_type": "markdown",
   "metadata": {},
   "source": [
    "So let's dig more into **top 1000 (~0.4%)*** users.  "
   ]
  },
  {
   "cell_type": "code",
   "execution_count": 69,
   "metadata": {},
   "outputs": [],
   "source": [
    "# Seperate top 1000 users based on average daily ping\n",
    "\n",
    "df_avgdaily_ping_top1000 = df_avgdaily_ping.sort_values(by='timestamp',ascending=False).iloc[:1000]\n",
    "\n",
    "# List of top 1000 users\n",
    "top_users = df_avgdaily_ping_top1000['uid'].tolist()\n",
    "\n",
    "# DF of top 1000 users \n",
    "df_top_users = df_cl[df_cl['uid'].isin(top_users)]"
   ]
  },
  {
   "cell_type": "code",
   "execution_count": 70,
   "metadata": {},
   "outputs": [
    {
     "data": {
      "text/html": [
       "<div>\n",
       "<style scoped>\n",
       "    .dataframe tbody tr th:only-of-type {\n",
       "        vertical-align: middle;\n",
       "    }\n",
       "\n",
       "    .dataframe tbody tr th {\n",
       "        vertical-align: top;\n",
       "    }\n",
       "\n",
       "    .dataframe thead th {\n",
       "        text-align: right;\n",
       "    }\n",
       "</style>\n",
       "<table border=\"1\" class=\"dataframe\">\n",
       "  <thead>\n",
       "    <tr style=\"text-align: right;\">\n",
       "      <th></th>\n",
       "      <th>date</th>\n",
       "      <th>timestamp</th>\n",
       "      <th>uid</th>\n",
       "      <th>isFirst</th>\n",
       "      <th>utmSource</th>\n",
       "      <th>isRegistered</th>\n",
       "    </tr>\n",
       "  </thead>\n",
       "  <tbody>\n",
       "    <tr>\n",
       "      <th>count</th>\n",
       "      <td>245646</td>\n",
       "      <td>245646</td>\n",
       "      <td>245646</td>\n",
       "      <td>245646</td>\n",
       "      <td>245646</td>\n",
       "      <td>245646</td>\n",
       "    </tr>\n",
       "    <tr>\n",
       "      <th>unique</th>\n",
       "      <td>29</td>\n",
       "      <td>245637</td>\n",
       "      <td>1000</td>\n",
       "      <td>2</td>\n",
       "      <td>14</td>\n",
       "      <td>2</td>\n",
       "    </tr>\n",
       "    <tr>\n",
       "      <th>top</th>\n",
       "      <td>2016-02-16 00:00:00</td>\n",
       "      <td>2016-02-27 02:03:22.817000</td>\n",
       "      <td>vwLJO2uDWrXr</td>\n",
       "      <td>False</td>\n",
       "      <td>na</td>\n",
       "      <td>Non Registered</td>\n",
       "    </tr>\n",
       "    <tr>\n",
       "      <th>freq</th>\n",
       "      <td>10326</td>\n",
       "      <td>2</td>\n",
       "      <td>2807</td>\n",
       "      <td>244939</td>\n",
       "      <td>159882</td>\n",
       "      <td>232812</td>\n",
       "    </tr>\n",
       "    <tr>\n",
       "      <th>first</th>\n",
       "      <td>2016-02-01 00:00:00</td>\n",
       "      <td>2016-02-01 08:00:14.860000</td>\n",
       "      <td>NaN</td>\n",
       "      <td>NaN</td>\n",
       "      <td>NaN</td>\n",
       "      <td>NaN</td>\n",
       "    </tr>\n",
       "    <tr>\n",
       "      <th>last</th>\n",
       "      <td>2016-02-29 00:00:00</td>\n",
       "      <td>2016-03-01 07:59:55.129000</td>\n",
       "      <td>NaN</td>\n",
       "      <td>NaN</td>\n",
       "      <td>NaN</td>\n",
       "      <td>NaN</td>\n",
       "    </tr>\n",
       "  </tbody>\n",
       "</table>\n",
       "</div>"
      ],
      "text/plain": [
       "                       date                   timestamp           uid isFirst  \\\n",
       "count                245646                      245646        245646  245646   \n",
       "unique                   29                      245637          1000       2   \n",
       "top     2016-02-16 00:00:00  2016-02-27 02:03:22.817000  vwLJO2uDWrXr   False   \n",
       "freq                  10326                           2          2807  244939   \n",
       "first   2016-02-01 00:00:00  2016-02-01 08:00:14.860000           NaN     NaN   \n",
       "last    2016-02-29 00:00:00  2016-03-01 07:59:55.129000           NaN     NaN   \n",
       "\n",
       "       utmSource    isRegistered  \n",
       "count     245646          245646  \n",
       "unique        14               2  \n",
       "top           na  Non Registered  \n",
       "freq      159882          232812  \n",
       "first        NaN             NaN  \n",
       "last         NaN             NaN  "
      ]
     },
     "execution_count": 70,
     "metadata": {},
     "output_type": "execute_result"
    }
   ],
   "source": [
    "df_top_users.describe()"
   ]
  },
  {
   "cell_type": "code",
   "execution_count": 71,
   "metadata": {},
   "outputs": [],
   "source": [
    "df_top_users_grp_usr = df_top_users.groupby(['uid'])['utmSource'].nunique().reset_index()"
   ]
  },
  {
   "cell_type": "code",
   "execution_count": 72,
   "metadata": {},
   "outputs": [
    {
     "name": "stdout",
     "output_type": "stream",
     "text": [
      "The number of multi sources of top 1000 users: 2\n"
     ]
    }
   ],
   "source": [
    "mlt_src_top_users = df_top_users_grp_usr[df_top_users_grp_usr['utmSource'] > 1]['uid'].tolist()\n",
    "print (\"The number of multi sources of top 1000 users:\", len(mlt_src_top_users))"
   ]
  },
  {
   "cell_type": "markdown",
   "metadata": {},
   "source": [
    "There are just **2 (0.2%)** top users that have more than one sources. So we can simply remove them.  "
   ]
  },
  {
   "cell_type": "code",
   "execution_count": 73,
   "metadata": {},
   "outputs": [],
   "source": [
    "# Remove 2 users that have more than one source\n",
    "\n",
    "df_top_users = df_top_users[~df_top_users['uid'].isin(mlt_src_top_users)] "
   ]
  },
  {
   "cell_type": "code",
   "execution_count": 74,
   "metadata": {},
   "outputs": [
    {
     "data": {
      "text/html": [
       "<div>\n",
       "<style scoped>\n",
       "    .dataframe tbody tr th:only-of-type {\n",
       "        vertical-align: middle;\n",
       "    }\n",
       "\n",
       "    .dataframe tbody tr th {\n",
       "        vertical-align: top;\n",
       "    }\n",
       "\n",
       "    .dataframe thead th {\n",
       "        text-align: right;\n",
       "    }\n",
       "</style>\n",
       "<table border=\"1\" class=\"dataframe\">\n",
       "  <thead>\n",
       "    <tr style=\"text-align: right;\">\n",
       "      <th></th>\n",
       "      <th>date</th>\n",
       "      <th>timestamp</th>\n",
       "      <th>uid</th>\n",
       "      <th>isFirst</th>\n",
       "      <th>utmSource</th>\n",
       "      <th>isRegistered</th>\n",
       "    </tr>\n",
       "  </thead>\n",
       "  <tbody>\n",
       "    <tr>\n",
       "      <th>28</th>\n",
       "      <td>2016-02-01</td>\n",
       "      <td>2016-02-01 08:00:14.860</td>\n",
       "      <td>9Lfb2Zkyi8Ps</td>\n",
       "      <td>False</td>\n",
       "      <td>na</td>\n",
       "      <td>Non Registered</td>\n",
       "    </tr>\n",
       "    <tr>\n",
       "      <th>41</th>\n",
       "      <td>2016-02-01</td>\n",
       "      <td>2016-02-01 08:00:22.370</td>\n",
       "      <td>eGK6mbHzvwRD</td>\n",
       "      <td>False</td>\n",
       "      <td>na</td>\n",
       "      <td>Non Registered</td>\n",
       "    </tr>\n",
       "    <tr>\n",
       "      <th>75</th>\n",
       "      <td>2016-02-01</td>\n",
       "      <td>2016-02-01 08:00:49.726</td>\n",
       "      <td>aQPgQRgPH6b8</td>\n",
       "      <td>False</td>\n",
       "      <td>na</td>\n",
       "      <td>Non Registered</td>\n",
       "    </tr>\n",
       "    <tr>\n",
       "      <th>312</th>\n",
       "      <td>2016-02-01</td>\n",
       "      <td>2016-02-01 08:03:46.679</td>\n",
       "      <td>Mtq6cVxORH7P</td>\n",
       "      <td>False</td>\n",
       "      <td>na</td>\n",
       "      <td>Non Registered</td>\n",
       "    </tr>\n",
       "    <tr>\n",
       "      <th>390</th>\n",
       "      <td>2016-02-01</td>\n",
       "      <td>2016-02-01 08:04:40.326</td>\n",
       "      <td>saJJ9pkcq4Rb</td>\n",
       "      <td>False</td>\n",
       "      <td>contenthub</td>\n",
       "      <td>Non Registered</td>\n",
       "    </tr>\n",
       "  </tbody>\n",
       "</table>\n",
       "</div>"
      ],
      "text/plain": [
       "          date               timestamp           uid  isFirst   utmSource  \\\n",
       "28  2016-02-01 2016-02-01 08:00:14.860  9Lfb2Zkyi8Ps    False          na   \n",
       "41  2016-02-01 2016-02-01 08:00:22.370  eGK6mbHzvwRD    False          na   \n",
       "75  2016-02-01 2016-02-01 08:00:49.726  aQPgQRgPH6b8    False          na   \n",
       "312 2016-02-01 2016-02-01 08:03:46.679  Mtq6cVxORH7P    False          na   \n",
       "390 2016-02-01 2016-02-01 08:04:40.326  saJJ9pkcq4Rb    False  contenthub   \n",
       "\n",
       "       isRegistered  \n",
       "28   Non Registered  \n",
       "41   Non Registered  \n",
       "75   Non Registered  \n",
       "312  Non Registered  \n",
       "390  Non Registered  "
      ]
     },
     "execution_count": 74,
     "metadata": {},
     "output_type": "execute_result"
    }
   ],
   "source": [
    "df_top_users_unq = df_top_users.loc[~df_top_users.duplicated(subset=['uid']),:]\n",
    "df_top_users_unq.head()"
   ]
  },
  {
   "cell_type": "code",
   "execution_count": 75,
   "metadata": {
    "scrolled": false
   },
   "outputs": [
    {
     "data": {
      "text/html": [
       "\n",
       "<div id=\"altair-viz-7\"></div>\n",
       "<script type=\"text/javascript\">\n",
       "  (function(spec, embedOpt){\n",
       "    const outputDiv = document.getElementById(\"altair-viz-7\");\n",
       "    const paths = {\n",
       "      \"vega\": \"https://cdn.jsdelivr.net/npm//vega@5?noext\",\n",
       "      \"vega-lib\": \"https://cdn.jsdelivr.net/npm//vega-lib?noext\",\n",
       "      \"vega-lite\": \"https://cdn.jsdelivr.net/npm//vega-lite@4.0.0?noext\",\n",
       "      \"vega-embed\": \"https://cdn.jsdelivr.net/npm//vega-embed@6?noext\",\n",
       "    };\n",
       "\n",
       "    function loadScript(lib) {\n",
       "      return new Promise(function(resolve, reject) {\n",
       "        var s = document.createElement('script');\n",
       "        s.src = paths[lib];\n",
       "        s.async = true;\n",
       "        s.onload = () => resolve(paths[lib]);\n",
       "        s.onerror = () => reject(`Error loading script: ${paths[lib]}`);\n",
       "        document.getElementsByTagName(\"head\")[0].appendChild(s);\n",
       "      });\n",
       "    }\n",
       "\n",
       "    function showError(err) {\n",
       "      outputDiv.innerHTML = `<div class=\"error\" style=\"color:red;\">${err}</div>`;\n",
       "      throw err;\n",
       "    }\n",
       "\n",
       "    function displayChart(vegaEmbed) {\n",
       "      vegaEmbed(outputDiv, spec, embedOpt)\n",
       "        .catch(err => showError(`Javascript Error: ${err.message}<br>This usually means there's a typo in your chart specification. See the javascript console for the full traceback.`));\n",
       "    }\n",
       "\n",
       "    if(typeof define === \"function\" && define.amd) {\n",
       "      requirejs.config({paths});\n",
       "      require([\"vega-embed\"], displayChart, err => showError(`Error loading script: ${err.message}`));\n",
       "    } else if (typeof vegaEmbed === \"function\") {\n",
       "      displayChart(vegaEmbed);\n",
       "    } else {\n",
       "      loadScript(\"vega\")\n",
       "        .then(() => loadScript(\"vega-lite\"))\n",
       "        .then(() => loadScript(\"vega-embed\"))\n",
       "        .catch(showError)\n",
       "        .then(() => displayChart(vegaEmbed));\n",
       "    }\n",
       "  })({\"config\": {\"view\": {\"continuousWidth\": 400, \"continuousHeight\": 300}, \"axis\": {\"gridOpacity\": 0.6}, \"axisX\": {\"grid\": false, \"labelFontSize\": 10, \"titleColor\": \"dimgray\", \"titleFont\": \"Helvetica Sans\", \"titleFontSize\": 12, \"titleY\": 80}, \"axisY\": {\"labelFontSize\": 10, \"labelPadding\": 5, \"titleColor\": \"dimgray\", \"titleFont\": \"Helvetica Sans\", \"titleFontSize\": 12, \"titleX\": -50}, \"legend\": {\"labelFontSize\": 12, \"titleColor\": \"dimgray\"}, \"title\": {\"color\": \"dimgrey\", \"dy\": -5, \"font\": \"Helvetica Sans\", \"fontSize\": 14}}, \"layer\": [{\"mark\": {\"type\": \"bar\", \"size\": 10}, \"encoding\": {\"color\": {\"type\": \"ordinal\", \"field\": \"utmSource\", \"legend\": {\"title\": \"Source\"}, \"scale\": {\"range\": [\"#d5c56f\", \"#e78c19\", \"#fa8775\", \"#ea5f94\", \"#34cda5\", \"#9d02d7\", \"#0000ff\", \"#6b9c2e\", \"#c95d1a\", \"#7e745b\", \"#91a9e7\", \"#929482\", \"#e81515\", \"#27a18e\"]}}, \"tooltip\": [{\"type\": \"nominal\", \"field\": \"utmSource\", \"title\": \"Source\"}, {\"type\": \"quantitative\", \"aggregate\": \"count\", \"field\": \"utmSource\", \"title\": \"Total Users\"}], \"x\": {\"type\": \"ordinal\", \"axis\": {\"labelAngle\": 90, \"title\": \"Traffic Source\"}, \"field\": \"utmSource\"}, \"y\": {\"type\": \"quantitative\", \"aggregate\": \"count\", \"axis\": {\"title\": \"Number of Top Users\"}, \"field\": \"utmSource\"}}, \"height\": 420, \"title\": [\"Sources of Top 1000 Users\", \"February 2016\"], \"width\": 400}], \"data\": {\"name\": \"data-7a895f3d0709ef4e17574abe2a6dd1cf\"}, \"$schema\": \"https://vega.github.io/schema/vega-lite/v4.0.0.json\", \"datasets\": {\"data-7a895f3d0709ef4e17574abe2a6dd1cf\": [{\"date\": \"2016-02-01T00:00:00\", \"timestamp\": \"2016-02-01T08:00:14.860000\", \"uid\": \"9Lfb2Zkyi8Ps\", \"isFirst\": false, \"utmSource\": \"na\", \"isRegistered\": \"Non Registered\"}, {\"date\": \"2016-02-01T00:00:00\", \"timestamp\": \"2016-02-01T08:00:22.370000\", \"uid\": \"eGK6mbHzvwRD\", \"isFirst\": false, \"utmSource\": \"na\", \"isRegistered\": \"Non Registered\"}, {\"date\": \"2016-02-01T00:00:00\", \"timestamp\": \"2016-02-01T08:00:49.726000\", \"uid\": \"aQPgQRgPH6b8\", \"isFirst\": false, \"utmSource\": \"na\", \"isRegistered\": \"Non Registered\"}, {\"date\": \"2016-02-01T00:00:00\", \"timestamp\": \"2016-02-01T08:03:46.679000\", \"uid\": \"Mtq6cVxORH7P\", \"isFirst\": false, \"utmSource\": \"na\", \"isRegistered\": \"Non Registered\"}, {\"date\": \"2016-02-01T00:00:00\", \"timestamp\": \"2016-02-01T08:04:40.326000\", \"uid\": \"saJJ9pkcq4Rb\", \"isFirst\": false, \"utmSource\": \"contenthub\", \"isRegistered\": \"Non Registered\"}, {\"date\": \"2016-02-01T00:00:00\", \"timestamp\": \"2016-02-01T08:04:49.257000\", \"uid\": \"6RT3EMGn2lmi\", \"isFirst\": false, \"utmSource\": \"na\", \"isRegistered\": \"Non Registered\"}, {\"date\": \"2016-02-01T00:00:00\", \"timestamp\": \"2016-02-01T08:05:15.355000\", \"uid\": \"6czvl2B5gLTj\", \"isFirst\": false, \"utmSource\": \"na\", \"isRegistered\": \"Non Registered\"}, {\"date\": \"2016-02-01T00:00:00\", \"timestamp\": \"2016-02-01T08:07:20.508000\", \"uid\": \"vWhVvW7jdm1N\", \"isFirst\": false, \"utmSource\": \"na\", \"isRegistered\": \"Non Registered\"}, {\"date\": \"2016-02-01T00:00:00\", \"timestamp\": \"2016-02-01T08:07:35.234000\", \"uid\": \"CoQXczcypLf6\", \"isFirst\": false, \"utmSource\": \"na\", \"isRegistered\": \"Non Registered\"}, {\"date\": \"2016-02-01T00:00:00\", \"timestamp\": \"2016-02-01T08:08:16.353000\", \"uid\": \"Kj860KMhEZkg\", \"isFirst\": false, \"utmSource\": \"na\", \"isRegistered\": \"Non Registered\"}, {\"date\": \"2016-02-01T00:00:00\", \"timestamp\": \"2016-02-01T08:09:01.993000\", \"uid\": \"xJeBFa6Wzy7H\", \"isFirst\": false, \"utmSource\": \"na\", \"isRegistered\": \"Non Registered\"}, {\"date\": \"2016-02-01T00:00:00\", \"timestamp\": \"2016-02-01T08:09:37.042000\", \"uid\": \"rN6LJTYjmQdb\", \"isFirst\": false, \"utmSource\": \"biznesowe rewolucje\", \"isRegistered\": \"Non Registered\"}, {\"date\": \"2016-02-01T00:00:00\", \"timestamp\": \"2016-02-01T08:09:41.907000\", \"uid\": \"dKBpvNPdePw5\", \"isFirst\": false, \"utmSource\": \"na\", \"isRegistered\": \"Non Registered\"}, {\"date\": \"2016-02-01T00:00:00\", \"timestamp\": \"2016-02-01T08:12:02.286000\", \"uid\": \"abqfdbBTwlcv\", \"isFirst\": false, \"utmSource\": \"na\", \"isRegistered\": \"Non Registered\"}, {\"date\": \"2016-02-01T00:00:00\", \"timestamp\": \"2016-02-01T08:12:41.471000\", \"uid\": \"EJihOVKqyQXv\", \"isFirst\": false, \"utmSource\": \"other\", \"isRegistered\": \"Non Registered\"}, {\"date\": \"2016-02-01T00:00:00\", \"timestamp\": \"2016-02-01T08:12:47.504000\", \"uid\": \"TCMgwOp7NwPM\", \"isFirst\": false, \"utmSource\": \"na\", \"isRegistered\": \"Non Registered\"}, {\"date\": \"2016-02-01T00:00:00\", \"timestamp\": \"2016-02-01T08:14:58.793000\", \"uid\": \"DMlcqXGXKqla\", \"isFirst\": false, \"utmSource\": \"program\", \"isRegistered\": \"Non Registered\"}, {\"date\": \"2016-02-01T00:00:00\", \"timestamp\": \"2016-02-01T08:20:04.756000\", \"uid\": \"wnSNcQfktb2U\", \"isFirst\": false, \"utmSource\": \"other\", \"isRegistered\": \"Non Registered\"}, {\"date\": \"2016-02-01T00:00:00\", \"timestamp\": \"2016-02-01T08:20:23.632000\", \"uid\": \"hNHUGWldcjg6\", \"isFirst\": false, \"utmSource\": \"biznesowe rewolucje\", \"isRegistered\": \"Non Registered\"}, {\"date\": \"2016-02-01T00:00:00\", \"timestamp\": \"2016-02-01T08:21:15.181000\", \"uid\": \"Ca5Dhkkhv0k1\", \"isFirst\": false, \"utmSource\": \"na\", \"isRegistered\": \"Non Registered\"}, {\"date\": \"2016-02-01T00:00:00\", \"timestamp\": \"2016-02-01T08:27:07.127000\", \"uid\": \"5poz7t9pNkW3\", \"isFirst\": false, \"utmSource\": \"na\", \"isRegistered\": \"Non Registered\"}, {\"date\": \"2016-02-01T00:00:00\", \"timestamp\": \"2016-02-01T08:27:11.409000\", \"uid\": \"UU6v1iGsVj4A\", \"isFirst\": false, \"utmSource\": \"na\", \"isRegistered\": \"Non Registered\"}, {\"date\": \"2016-02-01T00:00:00\", \"timestamp\": \"2016-02-01T08:29:47.553000\", \"uid\": \"upBSh4cTiSWv\", \"isFirst\": false, \"utmSource\": \"shmoop\", \"isRegistered\": \"Non Registered\"}, {\"date\": \"2016-02-01T00:00:00\", \"timestamp\": \"2016-02-01T08:30:48.886000\", \"uid\": \"pPnvU7BORVHG\", \"isFirst\": false, \"utmSource\": \"na\", \"isRegistered\": \"Non Registered\"}, {\"date\": \"2016-02-01T00:00:00\", \"timestamp\": \"2016-02-01T08:31:34.998000\", \"uid\": \"Rt2RSSlP1yyT\", \"isFirst\": false, \"utmSource\": \"biznesowe rewolucje\", \"isRegistered\": \"Non Registered\"}, {\"date\": \"2016-02-01T00:00:00\", \"timestamp\": \"2016-02-01T08:33:25.452000\", \"uid\": \"JoTTIn2nt6MF\", \"isFirst\": false, \"utmSource\": \"salesmanago\", \"isRegistered\": \"Non Registered\"}, {\"date\": \"2016-02-01T00:00:00\", \"timestamp\": \"2016-02-01T08:33:38.574000\", \"uid\": \"j5nafYzklVMK\", \"isFirst\": false, \"utmSource\": \"na\", \"isRegistered\": \"Non Registered\"}, {\"date\": \"2016-02-01T00:00:00\", \"timestamp\": \"2016-02-01T08:46:26.363000\", \"uid\": \"N3gHV0qmDzme\", \"isFirst\": false, \"utmSource\": \"biznesowe rewolucje\", \"isRegistered\": \"Non Registered\"}, {\"date\": \"2016-02-01T00:00:00\", \"timestamp\": \"2016-02-01T08:52:08.606000\", \"uid\": \"pHxd75qgIdKe\", \"isFirst\": false, \"utmSource\": \"biznesowe rewolucje\", \"isRegistered\": \"Non Registered\"}, {\"date\": \"2016-02-01T00:00:00\", \"timestamp\": \"2016-02-01T08:52:26.157000\", \"uid\": \"zENLxRiBkfuW\", \"isFirst\": false, \"utmSource\": \"na\", \"isRegistered\": \"Non Registered\"}, {\"date\": \"2016-02-01T00:00:00\", \"timestamp\": \"2016-02-01T08:58:21.150000\", \"uid\": \"SRrsftqO2Pj8\", \"isFirst\": false, \"utmSource\": \"biznesowe rewolucje\", \"isRegistered\": \"Non Registered\"}, {\"date\": \"2016-02-01T00:00:00\", \"timestamp\": \"2016-02-01T09:03:02.994000\", \"uid\": \"dIV0lR6nrQpG\", \"isFirst\": false, \"utmSource\": \"biznesowe rewolucje\", \"isRegistered\": \"Non Registered\"}, {\"date\": \"2016-02-01T00:00:00\", \"timestamp\": \"2016-02-01T09:05:08.015000\", \"uid\": \"grLivtsr52Ec\", \"isFirst\": false, \"utmSource\": \"na\", \"isRegistered\": \"Non Registered\"}, {\"date\": \"2016-02-01T00:00:00\", \"timestamp\": \"2016-02-01T09:07:13.876000\", \"uid\": \"UvR6vYp5q7kD\", \"isFirst\": false, \"utmSource\": \"biznesowe rewolucje\", \"isRegistered\": \"Non Registered\"}, {\"date\": \"2016-02-01T00:00:00\", \"timestamp\": \"2016-02-01T09:09:55.489000\", \"uid\": \"22y3OdPAjRnh\", \"isFirst\": false, \"utmSource\": \"shmoop\", \"isRegistered\": \"Non Registered\"}, {\"date\": \"2016-02-01T00:00:00\", \"timestamp\": \"2016-02-01T09:17:03.306000\", \"uid\": \"4PVbM90ekLxA\", \"isFirst\": false, \"utmSource\": \"shmoop\", \"isRegistered\": \"Non Registered\"}, {\"date\": \"2016-02-01T00:00:00\", \"timestamp\": \"2016-02-01T09:20:54.479000\", \"uid\": \"DseQJhpERIPE\", \"isFirst\": false, \"utmSource\": \"na\", \"isRegistered\": \"Non Registered\"}, {\"date\": \"2016-02-01T00:00:00\", \"timestamp\": \"2016-02-01T09:28:37.989000\", \"uid\": \"jsMsZxtcZmFD\", \"isFirst\": false, \"utmSource\": \"na\", \"isRegistered\": \"Non Registered\"}, {\"date\": \"2016-02-01T00:00:00\", \"timestamp\": \"2016-02-01T09:30:10.100000\", \"uid\": \"HtJ0mWBjLVnu\", \"isFirst\": false, \"utmSource\": \"na\", \"isRegistered\": \"Non Registered\"}, {\"date\": \"2016-02-01T00:00:00\", \"timestamp\": \"2016-02-01T09:31:25.930000\", \"uid\": \"qpeB6bUIn2rD\", \"isFirst\": false, \"utmSource\": \"biznesowe rewolucje\", \"isRegistered\": \"Non Registered\"}, {\"date\": \"2016-02-01T00:00:00\", \"timestamp\": \"2016-02-01T09:35:09.947000\", \"uid\": \"XplrDgJnFnLR\", \"isFirst\": false, \"utmSource\": \"biznesowe rewolucje\", \"isRegistered\": \"Non Registered\"}, {\"date\": \"2016-02-01T00:00:00\", \"timestamp\": \"2016-02-01T09:44:49.044000\", \"uid\": \"oOVDX5zxR5H5\", \"isFirst\": false, \"utmSource\": \"program\", \"isRegistered\": \"Non Registered\"}, {\"date\": \"2016-02-01T00:00:00\", \"timestamp\": \"2016-02-01T09:46:45.620000\", \"uid\": \"363ShZTPvF16\", \"isFirst\": true, \"utmSource\": \"na\", \"isRegistered\": \"Non Registered\"}, {\"date\": \"2016-02-01T00:00:00\", \"timestamp\": \"2016-02-01T09:50:36.270000\", \"uid\": \"QBvxJlJTtTiI\", \"isFirst\": false, \"utmSource\": \"na\", \"isRegistered\": \"Non Registered\"}, {\"date\": \"2016-02-01T00:00:00\", \"timestamp\": \"2016-02-01T09:56:19.106000\", \"uid\": \"MHDXULFdnKzF\", \"isFirst\": false, \"utmSource\": \"biznesowe rewolucje\", \"isRegistered\": \"Non Registered\"}, {\"date\": \"2016-02-01T00:00:00\", \"timestamp\": \"2016-02-01T10:01:01.076000\", \"uid\": \"14CSKmZslFcF\", \"isFirst\": false, \"utmSource\": \"biznesowe rewolucje\", \"isRegistered\": \"Non Registered\"}, {\"date\": \"2016-02-01T00:00:00\", \"timestamp\": \"2016-02-01T10:11:41.807000\", \"uid\": \"V7EMBSyiLs89\", \"isFirst\": false, \"utmSource\": \"blog\", \"isRegistered\": \"Non Registered\"}, {\"date\": \"2016-02-01T00:00:00\", \"timestamp\": \"2016-02-01T10:13:59.277000\", \"uid\": \"FEGFAofKzbc9\", \"isFirst\": false, \"utmSource\": \"na\", \"isRegistered\": \"Non Registered\"}, {\"date\": \"2016-02-01T00:00:00\", \"timestamp\": \"2016-02-01T10:18:03\", \"uid\": \"2Pjdi2gwX9wL\", \"isFirst\": false, \"utmSource\": \"biznesowe rewolucje\", \"isRegistered\": \"Non Registered\"}, {\"date\": \"2016-02-01T00:00:00\", \"timestamp\": \"2016-02-01T10:19:24.887000\", \"uid\": \"3wXfRl3uYGnP\", \"isFirst\": false, \"utmSource\": \"na\", \"isRegistered\": \"Non Registered\"}, {\"date\": \"2016-02-01T00:00:00\", \"timestamp\": \"2016-02-01T10:40:06.787000\", \"uid\": \"PsklZXnPtSEJ\", \"isFirst\": false, \"utmSource\": \"na\", \"isRegistered\": \"Non Registered\"}, {\"date\": \"2016-02-01T00:00:00\", \"timestamp\": \"2016-02-01T10:42:28.497000\", \"uid\": \"g8VtgL7CYslf\", \"isFirst\": false, \"utmSource\": \"biznesowe rewolucje\", \"isRegistered\": \"Non Registered\"}, {\"date\": \"2016-02-01T00:00:00\", \"timestamp\": \"2016-02-01T10:46:34.474000\", \"uid\": \"uDSJXg8weKjm\", \"isFirst\": false, \"utmSource\": \"program\", \"isRegistered\": \"Non Registered\"}, {\"date\": \"2016-02-01T00:00:00\", \"timestamp\": \"2016-02-01T10:48:06.554000\", \"uid\": \"RwzjcQULos2P\", \"isFirst\": false, \"utmSource\": \"program\", \"isRegistered\": \"Non Registered\"}, {\"date\": \"2016-02-01T00:00:00\", \"timestamp\": \"2016-02-01T10:53:25.931000\", \"uid\": \"4mzHkAzQJGS0\", \"isFirst\": false, \"utmSource\": \"na\", \"isRegistered\": \"Non Registered\"}, {\"date\": \"2016-02-01T00:00:00\", \"timestamp\": \"2016-02-01T10:56:16.740000\", \"uid\": \"qSI4Z0fiazcF\", \"isFirst\": false, \"utmSource\": \"na\", \"isRegistered\": \"Non Registered\"}, {\"date\": \"2016-02-01T00:00:00\", \"timestamp\": \"2016-02-01T11:02:38.759000\", \"uid\": \"KQ2XcKdzE6ai\", \"isFirst\": false, \"utmSource\": \"na\", \"isRegistered\": \"Non Registered\"}, {\"date\": \"2016-02-01T00:00:00\", \"timestamp\": \"2016-02-01T11:06:09.374000\", \"uid\": \"FmrEBExBffRi\", \"isFirst\": false, \"utmSource\": \"na\", \"isRegistered\": \"Non Registered\"}, {\"date\": \"2016-02-01T00:00:00\", \"timestamp\": \"2016-02-01T11:08:55.881000\", \"uid\": \"jP7BSauK0xEW\", \"isFirst\": false, \"utmSource\": \"na\", \"isRegistered\": \"Non Registered\"}, {\"date\": \"2016-02-01T00:00:00\", \"timestamp\": \"2016-02-01T11:11:33.584000\", \"uid\": \"4ZowQvanBDSq\", \"isFirst\": false, \"utmSource\": \"na\", \"isRegistered\": \"Non Registered\"}, {\"date\": \"2016-02-01T00:00:00\", \"timestamp\": \"2016-02-01T11:12:15.828000\", \"uid\": \"lHienHHSPAw5\", \"isFirst\": false, \"utmSource\": \"na\", \"isRegistered\": \"Non Registered\"}, {\"date\": \"2016-02-01T00:00:00\", \"timestamp\": \"2016-02-01T11:17:44.427000\", \"uid\": \"4j1OEb9rDfc4\", \"isFirst\": false, \"utmSource\": \"na\", \"isRegistered\": \"Non Registered\"}, {\"date\": \"2016-02-01T00:00:00\", \"timestamp\": \"2016-02-01T11:22:43.342000\", \"uid\": \"6J0d72hG5Odc\", \"isFirst\": false, \"utmSource\": \"na\", \"isRegistered\": \"Non Registered\"}, {\"date\": \"2016-02-01T00:00:00\", \"timestamp\": \"2016-02-01T11:26:29.202000\", \"uid\": \"zGGykz8GV6iy\", \"isFirst\": false, \"utmSource\": \"program\", \"isRegistered\": \"Non Registered\"}, {\"date\": \"2016-02-01T00:00:00\", \"timestamp\": \"2016-02-01T11:28:44.471000\", \"uid\": \"OiwlM5sTYIa0\", \"isFirst\": false, \"utmSource\": \"na\", \"isRegistered\": \"Non Registered\"}, {\"date\": \"2016-02-01T00:00:00\", \"timestamp\": \"2016-02-01T11:35:01.476000\", \"uid\": \"2dRxRmY3cANy\", \"isFirst\": false, \"utmSource\": \"na\", \"isRegistered\": \"Non Registered\"}, {\"date\": \"2016-02-01T00:00:00\", \"timestamp\": \"2016-02-01T11:36:49.463000\", \"uid\": \"0GhmeHRbK2cT\", \"isFirst\": false, \"utmSource\": \"biznesowe rewolucje\", \"isRegistered\": \"Non Registered\"}, {\"date\": \"2016-02-01T00:00:00\", \"timestamp\": \"2016-02-01T11:41:00.435000\", \"uid\": \"pKNcik6XExLj\", \"isFirst\": false, \"utmSource\": \"na\", \"isRegistered\": \"Non Registered\"}, {\"date\": \"2016-02-01T00:00:00\", \"timestamp\": \"2016-02-01T11:58:23.996000\", \"uid\": \"8mFjw4POKWsr\", \"isFirst\": true, \"utmSource\": \"na\", \"isRegistered\": \"Non Registered\"}, {\"date\": \"2016-02-01T00:00:00\", \"timestamp\": \"2016-02-01T12:28:34.412000\", \"uid\": \"fDJqslBdVhM7\", \"isFirst\": false, \"utmSource\": \"na\", \"isRegistered\": \"Non Registered\"}, {\"date\": \"2016-02-01T00:00:00\", \"timestamp\": \"2016-02-01T12:33:14.965000\", \"uid\": \"lGbtCIVqdRpi\", \"isFirst\": true, \"utmSource\": \"na\", \"isRegistered\": \"Non Registered\"}, {\"date\": \"2016-02-01T00:00:00\", \"timestamp\": \"2016-02-01T12:34:36.270000\", \"uid\": \"rXNMI00xE62V\", \"isFirst\": false, \"utmSource\": \"biznesowe rewolucje\", \"isRegistered\": \"Non Registered\"}, {\"date\": \"2016-02-01T00:00:00\", \"timestamp\": \"2016-02-01T12:35:58.916000\", \"uid\": \"54393263\", \"isFirst\": false, \"utmSource\": \"biznesowe rewolucje\", \"isRegistered\": \"Registered\"}, {\"date\": \"2016-02-01T00:00:00\", \"timestamp\": \"2016-02-01T12:45:31.910000\", \"uid\": \"HQfETRj5vY7D\", \"isFirst\": false, \"utmSource\": \"na\", \"isRegistered\": \"Non Registered\"}, {\"date\": \"2016-02-01T00:00:00\", \"timestamp\": \"2016-02-01T12:54:04.582000\", \"uid\": \"73606994\", \"isFirst\": false, \"utmSource\": \"na\", \"isRegistered\": \"Registered\"}, {\"date\": \"2016-02-01T00:00:00\", \"timestamp\": \"2016-02-01T13:01:11.638000\", \"uid\": \"F7vWOTlVLzrQ\", \"isFirst\": false, \"utmSource\": \"na\", \"isRegistered\": \"Non Registered\"}, {\"date\": \"2016-02-01T00:00:00\", \"timestamp\": \"2016-02-01T13:01:47.255000\", \"uid\": \"LMczuwpq4BmT\", \"isFirst\": false, \"utmSource\": \"biznesowe rewolucje\", \"isRegistered\": \"Non Registered\"}, {\"date\": \"2016-02-01T00:00:00\", \"timestamp\": \"2016-02-01T13:01:47.611000\", \"uid\": \"gqFu7ILKxeZp\", \"isFirst\": false, \"utmSource\": \"na\", \"isRegistered\": \"Non Registered\"}, {\"date\": \"2016-02-01T00:00:00\", \"timestamp\": \"2016-02-01T13:04:26.518000\", \"uid\": \"7JzTbUJDhDjJ\", \"isFirst\": false, \"utmSource\": \"biznesowe rewolucje\", \"isRegistered\": \"Non Registered\"}, {\"date\": \"2016-02-01T00:00:00\", \"timestamp\": \"2016-02-01T13:06:43.438000\", \"uid\": \"qlLRChpSJzAg\", \"isFirst\": false, \"utmSource\": \"na\", \"isRegistered\": \"Non Registered\"}, {\"date\": \"2016-02-01T00:00:00\", \"timestamp\": \"2016-02-01T13:07:20.785000\", \"uid\": \"47rlQx4UN2Ht\", \"isFirst\": false, \"utmSource\": \"na\", \"isRegistered\": \"Non Registered\"}, {\"date\": \"2016-02-01T00:00:00\", \"timestamp\": \"2016-02-01T13:20:11.630000\", \"uid\": \"jSroe0XmItsB\", \"isFirst\": false, \"utmSource\": \"biznesowe rewolucje\", \"isRegistered\": \"Non Registered\"}, {\"date\": \"2016-02-01T00:00:00\", \"timestamp\": \"2016-02-01T13:25:56.838000\", \"uid\": \"ZzliHb5rOZe7\", \"isFirst\": false, \"utmSource\": \"na\", \"isRegistered\": \"Non Registered\"}, {\"date\": \"2016-02-01T00:00:00\", \"timestamp\": \"2016-02-01T13:28:20.166000\", \"uid\": \"gQYmV786PK82\", \"isFirst\": false, \"utmSource\": \"na\", \"isRegistered\": \"Non Registered\"}, {\"date\": \"2016-02-01T00:00:00\", \"timestamp\": \"2016-02-01T13:31:11.270000\", \"uid\": \"TJRdEc82roug\", \"isFirst\": false, \"utmSource\": \"na\", \"isRegistered\": \"Non Registered\"}, {\"date\": \"2016-02-01T00:00:00\", \"timestamp\": \"2016-02-01T13:33:57.592000\", \"uid\": \"zIcfQqalDO5j\", \"isFirst\": false, \"utmSource\": \"na\", \"isRegistered\": \"Non Registered\"}, {\"date\": \"2016-02-01T00:00:00\", \"timestamp\": \"2016-02-01T13:36:26.877000\", \"uid\": \"W5QAtVcT4Iml\", \"isFirst\": false, \"utmSource\": \"na\", \"isRegistered\": \"Non Registered\"}, {\"date\": \"2016-02-01T00:00:00\", \"timestamp\": \"2016-02-01T13:39:53.618000\", \"uid\": \"ecjSDmSf7X3D\", \"isFirst\": false, \"utmSource\": \"program\", \"isRegistered\": \"Non Registered\"}, {\"date\": \"2016-02-01T00:00:00\", \"timestamp\": \"2016-02-01T13:42:01.233000\", \"uid\": \"cigJVZ2tyt1W\", \"isFirst\": false, \"utmSource\": \"na\", \"isRegistered\": \"Non Registered\"}, {\"date\": \"2016-02-01T00:00:00\", \"timestamp\": \"2016-02-01T13:42:56.144000\", \"uid\": \"JjmdDDrFKEUy\", \"isFirst\": true, \"utmSource\": \"na\", \"isRegistered\": \"Non Registered\"}, {\"date\": \"2016-02-01T00:00:00\", \"timestamp\": \"2016-02-01T13:45:10.698000\", \"uid\": \"bSb2D5SJ1ZBP\", \"isFirst\": false, \"utmSource\": \"na\", \"isRegistered\": \"Non Registered\"}, {\"date\": \"2016-02-01T00:00:00\", \"timestamp\": \"2016-02-01T13:49:20.830000\", \"uid\": \"Zd3C1BTf7sOX\", \"isFirst\": false, \"utmSource\": \"shmoop\", \"isRegistered\": \"Non Registered\"}, {\"date\": \"2016-02-01T00:00:00\", \"timestamp\": \"2016-02-01T13:59:48.602000\", \"uid\": \"i1EmGQj7p3P3\", \"isFirst\": false, \"utmSource\": \"na\", \"isRegistered\": \"Non Registered\"}, {\"date\": \"2016-02-01T00:00:00\", \"timestamp\": \"2016-02-01T14:05:33.579000\", \"uid\": \"TGbae0iIlxoI\", \"isFirst\": false, \"utmSource\": \"biznesowe rewolucje\", \"isRegistered\": \"Non Registered\"}, {\"date\": \"2016-02-01T00:00:00\", \"timestamp\": \"2016-02-01T14:07:28.257000\", \"uid\": \"u8wZDZbyM1qj\", \"isFirst\": false, \"utmSource\": \"na\", \"isRegistered\": \"Non Registered\"}, {\"date\": \"2016-02-01T00:00:00\", \"timestamp\": \"2016-02-01T14:12:00.490000\", \"uid\": \"uG00Zdy4pt5E\", \"isFirst\": true, \"utmSource\": \"na\", \"isRegistered\": \"Non Registered\"}, {\"date\": \"2016-02-01T00:00:00\", \"timestamp\": \"2016-02-01T14:13:15.683000\", \"uid\": \"Hj0hha2qwtEM\", \"isFirst\": false, \"utmSource\": \"biznesowe rewolucje\", \"isRegistered\": \"Non Registered\"}, {\"date\": \"2016-02-01T00:00:00\", \"timestamp\": \"2016-02-01T14:18:46.553000\", \"uid\": \"PhVSTPxI45gj\", \"isFirst\": false, \"utmSource\": \"biznesowe rewolucje\", \"isRegistered\": \"Non Registered\"}, {\"date\": \"2016-02-01T00:00:00\", \"timestamp\": \"2016-02-01T14:19:49.491000\", \"uid\": \"8lTmVby2gRlZ\", \"isFirst\": false, \"utmSource\": \"na\", \"isRegistered\": \"Non Registered\"}, {\"date\": \"2016-02-01T00:00:00\", \"timestamp\": \"2016-02-01T14:21:16.174000\", \"uid\": \"vwLJO2uDWrXr\", \"isFirst\": false, \"utmSource\": \"shmoop\", \"isRegistered\": \"Non Registered\"}, {\"date\": \"2016-02-01T00:00:00\", \"timestamp\": \"2016-02-01T14:22:17.490000\", \"uid\": \"rtuIdwOrCXOY\", \"isFirst\": false, \"utmSource\": \"na\", \"isRegistered\": \"Non Registered\"}, {\"date\": \"2016-02-01T00:00:00\", \"timestamp\": \"2016-02-01T14:30:21.161000\", \"uid\": \"gLx0GbkoEjYW\", \"isFirst\": false, \"utmSource\": \"na\", \"isRegistered\": \"Non Registered\"}, {\"date\": \"2016-02-01T00:00:00\", \"timestamp\": \"2016-02-01T14:36:42.314000\", \"uid\": \"wHPwBU2UBmqM\", \"isFirst\": false, \"utmSource\": \"na\", \"isRegistered\": \"Non Registered\"}, {\"date\": \"2016-02-01T00:00:00\", \"timestamp\": \"2016-02-01T14:40:00.401000\", \"uid\": \"DygakwDIWusA\", \"isFirst\": false, \"utmSource\": \"na\", \"isRegistered\": \"Non Registered\"}, {\"date\": \"2016-02-01T00:00:00\", \"timestamp\": \"2016-02-01T14:49:04.741000\", \"uid\": \"8nMTY26mROxk\", \"isFirst\": false, \"utmSource\": \"salesmanago\", \"isRegistered\": \"Non Registered\"}, {\"date\": \"2016-02-01T00:00:00\", \"timestamp\": \"2016-02-01T14:51:14.075000\", \"uid\": \"xkJhVCLfuJdc\", \"isFirst\": false, \"utmSource\": \"na\", \"isRegistered\": \"Non Registered\"}, {\"date\": \"2016-02-01T00:00:00\", \"timestamp\": \"2016-02-01T14:59:10.850000\", \"uid\": \"qVnTTbynhDFv\", \"isFirst\": false, \"utmSource\": \"biznesowe rewolucje\", \"isRegistered\": \"Non Registered\"}, {\"date\": \"2016-02-01T00:00:00\", \"timestamp\": \"2016-02-01T15:03:18.094000\", \"uid\": \"XImxaMfZIeOj\", \"isFirst\": false, \"utmSource\": \"shmoop\", \"isRegistered\": \"Non Registered\"}, {\"date\": \"2016-02-01T00:00:00\", \"timestamp\": \"2016-02-01T15:04:19.870000\", \"uid\": \"uLQ3Lpl71BIq\", \"isFirst\": false, \"utmSource\": \"biznesowe rewolucje\", \"isRegistered\": \"Non Registered\"}, {\"date\": \"2016-02-01T00:00:00\", \"timestamp\": \"2016-02-01T15:07:28.156000\", \"uid\": \"HjvF9ww2ivbQ\", \"isFirst\": false, \"utmSource\": \"salesmanago\", \"isRegistered\": \"Non Registered\"}, {\"date\": \"2016-02-01T00:00:00\", \"timestamp\": \"2016-02-01T15:09:05.951000\", \"uid\": \"kDgoiQjBZqFa\", \"isFirst\": false, \"utmSource\": \"shmoop\", \"isRegistered\": \"Non Registered\"}, {\"date\": \"2016-02-01T00:00:00\", \"timestamp\": \"2016-02-01T15:12:25.616000\", \"uid\": \"OCXWdHr1mlf0\", \"isFirst\": false, \"utmSource\": \"na\", \"isRegistered\": \"Non Registered\"}, {\"date\": \"2016-02-01T00:00:00\", \"timestamp\": \"2016-02-01T15:12:56.049000\", \"uid\": \"1fK0uq5Cpbjp\", \"isFirst\": false, \"utmSource\": \"shmoop\", \"isRegistered\": \"Non Registered\"}, {\"date\": \"2016-02-01T00:00:00\", \"timestamp\": \"2016-02-01T15:23:34.499000\", \"uid\": \"gMg7cHoTe07n\", \"isFirst\": false, \"utmSource\": \"biznesowe rewolucje\", \"isRegistered\": \"Non Registered\"}, {\"date\": \"2016-02-01T00:00:00\", \"timestamp\": \"2016-02-01T15:26:24.809000\", \"uid\": \"j0PM4b3o4VOo\", \"isFirst\": false, \"utmSource\": \"na\", \"isRegistered\": \"Non Registered\"}, {\"date\": \"2016-02-01T00:00:00\", \"timestamp\": \"2016-02-01T15:32:10.255000\", \"uid\": \"zB4M1DIym0DN\", \"isFirst\": false, \"utmSource\": \"shmoop\", \"isRegistered\": \"Non Registered\"}, {\"date\": \"2016-02-01T00:00:00\", \"timestamp\": \"2016-02-01T15:38:36.697000\", \"uid\": \"x0T9K4ezOWig\", \"isFirst\": false, \"utmSource\": \"na\", \"isRegistered\": \"Non Registered\"}, {\"date\": \"2016-02-01T00:00:00\", \"timestamp\": \"2016-02-01T15:42:28.580000\", \"uid\": \"MEvPtuDtEn7i\", \"isFirst\": false, \"utmSource\": \"other\", \"isRegistered\": \"Non Registered\"}, {\"date\": \"2016-02-01T00:00:00\", \"timestamp\": \"2016-02-01T16:08:12.476000\", \"uid\": \"g7UumkR1ErLS\", \"isFirst\": false, \"utmSource\": \"na\", \"isRegistered\": \"Non Registered\"}, {\"date\": \"2016-02-01T00:00:00\", \"timestamp\": \"2016-02-01T16:16:34.876000\", \"uid\": \"pBZ5KBID7eE4\", \"isFirst\": false, \"utmSource\": \"na\", \"isRegistered\": \"Non Registered\"}, {\"date\": \"2016-02-01T00:00:00\", \"timestamp\": \"2016-02-01T16:38:26.388000\", \"uid\": \"60NqY4TZRMY0\", \"isFirst\": true, \"utmSource\": \"na\", \"isRegistered\": \"Non Registered\"}, {\"date\": \"2016-02-01T00:00:00\", \"timestamp\": \"2016-02-01T16:41:43.738000\", \"uid\": \"bnVq3fPViMrb\", \"isFirst\": false, \"utmSource\": \"twitter\", \"isRegistered\": \"Non Registered\"}, {\"date\": \"2016-02-01T00:00:00\", \"timestamp\": \"2016-02-01T16:45:01.333000\", \"uid\": \"wehrBTVI1rTg\", \"isFirst\": false, \"utmSource\": \"na\", \"isRegistered\": \"Non Registered\"}, {\"date\": \"2016-02-01T00:00:00\", \"timestamp\": \"2016-02-01T16:46:47.295000\", \"uid\": \"3Ufg0Khe0DKS\", \"isFirst\": false, \"utmSource\": \"na\", \"isRegistered\": \"Non Registered\"}, {\"date\": \"2016-02-01T00:00:00\", \"timestamp\": \"2016-02-01T16:47:47.920000\", \"uid\": \"2JAU3up8SlPi\", \"isFirst\": true, \"utmSource\": \"na\", \"isRegistered\": \"Non Registered\"}, {\"date\": \"2016-02-01T00:00:00\", \"timestamp\": \"2016-02-01T16:56:07.228000\", \"uid\": \"54ag3HJ587Ks\", \"isFirst\": false, \"utmSource\": \"na\", \"isRegistered\": \"Non Registered\"}, {\"date\": \"2016-02-01T00:00:00\", \"timestamp\": \"2016-02-01T17:00:20.125000\", \"uid\": \"Nys8TtuKNjGY\", \"isFirst\": false, \"utmSource\": \"biznesowe rewolucje\", \"isRegistered\": \"Non Registered\"}, {\"date\": \"2016-02-01T00:00:00\", \"timestamp\": \"2016-02-01T17:00:42.818000\", \"uid\": \"x8GpQwITgsxT\", \"isFirst\": false, \"utmSource\": \"salesmanago\", \"isRegistered\": \"Non Registered\"}, {\"date\": \"2016-02-01T00:00:00\", \"timestamp\": \"2016-02-01T17:00:52.697000\", \"uid\": \"QJPbCbDO5ZYq\", \"isFirst\": false, \"utmSource\": \"na\", \"isRegistered\": \"Non Registered\"}, {\"date\": \"2016-02-01T00:00:00\", \"timestamp\": \"2016-02-01T17:00:59.067000\", \"uid\": \"OxygPlZ1STEn\", \"isFirst\": false, \"utmSource\": \"grub street\", \"isRegistered\": \"Non Registered\"}, {\"date\": \"2016-02-01T00:00:00\", \"timestamp\": \"2016-02-01T17:04:07.719000\", \"uid\": \"IprftpKrsHCE\", \"isFirst\": false, \"utmSource\": \"program\", \"isRegistered\": \"Non Registered\"}, {\"date\": \"2016-02-01T00:00:00\", \"timestamp\": \"2016-02-01T17:05:19.334000\", \"uid\": \"zZZ0M1jGLIWv\", \"isFirst\": false, \"utmSource\": \"na\", \"isRegistered\": \"Non Registered\"}, {\"date\": \"2016-02-01T00:00:00\", \"timestamp\": \"2016-02-01T17:11:50.444000\", \"uid\": \"GKd1y1sf8zGY\", \"isFirst\": false, \"utmSource\": \"na\", \"isRegistered\": \"Non Registered\"}, {\"date\": \"2016-02-01T00:00:00\", \"timestamp\": \"2016-02-01T17:12:20.667000\", \"uid\": \"AciDjetY3bCY\", \"isFirst\": false, \"utmSource\": \"na\", \"isRegistered\": \"Non Registered\"}, {\"date\": \"2016-02-01T00:00:00\", \"timestamp\": \"2016-02-01T17:18:40.731000\", \"uid\": \"mNcnX3oy4vUB\", \"isFirst\": false, \"utmSource\": \"na\", \"isRegistered\": \"Non Registered\"}, {\"date\": \"2016-02-01T00:00:00\", \"timestamp\": \"2016-02-01T17:18:43.330000\", \"uid\": \"8G3iSzQdu0dT\", \"isFirst\": false, \"utmSource\": \"na\", \"isRegistered\": \"Non Registered\"}, {\"date\": \"2016-02-01T00:00:00\", \"timestamp\": \"2016-02-01T17:23:50.175000\", \"uid\": \"sZTKmvMYDWtJ\", \"isFirst\": false, \"utmSource\": \"biznesowe rewolucje\", \"isRegistered\": \"Non Registered\"}, {\"date\": \"2016-02-01T00:00:00\", \"timestamp\": \"2016-02-01T17:26:01.804000\", \"uid\": \"1y8UkNaMpd4F\", \"isFirst\": false, \"utmSource\": \"tapjoy\", \"isRegistered\": \"Non Registered\"}, {\"date\": \"2016-02-01T00:00:00\", \"timestamp\": \"2016-02-01T17:30:13.577000\", \"uid\": \"HqJhckC7D0Xy\", \"isFirst\": false, \"utmSource\": \"na\", \"isRegistered\": \"Non Registered\"}, {\"date\": \"2016-02-01T00:00:00\", \"timestamp\": \"2016-02-01T17:31:53.744000\", \"uid\": \"CXCxakgQslSM\", \"isFirst\": false, \"utmSource\": \"biznesowe rewolucje\", \"isRegistered\": \"Non Registered\"}, {\"date\": \"2016-02-01T00:00:00\", \"timestamp\": \"2016-02-01T17:33:16.565000\", \"uid\": \"RZLHYR3CRfBC\", \"isFirst\": true, \"utmSource\": \"na\", \"isRegistered\": \"Non Registered\"}, {\"date\": \"2016-02-01T00:00:00\", \"timestamp\": \"2016-02-01T17:39:24.304000\", \"uid\": \"4W0guF2UPTrt\", \"isFirst\": true, \"utmSource\": \"na\", \"isRegistered\": \"Non Registered\"}, {\"date\": \"2016-02-01T00:00:00\", \"timestamp\": \"2016-02-01T17:44:54.169000\", \"uid\": \"DSksjPXVUwym\", \"isFirst\": false, \"utmSource\": \"biznesowe rewolucje\", \"isRegistered\": \"Non Registered\"}, {\"date\": \"2016-02-01T00:00:00\", \"timestamp\": \"2016-02-01T17:45:02.014000\", \"uid\": \"QWs5Hl5mjLoi\", \"isFirst\": false, \"utmSource\": \"na\", \"isRegistered\": \"Non Registered\"}, {\"date\": \"2016-02-01T00:00:00\", \"timestamp\": \"2016-02-01T17:49:34.881000\", \"uid\": \"eGe2VyC07H3K\", \"isFirst\": false, \"utmSource\": \"na\", \"isRegistered\": \"Non Registered\"}, {\"date\": \"2016-02-01T00:00:00\", \"timestamp\": \"2016-02-01T18:04:24.098000\", \"uid\": \"5TcIcyFG6Ltk\", \"isFirst\": false, \"utmSource\": \"program\", \"isRegistered\": \"Non Registered\"}, {\"date\": \"2016-02-01T00:00:00\", \"timestamp\": \"2016-02-01T18:09:13.427000\", \"uid\": \"fB3h4PENG1ys\", \"isFirst\": false, \"utmSource\": \"na\", \"isRegistered\": \"Non Registered\"}, {\"date\": \"2016-02-01T00:00:00\", \"timestamp\": \"2016-02-01T18:12:29.105000\", \"uid\": \"2Mv6AxF1kXH9\", \"isFirst\": false, \"utmSource\": \"biznesowe rewolucje\", \"isRegistered\": \"Non Registered\"}, {\"date\": \"2016-02-01T00:00:00\", \"timestamp\": \"2016-02-01T18:18:43.527000\", \"uid\": \"F12zAkkYnwBz\", \"isFirst\": false, \"utmSource\": \"program\", \"isRegistered\": \"Non Registered\"}, {\"date\": \"2016-02-01T00:00:00\", \"timestamp\": \"2016-02-01T18:18:48.713000\", \"uid\": \"sE8T1mS3Sfpb\", \"isFirst\": false, \"utmSource\": \"shmoop\", \"isRegistered\": \"Non Registered\"}, {\"date\": \"2016-02-01T00:00:00\", \"timestamp\": \"2016-02-01T18:21:15.613000\", \"uid\": \"2Hk6pvvXVe67\", \"isFirst\": false, \"utmSource\": \"na\", \"isRegistered\": \"Non Registered\"}, {\"date\": \"2016-02-01T00:00:00\", \"timestamp\": \"2016-02-01T18:26:52.885000\", \"uid\": \"Ohycgp7RYcGe\", \"isFirst\": false, \"utmSource\": \"twitter\", \"isRegistered\": \"Non Registered\"}, {\"date\": \"2016-02-01T00:00:00\", \"timestamp\": \"2016-02-01T18:31:35.773000\", \"uid\": \"u3pkR7dEKduU\", \"isFirst\": true, \"utmSource\": \"na\", \"isRegistered\": \"Non Registered\"}, {\"date\": \"2016-02-01T00:00:00\", \"timestamp\": \"2016-02-01T18:58:54.279000\", \"uid\": \"XPgqBM5v5sfx\", \"isFirst\": false, \"utmSource\": \"na\", \"isRegistered\": \"Non Registered\"}, {\"date\": \"2016-02-01T00:00:00\", \"timestamp\": \"2016-02-01T19:08:17.024000\", \"uid\": \"U10QH0W4AZHI\", \"isFirst\": false, \"utmSource\": \"na\", \"isRegistered\": \"Non Registered\"}, {\"date\": \"2016-02-01T00:00:00\", \"timestamp\": \"2016-02-01T19:13:56.640000\", \"uid\": \"ruxOtZuhyjeK\", \"isFirst\": false, \"utmSource\": \"mosalingua fr\", \"isRegistered\": \"Non Registered\"}, {\"date\": \"2016-02-01T00:00:00\", \"timestamp\": \"2016-02-01T19:21:14.088000\", \"uid\": \"50475338\", \"isFirst\": false, \"utmSource\": \"salesmanago\", \"isRegistered\": \"Registered\"}, {\"date\": \"2016-02-01T00:00:00\", \"timestamp\": \"2016-02-01T19:21:45.930000\", \"uid\": \"kJvcvV3fZpU6\", \"isFirst\": false, \"utmSource\": \"shmoop\", \"isRegistered\": \"Non Registered\"}, {\"date\": \"2016-02-01T00:00:00\", \"timestamp\": \"2016-02-01T19:23:51.801000\", \"uid\": \"4SUaCij9KFZF\", \"isFirst\": false, \"utmSource\": \"na\", \"isRegistered\": \"Non Registered\"}, {\"date\": \"2016-02-01T00:00:00\", \"timestamp\": \"2016-02-01T19:27:48.755000\", \"uid\": \"lFGeGzIUV7T9\", \"isFirst\": false, \"utmSource\": \"na\", \"isRegistered\": \"Non Registered\"}, {\"date\": \"2016-02-01T00:00:00\", \"timestamp\": \"2016-02-01T19:40:43.898000\", \"uid\": \"CEmO4yohg96U\", \"isFirst\": false, \"utmSource\": \"biznesowe rewolucje\", \"isRegistered\": \"Non Registered\"}, {\"date\": \"2016-02-01T00:00:00\", \"timestamp\": \"2016-02-01T19:41:22.577000\", \"uid\": \"23pN2deAcTWj\", \"isFirst\": true, \"utmSource\": \"na\", \"isRegistered\": \"Non Registered\"}, {\"date\": \"2016-02-01T00:00:00\", \"timestamp\": \"2016-02-01T20:13:24.760000\", \"uid\": \"e05LsSkMLNhW\", \"isFirst\": false, \"utmSource\": \"na\", \"isRegistered\": \"Non Registered\"}, {\"date\": \"2016-02-01T00:00:00\", \"timestamp\": \"2016-02-01T20:19:15.820000\", \"uid\": \"oQbOurgqfoOk\", \"isFirst\": false, \"utmSource\": \"biznesowe rewolucje\", \"isRegistered\": \"Non Registered\"}, {\"date\": \"2016-02-01T00:00:00\", \"timestamp\": \"2016-02-01T20:20:41.951000\", \"uid\": \"58610356\", \"isFirst\": false, \"utmSource\": \"na\", \"isRegistered\": \"Registered\"}, {\"date\": \"2016-02-01T00:00:00\", \"timestamp\": \"2016-02-01T20:37:04.590000\", \"uid\": \"higA2CAKcXwQ\", \"isFirst\": true, \"utmSource\": \"na\", \"isRegistered\": \"Non Registered\"}, {\"date\": \"2016-02-01T00:00:00\", \"timestamp\": \"2016-02-01T20:40:55.116000\", \"uid\": \"rMYlj3C4Wc7r\", \"isFirst\": false, \"utmSource\": \"shmoop\", \"isRegistered\": \"Non Registered\"}, {\"date\": \"2016-02-01T00:00:00\", \"timestamp\": \"2016-02-01T20:50:18.179000\", \"uid\": \"mVHG7s4nUU5u\", \"isFirst\": false, \"utmSource\": \"biznesowe rewolucje\", \"isRegistered\": \"Non Registered\"}, {\"date\": \"2016-02-01T00:00:00\", \"timestamp\": \"2016-02-01T20:55:07.764000\", \"uid\": \"lZsOhYO2mumz\", \"isFirst\": false, \"utmSource\": \"na\", \"isRegistered\": \"Non Registered\"}, {\"date\": \"2016-02-01T00:00:00\", \"timestamp\": \"2016-02-01T21:00:11.270000\", \"uid\": \"vYCP1FRXUtec\", \"isFirst\": false, \"utmSource\": \"biznesowe rewolucje\", \"isRegistered\": \"Non Registered\"}, {\"date\": \"2016-02-01T00:00:00\", \"timestamp\": \"2016-02-01T21:01:14.282000\", \"uid\": \"bL15PlpTQZ2G\", \"isFirst\": false, \"utmSource\": \"shmoop\", \"isRegistered\": \"Non Registered\"}, {\"date\": \"2016-02-01T00:00:00\", \"timestamp\": \"2016-02-01T21:23:35.644000\", \"uid\": \"7LkC6uro3CyC\", \"isFirst\": false, \"utmSource\": \"na\", \"isRegistered\": \"Non Registered\"}, {\"date\": \"2016-02-01T00:00:00\", \"timestamp\": \"2016-02-01T21:28:49.287000\", \"uid\": \"ePV0YjvZjEfH\", \"isFirst\": false, \"utmSource\": \"shmoop\", \"isRegistered\": \"Non Registered\"}, {\"date\": \"2016-02-01T00:00:00\", \"timestamp\": \"2016-02-01T21:47:50.982000\", \"uid\": \"rT6XsLuYoHdo\", \"isFirst\": false, \"utmSource\": \"na\", \"isRegistered\": \"Non Registered\"}, {\"date\": \"2016-02-01T00:00:00\", \"timestamp\": \"2016-02-01T21:53:38.590000\", \"uid\": \"FYM0KEPWucFz\", \"isFirst\": false, \"utmSource\": \"na\", \"isRegistered\": \"Non Registered\"}, {\"date\": \"2016-02-01T00:00:00\", \"timestamp\": \"2016-02-01T21:59:39.912000\", \"uid\": \"8GQ2hFMVLXds\", \"isFirst\": false, \"utmSource\": \"biznesowe rewolucje\", \"isRegistered\": \"Non Registered\"}, {\"date\": \"2016-02-01T00:00:00\", \"timestamp\": \"2016-02-01T22:00:13.315000\", \"uid\": \"79411645\", \"isFirst\": false, \"utmSource\": \"na\", \"isRegistered\": \"Registered\"}, {\"date\": \"2016-02-01T00:00:00\", \"timestamp\": \"2016-02-01T22:11:25.833000\", \"uid\": \"zSgvszKaSbLL\", \"isFirst\": false, \"utmSource\": \"program\", \"isRegistered\": \"Non Registered\"}, {\"date\": \"2016-02-01T00:00:00\", \"timestamp\": \"2016-02-01T22:12:23.652000\", \"uid\": \"58309850\", \"isFirst\": false, \"utmSource\": \"other\", \"isRegistered\": \"Registered\"}, {\"date\": \"2016-02-01T00:00:00\", \"timestamp\": \"2016-02-01T22:15:36.004000\", \"uid\": \"DVO9oid2ppW5\", \"isFirst\": true, \"utmSource\": \"na\", \"isRegistered\": \"Non Registered\"}, {\"date\": \"2016-02-01T00:00:00\", \"timestamp\": \"2016-02-01T22:19:19.511000\", \"uid\": \"bOFUETcIkUuA\", \"isFirst\": true, \"utmSource\": \"program\", \"isRegistered\": \"Non Registered\"}, {\"date\": \"2016-02-01T00:00:00\", \"timestamp\": \"2016-02-01T22:21:26.913000\", \"uid\": \"uLymZSf6I68u\", \"isFirst\": false, \"utmSource\": \"na\", \"isRegistered\": \"Non Registered\"}, {\"date\": \"2016-02-01T00:00:00\", \"timestamp\": \"2016-02-01T22:25:58.857000\", \"uid\": \"5xm01bGLbcP5\", \"isFirst\": false, \"utmSource\": \"biznesowe rewolucje\", \"isRegistered\": \"Non Registered\"}, {\"date\": \"2016-02-01T00:00:00\", \"timestamp\": \"2016-02-01T22:33:07.413000\", \"uid\": \"IbbxJrQZkU7K\", \"isFirst\": true, \"utmSource\": \"na\", \"isRegistered\": \"Non Registered\"}, {\"date\": \"2016-02-01T00:00:00\", \"timestamp\": \"2016-02-01T22:47:20.035000\", \"uid\": \"2TkdZRhAOIXm\", \"isFirst\": true, \"utmSource\": \"na\", \"isRegistered\": \"Non Registered\"}, {\"date\": \"2016-02-01T00:00:00\", \"timestamp\": \"2016-02-01T22:59:42.223000\", \"uid\": \"jrkzuCwY1vcK\", \"isFirst\": false, \"utmSource\": \"grub street\", \"isRegistered\": \"Non Registered\"}, {\"date\": \"2016-02-01T00:00:00\", \"timestamp\": \"2016-02-01T23:04:49.794000\", \"uid\": \"CiRwNdA44X4n\", \"isFirst\": true, \"utmSource\": \"na\", \"isRegistered\": \"Non Registered\"}, {\"date\": \"2016-02-01T00:00:00\", \"timestamp\": \"2016-02-01T23:20:54.419000\", \"uid\": \"R8rDW2CyvavG\", \"isFirst\": false, \"utmSource\": \"na\", \"isRegistered\": \"Non Registered\"}, {\"date\": \"2016-02-01T00:00:00\", \"timestamp\": \"2016-02-01T23:21:22.529000\", \"uid\": \"56945030\", \"isFirst\": false, \"utmSource\": \"tapjoy\", \"isRegistered\": \"Registered\"}, {\"date\": \"2016-02-01T00:00:00\", \"timestamp\": \"2016-02-01T23:38:45.220000\", \"uid\": \"kvtTFsu8UiCx\", \"isFirst\": true, \"utmSource\": \"na\", \"isRegistered\": \"Non Registered\"}, {\"date\": \"2016-02-01T00:00:00\", \"timestamp\": \"2016-02-01T23:39:11.201000\", \"uid\": \"Kwer3SlZGSp8\", \"isFirst\": false, \"utmSource\": \"na\", \"isRegistered\": \"Non Registered\"}, {\"date\": \"2016-02-01T00:00:00\", \"timestamp\": \"2016-02-02T00:06:16.685000\", \"uid\": \"d8cFcqosANDR\", \"isFirst\": true, \"utmSource\": \"na\", \"isRegistered\": \"Non Registered\"}, {\"date\": \"2016-02-01T00:00:00\", \"timestamp\": \"2016-02-02T00:19:06.950000\", \"uid\": \"1oUMVyJo3JuX\", \"isFirst\": false, \"utmSource\": \"biznesowe rewolucje\", \"isRegistered\": \"Non Registered\"}, {\"date\": \"2016-02-01T00:00:00\", \"timestamp\": \"2016-02-02T00:34:03.293000\", \"uid\": \"50890279\", \"isFirst\": false, \"utmSource\": \"na\", \"isRegistered\": \"Registered\"}, {\"date\": \"2016-02-01T00:00:00\", \"timestamp\": \"2016-02-02T00:34:14.798000\", \"uid\": \"SGqAD3L1Nv2p\", \"isFirst\": false, \"utmSource\": \"biznesowe rewolucje\", \"isRegistered\": \"Non Registered\"}, {\"date\": \"2016-02-01T00:00:00\", \"timestamp\": \"2016-02-02T00:42:45.322000\", \"uid\": \"moXa2LkdmD7B\", \"isFirst\": false, \"utmSource\": \"na\", \"isRegistered\": \"Non Registered\"}, {\"date\": \"2016-02-01T00:00:00\", \"timestamp\": \"2016-02-02T00:51:50.876000\", \"uid\": \"sFBpN2grqfD8\", \"isFirst\": false, \"utmSource\": \"na\", \"isRegistered\": \"Non Registered\"}, {\"date\": \"2016-02-01T00:00:00\", \"timestamp\": \"2016-02-02T00:55:40.431000\", \"uid\": \"59736123\", \"isFirst\": false, \"utmSource\": \"shmoop\", \"isRegistered\": \"Registered\"}, {\"date\": \"2016-02-01T00:00:00\", \"timestamp\": \"2016-02-02T01:18:02.218000\", \"uid\": \"B8VO8f6hTNxf\", \"isFirst\": false, \"utmSource\": \"na\", \"isRegistered\": \"Non Registered\"}, {\"date\": \"2016-02-01T00:00:00\", \"timestamp\": \"2016-02-02T01:22:51.761000\", \"uid\": \"94v7tbWlNvmT\", \"isFirst\": false, \"utmSource\": \"na\", \"isRegistered\": \"Non Registered\"}, {\"date\": \"2016-02-01T00:00:00\", \"timestamp\": \"2016-02-02T01:28:22.536000\", \"uid\": \"1GWdd1aoFXX0\", \"isFirst\": false, \"utmSource\": \"na\", \"isRegistered\": \"Non Registered\"}, {\"date\": \"2016-02-01T00:00:00\", \"timestamp\": \"2016-02-02T01:35:06.206000\", \"uid\": \"GfZHSgYiSMNP\", \"isFirst\": false, \"utmSource\": \"na\", \"isRegistered\": \"Non Registered\"}, {\"date\": \"2016-02-01T00:00:00\", \"timestamp\": \"2016-02-02T01:45:53.058000\", \"uid\": \"SuH15oLuHfXf\", \"isFirst\": false, \"utmSource\": \"biznesowe rewolucje\", \"isRegistered\": \"Non Registered\"}, {\"date\": \"2016-02-01T00:00:00\", \"timestamp\": \"2016-02-02T01:47:01.314000\", \"uid\": \"n3MuNHgDncVy\", \"isFirst\": false, \"utmSource\": \"na\", \"isRegistered\": \"Non Registered\"}, {\"date\": \"2016-02-01T00:00:00\", \"timestamp\": \"2016-02-02T02:12:17.489000\", \"uid\": \"GC8HiBGUkKWF\", \"isFirst\": false, \"utmSource\": \"biznesowe rewolucje\", \"isRegistered\": \"Non Registered\"}, {\"date\": \"2016-02-01T00:00:00\", \"timestamp\": \"2016-02-02T02:22:28.937000\", \"uid\": \"60927011\", \"isFirst\": false, \"utmSource\": \"biznesowe rewolucje\", \"isRegistered\": \"Registered\"}, {\"date\": \"2016-02-01T00:00:00\", \"timestamp\": \"2016-02-02T02:23:44.816000\", \"uid\": \"55650432\", \"isFirst\": false, \"utmSource\": \"biznesowe rewolucje\", \"isRegistered\": \"Registered\"}, {\"date\": \"2016-02-01T00:00:00\", \"timestamp\": \"2016-02-02T02:29:51.102000\", \"uid\": \"Xz0xYSODRxgL\", \"isFirst\": true, \"utmSource\": \"na\", \"isRegistered\": \"Non Registered\"}, {\"date\": \"2016-02-01T00:00:00\", \"timestamp\": \"2016-02-02T02:40:52.453000\", \"uid\": \"eFur16ka6Q4c\", \"isFirst\": false, \"utmSource\": \"na\", \"isRegistered\": \"Non Registered\"}, {\"date\": \"2016-02-01T00:00:00\", \"timestamp\": \"2016-02-02T02:44:13.991000\", \"uid\": \"BWTDi1AUIXcv\", \"isFirst\": false, \"utmSource\": \"na\", \"isRegistered\": \"Non Registered\"}, {\"date\": \"2016-02-01T00:00:00\", \"timestamp\": \"2016-02-02T03:02:27.820000\", \"uid\": \"wQT6ISPv2BGZ\", \"isFirst\": false, \"utmSource\": \"na\", \"isRegistered\": \"Non Registered\"}, {\"date\": \"2016-02-01T00:00:00\", \"timestamp\": \"2016-02-02T03:02:50.372000\", \"uid\": \"lfFpCbY1d6BH\", \"isFirst\": false, \"utmSource\": \"shmoop\", \"isRegistered\": \"Non Registered\"}, {\"date\": \"2016-02-01T00:00:00\", \"timestamp\": \"2016-02-02T03:18:30.584000\", \"uid\": \"Jzb2p8ixQhS0\", \"isFirst\": true, \"utmSource\": \"na\", \"isRegistered\": \"Non Registered\"}, {\"date\": \"2016-02-01T00:00:00\", \"timestamp\": \"2016-02-02T03:18:35.246000\", \"uid\": \"mJ22NiqjUui2\", \"isFirst\": true, \"utmSource\": \"na\", \"isRegistered\": \"Non Registered\"}, {\"date\": \"2016-02-01T00:00:00\", \"timestamp\": \"2016-02-02T03:41:38.946000\", \"uid\": \"O6tb0jjTOY0H\", \"isFirst\": false, \"utmSource\": \"twitter\", \"isRegistered\": \"Non Registered\"}, {\"date\": \"2016-02-01T00:00:00\", \"timestamp\": \"2016-02-02T03:42:07.021000\", \"uid\": \"gC4ZUROzaAQC\", \"isFirst\": false, \"utmSource\": \"na\", \"isRegistered\": \"Non Registered\"}, {\"date\": \"2016-02-01T00:00:00\", \"timestamp\": \"2016-02-02T05:40:37.426000\", \"uid\": \"d7tShte7bmuP\", \"isFirst\": true, \"utmSource\": \"na\", \"isRegistered\": \"Non Registered\"}, {\"date\": \"2016-02-01T00:00:00\", \"timestamp\": \"2016-02-02T06:35:29.509000\", \"uid\": \"62373853\", \"isFirst\": false, \"utmSource\": \"na\", \"isRegistered\": \"Registered\"}, {\"date\": \"2016-02-01T00:00:00\", \"timestamp\": \"2016-02-02T07:06:24.902000\", \"uid\": \"BDNzketFuwdF\", \"isFirst\": false, \"utmSource\": \"other\", \"isRegistered\": \"Non Registered\"}, {\"date\": \"2016-02-01T00:00:00\", \"timestamp\": \"2016-02-02T07:14:02.181000\", \"uid\": \"jqvPyrmAiojN\", \"isFirst\": true, \"utmSource\": \"na\", \"isRegistered\": \"Non Registered\"}, {\"date\": \"2016-02-02T00:00:00\", \"timestamp\": \"2016-02-02T08:14:08.929000\", \"uid\": \"tDi83kNRLEVH\", \"isFirst\": true, \"utmSource\": \"na\", \"isRegistered\": \"Non Registered\"}, {\"date\": \"2016-02-02T00:00:00\", \"timestamp\": \"2016-02-02T09:04:32.115000\", \"uid\": \"FxhA1KlNiisU\", \"isFirst\": true, \"utmSource\": \"na\", \"isRegistered\": \"Non Registered\"}, {\"date\": \"2016-02-02T00:00:00\", \"timestamp\": \"2016-02-02T09:55:39.511000\", \"uid\": \"n1SniktsDHjn\", \"isFirst\": true, \"utmSource\": \"na\", \"isRegistered\": \"Non Registered\"}, {\"date\": \"2016-02-02T00:00:00\", \"timestamp\": \"2016-02-02T09:58:16.512000\", \"uid\": \"yuc2fL1z1cYR\", \"isFirst\": false, \"utmSource\": \"program\", \"isRegistered\": \"Non Registered\"}, {\"date\": \"2016-02-02T00:00:00\", \"timestamp\": \"2016-02-02T10:11:01.290000\", \"uid\": \"RMIcSsOmqHZf\", \"isFirst\": true, \"utmSource\": \"na\", \"isRegistered\": \"Non Registered\"}, {\"date\": \"2016-02-02T00:00:00\", \"timestamp\": \"2016-02-02T11:02:17.127000\", \"uid\": \"qXJjvenFO1RI\", \"isFirst\": false, \"utmSource\": \"na\", \"isRegistered\": \"Non Registered\"}, {\"date\": \"2016-02-02T00:00:00\", \"timestamp\": \"2016-02-02T11:23:14.710000\", \"uid\": \"QtdLFgBd3qE3\", \"isFirst\": true, \"utmSource\": \"na\", \"isRegistered\": \"Non Registered\"}, {\"date\": \"2016-02-02T00:00:00\", \"timestamp\": \"2016-02-02T11:33:17.851000\", \"uid\": \"6tfwFqaSlWbw\", \"isFirst\": false, \"utmSource\": \"biznesowe rewolucje\", \"isRegistered\": \"Non Registered\"}, {\"date\": \"2016-02-02T00:00:00\", \"timestamp\": \"2016-02-02T11:38:51.259000\", \"uid\": \"Frhs3DlNzhzQ\", \"isFirst\": true, \"utmSource\": \"na\", \"isRegistered\": \"Non Registered\"}, {\"date\": \"2016-02-02T00:00:00\", \"timestamp\": \"2016-02-02T11:47:53.547000\", \"uid\": \"mO1dawygbX6S\", \"isFirst\": false, \"utmSource\": \"na\", \"isRegistered\": \"Non Registered\"}, {\"date\": \"2016-02-02T00:00:00\", \"timestamp\": \"2016-02-02T12:14:05.483000\", \"uid\": \"Eqy8Ik1aBpo8\", \"isFirst\": true, \"utmSource\": \"na\", \"isRegistered\": \"Non Registered\"}, {\"date\": \"2016-02-02T00:00:00\", \"timestamp\": \"2016-02-02T13:23:43.640000\", \"uid\": \"BCxtgS3a45By\", \"isFirst\": false, \"utmSource\": \"twitter\", \"isRegistered\": \"Non Registered\"}, {\"date\": \"2016-02-02T00:00:00\", \"timestamp\": \"2016-02-02T13:28:06.408000\", \"uid\": \"6PsxgdZ9U7Tq\", \"isFirst\": true, \"utmSource\": \"na\", \"isRegistered\": \"Non Registered\"}, {\"date\": \"2016-02-02T00:00:00\", \"timestamp\": \"2016-02-02T13:31:36.416000\", \"uid\": \"66kvV0bSeBdL\", \"isFirst\": true, \"utmSource\": \"na\", \"isRegistered\": \"Non Registered\"}, {\"date\": \"2016-02-02T00:00:00\", \"timestamp\": \"2016-02-02T13:41:36.093000\", \"uid\": \"17YC0eu1Fqgs\", \"isFirst\": true, \"utmSource\": \"na\", \"isRegistered\": \"Non Registered\"}, {\"date\": \"2016-02-02T00:00:00\", \"timestamp\": \"2016-02-02T14:15:47.328000\", \"uid\": \"RVvRYiS9VWsG\", \"isFirst\": true, \"utmSource\": \"na\", \"isRegistered\": \"Non Registered\"}, {\"date\": \"2016-02-02T00:00:00\", \"timestamp\": \"2016-02-02T14:32:35.081000\", \"uid\": \"oI0TH4jk6vo8\", \"isFirst\": true, \"utmSource\": \"na\", \"isRegistered\": \"Non Registered\"}, {\"date\": \"2016-02-02T00:00:00\", \"timestamp\": \"2016-02-02T14:38:16.686000\", \"uid\": \"atNeQ15HMaxq\", \"isFirst\": false, \"utmSource\": \"biznesowe rewolucje\", \"isRegistered\": \"Non Registered\"}, {\"date\": \"2016-02-02T00:00:00\", \"timestamp\": \"2016-02-02T14:48:09.135000\", \"uid\": \"iSMlwMbO6b3k\", \"isFirst\": true, \"utmSource\": \"na\", \"isRegistered\": \"Non Registered\"}, {\"date\": \"2016-02-02T00:00:00\", \"timestamp\": \"2016-02-02T15:04:33.464000\", \"uid\": \"lJlBjIYFZvFR\", \"isFirst\": false, \"utmSource\": \"na\", \"isRegistered\": \"Non Registered\"}, {\"date\": \"2016-02-02T00:00:00\", \"timestamp\": \"2016-02-02T15:09:46.497000\", \"uid\": \"zIdJrjVaLVUW\", \"isFirst\": true, \"utmSource\": \"na\", \"isRegistered\": \"Non Registered\"}, {\"date\": \"2016-02-02T00:00:00\", \"timestamp\": \"2016-02-02T15:14:46.578000\", \"uid\": \"wTzhvH5WM5Ys\", \"isFirst\": true, \"utmSource\": \"na\", \"isRegistered\": \"Non Registered\"}, {\"date\": \"2016-02-02T00:00:00\", \"timestamp\": \"2016-02-02T15:17:30.509000\", \"uid\": \"aqzBkYlCImnb\", \"isFirst\": true, \"utmSource\": \"na\", \"isRegistered\": \"Non Registered\"}, {\"date\": \"2016-02-02T00:00:00\", \"timestamp\": \"2016-02-02T17:10:47.870000\", \"uid\": \"pvIes4lvI1Nt\", \"isFirst\": true, \"utmSource\": \"na\", \"isRegistered\": \"Non Registered\"}, {\"date\": \"2016-02-02T00:00:00\", \"timestamp\": \"2016-02-02T17:11:16.001000\", \"uid\": \"boUVgDOFGrkI\", \"isFirst\": true, \"utmSource\": \"na\", \"isRegistered\": \"Non Registered\"}, {\"date\": \"2016-02-02T00:00:00\", \"timestamp\": \"2016-02-02T17:31:31.978000\", \"uid\": \"jUq0RdDDZzD7\", \"isFirst\": true, \"utmSource\": \"na\", \"isRegistered\": \"Non Registered\"}, {\"date\": \"2016-02-02T00:00:00\", \"timestamp\": \"2016-02-02T17:55:29.111000\", \"uid\": \"UZTIGw3KbSY8\", \"isFirst\": false, \"utmSource\": \"biznesowe rewolucje\", \"isRegistered\": \"Non Registered\"}, {\"date\": \"2016-02-02T00:00:00\", \"timestamp\": \"2016-02-02T18:29:59.773000\", \"uid\": \"hSpcxuWEbjQf\", \"isFirst\": true, \"utmSource\": \"na\", \"isRegistered\": \"Non Registered\"}, {\"date\": \"2016-02-02T00:00:00\", \"timestamp\": \"2016-02-02T19:26:45.708000\", \"uid\": \"79644593\", \"isFirst\": false, \"utmSource\": \"program\", \"isRegistered\": \"Registered\"}, {\"date\": \"2016-02-02T00:00:00\", \"timestamp\": \"2016-02-02T19:34:01.713000\", \"uid\": \"QTRadYlogUBq\", \"isFirst\": true, \"utmSource\": \"na\", \"isRegistered\": \"Non Registered\"}, {\"date\": \"2016-02-02T00:00:00\", \"timestamp\": \"2016-02-02T19:56:02.395000\", \"uid\": \"8l2LyhNyXH6e\", \"isFirst\": true, \"utmSource\": \"na\", \"isRegistered\": \"Non Registered\"}, {\"date\": \"2016-02-02T00:00:00\", \"timestamp\": \"2016-02-02T20:23:21.145000\", \"uid\": \"QrvF0UX3nYRi\", \"isFirst\": true, \"utmSource\": \"na\", \"isRegistered\": \"Non Registered\"}, {\"date\": \"2016-02-02T00:00:00\", \"timestamp\": \"2016-02-02T20:40:39.908000\", \"uid\": \"Lj9ESjT7FYpS\", \"isFirst\": true, \"utmSource\": \"na\", \"isRegistered\": \"Non Registered\"}, {\"date\": \"2016-02-02T00:00:00\", \"timestamp\": \"2016-02-02T21:13:54.682000\", \"uid\": \"mOgAllHawOyc\", \"isFirst\": false, \"utmSource\": \"shmoop\", \"isRegistered\": \"Non Registered\"}, {\"date\": \"2016-02-02T00:00:00\", \"timestamp\": \"2016-02-02T21:49:01.743000\", \"uid\": \"EtN8ypeP83qT\", \"isFirst\": true, \"utmSource\": \"na\", \"isRegistered\": \"Non Registered\"}, {\"date\": \"2016-02-02T00:00:00\", \"timestamp\": \"2016-02-02T22:36:52.564000\", \"uid\": \"VvkMzWH5gXMh\", \"isFirst\": true, \"utmSource\": \"na\", \"isRegistered\": \"Non Registered\"}, {\"date\": \"2016-02-02T00:00:00\", \"timestamp\": \"2016-02-02T23:28:51.392000\", \"uid\": \"PV1FQZiew6CK\", \"isFirst\": true, \"utmSource\": \"na\", \"isRegistered\": \"Non Registered\"}, {\"date\": \"2016-02-02T00:00:00\", \"timestamp\": \"2016-02-03T00:46:23.532000\", \"uid\": \"0dKPaH0bZtsQ\", \"isFirst\": true, \"utmSource\": \"na\", \"isRegistered\": \"Non Registered\"}, {\"date\": \"2016-02-02T00:00:00\", \"timestamp\": \"2016-02-03T00:47:41.170000\", \"uid\": \"6BRtCWHDLrV5\", \"isFirst\": false, \"utmSource\": \"na\", \"isRegistered\": \"Non Registered\"}, {\"date\": \"2016-02-02T00:00:00\", \"timestamp\": \"2016-02-03T02:30:55.524000\", \"uid\": \"glF4siUJKG8a\", \"isFirst\": false, \"utmSource\": \"program\", \"isRegistered\": \"Non Registered\"}, {\"date\": \"2016-02-02T00:00:00\", \"timestamp\": \"2016-02-03T03:04:33.725000\", \"uid\": \"rDBoKuN5tcAE\", \"isFirst\": false, \"utmSource\": \"biznesowe rewolucje\", \"isRegistered\": \"Non Registered\"}, {\"date\": \"2016-02-02T00:00:00\", \"timestamp\": \"2016-02-03T03:29:25.770000\", \"uid\": \"jy0m1s2OqDj6\", \"isFirst\": false, \"utmSource\": \"na\", \"isRegistered\": \"Non Registered\"}, {\"date\": \"2016-02-02T00:00:00\", \"timestamp\": \"2016-02-03T05:29:45.125000\", \"uid\": \"zDLeJ0JO4hHN\", \"isFirst\": true, \"utmSource\": \"na\", \"isRegistered\": \"Non Registered\"}, {\"date\": \"2016-02-02T00:00:00\", \"timestamp\": \"2016-02-03T06:00:02.896000\", \"uid\": \"3XSmxF9tlU6X\", \"isFirst\": false, \"utmSource\": \"program\", \"isRegistered\": \"Non Registered\"}, {\"date\": \"2016-02-02T00:00:00\", \"timestamp\": \"2016-02-03T06:52:48.248000\", \"uid\": \"TPqx9YpVhLFD\", \"isFirst\": true, \"utmSource\": \"na\", \"isRegistered\": \"Non Registered\"}, {\"date\": \"2016-02-02T00:00:00\", \"timestamp\": \"2016-02-03T07:51:33.499000\", \"uid\": \"3O2f0ThDyXcH\", \"isFirst\": true, \"utmSource\": \"na\", \"isRegistered\": \"Non Registered\"}, {\"date\": \"2016-02-02T00:00:00\", \"timestamp\": \"2016-02-03T07:56:07.201000\", \"uid\": \"KlVt1J1BBcmD\", \"isFirst\": false, \"utmSource\": \"na\", \"isRegistered\": \"Non Registered\"}, {\"date\": \"2016-02-03T00:00:00\", \"timestamp\": \"2016-02-03T08:37:34.175000\", \"uid\": \"vahY0kiKplnl\", \"isFirst\": true, \"utmSource\": \"na\", \"isRegistered\": \"Non Registered\"}, {\"date\": \"2016-02-03T00:00:00\", \"timestamp\": \"2016-02-03T09:19:03.533000\", \"uid\": \"O4xjPiLIHRpv\", \"isFirst\": true, \"utmSource\": \"na\", \"isRegistered\": \"Non Registered\"}, {\"date\": \"2016-02-03T00:00:00\", \"timestamp\": \"2016-02-03T09:26:40.610000\", \"uid\": \"O9mqINrj2mXc\", \"isFirst\": true, \"utmSource\": \"na\", \"isRegistered\": \"Non Registered\"}, {\"date\": \"2016-02-03T00:00:00\", \"timestamp\": \"2016-02-03T09:32:48.230000\", \"uid\": \"Q7SDlpFHcAgR\", \"isFirst\": true, \"utmSource\": \"na\", \"isRegistered\": \"Non Registered\"}, {\"date\": \"2016-02-03T00:00:00\", \"timestamp\": \"2016-02-03T09:41:34.159000\", \"uid\": \"SU6w2oTU5w8E\", \"isFirst\": false, \"utmSource\": \"biznesowe rewolucje\", \"isRegistered\": \"Non Registered\"}, {\"date\": \"2016-02-03T00:00:00\", \"timestamp\": \"2016-02-03T10:20:51.619000\", \"uid\": \"lzonflR7TW32\", \"isFirst\": true, \"utmSource\": \"na\", \"isRegistered\": \"Non Registered\"}, {\"date\": \"2016-02-03T00:00:00\", \"timestamp\": \"2016-02-03T12:37:17.641000\", \"uid\": \"UpVEMj6tJFWm\", \"isFirst\": true, \"utmSource\": \"na\", \"isRegistered\": \"Non Registered\"}, {\"date\": \"2016-02-03T00:00:00\", \"timestamp\": \"2016-02-03T12:45:57.378000\", \"uid\": \"zfHoHvjYaIDT\", \"isFirst\": true, \"utmSource\": \"na\", \"isRegistered\": \"Non Registered\"}, {\"date\": \"2016-02-03T00:00:00\", \"timestamp\": \"2016-02-03T13:50:41.132000\", \"uid\": \"CpIieqTuPvGY\", \"isFirst\": true, \"utmSource\": \"na\", \"isRegistered\": \"Non Registered\"}, {\"date\": \"2016-02-03T00:00:00\", \"timestamp\": \"2016-02-03T13:51:07.073000\", \"uid\": \"RxzALznpSuZb\", \"isFirst\": true, \"utmSource\": \"na\", \"isRegistered\": \"Non Registered\"}, {\"date\": \"2016-02-03T00:00:00\", \"timestamp\": \"2016-02-03T14:17:12.375000\", \"uid\": \"Pbg9wgSDD6ze\", \"isFirst\": true, \"utmSource\": \"na\", \"isRegistered\": \"Non Registered\"}, {\"date\": \"2016-02-03T00:00:00\", \"timestamp\": \"2016-02-03T15:51:04.149000\", \"uid\": \"oMWL0V25PvVh\", \"isFirst\": true, \"utmSource\": \"na\", \"isRegistered\": \"Non Registered\"}, {\"date\": \"2016-02-03T00:00:00\", \"timestamp\": \"2016-02-03T15:59:11.670000\", \"uid\": \"plnH85NIDR69\", \"isFirst\": true, \"utmSource\": \"na\", \"isRegistered\": \"Non Registered\"}, {\"date\": \"2016-02-03T00:00:00\", \"timestamp\": \"2016-02-03T16:33:48.390000\", \"uid\": \"B364BXi6aI3R\", \"isFirst\": false, \"utmSource\": \"biznesowe rewolucje\", \"isRegistered\": \"Non Registered\"}, {\"date\": \"2016-02-03T00:00:00\", \"timestamp\": \"2016-02-03T16:39:38.242000\", \"uid\": \"uvO5OdjUzqNb\", \"isFirst\": true, \"utmSource\": \"na\", \"isRegistered\": \"Non Registered\"}, {\"date\": \"2016-02-03T00:00:00\", \"timestamp\": \"2016-02-03T18:40:14.739000\", \"uid\": \"KO7R3E5DJoAy\", \"isFirst\": true, \"utmSource\": \"na\", \"isRegistered\": \"Non Registered\"}, {\"date\": \"2016-02-03T00:00:00\", \"timestamp\": \"2016-02-03T19:18:04.192000\", \"uid\": \"F7xdmZniGyhD\", \"isFirst\": true, \"utmSource\": \"na\", \"isRegistered\": \"Non Registered\"}, {\"date\": \"2016-02-03T00:00:00\", \"timestamp\": \"2016-02-03T19:52:44.705000\", \"uid\": \"v7XZSKWu4yYB\", \"isFirst\": true, \"utmSource\": \"na\", \"isRegistered\": \"Non Registered\"}, {\"date\": \"2016-02-03T00:00:00\", \"timestamp\": \"2016-02-03T20:40:00.949000\", \"uid\": \"VDpVmKxxDXk3\", \"isFirst\": true, \"utmSource\": \"na\", \"isRegistered\": \"Non Registered\"}, {\"date\": \"2016-02-03T00:00:00\", \"timestamp\": \"2016-02-03T21:09:59.410000\", \"uid\": \"Qm1dUs0DhDSA\", \"isFirst\": true, \"utmSource\": \"na\", \"isRegistered\": \"Non Registered\"}, {\"date\": \"2016-02-03T00:00:00\", \"timestamp\": \"2016-02-03T21:42:41.703000\", \"uid\": \"WwtnHybtE8qY\", \"isFirst\": false, \"utmSource\": \"salesmanago\", \"isRegistered\": \"Non Registered\"}, {\"date\": \"2016-02-03T00:00:00\", \"timestamp\": \"2016-02-03T23:21:37.815000\", \"uid\": \"gP2rNNqZU3hN\", \"isFirst\": true, \"utmSource\": \"na\", \"isRegistered\": \"Non Registered\"}, {\"date\": \"2016-02-03T00:00:00\", \"timestamp\": \"2016-02-03T23:54:12.462000\", \"uid\": \"VDkcV0DaKKWC\", \"isFirst\": true, \"utmSource\": \"na\", \"isRegistered\": \"Non Registered\"}, {\"date\": \"2016-02-03T00:00:00\", \"timestamp\": \"2016-02-04T01:21:43.797000\", \"uid\": \"TWb46g034xel\", \"isFirst\": true, \"utmSource\": \"na\", \"isRegistered\": \"Non Registered\"}, {\"date\": \"2016-02-03T00:00:00\", \"timestamp\": \"2016-02-04T02:15:30.744000\", \"uid\": \"hE80y0OkuoZv\", \"isFirst\": true, \"utmSource\": \"na\", \"isRegistered\": \"Non Registered\"}, {\"date\": \"2016-02-03T00:00:00\", \"timestamp\": \"2016-02-04T02:19:17.944000\", \"uid\": \"KVqNPTyFaKBx\", \"isFirst\": true, \"utmSource\": \"na\", \"isRegistered\": \"Non Registered\"}, {\"date\": \"2016-02-03T00:00:00\", \"timestamp\": \"2016-02-04T02:40:45.153000\", \"uid\": \"oRJLY8hlPEzS\", \"isFirst\": false, \"utmSource\": \"na\", \"isRegistered\": \"Non Registered\"}, {\"date\": \"2016-02-03T00:00:00\", \"timestamp\": \"2016-02-04T02:46:51.648000\", \"uid\": \"jdF6JFDlOHmS\", \"isFirst\": true, \"utmSource\": \"na\", \"isRegistered\": \"Non Registered\"}, {\"date\": \"2016-02-03T00:00:00\", \"timestamp\": \"2016-02-04T02:52:47.486000\", \"uid\": \"S5lKPPf8J0hR\", \"isFirst\": false, \"utmSource\": \"na\", \"isRegistered\": \"Non Registered\"}, {\"date\": \"2016-02-03T00:00:00\", \"timestamp\": \"2016-02-04T03:14:27.104000\", \"uid\": \"Q7e9yQG9741y\", \"isFirst\": true, \"utmSource\": \"na\", \"isRegistered\": \"Non Registered\"}, {\"date\": \"2016-02-03T00:00:00\", \"timestamp\": \"2016-02-04T03:36:30.576000\", \"uid\": \"ErK0lPkQYzP6\", \"isFirst\": true, \"utmSource\": \"na\", \"isRegistered\": \"Non Registered\"}, {\"date\": \"2016-02-03T00:00:00\", \"timestamp\": \"2016-02-04T05:02:39.670000\", \"uid\": \"9vNQ19Ey8Spq\", \"isFirst\": true, \"utmSource\": \"na\", \"isRegistered\": \"Non Registered\"}, {\"date\": \"2016-02-03T00:00:00\", \"timestamp\": \"2016-02-04T05:25:04.247000\", \"uid\": \"8DMo4YqYnXfB\", \"isFirst\": true, \"utmSource\": \"na\", \"isRegistered\": \"Non Registered\"}, {\"date\": \"2016-02-03T00:00:00\", \"timestamp\": \"2016-02-04T05:25:24.548000\", \"uid\": \"v4Zfwqu538DZ\", \"isFirst\": true, \"utmSource\": \"na\", \"isRegistered\": \"Non Registered\"}, {\"date\": \"2016-02-03T00:00:00\", \"timestamp\": \"2016-02-04T07:45:50.676000\", \"uid\": \"kFVaHiV3ljCG\", \"isFirst\": true, \"utmSource\": \"na\", \"isRegistered\": \"Non Registered\"}, {\"date\": \"2016-02-04T00:00:00\", \"timestamp\": \"2016-02-04T09:24:02.693000\", \"uid\": \"58466624\", \"isFirst\": false, \"utmSource\": \"na\", \"isRegistered\": \"Registered\"}, {\"date\": \"2016-02-04T00:00:00\", \"timestamp\": \"2016-02-04T09:34:22.576000\", \"uid\": \"egzdztTzwwaj\", \"isFirst\": true, \"utmSource\": \"na\", \"isRegistered\": \"Non Registered\"}, {\"date\": \"2016-02-04T00:00:00\", \"timestamp\": \"2016-02-04T10:26:20.195000\", \"uid\": \"UFRvb9WUqDyF\", \"isFirst\": true, \"utmSource\": \"na\", \"isRegistered\": \"Non Registered\"}, {\"date\": \"2016-02-04T00:00:00\", \"timestamp\": \"2016-02-04T13:05:28.241000\", \"uid\": \"fizJeZqpSMQf\", \"isFirst\": true, \"utmSource\": \"na\", \"isRegistered\": \"Non Registered\"}, {\"date\": \"2016-02-04T00:00:00\", \"timestamp\": \"2016-02-04T13:19:33.799000\", \"uid\": \"PmdCtgTPr8od\", \"isFirst\": true, \"utmSource\": \"na\", \"isRegistered\": \"Non Registered\"}, {\"date\": \"2016-02-04T00:00:00\", \"timestamp\": \"2016-02-04T14:39:19.278000\", \"uid\": \"cQwyyfvqP4Sp\", \"isFirst\": true, \"utmSource\": \"na\", \"isRegistered\": \"Non Registered\"}, {\"date\": \"2016-02-04T00:00:00\", \"timestamp\": \"2016-02-04T17:00:55.474000\", \"uid\": \"rkQsnakjTuh0\", \"isFirst\": false, \"utmSource\": \"biznesowe rewolucje\", \"isRegistered\": \"Non Registered\"}, {\"date\": \"2016-02-04T00:00:00\", \"timestamp\": \"2016-02-04T17:09:42.081000\", \"uid\": \"zCOxTYRFDvD2\", \"isFirst\": true, \"utmSource\": \"na\", \"isRegistered\": \"Non Registered\"}, {\"date\": \"2016-02-04T00:00:00\", \"timestamp\": \"2016-02-04T17:53:40.992000\", \"uid\": \"lbL51vxGTHGg\", \"isFirst\": true, \"utmSource\": \"na\", \"isRegistered\": \"Non Registered\"}, {\"date\": \"2016-02-04T00:00:00\", \"timestamp\": \"2016-02-04T17:54:33.476000\", \"uid\": \"CqABqYdX6HUb\", \"isFirst\": true, \"utmSource\": \"na\", \"isRegistered\": \"Non Registered\"}, {\"date\": \"2016-02-04T00:00:00\", \"timestamp\": \"2016-02-04T18:19:26.705000\", \"uid\": \"koWb8hpiICTZ\", \"isFirst\": true, \"utmSource\": \"na\", \"isRegistered\": \"Non Registered\"}, {\"date\": \"2016-02-04T00:00:00\", \"timestamp\": \"2016-02-04T18:48:52.989000\", \"uid\": \"MI1CfSc7YEla\", \"isFirst\": false, \"utmSource\": \"na\", \"isRegistered\": \"Non Registered\"}, {\"date\": \"2016-02-04T00:00:00\", \"timestamp\": \"2016-02-04T19:26:24.252000\", \"uid\": \"JSNQ4u7DqZfb\", \"isFirst\": true, \"utmSource\": \"na\", \"isRegistered\": \"Non Registered\"}, {\"date\": \"2016-02-04T00:00:00\", \"timestamp\": \"2016-02-04T20:10:23.804000\", \"uid\": \"Tay5uBsRoYw4\", \"isFirst\": true, \"utmSource\": \"na\", \"isRegistered\": \"Non Registered\"}, {\"date\": \"2016-02-04T00:00:00\", \"timestamp\": \"2016-02-04T20:52:42.191000\", \"uid\": \"EDFLZ8dTOCQw\", \"isFirst\": true, \"utmSource\": \"na\", \"isRegistered\": \"Non Registered\"}, {\"date\": \"2016-02-04T00:00:00\", \"timestamp\": \"2016-02-04T21:21:05.402000\", \"uid\": \"7TACcEwDLGhg\", \"isFirst\": true, \"utmSource\": \"na\", \"isRegistered\": \"Non Registered\"}, {\"date\": \"2016-02-04T00:00:00\", \"timestamp\": \"2016-02-04T22:42:04.026000\", \"uid\": \"6nvFtvdNllnu\", \"isFirst\": true, \"utmSource\": \"na\", \"isRegistered\": \"Non Registered\"}, {\"date\": \"2016-02-04T00:00:00\", \"timestamp\": \"2016-02-04T22:51:38.198000\", \"uid\": \"bIKJUncYQlTQ\", \"isFirst\": true, \"utmSource\": \"na\", \"isRegistered\": \"Non Registered\"}, {\"date\": \"2016-02-04T00:00:00\", \"timestamp\": \"2016-02-04T23:28:18.111000\", \"uid\": \"DY0kCG6BEZVB\", \"isFirst\": true, \"utmSource\": \"na\", \"isRegistered\": \"Non Registered\"}, {\"date\": \"2016-02-04T00:00:00\", \"timestamp\": \"2016-02-04T23:32:13.812000\", \"uid\": \"WS6YgStbffXX\", \"isFirst\": true, \"utmSource\": \"na\", \"isRegistered\": \"Non Registered\"}, {\"date\": \"2016-02-04T00:00:00\", \"timestamp\": \"2016-02-04T23:45:26.119000\", \"uid\": \"DPNrtqUfaKr7\", \"isFirst\": true, \"utmSource\": \"na\", \"isRegistered\": \"Non Registered\"}, {\"date\": \"2016-02-04T00:00:00\", \"timestamp\": \"2016-02-05T01:06:11.865000\", \"uid\": \"fb1N3pY9WTmw\", \"isFirst\": true, \"utmSource\": \"na\", \"isRegistered\": \"Non Registered\"}, {\"date\": \"2016-02-04T00:00:00\", \"timestamp\": \"2016-02-05T02:57:13.536000\", \"uid\": \"SxPe6n6fxbTy\", \"isFirst\": true, \"utmSource\": \"na\", \"isRegistered\": \"Non Registered\"}, {\"date\": \"2016-02-04T00:00:00\", \"timestamp\": \"2016-02-05T03:21:13.922000\", \"uid\": \"GG0ZBO1Kldk2\", \"isFirst\": true, \"utmSource\": \"na\", \"isRegistered\": \"Non Registered\"}, {\"date\": \"2016-02-04T00:00:00\", \"timestamp\": \"2016-02-05T03:29:26.223000\", \"uid\": \"v6pkMogTi2vm\", \"isFirst\": true, \"utmSource\": \"na\", \"isRegistered\": \"Non Registered\"}, {\"date\": \"2016-02-04T00:00:00\", \"timestamp\": \"2016-02-05T05:15:12.591000\", \"uid\": \"3Bb6VmDjNqDP\", \"isFirst\": true, \"utmSource\": \"na\", \"isRegistered\": \"Non Registered\"}, {\"date\": \"2016-02-04T00:00:00\", \"timestamp\": \"2016-02-05T06:09:11.276000\", \"uid\": \"2wZ776Wnifcy\", \"isFirst\": false, \"utmSource\": \"program\", \"isRegistered\": \"Non Registered\"}, {\"date\": \"2016-02-04T00:00:00\", \"timestamp\": \"2016-02-05T07:02:57.243000\", \"uid\": \"982X4sOVIwR0\", \"isFirst\": true, \"utmSource\": \"na\", \"isRegistered\": \"Non Registered\"}, {\"date\": \"2016-02-05T00:00:00\", \"timestamp\": \"2016-02-05T08:55:15.708000\", \"uid\": \"mAOKjTb1GMLw\", \"isFirst\": true, \"utmSource\": \"na\", \"isRegistered\": \"Non Registered\"}, {\"date\": \"2016-02-05T00:00:00\", \"timestamp\": \"2016-02-05T10:55:23.194000\", \"uid\": \"NWizLbJtwFnd\", \"isFirst\": true, \"utmSource\": \"na\", \"isRegistered\": \"Non Registered\"}, {\"date\": \"2016-02-05T00:00:00\", \"timestamp\": \"2016-02-05T11:18:13.472000\", \"uid\": \"IJS5smtigiR5\", \"isFirst\": true, \"utmSource\": \"na\", \"isRegistered\": \"Non Registered\"}, {\"date\": \"2016-02-05T00:00:00\", \"timestamp\": \"2016-02-05T14:32:15.062000\", \"uid\": \"glmebmyAwH2o\", \"isFirst\": true, \"utmSource\": \"na\", \"isRegistered\": \"Non Registered\"}, {\"date\": \"2016-02-05T00:00:00\", \"timestamp\": \"2016-02-05T14:39:27.084000\", \"uid\": \"xw4irGGRTSyB\", \"isFirst\": true, \"utmSource\": \"na\", \"isRegistered\": \"Non Registered\"}, {\"date\": \"2016-02-05T00:00:00\", \"timestamp\": \"2016-02-05T14:53:47.080000\", \"uid\": \"niXfZ2qxuJYb\", \"isFirst\": true, \"utmSource\": \"na\", \"isRegistered\": \"Non Registered\"}, {\"date\": \"2016-02-05T00:00:00\", \"timestamp\": \"2016-02-05T14:55:36.315000\", \"uid\": \"JqBVHFR9H83Z\", \"isFirst\": true, \"utmSource\": \"na\", \"isRegistered\": \"Non Registered\"}, {\"date\": \"2016-02-05T00:00:00\", \"timestamp\": \"2016-02-05T15:53:29.971000\", \"uid\": \"dXoHNmQ1nDwm\", \"isFirst\": false, \"utmSource\": \"na\", \"isRegistered\": \"Non Registered\"}, {\"date\": \"2016-02-05T00:00:00\", \"timestamp\": \"2016-02-05T17:40:46.012000\", \"uid\": \"e8GxaGlFrdPM\", \"isFirst\": true, \"utmSource\": \"na\", \"isRegistered\": \"Non Registered\"}, {\"date\": \"2016-02-05T00:00:00\", \"timestamp\": \"2016-02-05T18:20:58.183000\", \"uid\": \"jLIiBTNcm7Th\", \"isFirst\": true, \"utmSource\": \"na\", \"isRegistered\": \"Non Registered\"}, {\"date\": \"2016-02-05T00:00:00\", \"timestamp\": \"2016-02-05T19:04:32.164000\", \"uid\": \"qMZTSnbh1lMw\", \"isFirst\": true, \"utmSource\": \"na\", \"isRegistered\": \"Non Registered\"}, {\"date\": \"2016-02-05T00:00:00\", \"timestamp\": \"2016-02-05T19:09:27.786000\", \"uid\": \"qphS6dBDHvoI\", \"isFirst\": false, \"utmSource\": \"na\", \"isRegistered\": \"Non Registered\"}, {\"date\": \"2016-02-05T00:00:00\", \"timestamp\": \"2016-02-05T19:25:55.288000\", \"uid\": \"Y8YmsP8XuLrG\", \"isFirst\": true, \"utmSource\": \"na\", \"isRegistered\": \"Non Registered\"}, {\"date\": \"2016-02-05T00:00:00\", \"timestamp\": \"2016-02-05T22:00:55.432000\", \"uid\": \"MM09OYweCgu0\", \"isFirst\": false, \"utmSource\": \"na\", \"isRegistered\": \"Non Registered\"}, {\"date\": \"2016-02-05T00:00:00\", \"timestamp\": \"2016-02-05T23:01:15.302000\", \"uid\": \"CaE84BZsgJ8N\", \"isFirst\": true, \"utmSource\": \"na\", \"isRegistered\": \"Non Registered\"}, {\"date\": \"2016-02-05T00:00:00\", \"timestamp\": \"2016-02-06T00:22:14.835000\", \"uid\": \"P3HxRYO7qwXv\", \"isFirst\": false, \"utmSource\": \"biznesowe rewolucje\", \"isRegistered\": \"Non Registered\"}, {\"date\": \"2016-02-05T00:00:00\", \"timestamp\": \"2016-02-06T00:41:51.529000\", \"uid\": \"WDLD2Er4RERP\", \"isFirst\": true, \"utmSource\": \"na\", \"isRegistered\": \"Non Registered\"}, {\"date\": \"2016-02-05T00:00:00\", \"timestamp\": \"2016-02-06T02:14:26.540000\", \"uid\": \"IAShYWcfWVvy\", \"isFirst\": true, \"utmSource\": \"na\", \"isRegistered\": \"Non Registered\"}, {\"date\": \"2016-02-05T00:00:00\", \"timestamp\": \"2016-02-06T04:51:55.516000\", \"uid\": \"zL0e4mlNsqtq\", \"isFirst\": true, \"utmSource\": \"na\", \"isRegistered\": \"Non Registered\"}, {\"date\": \"2016-02-05T00:00:00\", \"timestamp\": \"2016-02-06T05:18:50.634000\", \"uid\": \"57589179\", \"isFirst\": false, \"utmSource\": \"program\", \"isRegistered\": \"Registered\"}, {\"date\": \"2016-02-05T00:00:00\", \"timestamp\": \"2016-02-06T06:48:59.410000\", \"uid\": \"ebjB43cQwYG3\", \"isFirst\": true, \"utmSource\": \"na\", \"isRegistered\": \"Non Registered\"}, {\"date\": \"2016-02-06T00:00:00\", \"timestamp\": \"2016-02-06T08:15:46.975000\", \"uid\": \"rUn531hnFO5h\", \"isFirst\": false, \"utmSource\": \"program\", \"isRegistered\": \"Non Registered\"}, {\"date\": \"2016-02-06T00:00:00\", \"timestamp\": \"2016-02-06T08:51:16.965000\", \"uid\": \"zreokGxaozV7\", \"isFirst\": true, \"utmSource\": \"na\", \"isRegistered\": \"Non Registered\"}, {\"date\": \"2016-02-06T00:00:00\", \"timestamp\": \"2016-02-06T09:33:14.209000\", \"uid\": \"58725792\", \"isFirst\": false, \"utmSource\": \"biznesowe rewolucje\", \"isRegistered\": \"Registered\"}, {\"date\": \"2016-02-06T00:00:00\", \"timestamp\": \"2016-02-06T09:44:47.425000\", \"uid\": \"dboMYGgMZGTV\", \"isFirst\": true, \"utmSource\": \"na\", \"isRegistered\": \"Non Registered\"}, {\"date\": \"2016-02-06T00:00:00\", \"timestamp\": \"2016-02-06T11:36:25.699000\", \"uid\": \"kPFcpa0MGeIE\", \"isFirst\": true, \"utmSource\": \"na\", \"isRegistered\": \"Non Registered\"}, {\"date\": \"2016-02-06T00:00:00\", \"timestamp\": \"2016-02-06T12:38:39.933000\", \"uid\": \"4nrW8DNHsLhT\", \"isFirst\": true, \"utmSource\": \"na\", \"isRegistered\": \"Non Registered\"}, {\"date\": \"2016-02-06T00:00:00\", \"timestamp\": \"2016-02-06T12:44:57.157000\", \"uid\": \"wSW4v2trjlC2\", \"isFirst\": true, \"utmSource\": \"na\", \"isRegistered\": \"Non Registered\"}, {\"date\": \"2016-02-06T00:00:00\", \"timestamp\": \"2016-02-06T13:24:39.310000\", \"uid\": \"ouUHmRUUYOah\", \"isFirst\": true, \"utmSource\": \"na\", \"isRegistered\": \"Non Registered\"}, {\"date\": \"2016-02-06T00:00:00\", \"timestamp\": \"2016-02-06T14:39:39.698000\", \"uid\": \"8KCPhiH77RWn\", \"isFirst\": true, \"utmSource\": \"na\", \"isRegistered\": \"Non Registered\"}, {\"date\": \"2016-02-06T00:00:00\", \"timestamp\": \"2016-02-06T15:24:32.106000\", \"uid\": \"0ggTaQpWWOyN\", \"isFirst\": false, \"utmSource\": \"na\", \"isRegistered\": \"Non Registered\"}, {\"date\": \"2016-02-06T00:00:00\", \"timestamp\": \"2016-02-06T15:58:14.754000\", \"uid\": \"57486600\", \"isFirst\": false, \"utmSource\": \"shmoop\", \"isRegistered\": \"Registered\"}, {\"date\": \"2016-02-06T00:00:00\", \"timestamp\": \"2016-02-06T16:14:26.100000\", \"uid\": \"kn6l1WmPRePN\", \"isFirst\": true, \"utmSource\": \"na\", \"isRegistered\": \"Non Registered\"}, {\"date\": \"2016-02-06T00:00:00\", \"timestamp\": \"2016-02-06T16:19:19.038000\", \"uid\": \"vVGpgOGR53VF\", \"isFirst\": false, \"utmSource\": \"biznesowe rewolucje\", \"isRegistered\": \"Non Registered\"}, {\"date\": \"2016-02-06T00:00:00\", \"timestamp\": \"2016-02-06T16:48:40.646000\", \"uid\": \"Y8DQUaPS5v8B\", \"isFirst\": false, \"utmSource\": \"twitter\", \"isRegistered\": \"Non Registered\"}, {\"date\": \"2016-02-06T00:00:00\", \"timestamp\": \"2016-02-06T16:51:37.559000\", \"uid\": \"64459218\", \"isFirst\": false, \"utmSource\": \"program\", \"isRegistered\": \"Registered\"}, {\"date\": \"2016-02-06T00:00:00\", \"timestamp\": \"2016-02-06T17:32:42.125000\", \"uid\": \"KsuX62rlemgy\", \"isFirst\": true, \"utmSource\": \"na\", \"isRegistered\": \"Non Registered\"}, {\"date\": \"2016-02-06T00:00:00\", \"timestamp\": \"2016-02-06T17:56:46.399000\", \"uid\": \"Sxid31XjX4r2\", \"isFirst\": true, \"utmSource\": \"na\", \"isRegistered\": \"Non Registered\"}, {\"date\": \"2016-02-06T00:00:00\", \"timestamp\": \"2016-02-06T19:29:42.845000\", \"uid\": \"KnViEiR1lx57\", \"isFirst\": true, \"utmSource\": \"na\", \"isRegistered\": \"Non Registered\"}, {\"date\": \"2016-02-06T00:00:00\", \"timestamp\": \"2016-02-06T19:45:43.407000\", \"uid\": \"Or7Q6z4ehqDh\", \"isFirst\": true, \"utmSource\": \"na\", \"isRegistered\": \"Non Registered\"}, {\"date\": \"2016-02-06T00:00:00\", \"timestamp\": \"2016-02-06T20:35:55.513000\", \"uid\": \"AubfNPsPgLXK\", \"isFirst\": true, \"utmSource\": \"na\", \"isRegistered\": \"Non Registered\"}, {\"date\": \"2016-02-06T00:00:00\", \"timestamp\": \"2016-02-06T21:00:44.313000\", \"uid\": \"8oYYE3DtE23h\", \"isFirst\": false, \"utmSource\": \"shmoop\", \"isRegistered\": \"Non Registered\"}, {\"date\": \"2016-02-06T00:00:00\", \"timestamp\": \"2016-02-06T21:48:23.821000\", \"uid\": \"W2kdqCsz0eaV\", \"isFirst\": true, \"utmSource\": \"na\", \"isRegistered\": \"Non Registered\"}, {\"date\": \"2016-02-06T00:00:00\", \"timestamp\": \"2016-02-06T22:26:07.727000\", \"uid\": \"zPFTZvSWZva4\", \"isFirst\": true, \"utmSource\": \"na\", \"isRegistered\": \"Non Registered\"}, {\"date\": \"2016-02-06T00:00:00\", \"timestamp\": \"2016-02-07T01:49:01.749000\", \"uid\": \"wqpEpz0m57ro\", \"isFirst\": false, \"utmSource\": \"program\", \"isRegistered\": \"Non Registered\"}, {\"date\": \"2016-02-06T00:00:00\", \"timestamp\": \"2016-02-07T02:18:43.996000\", \"uid\": \"TkcmPug67tmU\", \"isFirst\": true, \"utmSource\": \"na\", \"isRegistered\": \"Non Registered\"}, {\"date\": \"2016-02-06T00:00:00\", \"timestamp\": \"2016-02-07T02:25:00.943000\", \"uid\": \"gO2ChhWwgic4\", \"isFirst\": false, \"utmSource\": \"na\", \"isRegistered\": \"Non Registered\"}, {\"date\": \"2016-02-06T00:00:00\", \"timestamp\": \"2016-02-07T03:19:06.956000\", \"uid\": \"Jjrcv01yurvR\", \"isFirst\": true, \"utmSource\": \"na\", \"isRegistered\": \"Non Registered\"}, {\"date\": \"2016-02-06T00:00:00\", \"timestamp\": \"2016-02-07T04:42:43.611000\", \"uid\": \"ooeHTkskTmJq\", \"isFirst\": true, \"utmSource\": \"na\", \"isRegistered\": \"Non Registered\"}, {\"date\": \"2016-02-06T00:00:00\", \"timestamp\": \"2016-02-07T06:23:05.879000\", \"uid\": \"bgKXYo3ML6xK\", \"isFirst\": true, \"utmSource\": \"na\", \"isRegistered\": \"Non Registered\"}, {\"date\": \"2016-02-06T00:00:00\", \"timestamp\": \"2016-02-07T06:53:13.907000\", \"uid\": \"o6upPXM0Sj4M\", \"isFirst\": true, \"utmSource\": \"na\", \"isRegistered\": \"Non Registered\"}, {\"date\": \"2016-02-07T00:00:00\", \"timestamp\": \"2016-02-07T11:54:07.500000\", \"uid\": \"VZDEliVfgbgM\", \"isFirst\": true, \"utmSource\": \"na\", \"isRegistered\": \"Non Registered\"}, {\"date\": \"2016-02-07T00:00:00\", \"timestamp\": \"2016-02-07T12:19:09.437000\", \"uid\": \"57ksJMduWbmM\", \"isFirst\": true, \"utmSource\": \"na\", \"isRegistered\": \"Non Registered\"}, {\"date\": \"2016-02-07T00:00:00\", \"timestamp\": \"2016-02-07T12:20:45.785000\", \"uid\": \"OFHlKrM67Tpw\", \"isFirst\": true, \"utmSource\": \"na\", \"isRegistered\": \"Non Registered\"}, {\"date\": \"2016-02-07T00:00:00\", \"timestamp\": \"2016-02-07T12:53:34.210000\", \"uid\": \"fFwMwCMST8lJ\", \"isFirst\": true, \"utmSource\": \"na\", \"isRegistered\": \"Non Registered\"}, {\"date\": \"2016-02-07T00:00:00\", \"timestamp\": \"2016-02-07T13:05:01.054000\", \"uid\": \"FOCmBXQggWH0\", \"isFirst\": true, \"utmSource\": \"na\", \"isRegistered\": \"Non Registered\"}, {\"date\": \"2016-02-07T00:00:00\", \"timestamp\": \"2016-02-07T13:32:56.745000\", \"uid\": \"DxjYRkVZpZIV\", \"isFirst\": true, \"utmSource\": \"na\", \"isRegistered\": \"Non Registered\"}, {\"date\": \"2016-02-07T00:00:00\", \"timestamp\": \"2016-02-07T14:31:07.281000\", \"uid\": \"qFq8acPsrlEx\", \"isFirst\": true, \"utmSource\": \"na\", \"isRegistered\": \"Non Registered\"}, {\"date\": \"2016-02-07T00:00:00\", \"timestamp\": \"2016-02-07T15:12:27.400000\", \"uid\": \"oMlpIf3eVkTQ\", \"isFirst\": true, \"utmSource\": \"na\", \"isRegistered\": \"Non Registered\"}, {\"date\": \"2016-02-07T00:00:00\", \"timestamp\": \"2016-02-07T15:47:30.283000\", \"uid\": \"qpVUjSLActv6\", \"isFirst\": true, \"utmSource\": \"na\", \"isRegistered\": \"Non Registered\"}, {\"date\": \"2016-02-07T00:00:00\", \"timestamp\": \"2016-02-07T16:32:34.370000\", \"uid\": \"X826jozMhkMG\", \"isFirst\": false, \"utmSource\": \"na\", \"isRegistered\": \"Non Registered\"}, {\"date\": \"2016-02-07T00:00:00\", \"timestamp\": \"2016-02-07T16:57:39.453000\", \"uid\": \"UZvNBTidkJZh\", \"isFirst\": true, \"utmSource\": \"na\", \"isRegistered\": \"Non Registered\"}, {\"date\": \"2016-02-07T00:00:00\", \"timestamp\": \"2016-02-07T17:37:29.619000\", \"uid\": \"3qbGk4Hn7og0\", \"isFirst\": true, \"utmSource\": \"na\", \"isRegistered\": \"Non Registered\"}, {\"date\": \"2016-02-07T00:00:00\", \"timestamp\": \"2016-02-07T19:36:47.819000\", \"uid\": \"ubWdqDgDNpej\", \"isFirst\": true, \"utmSource\": \"na\", \"isRegistered\": \"Non Registered\"}, {\"date\": \"2016-02-07T00:00:00\", \"timestamp\": \"2016-02-07T20:48:48.379000\", \"uid\": \"iC6PkwzBle5C\", \"isFirst\": true, \"utmSource\": \"na\", \"isRegistered\": \"Non Registered\"}, {\"date\": \"2016-02-07T00:00:00\", \"timestamp\": \"2016-02-07T22:17:40.976000\", \"uid\": \"nkYuUyKVgjMV\", \"isFirst\": true, \"utmSource\": \"na\", \"isRegistered\": \"Non Registered\"}, {\"date\": \"2016-02-07T00:00:00\", \"timestamp\": \"2016-02-08T00:31:51.411000\", \"uid\": \"aS3Jr3HdbB4M\", \"isFirst\": true, \"utmSource\": \"na\", \"isRegistered\": \"Non Registered\"}, {\"date\": \"2016-02-07T00:00:00\", \"timestamp\": \"2016-02-08T00:45:08.971000\", \"uid\": \"MHgRgSjnvWYl\", \"isFirst\": true, \"utmSource\": \"na\", \"isRegistered\": \"Non Registered\"}, {\"date\": \"2016-02-07T00:00:00\", \"timestamp\": \"2016-02-08T01:57:48.488000\", \"uid\": \"1hqh2FQiLk7S\", \"isFirst\": true, \"utmSource\": \"na\", \"isRegistered\": \"Non Registered\"}, {\"date\": \"2016-02-07T00:00:00\", \"timestamp\": \"2016-02-08T02:16:26.302000\", \"uid\": \"TpudkGczXLU2\", \"isFirst\": true, \"utmSource\": \"na\", \"isRegistered\": \"Non Registered\"}, {\"date\": \"2016-02-07T00:00:00\", \"timestamp\": \"2016-02-08T02:17:41.616000\", \"uid\": \"FP6uuFhIdiDp\", \"isFirst\": true, \"utmSource\": \"na\", \"isRegistered\": \"Non Registered\"}, {\"date\": \"2016-02-07T00:00:00\", \"timestamp\": \"2016-02-08T03:04:11.661000\", \"uid\": \"S74mDdaxDXOd\", \"isFirst\": true, \"utmSource\": \"na\", \"isRegistered\": \"Non Registered\"}, {\"date\": \"2016-02-07T00:00:00\", \"timestamp\": \"2016-02-08T05:12:38.198000\", \"uid\": \"9gXC7geggGPJ\", \"isFirst\": true, \"utmSource\": \"na\", \"isRegistered\": \"Non Registered\"}, {\"date\": \"2016-02-07T00:00:00\", \"timestamp\": \"2016-02-08T07:32:35.150000\", \"uid\": \"gby68zTuZiwa\", \"isFirst\": true, \"utmSource\": \"na\", \"isRegistered\": \"Non Registered\"}, {\"date\": \"2016-02-08T00:00:00\", \"timestamp\": \"2016-02-08T08:45:07.221000\", \"uid\": \"oC8McSY7j4We\", \"isFirst\": true, \"utmSource\": \"na\", \"isRegistered\": \"Non Registered\"}, {\"date\": \"2016-02-08T00:00:00\", \"timestamp\": \"2016-02-08T09:05:52.269000\", \"uid\": \"t1fkzbj44KoO\", \"isFirst\": false, \"utmSource\": \"grub street\", \"isRegistered\": \"Non Registered\"}, {\"date\": \"2016-02-08T00:00:00\", \"timestamp\": \"2016-02-08T09:42:59.474000\", \"uid\": \"oqat3RUY9YGo\", \"isFirst\": true, \"utmSource\": \"na\", \"isRegistered\": \"Non Registered\"}, {\"date\": \"2016-02-08T00:00:00\", \"timestamp\": \"2016-02-08T09:58:21.715000\", \"uid\": \"B2QW32WXjRAa\", \"isFirst\": true, \"utmSource\": \"na\", \"isRegistered\": \"Non Registered\"}, {\"date\": \"2016-02-08T00:00:00\", \"timestamp\": \"2016-02-08T10:17:51.722000\", \"uid\": \"tVkQX1Yfee1g\", \"isFirst\": true, \"utmSource\": \"na\", \"isRegistered\": \"Non Registered\"}, {\"date\": \"2016-02-08T00:00:00\", \"timestamp\": \"2016-02-08T10:24:34.335000\", \"uid\": \"C3ftpVY3blq7\", \"isFirst\": true, \"utmSource\": \"na\", \"isRegistered\": \"Non Registered\"}, {\"date\": \"2016-02-08T00:00:00\", \"timestamp\": \"2016-02-08T10:28:27.962000\", \"uid\": \"FRfYkaoi8XFy\", \"isFirst\": true, \"utmSource\": \"na\", \"isRegistered\": \"Non Registered\"}, {\"date\": \"2016-02-08T00:00:00\", \"timestamp\": \"2016-02-08T10:46:58.753000\", \"uid\": \"bI6n0s8sT1Fx\", \"isFirst\": true, \"utmSource\": \"na\", \"isRegistered\": \"Non Registered\"}, {\"date\": \"2016-02-08T00:00:00\", \"timestamp\": \"2016-02-08T11:15:40.086000\", \"uid\": \"wcy6MweGk04E\", \"isFirst\": true, \"utmSource\": \"na\", \"isRegistered\": \"Non Registered\"}, {\"date\": \"2016-02-08T00:00:00\", \"timestamp\": \"2016-02-08T11:23:47.150000\", \"uid\": \"UFHbnEhLjsYb\", \"isFirst\": true, \"utmSource\": \"na\", \"isRegistered\": \"Non Registered\"}, {\"date\": \"2016-02-08T00:00:00\", \"timestamp\": \"2016-02-08T12:53:24.288000\", \"uid\": \"E3tQIHT1dwSt\", \"isFirst\": true, \"utmSource\": \"na\", \"isRegistered\": \"Non Registered\"}, {\"date\": \"2016-02-08T00:00:00\", \"timestamp\": \"2016-02-08T14:28:18.200000\", \"uid\": \"h8dQMDh16Jhs\", \"isFirst\": true, \"utmSource\": \"na\", \"isRegistered\": \"Non Registered\"}, {\"date\": \"2016-02-08T00:00:00\", \"timestamp\": \"2016-02-08T14:59:21.671000\", \"uid\": \"cynrpJzNstLT\", \"isFirst\": true, \"utmSource\": \"na\", \"isRegistered\": \"Non Registered\"}, {\"date\": \"2016-02-08T00:00:00\", \"timestamp\": \"2016-02-08T15:49:49.076000\", \"uid\": \"zGNKoxI7gset\", \"isFirst\": true, \"utmSource\": \"na\", \"isRegistered\": \"Non Registered\"}, {\"date\": \"2016-02-08T00:00:00\", \"timestamp\": \"2016-02-08T16:26:53.794000\", \"uid\": \"qf3HZBeOzoKP\", \"isFirst\": false, \"utmSource\": \"biznesowe rewolucje\", \"isRegistered\": \"Non Registered\"}, {\"date\": \"2016-02-08T00:00:00\", \"timestamp\": \"2016-02-08T16:52:37.460000\", \"uid\": \"q2IRpcXHEnc5\", \"isFirst\": true, \"utmSource\": \"na\", \"isRegistered\": \"Non Registered\"}, {\"date\": \"2016-02-08T00:00:00\", \"timestamp\": \"2016-02-08T17:58:12.225000\", \"uid\": \"gz5by5VUPQ76\", \"isFirst\": true, \"utmSource\": \"na\", \"isRegistered\": \"Non Registered\"}, {\"date\": \"2016-02-08T00:00:00\", \"timestamp\": \"2016-02-08T18:08:30.976000\", \"uid\": \"sWerXwDwzqpu\", \"isFirst\": true, \"utmSource\": \"na\", \"isRegistered\": \"Non Registered\"}, {\"date\": \"2016-02-08T00:00:00\", \"timestamp\": \"2016-02-08T18:09:36.890000\", \"uid\": \"PaMkMDnjd74Y\", \"isFirst\": true, \"utmSource\": \"na\", \"isRegistered\": \"Non Registered\"}, {\"date\": \"2016-02-08T00:00:00\", \"timestamp\": \"2016-02-08T19:14:36.237000\", \"uid\": \"g0mgDPaY0kcw\", \"isFirst\": false, \"utmSource\": \"other\", \"isRegistered\": \"Non Registered\"}, {\"date\": \"2016-02-08T00:00:00\", \"timestamp\": \"2016-02-08T19:33:53.991000\", \"uid\": \"EWtBNs4FWHFV\", \"isFirst\": true, \"utmSource\": \"na\", \"isRegistered\": \"Non Registered\"}, {\"date\": \"2016-02-08T00:00:00\", \"timestamp\": \"2016-02-08T20:38:09.199000\", \"uid\": \"a0outQ8Z5ymi\", \"isFirst\": true, \"utmSource\": \"na\", \"isRegistered\": \"Non Registered\"}, {\"date\": \"2016-02-08T00:00:00\", \"timestamp\": \"2016-02-08T20:50:43.197000\", \"uid\": \"kszLW8TsXqe1\", \"isFirst\": false, \"utmSource\": \"biznesowe rewolucje\", \"isRegistered\": \"Non Registered\"}, {\"date\": \"2016-02-08T00:00:00\", \"timestamp\": \"2016-02-08T21:52:04.657000\", \"uid\": \"Q7h4XmEiJZJk\", \"isFirst\": true, \"utmSource\": \"na\", \"isRegistered\": \"Non Registered\"}, {\"date\": \"2016-02-08T00:00:00\", \"timestamp\": \"2016-02-08T21:55:48.564000\", \"uid\": \"VdydzuYJtbo6\", \"isFirst\": true, \"utmSource\": \"na\", \"isRegistered\": \"Non Registered\"}, {\"date\": \"2016-02-08T00:00:00\", \"timestamp\": \"2016-02-08T22:13:41.163000\", \"uid\": \"p42M4NoUzPd0\", \"isFirst\": true, \"utmSource\": \"na\", \"isRegistered\": \"Non Registered\"}, {\"date\": \"2016-02-08T00:00:00\", \"timestamp\": \"2016-02-08T23:34:57.768000\", \"uid\": \"u27UXeM0LTMU\", \"isFirst\": true, \"utmSource\": \"na\", \"isRegistered\": \"Non Registered\"}, {\"date\": \"2016-02-08T00:00:00\", \"timestamp\": \"2016-02-09T00:11:40.226000\", \"uid\": \"USzIwXrQ4zyM\", \"isFirst\": true, \"utmSource\": \"na\", \"isRegistered\": \"Non Registered\"}, {\"date\": \"2016-02-08T00:00:00\", \"timestamp\": \"2016-02-09T00:35:03.166000\", \"uid\": \"5j5yOKSEQaCZ\", \"isFirst\": true, \"utmSource\": \"na\", \"isRegistered\": \"Non Registered\"}, {\"date\": \"2016-02-08T00:00:00\", \"timestamp\": \"2016-02-09T00:48:44.380000\", \"uid\": \"haKhW2jbm7n2\", \"isFirst\": true, \"utmSource\": \"na\", \"isRegistered\": \"Non Registered\"}, {\"date\": \"2016-02-08T00:00:00\", \"timestamp\": \"2016-02-09T01:57:38.645000\", \"uid\": \"OfQwkB7YSDdl\", \"isFirst\": true, \"utmSource\": \"na\", \"isRegistered\": \"Non Registered\"}, {\"date\": \"2016-02-08T00:00:00\", \"timestamp\": \"2016-02-09T02:09:12.525000\", \"uid\": \"8M7T8QZOHMZE\", \"isFirst\": false, \"utmSource\": \"biznesowe rewolucje\", \"isRegistered\": \"Non Registered\"}, {\"date\": \"2016-02-08T00:00:00\", \"timestamp\": \"2016-02-09T02:28:18.166000\", \"uid\": \"2wkTz9baOv8i\", \"isFirst\": true, \"utmSource\": \"na\", \"isRegistered\": \"Non Registered\"}, {\"date\": \"2016-02-08T00:00:00\", \"timestamp\": \"2016-02-09T03:05:21.909000\", \"uid\": \"cNVERaHqxVr3\", \"isFirst\": true, \"utmSource\": \"na\", \"isRegistered\": \"Non Registered\"}, {\"date\": \"2016-02-08T00:00:00\", \"timestamp\": \"2016-02-09T03:19:12.282000\", \"uid\": \"xjnNj7WmCfDQ\", \"isFirst\": true, \"utmSource\": \"na\", \"isRegistered\": \"Non Registered\"}, {\"date\": \"2016-02-09T00:00:00\", \"timestamp\": \"2016-02-09T08:13:39.123000\", \"uid\": \"6xXnuKdhLTIt\", \"isFirst\": true, \"utmSource\": \"na\", \"isRegistered\": \"Non Registered\"}, {\"date\": \"2016-02-09T00:00:00\", \"timestamp\": \"2016-02-09T09:35:59.592000\", \"uid\": \"NwzybZdoyusl\", \"isFirst\": true, \"utmSource\": \"na\", \"isRegistered\": \"Non Registered\"}, {\"date\": \"2016-02-09T00:00:00\", \"timestamp\": \"2016-02-09T09:50:00.630000\", \"uid\": \"cFS8W7I4qrBg\", \"isFirst\": true, \"utmSource\": \"na\", \"isRegistered\": \"Non Registered\"}, {\"date\": \"2016-02-09T00:00:00\", \"timestamp\": \"2016-02-09T09:53:28.508000\", \"uid\": \"wyNFzgnXZvsI\", \"isFirst\": true, \"utmSource\": \"biznesowe rewolucje\", \"isRegistered\": \"Non Registered\"}, {\"date\": \"2016-02-09T00:00:00\", \"timestamp\": \"2016-02-09T11:07:12.578000\", \"uid\": \"9fpBEVwCJPSM\", \"isFirst\": true, \"utmSource\": \"na\", \"isRegistered\": \"Non Registered\"}, {\"date\": \"2016-02-09T00:00:00\", \"timestamp\": \"2016-02-09T11:48:39.972000\", \"uid\": \"unerywvwGSE5\", \"isFirst\": true, \"utmSource\": \"na\", \"isRegistered\": \"Non Registered\"}, {\"date\": \"2016-02-09T00:00:00\", \"timestamp\": \"2016-02-09T13:02:11.807000\", \"uid\": \"1MpErdUg1si2\", \"isFirst\": true, \"utmSource\": \"na\", \"isRegistered\": \"Non Registered\"}, {\"date\": \"2016-02-09T00:00:00\", \"timestamp\": \"2016-02-09T13:55:17.879000\", \"uid\": \"1nT1I7E4qyb3\", \"isFirst\": true, \"utmSource\": \"na\", \"isRegistered\": \"Non Registered\"}, {\"date\": \"2016-02-09T00:00:00\", \"timestamp\": \"2016-02-09T14:12:05.270000\", \"uid\": \"RSE6PVwjfDUp\", \"isFirst\": true, \"utmSource\": \"na\", \"isRegistered\": \"Non Registered\"}, {\"date\": \"2016-02-09T00:00:00\", \"timestamp\": \"2016-02-09T14:36:56.736000\", \"uid\": \"A2UYzWfqSdJP\", \"isFirst\": true, \"utmSource\": \"na\", \"isRegistered\": \"Non Registered\"}, {\"date\": \"2016-02-09T00:00:00\", \"timestamp\": \"2016-02-09T15:37:47.886000\", \"uid\": \"TXVgnn5H9ZWS\", \"isFirst\": true, \"utmSource\": \"na\", \"isRegistered\": \"Non Registered\"}, {\"date\": \"2016-02-09T00:00:00\", \"timestamp\": \"2016-02-09T18:13:19.969000\", \"uid\": \"qMLrkDLFVwHf\", \"isFirst\": true, \"utmSource\": \"na\", \"isRegistered\": \"Non Registered\"}, {\"date\": \"2016-02-09T00:00:00\", \"timestamp\": \"2016-02-09T18:14:21.864000\", \"uid\": \"5Db4NN0PMjGf\", \"isFirst\": true, \"utmSource\": \"na\", \"isRegistered\": \"Non Registered\"}, {\"date\": \"2016-02-09T00:00:00\", \"timestamp\": \"2016-02-09T18:46:08.036000\", \"uid\": \"fJy1P1xBK2zT\", \"isFirst\": true, \"utmSource\": \"na\", \"isRegistered\": \"Non Registered\"}, {\"date\": \"2016-02-09T00:00:00\", \"timestamp\": \"2016-02-09T18:50:16.181000\", \"uid\": \"lrHXUoAwK7vo\", \"isFirst\": true, \"utmSource\": \"na\", \"isRegistered\": \"Non Registered\"}, {\"date\": \"2016-02-09T00:00:00\", \"timestamp\": \"2016-02-09T18:54:21.793000\", \"uid\": \"z8bfjzDD6Yrw\", \"isFirst\": true, \"utmSource\": \"na\", \"isRegistered\": \"Non Registered\"}, {\"date\": \"2016-02-09T00:00:00\", \"timestamp\": \"2016-02-09T19:26:16.254000\", \"uid\": \"fRXtuWEagArK\", \"isFirst\": true, \"utmSource\": \"na\", \"isRegistered\": \"Non Registered\"}, {\"date\": \"2016-02-09T00:00:00\", \"timestamp\": \"2016-02-09T20:03:04.506000\", \"uid\": \"Ga0VF7vXXwCa\", \"isFirst\": true, \"utmSource\": \"na\", \"isRegistered\": \"Non Registered\"}, {\"date\": \"2016-02-09T00:00:00\", \"timestamp\": \"2016-02-09T23:11:32.844000\", \"uid\": \"IaaYlw9wNR1C\", \"isFirst\": false, \"utmSource\": \"program\", \"isRegistered\": \"Non Registered\"}, {\"date\": \"2016-02-09T00:00:00\", \"timestamp\": \"2016-02-10T00:24:00.441000\", \"uid\": \"PGSZvUf6W1Bt\", \"isFirst\": false, \"utmSource\": \"na\", \"isRegistered\": \"Non Registered\"}, {\"date\": \"2016-02-09T00:00:00\", \"timestamp\": \"2016-02-10T00:32:06.234000\", \"uid\": \"9M77hggYeTdY\", \"isFirst\": true, \"utmSource\": \"na\", \"isRegistered\": \"Non Registered\"}, {\"date\": \"2016-02-09T00:00:00\", \"timestamp\": \"2016-02-10T02:04:30.719000\", \"uid\": \"1aubhvSRMIqQ\", \"isFirst\": false, \"utmSource\": \"na\", \"isRegistered\": \"Non Registered\"}, {\"date\": \"2016-02-09T00:00:00\", \"timestamp\": \"2016-02-10T03:24:47.772000\", \"uid\": \"uakEZrBNyQKe\", \"isFirst\": true, \"utmSource\": \"na\", \"isRegistered\": \"Non Registered\"}, {\"date\": \"2016-02-09T00:00:00\", \"timestamp\": \"2016-02-10T05:46:59.612000\", \"uid\": \"59094794\", \"isFirst\": false, \"utmSource\": \"mosalingua fr\", \"isRegistered\": \"Registered\"}, {\"date\": \"2016-02-10T00:00:00\", \"timestamp\": \"2016-02-10T08:50:05.294000\", \"uid\": \"vpVGusvd3XnH\", \"isFirst\": true, \"utmSource\": \"na\", \"isRegistered\": \"Non Registered\"}, {\"date\": \"2016-02-10T00:00:00\", \"timestamp\": \"2016-02-10T10:00:21.428000\", \"uid\": \"ujrsWeICIoS8\", \"isFirst\": true, \"utmSource\": \"na\", \"isRegistered\": \"Non Registered\"}, {\"date\": \"2016-02-10T00:00:00\", \"timestamp\": \"2016-02-10T10:06:43.462000\", \"uid\": \"YNMWx77rvAPI\", \"isFirst\": true, \"utmSource\": \"na\", \"isRegistered\": \"Non Registered\"}, {\"date\": \"2016-02-10T00:00:00\", \"timestamp\": \"2016-02-10T10:31:45.873000\", \"uid\": \"C2YqxTyZY8wx\", \"isFirst\": true, \"utmSource\": \"na\", \"isRegistered\": \"Non Registered\"}, {\"date\": \"2016-02-10T00:00:00\", \"timestamp\": \"2016-02-10T11:39:59.739000\", \"uid\": \"cBhPxYPcF0do\", \"isFirst\": true, \"utmSource\": \"na\", \"isRegistered\": \"Non Registered\"}, {\"date\": \"2016-02-10T00:00:00\", \"timestamp\": \"2016-02-10T13:42:45.621000\", \"uid\": \"9ySYDQZHuIcC\", \"isFirst\": true, \"utmSource\": \"na\", \"isRegistered\": \"Non Registered\"}, {\"date\": \"2016-02-10T00:00:00\", \"timestamp\": \"2016-02-10T14:01:15.532000\", \"uid\": \"Y3sghBH1lnGH\", \"isFirst\": true, \"utmSource\": \"na\", \"isRegistered\": \"Non Registered\"}, {\"date\": \"2016-02-10T00:00:00\", \"timestamp\": \"2016-02-10T14:11:49.798000\", \"uid\": \"dXV6exNa605r\", \"isFirst\": true, \"utmSource\": \"na\", \"isRegistered\": \"Non Registered\"}, {\"date\": \"2016-02-10T00:00:00\", \"timestamp\": \"2016-02-10T14:28:03.285000\", \"uid\": \"xohjLjJE3o5E\", \"isFirst\": true, \"utmSource\": \"na\", \"isRegistered\": \"Non Registered\"}, {\"date\": \"2016-02-10T00:00:00\", \"timestamp\": \"2016-02-10T14:31:47.062000\", \"uid\": \"BowsP3MR8nNQ\", \"isFirst\": true, \"utmSource\": \"na\", \"isRegistered\": \"Non Registered\"}, {\"date\": \"2016-02-10T00:00:00\", \"timestamp\": \"2016-02-10T14:57:53.834000\", \"uid\": \"j3xuYmlfWUxB\", \"isFirst\": true, \"utmSource\": \"na\", \"isRegistered\": \"Non Registered\"}, {\"date\": \"2016-02-10T00:00:00\", \"timestamp\": \"2016-02-10T15:11:26.554000\", \"uid\": \"Xkp8EiwSvJgY\", \"isFirst\": true, \"utmSource\": \"na\", \"isRegistered\": \"Non Registered\"}, {\"date\": \"2016-02-10T00:00:00\", \"timestamp\": \"2016-02-10T16:13:01.491000\", \"uid\": \"9cqXhIyLhIT6\", \"isFirst\": true, \"utmSource\": \"na\", \"isRegistered\": \"Non Registered\"}, {\"date\": \"2016-02-10T00:00:00\", \"timestamp\": \"2016-02-10T16:31:23.321000\", \"uid\": \"PQ5YfPkCWZGd\", \"isFirst\": true, \"utmSource\": \"na\", \"isRegistered\": \"Non Registered\"}, {\"date\": \"2016-02-10T00:00:00\", \"timestamp\": \"2016-02-10T17:44:14.010000\", \"uid\": \"e3gN8GjPCWax\", \"isFirst\": true, \"utmSource\": \"na\", \"isRegistered\": \"Non Registered\"}, {\"date\": \"2016-02-10T00:00:00\", \"timestamp\": \"2016-02-10T18:31:52.335000\", \"uid\": \"ZQkeG8OPafhA\", \"isFirst\": true, \"utmSource\": \"na\", \"isRegistered\": \"Non Registered\"}, {\"date\": \"2016-02-10T00:00:00\", \"timestamp\": \"2016-02-10T18:48:15.498000\", \"uid\": \"jL2HBKRofpHH\", \"isFirst\": false, \"utmSource\": \"biznesowe rewolucje\", \"isRegistered\": \"Non Registered\"}, {\"date\": \"2016-02-10T00:00:00\", \"timestamp\": \"2016-02-10T19:30:13.701000\", \"uid\": \"JZVmv6khSU3k\", \"isFirst\": true, \"utmSource\": \"na\", \"isRegistered\": \"Non Registered\"}, {\"date\": \"2016-02-10T00:00:00\", \"timestamp\": \"2016-02-10T20:24:29.450000\", \"uid\": \"GoXBsrBgUdzy\", \"isFirst\": true, \"utmSource\": \"na\", \"isRegistered\": \"Non Registered\"}, {\"date\": \"2016-02-10T00:00:00\", \"timestamp\": \"2016-02-10T20:50:24.351000\", \"uid\": \"C1uTOUv8Lhd2\", \"isFirst\": true, \"utmSource\": \"na\", \"isRegistered\": \"Non Registered\"}, {\"date\": \"2016-02-10T00:00:00\", \"timestamp\": \"2016-02-10T21:33:15.910000\", \"uid\": \"HiFR2HRR6g6n\", \"isFirst\": false, \"utmSource\": \"biznesowe rewolucje\", \"isRegistered\": \"Non Registered\"}, {\"date\": \"2016-02-10T00:00:00\", \"timestamp\": \"2016-02-10T22:37:02.746000\", \"uid\": \"3CE4TXyd6IgS\", \"isFirst\": true, \"utmSource\": \"na\", \"isRegistered\": \"Non Registered\"}, {\"date\": \"2016-02-10T00:00:00\", \"timestamp\": \"2016-02-10T22:48:15.414000\", \"uid\": \"50CtDwidsI8l\", \"isFirst\": true, \"utmSource\": \"na\", \"isRegistered\": \"Non Registered\"}, {\"date\": \"2016-02-10T00:00:00\", \"timestamp\": \"2016-02-11T00:16:08.196000\", \"uid\": \"X8HIn6priraK\", \"isFirst\": false, \"utmSource\": \"biznesowe rewolucje\", \"isRegistered\": \"Non Registered\"}, {\"date\": \"2016-02-10T00:00:00\", \"timestamp\": \"2016-02-11T00:36:23.296000\", \"uid\": \"PQYMULt6jJo8\", \"isFirst\": true, \"utmSource\": \"na\", \"isRegistered\": \"Non Registered\"}, {\"date\": \"2016-02-10T00:00:00\", \"timestamp\": \"2016-02-11T00:52:31.359000\", \"uid\": \"bX19F9kMHsrm\", \"isFirst\": true, \"utmSource\": \"na\", \"isRegistered\": \"Non Registered\"}, {\"date\": \"2016-02-10T00:00:00\", \"timestamp\": \"2016-02-11T01:23:20.143000\", \"uid\": \"dogZRdtZvy4F\", \"isFirst\": true, \"utmSource\": \"na\", \"isRegistered\": \"Non Registered\"}, {\"date\": \"2016-02-10T00:00:00\", \"timestamp\": \"2016-02-11T01:28:56.986000\", \"uid\": \"g4wylTgwkQNm\", \"isFirst\": true, \"utmSource\": \"na\", \"isRegistered\": \"Non Registered\"}, {\"date\": \"2016-02-10T00:00:00\", \"timestamp\": \"2016-02-11T01:54:19.967000\", \"uid\": \"28TNyAbSsIMM\", \"isFirst\": true, \"utmSource\": \"na\", \"isRegistered\": \"Non Registered\"}, {\"date\": \"2016-02-10T00:00:00\", \"timestamp\": \"2016-02-11T02:05:08.677000\", \"uid\": \"I7kzwbTMsIRe\", \"isFirst\": true, \"utmSource\": \"na\", \"isRegistered\": \"Non Registered\"}, {\"date\": \"2016-02-10T00:00:00\", \"timestamp\": \"2016-02-11T04:00:34.905000\", \"uid\": \"52944812\", \"isFirst\": false, \"utmSource\": \"biznesowe rewolucje\", \"isRegistered\": \"Registered\"}, {\"date\": \"2016-02-10T00:00:00\", \"timestamp\": \"2016-02-11T04:54:33.062000\", \"uid\": \"tKooCEdTsD3T\", \"isFirst\": true, \"utmSource\": \"na\", \"isRegistered\": \"Non Registered\"}, {\"date\": \"2016-02-10T00:00:00\", \"timestamp\": \"2016-02-11T05:33:42.234000\", \"uid\": \"7OFDe3HxhbqG\", \"isFirst\": true, \"utmSource\": \"na\", \"isRegistered\": \"Non Registered\"}, {\"date\": \"2016-02-10T00:00:00\", \"timestamp\": \"2016-02-11T06:09:29.077000\", \"uid\": \"N3ly1pGb9Is8\", \"isFirst\": true, \"utmSource\": \"na\", \"isRegistered\": \"Non Registered\"}, {\"date\": \"2016-02-11T00:00:00\", \"timestamp\": \"2016-02-11T08:26:13.126000\", \"uid\": \"D6Uq455uTBhS\", \"isFirst\": true, \"utmSource\": \"na\", \"isRegistered\": \"Non Registered\"}, {\"date\": \"2016-02-11T00:00:00\", \"timestamp\": \"2016-02-11T08:31:12.310000\", \"uid\": \"MKjM6KC3I4hC\", \"isFirst\": true, \"utmSource\": \"na\", \"isRegistered\": \"Non Registered\"}, {\"date\": \"2016-02-11T00:00:00\", \"timestamp\": \"2016-02-11T10:35:00.971000\", \"uid\": \"TYyRJg6JzjaZ\", \"isFirst\": true, \"utmSource\": \"na\", \"isRegistered\": \"Non Registered\"}, {\"date\": \"2016-02-11T00:00:00\", \"timestamp\": \"2016-02-11T11:11:52.151000\", \"uid\": \"ttg1Lxc55zIE\", \"isFirst\": true, \"utmSource\": \"na\", \"isRegistered\": \"Non Registered\"}, {\"date\": \"2016-02-11T00:00:00\", \"timestamp\": \"2016-02-11T13:36:17.135000\", \"uid\": \"CSLhFobLK3L1\", \"isFirst\": true, \"utmSource\": \"na\", \"isRegistered\": \"Non Registered\"}, {\"date\": \"2016-02-11T00:00:00\", \"timestamp\": \"2016-02-11T15:19:13.639000\", \"uid\": \"oOH6s9BnO6yk\", \"isFirst\": true, \"utmSource\": \"na\", \"isRegistered\": \"Non Registered\"}, {\"date\": \"2016-02-11T00:00:00\", \"timestamp\": \"2016-02-11T15:48:07.489000\", \"uid\": \"CJq8mUJTxSTE\", \"isFirst\": true, \"utmSource\": \"na\", \"isRegistered\": \"Non Registered\"}, {\"date\": \"2016-02-11T00:00:00\", \"timestamp\": \"2016-02-11T16:06:07.298000\", \"uid\": \"TTVT3RHJizfj\", \"isFirst\": true, \"utmSource\": \"na\", \"isRegistered\": \"Non Registered\"}, {\"date\": \"2016-02-11T00:00:00\", \"timestamp\": \"2016-02-11T16:40:17.962000\", \"uid\": \"yHe8EcKILcKF\", \"isFirst\": true, \"utmSource\": \"na\", \"isRegistered\": \"Non Registered\"}, {\"date\": \"2016-02-11T00:00:00\", \"timestamp\": \"2016-02-11T16:50:39.089000\", \"uid\": \"ncnjFuTZNv7g\", \"isFirst\": true, \"utmSource\": \"na\", \"isRegistered\": \"Non Registered\"}, {\"date\": \"2016-02-11T00:00:00\", \"timestamp\": \"2016-02-11T17:11:42.443000\", \"uid\": \"mU0n8mHPXKHb\", \"isFirst\": true, \"utmSource\": \"na\", \"isRegistered\": \"Non Registered\"}, {\"date\": \"2016-02-11T00:00:00\", \"timestamp\": \"2016-02-11T19:54:15.532000\", \"uid\": \"Bes8xRddqoIm\", \"isFirst\": true, \"utmSource\": \"na\", \"isRegistered\": \"Non Registered\"}, {\"date\": \"2016-02-11T00:00:00\", \"timestamp\": \"2016-02-11T20:22:50.613000\", \"uid\": \"KLzpAfeIDTVc\", \"isFirst\": false, \"utmSource\": \"na\", \"isRegistered\": \"Non Registered\"}, {\"date\": \"2016-02-11T00:00:00\", \"timestamp\": \"2016-02-11T20:32:28.087000\", \"uid\": \"EJVoV1eUdub4\", \"isFirst\": true, \"utmSource\": \"na\", \"isRegistered\": \"Non Registered\"}, {\"date\": \"2016-02-11T00:00:00\", \"timestamp\": \"2016-02-11T20:41:25.149000\", \"uid\": \"k1rdmg5ZaIWk\", \"isFirst\": true, \"utmSource\": \"na\", \"isRegistered\": \"Non Registered\"}, {\"date\": \"2016-02-11T00:00:00\", \"timestamp\": \"2016-02-11T21:51:59.007000\", \"uid\": \"53735696\", \"isFirst\": true, \"utmSource\": \"na\", \"isRegistered\": \"Registered\"}, {\"date\": \"2016-02-11T00:00:00\", \"timestamp\": \"2016-02-11T22:15:13.546000\", \"uid\": \"FvxM3Mdq1m77\", \"isFirst\": true, \"utmSource\": \"na\", \"isRegistered\": \"Non Registered\"}, {\"date\": \"2016-02-11T00:00:00\", \"timestamp\": \"2016-02-11T22:29:03.379000\", \"uid\": \"JLMNEaPytaIk\", \"isFirst\": true, \"utmSource\": \"na\", \"isRegistered\": \"Non Registered\"}, {\"date\": \"2016-02-11T00:00:00\", \"timestamp\": \"2016-02-11T22:34:42.957000\", \"uid\": \"HIpTEIXS031V\", \"isFirst\": true, \"utmSource\": \"na\", \"isRegistered\": \"Non Registered\"}, {\"date\": \"2016-02-11T00:00:00\", \"timestamp\": \"2016-02-11T23:58:51.781000\", \"uid\": \"84rnhw7CMgby\", \"isFirst\": true, \"utmSource\": \"na\", \"isRegistered\": \"Non Registered\"}, {\"date\": \"2016-02-11T00:00:00\", \"timestamp\": \"2016-02-12T03:55:18.162000\", \"uid\": \"MpWriDdYlUL4\", \"isFirst\": true, \"utmSource\": \"na\", \"isRegistered\": \"Non Registered\"}, {\"date\": \"2016-02-11T00:00:00\", \"timestamp\": \"2016-02-12T04:47:16.968000\", \"uid\": \"Vp3wbTMvSxBx\", \"isFirst\": false, \"utmSource\": \"program\", \"isRegistered\": \"Non Registered\"}, {\"date\": \"2016-02-11T00:00:00\", \"timestamp\": \"2016-02-12T05:38:14.840000\", \"uid\": \"gXWqcXJPMIn7\", \"isFirst\": true, \"utmSource\": \"na\", \"isRegistered\": \"Non Registered\"}, {\"date\": \"2016-02-11T00:00:00\", \"timestamp\": \"2016-02-12T05:54:35.029000\", \"uid\": \"sPvgAJVZSdgd\", \"isFirst\": true, \"utmSource\": \"na\", \"isRegistered\": \"Non Registered\"}, {\"date\": \"2016-02-11T00:00:00\", \"timestamp\": \"2016-02-12T06:34:17.594000\", \"uid\": \"EI1jep5RbwNz\", \"isFirst\": true, \"utmSource\": \"na\", \"isRegistered\": \"Non Registered\"}, {\"date\": \"2016-02-12T00:00:00\", \"timestamp\": \"2016-02-12T08:28:24.908000\", \"uid\": \"vS6zneVZStj5\", \"isFirst\": true, \"utmSource\": \"na\", \"isRegistered\": \"Non Registered\"}, {\"date\": \"2016-02-12T00:00:00\", \"timestamp\": \"2016-02-12T09:37:49.022000\", \"uid\": \"6iNRSco4DlJh\", \"isFirst\": true, \"utmSource\": \"na\", \"isRegistered\": \"Non Registered\"}, {\"date\": \"2016-02-12T00:00:00\", \"timestamp\": \"2016-02-12T09:47:13.843000\", \"uid\": \"R3WPY6fngIM7\", \"isFirst\": true, \"utmSource\": \"na\", \"isRegistered\": \"Non Registered\"}, {\"date\": \"2016-02-12T00:00:00\", \"timestamp\": \"2016-02-12T10:39:45.451000\", \"uid\": \"Nb9RdfECXxFM\", \"isFirst\": true, \"utmSource\": \"na\", \"isRegistered\": \"Non Registered\"}, {\"date\": \"2016-02-12T00:00:00\", \"timestamp\": \"2016-02-12T13:25:21.636000\", \"uid\": \"xa3DaLOhiW47\", \"isFirst\": true, \"utmSource\": \"na\", \"isRegistered\": \"Non Registered\"}, {\"date\": \"2016-02-12T00:00:00\", \"timestamp\": \"2016-02-12T13:33:55.790000\", \"uid\": \"rk7enuCGbHB3\", \"isFirst\": true, \"utmSource\": \"na\", \"isRegistered\": \"Non Registered\"}, {\"date\": \"2016-02-12T00:00:00\", \"timestamp\": \"2016-02-12T13:40:31.103000\", \"uid\": \"mFef9irqhOmZ\", \"isFirst\": true, \"utmSource\": \"na\", \"isRegistered\": \"Non Registered\"}, {\"date\": \"2016-02-12T00:00:00\", \"timestamp\": \"2016-02-12T14:35:48.672000\", \"uid\": \"Lss1DzMC5Gss\", \"isFirst\": true, \"utmSource\": \"na\", \"isRegistered\": \"Non Registered\"}, {\"date\": \"2016-02-12T00:00:00\", \"timestamp\": \"2016-02-12T15:05:50.782000\", \"uid\": \"P4bpuA1ouRZ7\", \"isFirst\": true, \"utmSource\": \"na\", \"isRegistered\": \"Non Registered\"}, {\"date\": \"2016-02-12T00:00:00\", \"timestamp\": \"2016-02-12T15:06:07.423000\", \"uid\": \"CulJTWxq4VFL\", \"isFirst\": false, \"utmSource\": \"program\", \"isRegistered\": \"Non Registered\"}, {\"date\": \"2016-02-12T00:00:00\", \"timestamp\": \"2016-02-12T15:17:57.393000\", \"uid\": \"OK7ZnfRvx0wt\", \"isFirst\": true, \"utmSource\": \"na\", \"isRegistered\": \"Non Registered\"}, {\"date\": \"2016-02-12T00:00:00\", \"timestamp\": \"2016-02-12T15:45:54.737000\", \"uid\": \"VLxJM4iOkdQr\", \"isFirst\": true, \"utmSource\": \"na\", \"isRegistered\": \"Non Registered\"}, {\"date\": \"2016-02-12T00:00:00\", \"timestamp\": \"2016-02-12T16:38:10.727000\", \"uid\": \"y5mwLCo9GI37\", \"isFirst\": true, \"utmSource\": \"na\", \"isRegistered\": \"Non Registered\"}, {\"date\": \"2016-02-12T00:00:00\", \"timestamp\": \"2016-02-12T17:29:06.030000\", \"uid\": \"3sVLKJErcvUy\", \"isFirst\": true, \"utmSource\": \"na\", \"isRegistered\": \"Non Registered\"}, {\"date\": \"2016-02-12T00:00:00\", \"timestamp\": \"2016-02-12T17:55:54.335000\", \"uid\": \"YcQlGg2W0G6L\", \"isFirst\": true, \"utmSource\": \"na\", \"isRegistered\": \"Non Registered\"}, {\"date\": \"2016-02-12T00:00:00\", \"timestamp\": \"2016-02-12T18:56:54.432000\", \"uid\": \"H0iIPU1FWuot\", \"isFirst\": true, \"utmSource\": \"na\", \"isRegistered\": \"Non Registered\"}, {\"date\": \"2016-02-12T00:00:00\", \"timestamp\": \"2016-02-12T19:39:33.938000\", \"uid\": \"2VWjXawp1TGX\", \"isFirst\": true, \"utmSource\": \"na\", \"isRegistered\": \"Non Registered\"}, {\"date\": \"2016-02-12T00:00:00\", \"timestamp\": \"2016-02-12T20:23:58.505000\", \"uid\": \"j2OLyI68lsDu\", \"isFirst\": true, \"utmSource\": \"biznesowe rewolucje\", \"isRegistered\": \"Non Registered\"}, {\"date\": \"2016-02-12T00:00:00\", \"timestamp\": \"2016-02-12T20:39:15.453000\", \"uid\": \"KVqCf60lcQTJ\", \"isFirst\": true, \"utmSource\": \"na\", \"isRegistered\": \"Non Registered\"}, {\"date\": \"2016-02-12T00:00:00\", \"timestamp\": \"2016-02-12T22:12:19.925000\", \"uid\": \"Gw6Qs8PzWZJe\", \"isFirst\": true, \"utmSource\": \"na\", \"isRegistered\": \"Non Registered\"}, {\"date\": \"2016-02-12T00:00:00\", \"timestamp\": \"2016-02-12T22:32:04.213000\", \"uid\": \"T5j7jOwTCwNv\", \"isFirst\": true, \"utmSource\": \"na\", \"isRegistered\": \"Non Registered\"}, {\"date\": \"2016-02-12T00:00:00\", \"timestamp\": \"2016-02-12T23:30:19.775000\", \"uid\": \"oj6ZQfWxWy7f\", \"isFirst\": true, \"utmSource\": \"na\", \"isRegistered\": \"Non Registered\"}, {\"date\": \"2016-02-12T00:00:00\", \"timestamp\": \"2016-02-13T00:30:56.967000\", \"uid\": \"lLDs80EaysnJ\", \"isFirst\": true, \"utmSource\": \"na\", \"isRegistered\": \"Non Registered\"}, {\"date\": \"2016-02-12T00:00:00\", \"timestamp\": \"2016-02-13T01:56:05.797000\", \"uid\": \"GMoWMluJU8XE\", \"isFirst\": true, \"utmSource\": \"na\", \"isRegistered\": \"Non Registered\"}, {\"date\": \"2016-02-12T00:00:00\", \"timestamp\": \"2016-02-13T02:21:14.930000\", \"uid\": \"CrBtgiLstCns\", \"isFirst\": true, \"utmSource\": \"na\", \"isRegistered\": \"Non Registered\"}, {\"date\": \"2016-02-12T00:00:00\", \"timestamp\": \"2016-02-13T02:24:06.318000\", \"uid\": \"XcMu1RL4eFNi\", \"isFirst\": false, \"utmSource\": \"na\", \"isRegistered\": \"Non Registered\"}, {\"date\": \"2016-02-12T00:00:00\", \"timestamp\": \"2016-02-13T02:56:23.483000\", \"uid\": \"4e8RIN1zbu2Q\", \"isFirst\": true, \"utmSource\": \"na\", \"isRegistered\": \"Non Registered\"}, {\"date\": \"2016-02-12T00:00:00\", \"timestamp\": \"2016-02-13T05:19:23.732000\", \"uid\": \"T5ijEXtODYrv\", \"isFirst\": true, \"utmSource\": \"na\", \"isRegistered\": \"Non Registered\"}, {\"date\": \"2016-02-12T00:00:00\", \"timestamp\": \"2016-02-13T06:28:19.597000\", \"uid\": \"HJ1yf6gER06s\", \"isFirst\": true, \"utmSource\": \"na\", \"isRegistered\": \"Non Registered\"}, {\"date\": \"2016-02-12T00:00:00\", \"timestamp\": \"2016-02-13T06:42:04.119000\", \"uid\": \"C7psAcCe3jmb\", \"isFirst\": true, \"utmSource\": \"na\", \"isRegistered\": \"Non Registered\"}, {\"date\": \"2016-02-12T00:00:00\", \"timestamp\": \"2016-02-13T07:16:42.722000\", \"uid\": \"i6ppU38NaBUn\", \"isFirst\": true, \"utmSource\": \"na\", \"isRegistered\": \"Non Registered\"}, {\"date\": \"2016-02-13T00:00:00\", \"timestamp\": \"2016-02-13T10:12:49.826000\", \"uid\": \"8UoI3QrVqgEn\", \"isFirst\": false, \"utmSource\": \"shmoop\", \"isRegistered\": \"Non Registered\"}, {\"date\": \"2016-02-13T00:00:00\", \"timestamp\": \"2016-02-13T10:14:37.471000\", \"uid\": \"EP6IP7y8xipa\", \"isFirst\": true, \"utmSource\": \"na\", \"isRegistered\": \"Non Registered\"}, {\"date\": \"2016-02-13T00:00:00\", \"timestamp\": \"2016-02-13T12:24:48.951000\", \"uid\": \"nqBp3MuVlDd2\", \"isFirst\": false, \"utmSource\": \"shmoop\", \"isRegistered\": \"Non Registered\"}, {\"date\": \"2016-02-13T00:00:00\", \"timestamp\": \"2016-02-13T12:34:53.941000\", \"uid\": \"dPYOvy3zuhHL\", \"isFirst\": true, \"utmSource\": \"na\", \"isRegistered\": \"Non Registered\"}, {\"date\": \"2016-02-13T00:00:00\", \"timestamp\": \"2016-02-13T12:47:46.730000\", \"uid\": \"IO2mehVX3UJN\", \"isFirst\": false, \"utmSource\": \"biznesowe rewolucje\", \"isRegistered\": \"Non Registered\"}, {\"date\": \"2016-02-13T00:00:00\", \"timestamp\": \"2016-02-13T12:52:45.329000\", \"uid\": \"ryIgvFGHwpOb\", \"isFirst\": true, \"utmSource\": \"na\", \"isRegistered\": \"Non Registered\"}, {\"date\": \"2016-02-13T00:00:00\", \"timestamp\": \"2016-02-13T13:02:26.314000\", \"uid\": \"QZjZVXQmSLyv\", \"isFirst\": true, \"utmSource\": \"na\", \"isRegistered\": \"Non Registered\"}, {\"date\": \"2016-02-13T00:00:00\", \"timestamp\": \"2016-02-13T13:40:00.479000\", \"uid\": \"07fUs1Iz60Cg\", \"isFirst\": false, \"utmSource\": \"biznesowe rewolucje\", \"isRegistered\": \"Non Registered\"}, {\"date\": \"2016-02-13T00:00:00\", \"timestamp\": \"2016-02-13T17:10:39.283000\", \"uid\": \"Qb1qhxCWQqUE\", \"isFirst\": true, \"utmSource\": \"na\", \"isRegistered\": \"Non Registered\"}, {\"date\": \"2016-02-13T00:00:00\", \"timestamp\": \"2016-02-13T17:12:01.546000\", \"uid\": \"KiRhaEKJaAjj\", \"isFirst\": true, \"utmSource\": \"na\", \"isRegistered\": \"Non Registered\"}, {\"date\": \"2016-02-13T00:00:00\", \"timestamp\": \"2016-02-13T18:08:53.669000\", \"uid\": \"rxWKoLzoYHyy\", \"isFirst\": true, \"utmSource\": \"na\", \"isRegistered\": \"Non Registered\"}, {\"date\": \"2016-02-13T00:00:00\", \"timestamp\": \"2016-02-13T19:52:26.112000\", \"uid\": \"7tboxFB1H1Zr\", \"isFirst\": true, \"utmSource\": \"na\", \"isRegistered\": \"Non Registered\"}, {\"date\": \"2016-02-13T00:00:00\", \"timestamp\": \"2016-02-14T00:28:59.681000\", \"uid\": \"j5iGYHnhZ0uK\", \"isFirst\": true, \"utmSource\": \"na\", \"isRegistered\": \"Non Registered\"}, {\"date\": \"2016-02-13T00:00:00\", \"timestamp\": \"2016-02-14T02:24:42.437000\", \"uid\": \"SNoZgsM7V0mM\", \"isFirst\": true, \"utmSource\": \"na\", \"isRegistered\": \"Non Registered\"}, {\"date\": \"2016-02-13T00:00:00\", \"timestamp\": \"2016-02-14T02:57:57.750000\", \"uid\": \"7uge0qrii0TI\", \"isFirst\": true, \"utmSource\": \"na\", \"isRegistered\": \"Non Registered\"}, {\"date\": \"2016-02-13T00:00:00\", \"timestamp\": \"2016-02-14T03:04:25.773000\", \"uid\": \"P3pNQ6R7W6Gv\", \"isFirst\": true, \"utmSource\": \"na\", \"isRegistered\": \"Non Registered\"}, {\"date\": \"2016-02-13T00:00:00\", \"timestamp\": \"2016-02-14T05:52:36.434000\", \"uid\": \"8BN48uba0CIL\", \"isFirst\": true, \"utmSource\": \"na\", \"isRegistered\": \"Non Registered\"}, {\"date\": \"2016-02-14T00:00:00\", \"timestamp\": \"2016-02-14T08:10:51.909000\", \"uid\": \"OL0Gp2MzonG8\", \"isFirst\": true, \"utmSource\": \"na\", \"isRegistered\": \"Non Registered\"}, {\"date\": \"2016-02-14T00:00:00\", \"timestamp\": \"2016-02-14T08:12:37.284000\", \"uid\": \"IsSXSOjXmbpd\", \"isFirst\": true, \"utmSource\": \"na\", \"isRegistered\": \"Non Registered\"}, {\"date\": \"2016-02-14T00:00:00\", \"timestamp\": \"2016-02-14T08:54:33.455000\", \"uid\": \"KuLyamtCHeTi\", \"isFirst\": true, \"utmSource\": \"na\", \"isRegistered\": \"Non Registered\"}, {\"date\": \"2016-02-14T00:00:00\", \"timestamp\": \"2016-02-14T09:29:32.387000\", \"uid\": \"aGxKe5sTqSOA\", \"isFirst\": true, \"utmSource\": \"na\", \"isRegistered\": \"Non Registered\"}, {\"date\": \"2016-02-14T00:00:00\", \"timestamp\": \"2016-02-14T10:38:55.992000\", \"uid\": \"w5sZbBnBj7wG\", \"isFirst\": false, \"utmSource\": \"twitter\", \"isRegistered\": \"Non Registered\"}, {\"date\": \"2016-02-14T00:00:00\", \"timestamp\": \"2016-02-14T11:10:52.592000\", \"uid\": \"Reb71LlJRnBu\", \"isFirst\": true, \"utmSource\": \"na\", \"isRegistered\": \"Non Registered\"}, {\"date\": \"2016-02-14T00:00:00\", \"timestamp\": \"2016-02-14T13:09:15.305000\", \"uid\": \"yYqhI44NY7MT\", \"isFirst\": true, \"utmSource\": \"na\", \"isRegistered\": \"Non Registered\"}, {\"date\": \"2016-02-14T00:00:00\", \"timestamp\": \"2016-02-14T13:13:29.807000\", \"uid\": \"aZnC0YmnsKx4\", \"isFirst\": true, \"utmSource\": \"na\", \"isRegistered\": \"Non Registered\"}, {\"date\": \"2016-02-14T00:00:00\", \"timestamp\": \"2016-02-14T13:33:35.745000\", \"uid\": \"2nraLrHYDdFM\", \"isFirst\": true, \"utmSource\": \"na\", \"isRegistered\": \"Non Registered\"}, {\"date\": \"2016-02-14T00:00:00\", \"timestamp\": \"2016-02-14T14:05:47.630000\", \"uid\": \"T86W71v4k8EE\", \"isFirst\": true, \"utmSource\": \"na\", \"isRegistered\": \"Non Registered\"}, {\"date\": \"2016-02-14T00:00:00\", \"timestamp\": \"2016-02-14T14:30:18.268000\", \"uid\": \"1LrpHMwBcY6s\", \"isFirst\": true, \"utmSource\": \"na\", \"isRegistered\": \"Non Registered\"}, {\"date\": \"2016-02-14T00:00:00\", \"timestamp\": \"2016-02-14T14:58:19.482000\", \"uid\": \"2y8UmW4oujqI\", \"isFirst\": true, \"utmSource\": \"na\", \"isRegistered\": \"Non Registered\"}, {\"date\": \"2016-02-14T00:00:00\", \"timestamp\": \"2016-02-14T18:08:03.264000\", \"uid\": \"zgu7XoSZ0O1f\", \"isFirst\": true, \"utmSource\": \"na\", \"isRegistered\": \"Non Registered\"}, {\"date\": \"2016-02-14T00:00:00\", \"timestamp\": \"2016-02-14T21:20:53.112000\", \"uid\": \"A535KBl6GX3N\", \"isFirst\": true, \"utmSource\": \"na\", \"isRegistered\": \"Non Registered\"}, {\"date\": \"2016-02-14T00:00:00\", \"timestamp\": \"2016-02-14T23:50:12.335000\", \"uid\": \"qsrXlmkoQdZX\", \"isFirst\": true, \"utmSource\": \"na\", \"isRegistered\": \"Non Registered\"}, {\"date\": \"2016-02-14T00:00:00\", \"timestamp\": \"2016-02-15T00:27:48.918000\", \"uid\": \"UyMqypEQVIBT\", \"isFirst\": true, \"utmSource\": \"na\", \"isRegistered\": \"Non Registered\"}, {\"date\": \"2016-02-14T00:00:00\", \"timestamp\": \"2016-02-15T01:31:38.707000\", \"uid\": \"bbbb7JQELIGt\", \"isFirst\": true, \"utmSource\": \"na\", \"isRegistered\": \"Non Registered\"}, {\"date\": \"2016-02-14T00:00:00\", \"timestamp\": \"2016-02-15T02:26:14.012000\", \"uid\": \"VcxFXH6wbleC\", \"isFirst\": false, \"utmSource\": \"biznesowe rewolucje\", \"isRegistered\": \"Non Registered\"}, {\"date\": \"2016-02-14T00:00:00\", \"timestamp\": \"2016-02-15T02:43:13.048000\", \"uid\": \"47yqOMizgpBy\", \"isFirst\": true, \"utmSource\": \"na\", \"isRegistered\": \"Non Registered\"}, {\"date\": \"2016-02-14T00:00:00\", \"timestamp\": \"2016-02-15T02:55:59.139000\", \"uid\": \"njM4ishxsFJr\", \"isFirst\": true, \"utmSource\": \"na\", \"isRegistered\": \"Non Registered\"}, {\"date\": \"2016-02-14T00:00:00\", \"timestamp\": \"2016-02-15T03:32:36.852000\", \"uid\": \"MeFdzQom2kJp\", \"isFirst\": true, \"utmSource\": \"na\", \"isRegistered\": \"Non Registered\"}, {\"date\": \"2016-02-14T00:00:00\", \"timestamp\": \"2016-02-15T03:34:00.815000\", \"uid\": \"h7BqR8wSG7xV\", \"isFirst\": true, \"utmSource\": \"na\", \"isRegistered\": \"Non Registered\"}, {\"date\": \"2016-02-14T00:00:00\", \"timestamp\": \"2016-02-15T05:13:14.619000\", \"uid\": \"dIpyaEAvWNMN\", \"isFirst\": true, \"utmSource\": \"na\", \"isRegistered\": \"Non Registered\"}, {\"date\": \"2016-02-14T00:00:00\", \"timestamp\": \"2016-02-15T06:07:57.180000\", \"uid\": \"e52GVQqVJddc\", \"isFirst\": true, \"utmSource\": \"na\", \"isRegistered\": \"Non Registered\"}, {\"date\": \"2016-02-14T00:00:00\", \"timestamp\": \"2016-02-15T06:54:18.542000\", \"uid\": \"f8FbFxKiNlyo\", \"isFirst\": true, \"utmSource\": \"na\", \"isRegistered\": \"Non Registered\"}, {\"date\": \"2016-02-14T00:00:00\", \"timestamp\": \"2016-02-15T07:14:01.155000\", \"uid\": \"Qi0RqtNflNQq\", \"isFirst\": true, \"utmSource\": \"na\", \"isRegistered\": \"Non Registered\"}, {\"date\": \"2016-02-15T00:00:00\", \"timestamp\": \"2016-02-15T10:05:51.462000\", \"uid\": \"BlMtLtHn4OAI\", \"isFirst\": true, \"utmSource\": \"na\", \"isRegistered\": \"Non Registered\"}, {\"date\": \"2016-02-15T00:00:00\", \"timestamp\": \"2016-02-15T11:30:54.937000\", \"uid\": \"k1EcfXJ44Bmh\", \"isFirst\": true, \"utmSource\": \"na\", \"isRegistered\": \"Non Registered\"}, {\"date\": \"2016-02-15T00:00:00\", \"timestamp\": \"2016-02-15T12:18:14.150000\", \"uid\": \"hUKkxaQwTw3X\", \"isFirst\": true, \"utmSource\": \"na\", \"isRegistered\": \"Non Registered\"}, {\"date\": \"2016-02-15T00:00:00\", \"timestamp\": \"2016-02-15T15:43:18.359000\", \"uid\": \"DnK8NPiDNyHo\", \"isFirst\": true, \"utmSource\": \"na\", \"isRegistered\": \"Non Registered\"}, {\"date\": \"2016-02-15T00:00:00\", \"timestamp\": \"2016-02-15T16:56:22.334000\", \"uid\": \"Wd5qYHwtvWc6\", \"isFirst\": true, \"utmSource\": \"na\", \"isRegistered\": \"Non Registered\"}, {\"date\": \"2016-02-15T00:00:00\", \"timestamp\": \"2016-02-15T17:12:05.838000\", \"uid\": \"6dez1dF8m1tF\", \"isFirst\": true, \"utmSource\": \"na\", \"isRegistered\": \"Non Registered\"}, {\"date\": \"2016-02-15T00:00:00\", \"timestamp\": \"2016-02-15T17:18:43.932000\", \"uid\": \"1Icq69MilXvU\", \"isFirst\": true, \"utmSource\": \"na\", \"isRegistered\": \"Non Registered\"}, {\"date\": \"2016-02-15T00:00:00\", \"timestamp\": \"2016-02-15T17:21:10.648000\", \"uid\": \"4gHQjwBxMJVX\", \"isFirst\": true, \"utmSource\": \"na\", \"isRegistered\": \"Non Registered\"}, {\"date\": \"2016-02-15T00:00:00\", \"timestamp\": \"2016-02-15T17:51:10.756000\", \"uid\": \"FnnkOg1Ey1vz\", \"isFirst\": true, \"utmSource\": \"na\", \"isRegistered\": \"Non Registered\"}, {\"date\": \"2016-02-15T00:00:00\", \"timestamp\": \"2016-02-15T18:27:17.610000\", \"uid\": \"7ZSPTSD4Rhh2\", \"isFirst\": true, \"utmSource\": \"na\", \"isRegistered\": \"Non Registered\"}, {\"date\": \"2016-02-15T00:00:00\", \"timestamp\": \"2016-02-15T18:59:35.102000\", \"uid\": \"Xciv1ilwES8s\", \"isFirst\": true, \"utmSource\": \"program\", \"isRegistered\": \"Non Registered\"}, {\"date\": \"2016-02-15T00:00:00\", \"timestamp\": \"2016-02-15T19:54:15.948000\", \"uid\": \"Zwe378t5gwdZ\", \"isFirst\": true, \"utmSource\": \"na\", \"isRegistered\": \"Non Registered\"}, {\"date\": \"2016-02-15T00:00:00\", \"timestamp\": \"2016-02-15T20:34:07.063000\", \"uid\": \"aBBUokvSWmj9\", \"isFirst\": true, \"utmSource\": \"na\", \"isRegistered\": \"Non Registered\"}, {\"date\": \"2016-02-15T00:00:00\", \"timestamp\": \"2016-02-15T21:11:23.754000\", \"uid\": \"cR6DNFikwVWZ\", \"isFirst\": true, \"utmSource\": \"na\", \"isRegistered\": \"Non Registered\"}, {\"date\": \"2016-02-15T00:00:00\", \"timestamp\": \"2016-02-15T21:14:48.666000\", \"uid\": \"KrpMetvC1jWD\", \"isFirst\": true, \"utmSource\": \"na\", \"isRegistered\": \"Non Registered\"}, {\"date\": \"2016-02-15T00:00:00\", \"timestamp\": \"2016-02-15T21:25:52.825000\", \"uid\": \"7ypfUPs7gDWP\", \"isFirst\": true, \"utmSource\": \"na\", \"isRegistered\": \"Non Registered\"}, {\"date\": \"2016-02-15T00:00:00\", \"timestamp\": \"2016-02-15T22:08:25.898000\", \"uid\": \"i1cUrzCe6EdS\", \"isFirst\": true, \"utmSource\": \"na\", \"isRegistered\": \"Non Registered\"}, {\"date\": \"2016-02-15T00:00:00\", \"timestamp\": \"2016-02-15T22:29:59.110000\", \"uid\": \"G152DhNBYnhd\", \"isFirst\": true, \"utmSource\": \"na\", \"isRegistered\": \"Non Registered\"}, {\"date\": \"2016-02-15T00:00:00\", \"timestamp\": \"2016-02-15T23:03:52.491000\", \"uid\": \"NcTzqG8EzQXJ\", \"isFirst\": true, \"utmSource\": \"na\", \"isRegistered\": \"Non Registered\"}, {\"date\": \"2016-02-15T00:00:00\", \"timestamp\": \"2016-02-15T23:18:31.656000\", \"uid\": \"oDZTjjZDaSNJ\", \"isFirst\": true, \"utmSource\": \"na\", \"isRegistered\": \"Non Registered\"}, {\"date\": \"2016-02-15T00:00:00\", \"timestamp\": \"2016-02-16T00:12:13.106000\", \"uid\": \"mfjf5i96lJ31\", \"isFirst\": true, \"utmSource\": \"na\", \"isRegistered\": \"Non Registered\"}, {\"date\": \"2016-02-15T00:00:00\", \"timestamp\": \"2016-02-16T01:00:38.149000\", \"uid\": \"gVfsODiX7nfh\", \"isFirst\": true, \"utmSource\": \"na\", \"isRegistered\": \"Non Registered\"}, {\"date\": \"2016-02-15T00:00:00\", \"timestamp\": \"2016-02-16T01:42:14.421000\", \"uid\": \"yNx72NCqKrAR\", \"isFirst\": true, \"utmSource\": \"na\", \"isRegistered\": \"Non Registered\"}, {\"date\": \"2016-02-15T00:00:00\", \"timestamp\": \"2016-02-16T01:44:12.223000\", \"uid\": \"Z3iFNbfVNPJt\", \"isFirst\": true, \"utmSource\": \"na\", \"isRegistered\": \"Non Registered\"}, {\"date\": \"2016-02-15T00:00:00\", \"timestamp\": \"2016-02-16T03:15:02.551000\", \"uid\": \"doWAFOCTvSQ5\", \"isFirst\": true, \"utmSource\": \"na\", \"isRegistered\": \"Non Registered\"}, {\"date\": \"2016-02-15T00:00:00\", \"timestamp\": \"2016-02-16T03:16:47.942000\", \"uid\": \"sQQaEtKsCWE0\", \"isFirst\": true, \"utmSource\": \"na\", \"isRegistered\": \"Non Registered\"}, {\"date\": \"2016-02-15T00:00:00\", \"timestamp\": \"2016-02-16T06:27:17.497000\", \"uid\": \"gpqr54KtgdBV\", \"isFirst\": false, \"utmSource\": \"biznesowe rewolucje\", \"isRegistered\": \"Non Registered\"}, {\"date\": \"2016-02-15T00:00:00\", \"timestamp\": \"2016-02-16T07:44:03.338000\", \"uid\": \"Ulz6ZsjPR42g\", \"isFirst\": true, \"utmSource\": \"na\", \"isRegistered\": \"Non Registered\"}, {\"date\": \"2016-02-16T00:00:00\", \"timestamp\": \"2016-02-16T09:31:58.359000\", \"uid\": \"7QIBJhuKbTWv\", \"isFirst\": true, \"utmSource\": \"na\", \"isRegistered\": \"Non Registered\"}, {\"date\": \"2016-02-16T00:00:00\", \"timestamp\": \"2016-02-16T09:50:18.867000\", \"uid\": \"eCIonYc9ecz5\", \"isFirst\": true, \"utmSource\": \"na\", \"isRegistered\": \"Non Registered\"}, {\"date\": \"2016-02-16T00:00:00\", \"timestamp\": \"2016-02-16T10:01:51.484000\", \"uid\": \"y2SJtxCYl6PT\", \"isFirst\": true, \"utmSource\": \"na\", \"isRegistered\": \"Non Registered\"}, {\"date\": \"2016-02-16T00:00:00\", \"timestamp\": \"2016-02-16T10:02:15.581000\", \"uid\": \"ZGoklbbzs4T2\", \"isFirst\": true, \"utmSource\": \"na\", \"isRegistered\": \"Non Registered\"}, {\"date\": \"2016-02-16T00:00:00\", \"timestamp\": \"2016-02-16T10:21:27.022000\", \"uid\": \"NVRGDru4CjGe\", \"isFirst\": true, \"utmSource\": \"na\", \"isRegistered\": \"Non Registered\"}, {\"date\": \"2016-02-16T00:00:00\", \"timestamp\": \"2016-02-16T10:25:33.637000\", \"uid\": \"X40vELza42s2\", \"isFirst\": true, \"utmSource\": \"na\", \"isRegistered\": \"Non Registered\"}, {\"date\": \"2016-02-16T00:00:00\", \"timestamp\": \"2016-02-16T10:46:46.722000\", \"uid\": \"hH7tYhbIfSyg\", \"isFirst\": true, \"utmSource\": \"na\", \"isRegistered\": \"Non Registered\"}, {\"date\": \"2016-02-16T00:00:00\", \"timestamp\": \"2016-02-16T11:25:02.519000\", \"uid\": \"qx2AbvpeyQRL\", \"isFirst\": false, \"utmSource\": \"na\", \"isRegistered\": \"Non Registered\"}, {\"date\": \"2016-02-16T00:00:00\", \"timestamp\": \"2016-02-16T11:39:55.877000\", \"uid\": \"R5bZrnDUiw0S\", \"isFirst\": true, \"utmSource\": \"na\", \"isRegistered\": \"Non Registered\"}, {\"date\": \"2016-02-16T00:00:00\", \"timestamp\": \"2016-02-16T12:04:50.109000\", \"uid\": \"VhFIhL2FzgR9\", \"isFirst\": true, \"utmSource\": \"na\", \"isRegistered\": \"Non Registered\"}, {\"date\": \"2016-02-16T00:00:00\", \"timestamp\": \"2016-02-16T14:31:24.723000\", \"uid\": \"LRj6qF36n63a\", \"isFirst\": false, \"utmSource\": \"biznesowe rewolucje\", \"isRegistered\": \"Non Registered\"}, {\"date\": \"2016-02-16T00:00:00\", \"timestamp\": \"2016-02-16T15:33:24.509000\", \"uid\": \"n7DKNN5zXSTc\", \"isFirst\": true, \"utmSource\": \"na\", \"isRegistered\": \"Non Registered\"}, {\"date\": \"2016-02-16T00:00:00\", \"timestamp\": \"2016-02-16T15:55:45.643000\", \"uid\": \"n84ajNNcTrKV\", \"isFirst\": false, \"utmSource\": \"biznesowe rewolucje\", \"isRegistered\": \"Non Registered\"}, {\"date\": \"2016-02-16T00:00:00\", \"timestamp\": \"2016-02-16T16:06:38.578000\", \"uid\": \"6UFfF5iwrSBk\", \"isFirst\": true, \"utmSource\": \"na\", \"isRegistered\": \"Non Registered\"}, {\"date\": \"2016-02-16T00:00:00\", \"timestamp\": \"2016-02-16T16:14:18.536000\", \"uid\": \"41OIACFUDDc7\", \"isFirst\": true, \"utmSource\": \"na\", \"isRegistered\": \"Non Registered\"}, {\"date\": \"2016-02-16T00:00:00\", \"timestamp\": \"2016-02-16T16:18:08.747000\", \"uid\": \"KJuYKH6fJSn1\", \"isFirst\": true, \"utmSource\": \"na\", \"isRegistered\": \"Non Registered\"}, {\"date\": \"2016-02-16T00:00:00\", \"timestamp\": \"2016-02-16T16:43:55.514000\", \"uid\": \"KGZyC5YhKKdl\", \"isFirst\": true, \"utmSource\": \"na\", \"isRegistered\": \"Non Registered\"}, {\"date\": \"2016-02-16T00:00:00\", \"timestamp\": \"2016-02-16T17:04:22.600000\", \"uid\": \"cfmmEq6Mmrf1\", \"isFirst\": true, \"utmSource\": \"na\", \"isRegistered\": \"Non Registered\"}, {\"date\": \"2016-02-16T00:00:00\", \"timestamp\": \"2016-02-16T18:11:25.451000\", \"uid\": \"mM3CmxKEwYOQ\", \"isFirst\": true, \"utmSource\": \"na\", \"isRegistered\": \"Non Registered\"}, {\"date\": \"2016-02-16T00:00:00\", \"timestamp\": \"2016-02-16T18:17:18.914000\", \"uid\": \"XwoGNDBmgQPv\", \"isFirst\": true, \"utmSource\": \"na\", \"isRegistered\": \"Non Registered\"}, {\"date\": \"2016-02-16T00:00:00\", \"timestamp\": \"2016-02-16T18:25:00.086000\", \"uid\": \"UBKageqpKsuO\", \"isFirst\": true, \"utmSource\": \"na\", \"isRegistered\": \"Non Registered\"}, {\"date\": \"2016-02-16T00:00:00\", \"timestamp\": \"2016-02-16T18:32:30.561000\", \"uid\": \"76588942\", \"isFirst\": false, \"utmSource\": \"biznesowe rewolucje\", \"isRegistered\": \"Registered\"}, {\"date\": \"2016-02-16T00:00:00\", \"timestamp\": \"2016-02-16T18:44:45.421000\", \"uid\": \"3FBXNwtjrYCK\", \"isFirst\": true, \"utmSource\": \"na\", \"isRegistered\": \"Non Registered\"}, {\"date\": \"2016-02-16T00:00:00\", \"timestamp\": \"2016-02-16T20:17:10.765000\", \"uid\": \"aGghys2PqAVM\", \"isFirst\": true, \"utmSource\": \"na\", \"isRegistered\": \"Non Registered\"}, {\"date\": \"2016-02-16T00:00:00\", \"timestamp\": \"2016-02-16T20:33:39.626000\", \"uid\": \"vfW0HpBoWF6f\", \"isFirst\": true, \"utmSource\": \"na\", \"isRegistered\": \"Non Registered\"}, {\"date\": \"2016-02-16T00:00:00\", \"timestamp\": \"2016-02-16T23:57:16.298000\", \"uid\": \"OR8OoNY2kIVq\", \"isFirst\": true, \"utmSource\": \"na\", \"isRegistered\": \"Non Registered\"}, {\"date\": \"2016-02-16T00:00:00\", \"timestamp\": \"2016-02-17T00:17:47.404000\", \"uid\": \"uii6ulxycXPu\", \"isFirst\": true, \"utmSource\": \"na\", \"isRegistered\": \"Non Registered\"}, {\"date\": \"2016-02-16T00:00:00\", \"timestamp\": \"2016-02-17T04:53:13.808000\", \"uid\": \"jWiFgFJYekPl\", \"isFirst\": true, \"utmSource\": \"na\", \"isRegistered\": \"Non Registered\"}, {\"date\": \"2016-02-16T00:00:00\", \"timestamp\": \"2016-02-17T05:00:37.413000\", \"uid\": \"JZP1EihPT9E3\", \"isFirst\": true, \"utmSource\": \"na\", \"isRegistered\": \"Non Registered\"}, {\"date\": \"2016-02-16T00:00:00\", \"timestamp\": \"2016-02-17T07:09:48.456000\", \"uid\": \"4p2yJEEjGnKJ\", \"isFirst\": true, \"utmSource\": \"na\", \"isRegistered\": \"Non Registered\"}, {\"date\": \"2016-02-17T00:00:00\", \"timestamp\": \"2016-02-17T10:17:32.840000\", \"uid\": \"fwHj0NUfc3iG\", \"isFirst\": true, \"utmSource\": \"na\", \"isRegistered\": \"Non Registered\"}, {\"date\": \"2016-02-17T00:00:00\", \"timestamp\": \"2016-02-17T10:20:09.306000\", \"uid\": \"0ppSnCQ6nLL0\", \"isFirst\": true, \"utmSource\": \"na\", \"isRegistered\": \"Non Registered\"}, {\"date\": \"2016-02-17T00:00:00\", \"timestamp\": \"2016-02-17T11:01:12.741000\", \"uid\": \"YsGBtblmgclp\", \"isFirst\": true, \"utmSource\": \"na\", \"isRegistered\": \"Non Registered\"}, {\"date\": \"2016-02-17T00:00:00\", \"timestamp\": \"2016-02-17T12:08:01.456000\", \"uid\": \"1IDsYZFBa2Ss\", \"isFirst\": true, \"utmSource\": \"na\", \"isRegistered\": \"Non Registered\"}, {\"date\": \"2016-02-17T00:00:00\", \"timestamp\": \"2016-02-17T12:41:30.741000\", \"uid\": \"1neYoFGOGlsI\", \"isFirst\": true, \"utmSource\": \"na\", \"isRegistered\": \"Non Registered\"}, {\"date\": \"2016-02-17T00:00:00\", \"timestamp\": \"2016-02-17T13:12:35.862000\", \"uid\": \"21L8iyyoDdOC\", \"isFirst\": true, \"utmSource\": \"na\", \"isRegistered\": \"Non Registered\"}, {\"date\": \"2016-02-17T00:00:00\", \"timestamp\": \"2016-02-17T15:11:36.529000\", \"uid\": \"YMFGMgXkZmdz\", \"isFirst\": true, \"utmSource\": \"na\", \"isRegistered\": \"Non Registered\"}, {\"date\": \"2016-02-17T00:00:00\", \"timestamp\": \"2016-02-17T15:30:36.093000\", \"uid\": \"dof6agaQIYEH\", \"isFirst\": true, \"utmSource\": \"na\", \"isRegistered\": \"Non Registered\"}, {\"date\": \"2016-02-17T00:00:00\", \"timestamp\": \"2016-02-17T16:13:21.165000\", \"uid\": \"Dh2EhuKXDeOv\", \"isFirst\": true, \"utmSource\": \"na\", \"isRegistered\": \"Non Registered\"}, {\"date\": \"2016-02-17T00:00:00\", \"timestamp\": \"2016-02-17T16:47:31.306000\", \"uid\": \"eFbt5q6mMpxc\", \"isFirst\": true, \"utmSource\": \"na\", \"isRegistered\": \"Non Registered\"}, {\"date\": \"2016-02-17T00:00:00\", \"timestamp\": \"2016-02-17T17:21:57.741000\", \"uid\": \"1RJVP5d4p1Hd\", \"isFirst\": true, \"utmSource\": \"na\", \"isRegistered\": \"Non Registered\"}, {\"date\": \"2016-02-17T00:00:00\", \"timestamp\": \"2016-02-17T18:10:51.295000\", \"uid\": \"Ws2o2e1484sF\", \"isFirst\": true, \"utmSource\": \"na\", \"isRegistered\": \"Non Registered\"}, {\"date\": \"2016-02-17T00:00:00\", \"timestamp\": \"2016-02-17T18:37:40.304000\", \"uid\": \"hkK92zyB0fPw\", \"isFirst\": true, \"utmSource\": \"na\", \"isRegistered\": \"Non Registered\"}, {\"date\": \"2016-02-17T00:00:00\", \"timestamp\": \"2016-02-17T18:59:50.025000\", \"uid\": \"GTsJ11WQEj8V\", \"isFirst\": true, \"utmSource\": \"na\", \"isRegistered\": \"Non Registered\"}, {\"date\": \"2016-02-17T00:00:00\", \"timestamp\": \"2016-02-17T20:05:27.993000\", \"uid\": \"68239141\", \"isFirst\": false, \"utmSource\": \"program\", \"isRegistered\": \"Registered\"}, {\"date\": \"2016-02-17T00:00:00\", \"timestamp\": \"2016-02-17T20:25:19.244000\", \"uid\": \"7LimZyX0DqT3\", \"isFirst\": true, \"utmSource\": \"na\", \"isRegistered\": \"Non Registered\"}, {\"date\": \"2016-02-17T00:00:00\", \"timestamp\": \"2016-02-17T20:43:54.063000\", \"uid\": \"C6CHeighA27v\", \"isFirst\": true, \"utmSource\": \"na\", \"isRegistered\": \"Non Registered\"}, {\"date\": \"2016-02-17T00:00:00\", \"timestamp\": \"2016-02-17T20:46:45.387000\", \"uid\": \"y4dLQdOHGFAp\", \"isFirst\": true, \"utmSource\": \"na\", \"isRegistered\": \"Non Registered\"}, {\"date\": \"2016-02-17T00:00:00\", \"timestamp\": \"2016-02-17T21:12:53.944000\", \"uid\": \"Etwb8u9KHwcZ\", \"isFirst\": true, \"utmSource\": \"na\", \"isRegistered\": \"Non Registered\"}, {\"date\": \"2016-02-17T00:00:00\", \"timestamp\": \"2016-02-17T21:40:34.793000\", \"uid\": \"43mRXVRnXWVL\", \"isFirst\": true, \"utmSource\": \"na\", \"isRegistered\": \"Non Registered\"}, {\"date\": \"2016-02-17T00:00:00\", \"timestamp\": \"2016-02-17T23:23:56.416000\", \"uid\": \"JCFFMZ6PjD3j\", \"isFirst\": true, \"utmSource\": \"na\", \"isRegistered\": \"Non Registered\"}, {\"date\": \"2016-02-17T00:00:00\", \"timestamp\": \"2016-02-18T01:04:03.181000\", \"uid\": \"T4Bn82UXtAZh\", \"isFirst\": true, \"utmSource\": \"na\", \"isRegistered\": \"Non Registered\"}, {\"date\": \"2016-02-17T00:00:00\", \"timestamp\": \"2016-02-18T01:06:34.074000\", \"uid\": \"w0oAIGn72c4d\", \"isFirst\": true, \"utmSource\": \"na\", \"isRegistered\": \"Non Registered\"}, {\"date\": \"2016-02-17T00:00:00\", \"timestamp\": \"2016-02-18T01:17:24.771000\", \"uid\": \"rHuPLkEZb7y3\", \"isFirst\": false, \"utmSource\": \"na\", \"isRegistered\": \"Non Registered\"}, {\"date\": \"2016-02-17T00:00:00\", \"timestamp\": \"2016-02-18T03:15:51.035000\", \"uid\": \"hyZvtoPVFbDC\", \"isFirst\": true, \"utmSource\": \"na\", \"isRegistered\": \"Non Registered\"}, {\"date\": \"2016-02-17T00:00:00\", \"timestamp\": \"2016-02-18T04:36:50.308000\", \"uid\": \"1uyLk4Yz4SIl\", \"isFirst\": true, \"utmSource\": \"na\", \"isRegistered\": \"Non Registered\"}, {\"date\": \"2016-02-17T00:00:00\", \"timestamp\": \"2016-02-18T05:21:24.983000\", \"uid\": \"7WHVSSswoHou\", \"isFirst\": true, \"utmSource\": \"na\", \"isRegistered\": \"Non Registered\"}, {\"date\": \"2016-02-17T00:00:00\", \"timestamp\": \"2016-02-18T05:53:06.054000\", \"uid\": \"nciaxPPG8Yoj\", \"isFirst\": true, \"utmSource\": \"na\", \"isRegistered\": \"Non Registered\"}, {\"date\": \"2016-02-17T00:00:00\", \"timestamp\": \"2016-02-18T05:55:30.227000\", \"uid\": \"79Rzf4xPQl8y\", \"isFirst\": true, \"utmSource\": \"na\", \"isRegistered\": \"Non Registered\"}, {\"date\": \"2016-02-17T00:00:00\", \"timestamp\": \"2016-02-18T06:09:31.465000\", \"uid\": \"4LNv8XOjzhtP\", \"isFirst\": true, \"utmSource\": \"na\", \"isRegistered\": \"Non Registered\"}, {\"date\": \"2016-02-17T00:00:00\", \"timestamp\": \"2016-02-18T06:51:03.502000\", \"uid\": \"GFsxBRMrtrWl\", \"isFirst\": true, \"utmSource\": \"na\", \"isRegistered\": \"Non Registered\"}, {\"date\": \"2016-02-18T00:00:00\", \"timestamp\": \"2016-02-18T08:38:18.076000\", \"uid\": \"Ip9etLff3PvE\", \"isFirst\": true, \"utmSource\": \"na\", \"isRegistered\": \"Non Registered\"}, {\"date\": \"2016-02-18T00:00:00\", \"timestamp\": \"2016-02-18T10:47:10.585000\", \"uid\": \"sLlxsev7SRBm\", \"isFirst\": true, \"utmSource\": \"na\", \"isRegistered\": \"Non Registered\"}, {\"date\": \"2016-02-18T00:00:00\", \"timestamp\": \"2016-02-18T10:51:12.847000\", \"uid\": \"4oqgoVBO3Nrk\", \"isFirst\": true, \"utmSource\": \"na\", \"isRegistered\": \"Non Registered\"}, {\"date\": \"2016-02-18T00:00:00\", \"timestamp\": \"2016-02-18T10:56:43.885000\", \"uid\": \"tokdiO4VqIpR\", \"isFirst\": true, \"utmSource\": \"na\", \"isRegistered\": \"Non Registered\"}, {\"date\": \"2016-02-18T00:00:00\", \"timestamp\": \"2016-02-18T11:46:29.185000\", \"uid\": \"iYsk6BtkHL4h\", \"isFirst\": true, \"utmSource\": \"na\", \"isRegistered\": \"Non Registered\"}, {\"date\": \"2016-02-18T00:00:00\", \"timestamp\": \"2016-02-18T12:06:31.658000\", \"uid\": \"uyKumqlyt6it\", \"isFirst\": false, \"utmSource\": \"biznesowe rewolucje\", \"isRegistered\": \"Non Registered\"}, {\"date\": \"2016-02-18T00:00:00\", \"timestamp\": \"2016-02-18T12:34:31.900000\", \"uid\": \"tL4KP0OFJtj2\", \"isFirst\": true, \"utmSource\": \"na\", \"isRegistered\": \"Non Registered\"}, {\"date\": \"2016-02-18T00:00:00\", \"timestamp\": \"2016-02-18T12:39:39.099000\", \"uid\": \"U92JOrvnCY8T\", \"isFirst\": true, \"utmSource\": \"na\", \"isRegistered\": \"Non Registered\"}, {\"date\": \"2016-02-18T00:00:00\", \"timestamp\": \"2016-02-18T12:53:08.009000\", \"uid\": \"nAVU6HROxFsP\", \"isFirst\": true, \"utmSource\": \"na\", \"isRegistered\": \"Non Registered\"}, {\"date\": \"2016-02-18T00:00:00\", \"timestamp\": \"2016-02-18T13:53:15.560000\", \"uid\": \"dHzkHK4hOkgb\", \"isFirst\": true, \"utmSource\": \"na\", \"isRegistered\": \"Non Registered\"}, {\"date\": \"2016-02-18T00:00:00\", \"timestamp\": \"2016-02-18T16:45:31.533000\", \"uid\": \"WuOvN3oOVTZQ\", \"isFirst\": true, \"utmSource\": \"na\", \"isRegistered\": \"Non Registered\"}, {\"date\": \"2016-02-18T00:00:00\", \"timestamp\": \"2016-02-18T17:51:51.807000\", \"uid\": \"qWdRpQ534VwN\", \"isFirst\": true, \"utmSource\": \"na\", \"isRegistered\": \"Non Registered\"}, {\"date\": \"2016-02-18T00:00:00\", \"timestamp\": \"2016-02-18T18:21:07.755000\", \"uid\": \"iuqACdfiuxU6\", \"isFirst\": true, \"utmSource\": \"na\", \"isRegistered\": \"Non Registered\"}, {\"date\": \"2016-02-18T00:00:00\", \"timestamp\": \"2016-02-18T18:28:25.143000\", \"uid\": \"OwG1xNy1ZlRU\", \"isFirst\": true, \"utmSource\": \"na\", \"isRegistered\": \"Non Registered\"}, {\"date\": \"2016-02-18T00:00:00\", \"timestamp\": \"2016-02-18T19:20:18.993000\", \"uid\": \"zeyZF4ZJnM8P\", \"isFirst\": true, \"utmSource\": \"na\", \"isRegistered\": \"Non Registered\"}, {\"date\": \"2016-02-18T00:00:00\", \"timestamp\": \"2016-02-18T19:42:18.610000\", \"uid\": \"U2fLuUMdXCQp\", \"isFirst\": true, \"utmSource\": \"na\", \"isRegistered\": \"Non Registered\"}, {\"date\": \"2016-02-18T00:00:00\", \"timestamp\": \"2016-02-18T20:22:30.482000\", \"uid\": \"pbmHVOQzb459\", \"isFirst\": true, \"utmSource\": \"na\", \"isRegistered\": \"Non Registered\"}, {\"date\": \"2016-02-18T00:00:00\", \"timestamp\": \"2016-02-18T22:25:48.890000\", \"uid\": \"s4hxcRnnhNkU\", \"isFirst\": true, \"utmSource\": \"na\", \"isRegistered\": \"Non Registered\"}, {\"date\": \"2016-02-18T00:00:00\", \"timestamp\": \"2016-02-18T22:39:32.410000\", \"uid\": \"iOsGU02dzAcm\", \"isFirst\": true, \"utmSource\": \"na\", \"isRegistered\": \"Non Registered\"}, {\"date\": \"2016-02-18T00:00:00\", \"timestamp\": \"2016-02-19T01:58:39.290000\", \"uid\": \"bHq7B1KB04Oa\", \"isFirst\": true, \"utmSource\": \"na\", \"isRegistered\": \"Non Registered\"}, {\"date\": \"2016-02-18T00:00:00\", \"timestamp\": \"2016-02-19T02:35:16.156000\", \"uid\": \"PRDV64NhlTjp\", \"isFirst\": true, \"utmSource\": \"na\", \"isRegistered\": \"Non Registered\"}, {\"date\": \"2016-02-18T00:00:00\", \"timestamp\": \"2016-02-19T03:51:22.004000\", \"uid\": \"tNHnfEjupWcK\", \"isFirst\": true, \"utmSource\": \"na\", \"isRegistered\": \"Non Registered\"}, {\"date\": \"2016-02-18T00:00:00\", \"timestamp\": \"2016-02-19T03:57:00.190000\", \"uid\": \"lNMAmQYhFM1O\", \"isFirst\": true, \"utmSource\": \"na\", \"isRegistered\": \"Non Registered\"}, {\"date\": \"2016-02-18T00:00:00\", \"timestamp\": \"2016-02-19T04:54:24.736000\", \"uid\": \"74EzSZKrwGxC\", \"isFirst\": true, \"utmSource\": \"na\", \"isRegistered\": \"Non Registered\"}, {\"date\": \"2016-02-18T00:00:00\", \"timestamp\": \"2016-02-19T05:09:34.868000\", \"uid\": \"EM7FGXC3y2U2\", \"isFirst\": true, \"utmSource\": \"na\", \"isRegistered\": \"Non Registered\"}, {\"date\": \"2016-02-18T00:00:00\", \"timestamp\": \"2016-02-19T07:12:05.401000\", \"uid\": \"xhlmW59F1JxG\", \"isFirst\": true, \"utmSource\": \"na\", \"isRegistered\": \"Non Registered\"}, {\"date\": \"2016-02-19T00:00:00\", \"timestamp\": \"2016-02-19T09:03:53.044000\", \"uid\": \"4w3LW3D7RDcF\", \"isFirst\": true, \"utmSource\": \"na\", \"isRegistered\": \"Non Registered\"}, {\"date\": \"2016-02-19T00:00:00\", \"timestamp\": \"2016-02-19T09:15:26.066000\", \"uid\": \"X9fEJYehC6GB\", \"isFirst\": true, \"utmSource\": \"na\", \"isRegistered\": \"Non Registered\"}, {\"date\": \"2016-02-19T00:00:00\", \"timestamp\": \"2016-02-19T09:23:38.017000\", \"uid\": \"sNVUk4m0SRKE\", \"isFirst\": true, \"utmSource\": \"na\", \"isRegistered\": \"Non Registered\"}, {\"date\": \"2016-02-19T00:00:00\", \"timestamp\": \"2016-02-19T10:14:46.941000\", \"uid\": \"prg0Hhqt3jwV\", \"isFirst\": true, \"utmSource\": \"na\", \"isRegistered\": \"Non Registered\"}, {\"date\": \"2016-02-19T00:00:00\", \"timestamp\": \"2016-02-19T10:40:38.469000\", \"uid\": \"jxrCBWDGhItk\", \"isFirst\": true, \"utmSource\": \"na\", \"isRegistered\": \"Non Registered\"}, {\"date\": \"2016-02-19T00:00:00\", \"timestamp\": \"2016-02-19T11:27:29.907000\", \"uid\": \"MAzmMO4NyCMO\", \"isFirst\": true, \"utmSource\": \"na\", \"isRegistered\": \"Non Registered\"}, {\"date\": \"2016-02-19T00:00:00\", \"timestamp\": \"2016-02-19T14:10:05.902000\", \"uid\": \"9TgDBLFyoMQ5\", \"isFirst\": true, \"utmSource\": \"na\", \"isRegistered\": \"Non Registered\"}, {\"date\": \"2016-02-19T00:00:00\", \"timestamp\": \"2016-02-19T14:39:43.425000\", \"uid\": \"b5gBEEi47B4n\", \"isFirst\": true, \"utmSource\": \"na\", \"isRegistered\": \"Non Registered\"}, {\"date\": \"2016-02-19T00:00:00\", \"timestamp\": \"2016-02-19T15:27:12.390000\", \"uid\": \"msRvZedWdWvY\", \"isFirst\": true, \"utmSource\": \"na\", \"isRegistered\": \"Non Registered\"}, {\"date\": \"2016-02-19T00:00:00\", \"timestamp\": \"2016-02-19T15:33:40.579000\", \"uid\": \"v5CqjFOOog5E\", \"isFirst\": true, \"utmSource\": \"na\", \"isRegistered\": \"Non Registered\"}, {\"date\": \"2016-02-19T00:00:00\", \"timestamp\": \"2016-02-19T16:17:13.535000\", \"uid\": \"bMXxIhhH0h5e\", \"isFirst\": true, \"utmSource\": \"na\", \"isRegistered\": \"Non Registered\"}, {\"date\": \"2016-02-19T00:00:00\", \"timestamp\": \"2016-02-19T17:21:23.752000\", \"uid\": \"z5JF0ztxMvnm\", \"isFirst\": true, \"utmSource\": \"na\", \"isRegistered\": \"Non Registered\"}, {\"date\": \"2016-02-19T00:00:00\", \"timestamp\": \"2016-02-19T18:23:42.468000\", \"uid\": \"6ObNAs1fBi8u\", \"isFirst\": true, \"utmSource\": \"na\", \"isRegistered\": \"Non Registered\"}, {\"date\": \"2016-02-19T00:00:00\", \"timestamp\": \"2016-02-19T20:15:42.851000\", \"uid\": \"hncu3CYZRITr\", \"isFirst\": true, \"utmSource\": \"na\", \"isRegistered\": \"Non Registered\"}, {\"date\": \"2016-02-19T00:00:00\", \"timestamp\": \"2016-02-19T21:35:54.452000\", \"uid\": \"Q5J6v1YZcsGo\", \"isFirst\": true, \"utmSource\": \"na\", \"isRegistered\": \"Non Registered\"}, {\"date\": \"2016-02-19T00:00:00\", \"timestamp\": \"2016-02-19T22:07:57.685000\", \"uid\": \"qXY7kD1JdvLl\", \"isFirst\": true, \"utmSource\": \"na\", \"isRegistered\": \"Non Registered\"}, {\"date\": \"2016-02-19T00:00:00\", \"timestamp\": \"2016-02-19T23:24:35.492000\", \"uid\": \"lxHepuJdlcNv\", \"isFirst\": true, \"utmSource\": \"na\", \"isRegistered\": \"Non Registered\"}, {\"date\": \"2016-02-19T00:00:00\", \"timestamp\": \"2016-02-20T00:05:17.660000\", \"uid\": \"2qDDhjo38d03\", \"isFirst\": true, \"utmSource\": \"na\", \"isRegistered\": \"Non Registered\"}, {\"date\": \"2016-02-19T00:00:00\", \"timestamp\": \"2016-02-20T00:44:37.150000\", \"uid\": \"Ik5JuTmNH2Ww\", \"isFirst\": true, \"utmSource\": \"na\", \"isRegistered\": \"Non Registered\"}, {\"date\": \"2016-02-19T00:00:00\", \"timestamp\": \"2016-02-20T01:03:24.990000\", \"uid\": \"lAmGJEMaH1eg\", \"isFirst\": true, \"utmSource\": \"na\", \"isRegistered\": \"Non Registered\"}, {\"date\": \"2016-02-19T00:00:00\", \"timestamp\": \"2016-02-20T03:14:44.580000\", \"uid\": \"UW2ni1Xch3ZU\", \"isFirst\": true, \"utmSource\": \"na\", \"isRegistered\": \"Non Registered\"}, {\"date\": \"2016-02-19T00:00:00\", \"timestamp\": \"2016-02-20T03:33:04.045000\", \"uid\": \"OX7qUpTPCeqY\", \"isFirst\": true, \"utmSource\": \"na\", \"isRegistered\": \"Non Registered\"}, {\"date\": \"2016-02-19T00:00:00\", \"timestamp\": \"2016-02-20T05:58:13.732000\", \"uid\": \"iqCFaDyXVonT\", \"isFirst\": true, \"utmSource\": \"na\", \"isRegistered\": \"Non Registered\"}, {\"date\": \"2016-02-19T00:00:00\", \"timestamp\": \"2016-02-20T05:58:39.812000\", \"uid\": \"MFwOmRlkif0W\", \"isFirst\": true, \"utmSource\": \"na\", \"isRegistered\": \"Non Registered\"}, {\"date\": \"2016-02-19T00:00:00\", \"timestamp\": \"2016-02-20T06:15:57.540000\", \"uid\": \"F3bctjo2KPXT\", \"isFirst\": true, \"utmSource\": \"na\", \"isRegistered\": \"Non Registered\"}, {\"date\": \"2016-02-20T00:00:00\", \"timestamp\": \"2016-02-20T08:02:02.198000\", \"uid\": \"ZGpa3GcMG7nr\", \"isFirst\": true, \"utmSource\": \"na\", \"isRegistered\": \"Non Registered\"}, {\"date\": \"2016-02-20T00:00:00\", \"timestamp\": \"2016-02-20T10:10:59.498000\", \"uid\": \"qNpsHJd7ONrr\", \"isFirst\": true, \"utmSource\": \"na\", \"isRegistered\": \"Non Registered\"}, {\"date\": \"2016-02-20T00:00:00\", \"timestamp\": \"2016-02-20T11:39:12.816000\", \"uid\": \"dSq8t7V7qHwZ\", \"isFirst\": true, \"utmSource\": \"na\", \"isRegistered\": \"Non Registered\"}, {\"date\": \"2016-02-20T00:00:00\", \"timestamp\": \"2016-02-20T12:28:42.419000\", \"uid\": \"ti7RzIb6FrHK\", \"isFirst\": true, \"utmSource\": \"na\", \"isRegistered\": \"Non Registered\"}, {\"date\": \"2016-02-20T00:00:00\", \"timestamp\": \"2016-02-20T13:21:16.321000\", \"uid\": \"kBqhnh2Lmrcp\", \"isFirst\": true, \"utmSource\": \"na\", \"isRegistered\": \"Non Registered\"}, {\"date\": \"2016-02-20T00:00:00\", \"timestamp\": \"2016-02-20T15:04:31.401000\", \"uid\": \"VCLkHVDgWIbL\", \"isFirst\": true, \"utmSource\": \"na\", \"isRegistered\": \"Non Registered\"}, {\"date\": \"2016-02-20T00:00:00\", \"timestamp\": \"2016-02-20T16:00:53.033000\", \"uid\": \"VGHJX4VAjdgj\", \"isFirst\": true, \"utmSource\": \"na\", \"isRegistered\": \"Non Registered\"}, {\"date\": \"2016-02-20T00:00:00\", \"timestamp\": \"2016-02-20T16:25:57.616000\", \"uid\": \"zJjYWS1PKcuh\", \"isFirst\": false, \"utmSource\": \"na\", \"isRegistered\": \"Non Registered\"}, {\"date\": \"2016-02-20T00:00:00\", \"timestamp\": \"2016-02-20T18:22:37.337000\", \"uid\": \"Gtn1JaL9vKgD\", \"isFirst\": true, \"utmSource\": \"na\", \"isRegistered\": \"Non Registered\"}, {\"date\": \"2016-02-20T00:00:00\", \"timestamp\": \"2016-02-20T19:44:50.489000\", \"uid\": \"nhm4UzMhNoEc\", \"isFirst\": true, \"utmSource\": \"na\", \"isRegistered\": \"Non Registered\"}, {\"date\": \"2016-02-20T00:00:00\", \"timestamp\": \"2016-02-20T19:46:19.934000\", \"uid\": \"CnN53BqzIpTw\", \"isFirst\": true, \"utmSource\": \"na\", \"isRegistered\": \"Non Registered\"}, {\"date\": \"2016-02-20T00:00:00\", \"timestamp\": \"2016-02-20T20:51:11.325000\", \"uid\": \"Gw7U6qKDSVjs\", \"isFirst\": true, \"utmSource\": \"na\", \"isRegistered\": \"Non Registered\"}, {\"date\": \"2016-02-20T00:00:00\", \"timestamp\": \"2016-02-20T23:31:35.420000\", \"uid\": \"ojYCdnb2b1xm\", \"isFirst\": true, \"utmSource\": \"na\", \"isRegistered\": \"Non Registered\"}, {\"date\": \"2016-02-20T00:00:00\", \"timestamp\": \"2016-02-20T23:42:20.164000\", \"uid\": \"pd1kbvaHEzW0\", \"isFirst\": true, \"utmSource\": \"na\", \"isRegistered\": \"Non Registered\"}, {\"date\": \"2016-02-20T00:00:00\", \"timestamp\": \"2016-02-21T00:02:10.074000\", \"uid\": \"Gc2hpsqxWZob\", \"isFirst\": true, \"utmSource\": \"na\", \"isRegistered\": \"Non Registered\"}, {\"date\": \"2016-02-20T00:00:00\", \"timestamp\": \"2016-02-21T01:29:14.571000\", \"uid\": \"TblZP74oOEJo\", \"isFirst\": true, \"utmSource\": \"na\", \"isRegistered\": \"Non Registered\"}, {\"date\": \"2016-02-20T00:00:00\", \"timestamp\": \"2016-02-21T01:35:46.070000\", \"uid\": \"gQSLyXAbzWD4\", \"isFirst\": true, \"utmSource\": \"na\", \"isRegistered\": \"Non Registered\"}, {\"date\": \"2016-02-20T00:00:00\", \"timestamp\": \"2016-02-21T01:59:23.605000\", \"uid\": \"OuvbJfddotd1\", \"isFirst\": true, \"utmSource\": \"na\", \"isRegistered\": \"Non Registered\"}, {\"date\": \"2016-02-20T00:00:00\", \"timestamp\": \"2016-02-21T02:04:59.604000\", \"uid\": \"n254tLlU0ZDi\", \"isFirst\": true, \"utmSource\": \"na\", \"isRegistered\": \"Non Registered\"}, {\"date\": \"2016-02-20T00:00:00\", \"timestamp\": \"2016-02-21T02:46:31.656000\", \"uid\": \"1KiSEZcu1rJg\", \"isFirst\": true, \"utmSource\": \"na\", \"isRegistered\": \"Non Registered\"}, {\"date\": \"2016-02-20T00:00:00\", \"timestamp\": \"2016-02-21T03:09:44.610000\", \"uid\": \"J8cByTPYDzob\", \"isFirst\": false, \"utmSource\": \"na\", \"isRegistered\": \"Non Registered\"}, {\"date\": \"2016-02-20T00:00:00\", \"timestamp\": \"2016-02-21T04:49:34.283000\", \"uid\": \"7A011MTvmv56\", \"isFirst\": true, \"utmSource\": \"na\", \"isRegistered\": \"Non Registered\"}, {\"date\": \"2016-02-20T00:00:00\", \"timestamp\": \"2016-02-21T05:49:46.216000\", \"uid\": \"n0iMEVXhaolL\", \"isFirst\": true, \"utmSource\": \"na\", \"isRegistered\": \"Non Registered\"}, {\"date\": \"2016-02-20T00:00:00\", \"timestamp\": \"2016-02-21T05:56:35.586000\", \"uid\": \"jLFYiHCEezvo\", \"isFirst\": true, \"utmSource\": \"na\", \"isRegistered\": \"Non Registered\"}, {\"date\": \"2016-02-21T00:00:00\", \"timestamp\": \"2016-02-21T08:03:51.825000\", \"uid\": \"aQ5ayZQkkeNx\", \"isFirst\": true, \"utmSource\": \"na\", \"isRegistered\": \"Non Registered\"}, {\"date\": \"2016-02-21T00:00:00\", \"timestamp\": \"2016-02-21T08:27:58.558000\", \"uid\": \"ByOHIj0hlrsH\", \"isFirst\": true, \"utmSource\": \"na\", \"isRegistered\": \"Non Registered\"}, {\"date\": \"2016-02-21T00:00:00\", \"timestamp\": \"2016-02-21T09:39:02.506000\", \"uid\": \"PF8NCl1wZJl7\", \"isFirst\": true, \"utmSource\": \"na\", \"isRegistered\": \"Non Registered\"}, {\"date\": \"2016-02-21T00:00:00\", \"timestamp\": \"2016-02-21T12:35:15.497000\", \"uid\": \"OIA5pEWwppZF\", \"isFirst\": true, \"utmSource\": \"na\", \"isRegistered\": \"Non Registered\"}, {\"date\": \"2016-02-21T00:00:00\", \"timestamp\": \"2016-02-21T13:56:29.107000\", \"uid\": \"vS0GEghmz4dG\", \"isFirst\": true, \"utmSource\": \"na\", \"isRegistered\": \"Non Registered\"}, {\"date\": \"2016-02-21T00:00:00\", \"timestamp\": \"2016-02-21T14:26:54.537000\", \"uid\": \"oVxMWltlWvhs\", \"isFirst\": true, \"utmSource\": \"na\", \"isRegistered\": \"Non Registered\"}, {\"date\": \"2016-02-21T00:00:00\", \"timestamp\": \"2016-02-21T15:07:06.192000\", \"uid\": \"IaSaG68SZsGr\", \"isFirst\": true, \"utmSource\": \"na\", \"isRegistered\": \"Non Registered\"}, {\"date\": \"2016-02-21T00:00:00\", \"timestamp\": \"2016-02-21T15:45:14.253000\", \"uid\": \"1KtMHlYsnMwC\", \"isFirst\": true, \"utmSource\": \"na\", \"isRegistered\": \"Non Registered\"}, {\"date\": \"2016-02-21T00:00:00\", \"timestamp\": \"2016-02-21T16:32:34.177000\", \"uid\": \"0FPok7DwnG57\", \"isFirst\": true, \"utmSource\": \"na\", \"isRegistered\": \"Non Registered\"}, {\"date\": \"2016-02-21T00:00:00\", \"timestamp\": \"2016-02-21T17:01:50.884000\", \"uid\": \"6KQbn01DhKvi\", \"isFirst\": true, \"utmSource\": \"na\", \"isRegistered\": \"Non Registered\"}, {\"date\": \"2016-02-21T00:00:00\", \"timestamp\": \"2016-02-21T17:05:04.391000\", \"uid\": \"52GXYJr72VgR\", \"isFirst\": true, \"utmSource\": \"na\", \"isRegistered\": \"Non Registered\"}, {\"date\": \"2016-02-21T00:00:00\", \"timestamp\": \"2016-02-21T17:30:38.333000\", \"uid\": \"WVdNGIT0RIQ5\", \"isFirst\": false, \"utmSource\": \"biznesowe rewolucje\", \"isRegistered\": \"Non Registered\"}, {\"date\": \"2016-02-21T00:00:00\", \"timestamp\": \"2016-02-21T17:53:16.560000\", \"uid\": \"fe8bYt14ARIl\", \"isFirst\": true, \"utmSource\": \"na\", \"isRegistered\": \"Non Registered\"}, {\"date\": \"2016-02-21T00:00:00\", \"timestamp\": \"2016-02-21T19:25:37.199000\", \"uid\": \"u24nsDryvQ04\", \"isFirst\": true, \"utmSource\": \"na\", \"isRegistered\": \"Non Registered\"}, {\"date\": \"2016-02-21T00:00:00\", \"timestamp\": \"2016-02-21T19:26:25.306000\", \"uid\": \"ROHNWvq5go1a\", \"isFirst\": true, \"utmSource\": \"na\", \"isRegistered\": \"Non Registered\"}, {\"date\": \"2016-02-21T00:00:00\", \"timestamp\": \"2016-02-21T19:26:29.643000\", \"uid\": \"lgyEVHFUO3SV\", \"isFirst\": true, \"utmSource\": \"na\", \"isRegistered\": \"Non Registered\"}, {\"date\": \"2016-02-21T00:00:00\", \"timestamp\": \"2016-02-21T21:19:22.020000\", \"uid\": \"SMKsS4eWairp\", \"isFirst\": true, \"utmSource\": \"na\", \"isRegistered\": \"Non Registered\"}, {\"date\": \"2016-02-21T00:00:00\", \"timestamp\": \"2016-02-21T22:19:41.349000\", \"uid\": \"tNM6d3dK5MGH\", \"isFirst\": false, \"utmSource\": \"tapjoy\", \"isRegistered\": \"Non Registered\"}, {\"date\": \"2016-02-21T00:00:00\", \"timestamp\": \"2016-02-21T23:38:38.594000\", \"uid\": \"CjZPnlXqD8vs\", \"isFirst\": true, \"utmSource\": \"na\", \"isRegistered\": \"Non Registered\"}, {\"date\": \"2016-02-21T00:00:00\", \"timestamp\": \"2016-02-22T00:25:18.490000\", \"uid\": \"KgeDypm4SzNs\", \"isFirst\": true, \"utmSource\": \"na\", \"isRegistered\": \"Non Registered\"}, {\"date\": \"2016-02-21T00:00:00\", \"timestamp\": \"2016-02-22T00:28:53.026000\", \"uid\": \"rnQF7p50OLOv\", \"isFirst\": true, \"utmSource\": \"na\", \"isRegistered\": \"Non Registered\"}, {\"date\": \"2016-02-21T00:00:00\", \"timestamp\": \"2016-02-22T00:55:13.724000\", \"uid\": \"OJrxDfAMxIuK\", \"isFirst\": true, \"utmSource\": \"na\", \"isRegistered\": \"Non Registered\"}, {\"date\": \"2016-02-21T00:00:00\", \"timestamp\": \"2016-02-22T02:30:31.842000\", \"uid\": \"BGCj9VSpJSsX\", \"isFirst\": true, \"utmSource\": \"na\", \"isRegistered\": \"Non Registered\"}, {\"date\": \"2016-02-21T00:00:00\", \"timestamp\": \"2016-02-22T03:00:11.224000\", \"uid\": \"L5T8Tn8Vbap2\", \"isFirst\": true, \"utmSource\": \"na\", \"isRegistered\": \"Non Registered\"}, {\"date\": \"2016-02-21T00:00:00\", \"timestamp\": \"2016-02-22T05:50:55.231000\", \"uid\": \"xpotc8t0qrtS\", \"isFirst\": true, \"utmSource\": \"na\", \"isRegistered\": \"Non Registered\"}, {\"date\": \"2016-02-21T00:00:00\", \"timestamp\": \"2016-02-22T07:34:39.158000\", \"uid\": \"Ggcj6taIsXfl\", \"isFirst\": true, \"utmSource\": \"na\", \"isRegistered\": \"Non Registered\"}, {\"date\": \"2016-02-22T00:00:00\", \"timestamp\": \"2016-02-22T08:05:32.940000\", \"uid\": \"H03kGoDmKTlu\", \"isFirst\": true, \"utmSource\": \"na\", \"isRegistered\": \"Non Registered\"}, {\"date\": \"2016-02-22T00:00:00\", \"timestamp\": \"2016-02-22T09:10:50.070000\", \"uid\": \"2K1GVelV478j\", \"isFirst\": true, \"utmSource\": \"na\", \"isRegistered\": \"Non Registered\"}, {\"date\": \"2016-02-22T00:00:00\", \"timestamp\": \"2016-02-22T10:06:39.494000\", \"uid\": \"EVE9K4NwxUlk\", \"isFirst\": true, \"utmSource\": \"na\", \"isRegistered\": \"Non Registered\"}, {\"date\": \"2016-02-22T00:00:00\", \"timestamp\": \"2016-02-22T11:33:39.490000\", \"uid\": \"p3fJ7PUvkolD\", \"isFirst\": true, \"utmSource\": \"na\", \"isRegistered\": \"Non Registered\"}, {\"date\": \"2016-02-22T00:00:00\", \"timestamp\": \"2016-02-22T11:47:32.882000\", \"uid\": \"WqWGU55XLoQF\", \"isFirst\": true, \"utmSource\": \"na\", \"isRegistered\": \"Non Registered\"}, {\"date\": \"2016-02-22T00:00:00\", \"timestamp\": \"2016-02-22T12:58:02.868000\", \"uid\": \"7cS2p6T3dd8e\", \"isFirst\": true, \"utmSource\": \"na\", \"isRegistered\": \"Non Registered\"}, {\"date\": \"2016-02-22T00:00:00\", \"timestamp\": \"2016-02-22T15:22:51.145000\", \"uid\": \"kCCpHY47cbXP\", \"isFirst\": false, \"utmSource\": \"biznesowe rewolucje\", \"isRegistered\": \"Non Registered\"}, {\"date\": \"2016-02-22T00:00:00\", \"timestamp\": \"2016-02-22T16:12:52.286000\", \"uid\": \"1ImnSJBporie\", \"isFirst\": true, \"utmSource\": \"na\", \"isRegistered\": \"Non Registered\"}, {\"date\": \"2016-02-22T00:00:00\", \"timestamp\": \"2016-02-22T16:44:16.305000\", \"uid\": \"gYgUeSitJj6e\", \"isFirst\": true, \"utmSource\": \"na\", \"isRegistered\": \"Non Registered\"}, {\"date\": \"2016-02-22T00:00:00\", \"timestamp\": \"2016-02-22T19:51:41.089000\", \"uid\": \"iEBzrVjtO02Q\", \"isFirst\": true, \"utmSource\": \"na\", \"isRegistered\": \"Non Registered\"}, {\"date\": \"2016-02-22T00:00:00\", \"timestamp\": \"2016-02-22T20:44:59.181000\", \"uid\": \"V8E9LjxJPcko\", \"isFirst\": true, \"utmSource\": \"na\", \"isRegistered\": \"Non Registered\"}, {\"date\": \"2016-02-22T00:00:00\", \"timestamp\": \"2016-02-22T21:38:08.927000\", \"uid\": \"y7x8ZCt8E1Dc\", \"isFirst\": true, \"utmSource\": \"na\", \"isRegistered\": \"Non Registered\"}, {\"date\": \"2016-02-22T00:00:00\", \"timestamp\": \"2016-02-22T22:15:50.382000\", \"uid\": \"Tik27jL8ME12\", \"isFirst\": true, \"utmSource\": \"na\", \"isRegistered\": \"Non Registered\"}, {\"date\": \"2016-02-22T00:00:00\", \"timestamp\": \"2016-02-22T22:49:13.185000\", \"uid\": \"RGP7PqTmdHEk\", \"isFirst\": true, \"utmSource\": \"na\", \"isRegistered\": \"Non Registered\"}, {\"date\": \"2016-02-22T00:00:00\", \"timestamp\": \"2016-02-22T23:03:05.792000\", \"uid\": \"eOHYQ06IPgEV\", \"isFirst\": true, \"utmSource\": \"na\", \"isRegistered\": \"Non Registered\"}, {\"date\": \"2016-02-22T00:00:00\", \"timestamp\": \"2016-02-22T23:29:47.122000\", \"uid\": \"UQCIQzVbVNPG\", \"isFirst\": true, \"utmSource\": \"na\", \"isRegistered\": \"Non Registered\"}, {\"date\": \"2016-02-22T00:00:00\", \"timestamp\": \"2016-02-23T00:43:02.131000\", \"uid\": \"NdSn3kpriWBm\", \"isFirst\": true, \"utmSource\": \"na\", \"isRegistered\": \"Non Registered\"}, {\"date\": \"2016-02-22T00:00:00\", \"timestamp\": \"2016-02-23T00:54:47.226000\", \"uid\": \"t6KZ8WymSBwJ\", \"isFirst\": true, \"utmSource\": \"na\", \"isRegistered\": \"Non Registered\"}, {\"date\": \"2016-02-22T00:00:00\", \"timestamp\": \"2016-02-23T02:12:03.348000\", \"uid\": \"QsdeUnDHYupu\", \"isFirst\": true, \"utmSource\": \"na\", \"isRegistered\": \"Non Registered\"}, {\"date\": \"2016-02-22T00:00:00\", \"timestamp\": \"2016-02-23T03:03:32.006000\", \"uid\": \"wepGLiLyw2sb\", \"isFirst\": true, \"utmSource\": \"na\", \"isRegistered\": \"Non Registered\"}, {\"date\": \"2016-02-22T00:00:00\", \"timestamp\": \"2016-02-23T03:44:07.743000\", \"uid\": \"U46JPe53FP0Z\", \"isFirst\": true, \"utmSource\": \"na\", \"isRegistered\": \"Non Registered\"}, {\"date\": \"2016-02-22T00:00:00\", \"timestamp\": \"2016-02-23T04:10:15.623000\", \"uid\": \"hJkJBjjr7L7G\", \"isFirst\": true, \"utmSource\": \"na\", \"isRegistered\": \"Non Registered\"}, {\"date\": \"2016-02-22T00:00:00\", \"timestamp\": \"2016-02-23T06:32:45.643000\", \"uid\": \"fkc2c0sSvnYV\", \"isFirst\": true, \"utmSource\": \"na\", \"isRegistered\": \"Non Registered\"}, {\"date\": \"2016-02-23T00:00:00\", \"timestamp\": \"2016-02-23T09:19:03.873000\", \"uid\": \"gl2MbBPPobhx\", \"isFirst\": true, \"utmSource\": \"na\", \"isRegistered\": \"Non Registered\"}, {\"date\": \"2016-02-23T00:00:00\", \"timestamp\": \"2016-02-23T09:35:42.996000\", \"uid\": \"hHqHsQVOFOks\", \"isFirst\": true, \"utmSource\": \"na\", \"isRegistered\": \"Non Registered\"}, {\"date\": \"2016-02-23T00:00:00\", \"timestamp\": \"2016-02-23T10:51:57.800000\", \"uid\": \"hlkj1IY9Y7Df\", \"isFirst\": true, \"utmSource\": \"na\", \"isRegistered\": \"Non Registered\"}, {\"date\": \"2016-02-23T00:00:00\", \"timestamp\": \"2016-02-23T11:09:27.518000\", \"uid\": \"JUOg6ElzWw8r\", \"isFirst\": false, \"utmSource\": \"biznesowe rewolucje\", \"isRegistered\": \"Non Registered\"}, {\"date\": \"2016-02-23T00:00:00\", \"timestamp\": \"2016-02-23T11:34:38.261000\", \"uid\": \"sBn3UYczfBVK\", \"isFirst\": true, \"utmSource\": \"na\", \"isRegistered\": \"Non Registered\"}, {\"date\": \"2016-02-23T00:00:00\", \"timestamp\": \"2016-02-23T13:47:28.847000\", \"uid\": \"Sajerm6Bsi7t\", \"isFirst\": true, \"utmSource\": \"na\", \"isRegistered\": \"Non Registered\"}, {\"date\": \"2016-02-23T00:00:00\", \"timestamp\": \"2016-02-23T14:02:06.819000\", \"uid\": \"gDjRzYFuwGog\", \"isFirst\": true, \"utmSource\": \"na\", \"isRegistered\": \"Non Registered\"}, {\"date\": \"2016-02-23T00:00:00\", \"timestamp\": \"2016-02-23T15:19:09.522000\", \"uid\": \"7cDUOUA1C1nv\", \"isFirst\": true, \"utmSource\": \"na\", \"isRegistered\": \"Non Registered\"}, {\"date\": \"2016-02-23T00:00:00\", \"timestamp\": \"2016-02-23T15:32:13.616000\", \"uid\": \"VhvP6DnvBgJt\", \"isFirst\": true, \"utmSource\": \"na\", \"isRegistered\": \"Non Registered\"}, {\"date\": \"2016-02-23T00:00:00\", \"timestamp\": \"2016-02-23T16:21:24.856000\", \"uid\": \"TcEDa1KOJcEw\", \"isFirst\": true, \"utmSource\": \"na\", \"isRegistered\": \"Non Registered\"}, {\"date\": \"2016-02-23T00:00:00\", \"timestamp\": \"2016-02-23T17:42:02.843000\", \"uid\": \"6EvQg0FAj9TF\", \"isFirst\": true, \"utmSource\": \"na\", \"isRegistered\": \"Non Registered\"}, {\"date\": \"2016-02-23T00:00:00\", \"timestamp\": \"2016-02-23T17:56:47.949000\", \"uid\": \"b6K88nvNPZPf\", \"isFirst\": true, \"utmSource\": \"na\", \"isRegistered\": \"Non Registered\"}, {\"date\": \"2016-02-23T00:00:00\", \"timestamp\": \"2016-02-23T18:51:52.880000\", \"uid\": \"eEj5YsXfzxEq\", \"isFirst\": true, \"utmSource\": \"na\", \"isRegistered\": \"Non Registered\"}, {\"date\": \"2016-02-23T00:00:00\", \"timestamp\": \"2016-02-23T18:53:13.002000\", \"uid\": \"F5B0lvko3Plg\", \"isFirst\": true, \"utmSource\": \"na\", \"isRegistered\": \"Non Registered\"}, {\"date\": \"2016-02-23T00:00:00\", \"timestamp\": \"2016-02-23T19:21:52.507000\", \"uid\": \"FHDS1nYNPL8G\", \"isFirst\": false, \"utmSource\": \"program\", \"isRegistered\": \"Non Registered\"}, {\"date\": \"2016-02-23T00:00:00\", \"timestamp\": \"2016-02-23T20:50:27.689000\", \"uid\": \"ZzccOdra1QQ8\", \"isFirst\": true, \"utmSource\": \"na\", \"isRegistered\": \"Non Registered\"}, {\"date\": \"2016-02-23T00:00:00\", \"timestamp\": \"2016-02-23T20:58:25.384000\", \"uid\": \"XdC0stFhLoGk\", \"isFirst\": true, \"utmSource\": \"na\", \"isRegistered\": \"Non Registered\"}, {\"date\": \"2016-02-23T00:00:00\", \"timestamp\": \"2016-02-23T21:05:26.804000\", \"uid\": \"NBjvhtW6wRPh\", \"isFirst\": true, \"utmSource\": \"na\", \"isRegistered\": \"Non Registered\"}, {\"date\": \"2016-02-23T00:00:00\", \"timestamp\": \"2016-02-23T22:13:18.678000\", \"uid\": \"OjYkPCiQiToz\", \"isFirst\": true, \"utmSource\": \"na\", \"isRegistered\": \"Non Registered\"}, {\"date\": \"2016-02-23T00:00:00\", \"timestamp\": \"2016-02-23T22:28:20.427000\", \"uid\": \"W1XirPKE6iXC\", \"isFirst\": true, \"utmSource\": \"na\", \"isRegistered\": \"Non Registered\"}, {\"date\": \"2016-02-23T00:00:00\", \"timestamp\": \"2016-02-23T22:33:01.945000\", \"uid\": \"71693439\", \"isFirst\": true, \"utmSource\": \"answers\", \"isRegistered\": \"Registered\"}, {\"date\": \"2016-02-23T00:00:00\", \"timestamp\": \"2016-02-23T23:04:28.629000\", \"uid\": \"5b6hXaaMDLk4\", \"isFirst\": true, \"utmSource\": \"na\", \"isRegistered\": \"Non Registered\"}, {\"date\": \"2016-02-23T00:00:00\", \"timestamp\": \"2016-02-23T23:08:12.959000\", \"uid\": \"d5tPXQMa9kpY\", \"isFirst\": false, \"utmSource\": \"biznesowe rewolucje\", \"isRegistered\": \"Non Registered\"}, {\"date\": \"2016-02-23T00:00:00\", \"timestamp\": \"2016-02-23T23:28:01.512000\", \"uid\": \"KfgtidQPwY7X\", \"isFirst\": true, \"utmSource\": \"na\", \"isRegistered\": \"Non Registered\"}, {\"date\": \"2016-02-23T00:00:00\", \"timestamp\": \"2016-02-24T00:13:25.417000\", \"uid\": \"oLa85HGKGwlE\", \"isFirst\": true, \"utmSource\": \"na\", \"isRegistered\": \"Non Registered\"}, {\"date\": \"2016-02-23T00:00:00\", \"timestamp\": \"2016-02-24T00:41:11.525000\", \"uid\": \"2bVzTftor32F\", \"isFirst\": true, \"utmSource\": \"na\", \"isRegistered\": \"Non Registered\"}, {\"date\": \"2016-02-23T00:00:00\", \"timestamp\": \"2016-02-24T01:01:32.728000\", \"uid\": \"iJiy09XmMKPr\", \"isFirst\": false, \"utmSource\": \"na\", \"isRegistered\": \"Non Registered\"}, {\"date\": \"2016-02-23T00:00:00\", \"timestamp\": \"2016-02-24T01:12:28.915000\", \"uid\": \"IubifQ0KCNRj\", \"isFirst\": true, \"utmSource\": \"na\", \"isRegistered\": \"Non Registered\"}, {\"date\": \"2016-02-23T00:00:00\", \"timestamp\": \"2016-02-24T01:15:43.138000\", \"uid\": \"625ilwIgt3fY\", \"isFirst\": true, \"utmSource\": \"na\", \"isRegistered\": \"Non Registered\"}, {\"date\": \"2016-02-23T00:00:00\", \"timestamp\": \"2016-02-24T05:14:42.356000\", \"uid\": \"jlwTPFukJZuH\", \"isFirst\": true, \"utmSource\": \"na\", \"isRegistered\": \"Non Registered\"}, {\"date\": \"2016-02-23T00:00:00\", \"timestamp\": \"2016-02-24T06:53:31.389000\", \"uid\": \"86okezTVRR2e\", \"isFirst\": true, \"utmSource\": \"na\", \"isRegistered\": \"Non Registered\"}, {\"date\": \"2016-02-24T00:00:00\", \"timestamp\": \"2016-02-24T10:03:38.460000\", \"uid\": \"ZVyPRDrWegnU\", \"isFirst\": true, \"utmSource\": \"na\", \"isRegistered\": \"Non Registered\"}, {\"date\": \"2016-02-24T00:00:00\", \"timestamp\": \"2016-02-24T11:01:40.423000\", \"uid\": \"BxCXz6hBYa95\", \"isFirst\": true, \"utmSource\": \"na\", \"isRegistered\": \"Non Registered\"}, {\"date\": \"2016-02-24T00:00:00\", \"timestamp\": \"2016-02-24T12:32:51.085000\", \"uid\": \"LLrlFRZNKbQm\", \"isFirst\": true, \"utmSource\": \"na\", \"isRegistered\": \"Non Registered\"}, {\"date\": \"2016-02-24T00:00:00\", \"timestamp\": \"2016-02-24T13:26:04.621000\", \"uid\": \"dbVflpL8pANg\", \"isFirst\": true, \"utmSource\": \"na\", \"isRegistered\": \"Non Registered\"}, {\"date\": \"2016-02-24T00:00:00\", \"timestamp\": \"2016-02-24T15:05:40.946000\", \"uid\": \"SrjEbJqgL3qN\", \"isFirst\": true, \"utmSource\": \"na\", \"isRegistered\": \"Non Registered\"}, {\"date\": \"2016-02-24T00:00:00\", \"timestamp\": \"2016-02-24T15:17:02.988000\", \"uid\": \"Qbe7thf2qlGF\", \"isFirst\": true, \"utmSource\": \"na\", \"isRegistered\": \"Non Registered\"}, {\"date\": \"2016-02-24T00:00:00\", \"timestamp\": \"2016-02-24T15:33:57.703000\", \"uid\": \"oHUKFS66aOpH\", \"isFirst\": true, \"utmSource\": \"na\", \"isRegistered\": \"Non Registered\"}, {\"date\": \"2016-02-24T00:00:00\", \"timestamp\": \"2016-02-24T16:38:09.817000\", \"uid\": \"OoE0Mrm0RCMB\", \"isFirst\": true, \"utmSource\": \"na\", \"isRegistered\": \"Non Registered\"}, {\"date\": \"2016-02-24T00:00:00\", \"timestamp\": \"2016-02-24T17:28:41.896000\", \"uid\": \"vpswYd08xBkp\", \"isFirst\": true, \"utmSource\": \"na\", \"isRegistered\": \"Non Registered\"}, {\"date\": \"2016-02-24T00:00:00\", \"timestamp\": \"2016-02-24T18:19:37.748000\", \"uid\": \"WMxyyZXcrHvx\", \"isFirst\": true, \"utmSource\": \"na\", \"isRegistered\": \"Non Registered\"}, {\"date\": \"2016-02-24T00:00:00\", \"timestamp\": \"2016-02-24T18:24:23.190000\", \"uid\": \"7AhEjE4ZURRC\", \"isFirst\": true, \"utmSource\": \"na\", \"isRegistered\": \"Non Registered\"}, {\"date\": \"2016-02-24T00:00:00\", \"timestamp\": \"2016-02-24T19:27:48.999000\", \"uid\": \"M7W7Ekka0gRR\", \"isFirst\": true, \"utmSource\": \"na\", \"isRegistered\": \"Non Registered\"}, {\"date\": \"2016-02-24T00:00:00\", \"timestamp\": \"2016-02-24T20:38:14.575000\", \"uid\": \"AagnH3gzDh1l\", \"isFirst\": true, \"utmSource\": \"na\", \"isRegistered\": \"Non Registered\"}, {\"date\": \"2016-02-24T00:00:00\", \"timestamp\": \"2016-02-24T20:49:53.904000\", \"uid\": \"Uk28YckKWOFE\", \"isFirst\": true, \"utmSource\": \"na\", \"isRegistered\": \"Non Registered\"}, {\"date\": \"2016-02-24T00:00:00\", \"timestamp\": \"2016-02-24T21:03:28.110000\", \"uid\": \"uweusblYkZpp\", \"isFirst\": true, \"utmSource\": \"na\", \"isRegistered\": \"Non Registered\"}, {\"date\": \"2016-02-24T00:00:00\", \"timestamp\": \"2016-02-25T00:33:12.255000\", \"uid\": \"sCD05IBnPKlH\", \"isFirst\": true, \"utmSource\": \"na\", \"isRegistered\": \"Non Registered\"}, {\"date\": \"2016-02-24T00:00:00\", \"timestamp\": \"2016-02-25T01:10:28.239000\", \"uid\": \"eU8UNPmod5pj\", \"isFirst\": true, \"utmSource\": \"na\", \"isRegistered\": \"Non Registered\"}, {\"date\": \"2016-02-24T00:00:00\", \"timestamp\": \"2016-02-25T02:04:36.881000\", \"uid\": \"MVIBKpU7q1xO\", \"isFirst\": true, \"utmSource\": \"na\", \"isRegistered\": \"Non Registered\"}, {\"date\": \"2016-02-24T00:00:00\", \"timestamp\": \"2016-02-25T03:57:27.732000\", \"uid\": \"l57blHswXzTv\", \"isFirst\": true, \"utmSource\": \"na\", \"isRegistered\": \"Non Registered\"}, {\"date\": \"2016-02-24T00:00:00\", \"timestamp\": \"2016-02-25T04:08:07.323000\", \"uid\": \"mltSa5kEAjva\", \"isFirst\": true, \"utmSource\": \"na\", \"isRegistered\": \"Non Registered\"}, {\"date\": \"2016-02-24T00:00:00\", \"timestamp\": \"2016-02-25T04:23:52.459000\", \"uid\": \"MG7puMIHYKZc\", \"isFirst\": true, \"utmSource\": \"na\", \"isRegistered\": \"Non Registered\"}, {\"date\": \"2016-02-24T00:00:00\", \"timestamp\": \"2016-02-25T05:06:55.469000\", \"uid\": \"ReZyXqWdz1Wm\", \"isFirst\": true, \"utmSource\": \"na\", \"isRegistered\": \"Non Registered\"}, {\"date\": \"2016-02-24T00:00:00\", \"timestamp\": \"2016-02-25T07:58:31.568000\", \"uid\": \"Qw45s92COCQi\", \"isFirst\": true, \"utmSource\": \"na\", \"isRegistered\": \"Non Registered\"}, {\"date\": \"2016-02-25T00:00:00\", \"timestamp\": \"2016-02-25T11:42:47.235000\", \"uid\": \"px4QYsHtjlS7\", \"isFirst\": true, \"utmSource\": \"na\", \"isRegistered\": \"Non Registered\"}, {\"date\": \"2016-02-25T00:00:00\", \"timestamp\": \"2016-02-25T13:05:27.467000\", \"uid\": \"axVLejwniR5b\", \"isFirst\": true, \"utmSource\": \"na\", \"isRegistered\": \"Non Registered\"}, {\"date\": \"2016-02-25T00:00:00\", \"timestamp\": \"2016-02-25T13:35:40.847000\", \"uid\": \"4HPKjb8mNazS\", \"isFirst\": true, \"utmSource\": \"na\", \"isRegistered\": \"Non Registered\"}, {\"date\": \"2016-02-25T00:00:00\", \"timestamp\": \"2016-02-25T13:36:27.656000\", \"uid\": \"GJjaw364yh0B\", \"isFirst\": true, \"utmSource\": \"na\", \"isRegistered\": \"Non Registered\"}, {\"date\": \"2016-02-25T00:00:00\", \"timestamp\": \"2016-02-25T13:40:45.022000\", \"uid\": \"VTenyqe3hN2s\", \"isFirst\": true, \"utmSource\": \"na\", \"isRegistered\": \"Non Registered\"}, {\"date\": \"2016-02-25T00:00:00\", \"timestamp\": \"2016-02-25T14:49:23.868000\", \"uid\": \"3KrxoBMLwQfy\", \"isFirst\": true, \"utmSource\": \"na\", \"isRegistered\": \"Non Registered\"}, {\"date\": \"2016-02-25T00:00:00\", \"timestamp\": \"2016-02-25T19:23:00.160000\", \"uid\": \"RRiQCgDyId4x\", \"isFirst\": true, \"utmSource\": \"na\", \"isRegistered\": \"Non Registered\"}, {\"date\": \"2016-02-25T00:00:00\", \"timestamp\": \"2016-02-25T19:43:45.826000\", \"uid\": \"XeDeNvh2kYjy\", \"isFirst\": true, \"utmSource\": \"na\", \"isRegistered\": \"Non Registered\"}, {\"date\": \"2016-02-25T00:00:00\", \"timestamp\": \"2016-02-25T20:16:59.039000\", \"uid\": \"lyuYRSTKZzHS\", \"isFirst\": true, \"utmSource\": \"na\", \"isRegistered\": \"Non Registered\"}, {\"date\": \"2016-02-25T00:00:00\", \"timestamp\": \"2016-02-25T22:01:36.624000\", \"uid\": \"ocSJcOgpImUz\", \"isFirst\": true, \"utmSource\": \"na\", \"isRegistered\": \"Non Registered\"}, {\"date\": \"2016-02-25T00:00:00\", \"timestamp\": \"2016-02-25T22:28:04.002000\", \"uid\": \"suKYUggRwwuW\", \"isFirst\": true, \"utmSource\": \"na\", \"isRegistered\": \"Non Registered\"}, {\"date\": \"2016-02-25T00:00:00\", \"timestamp\": \"2016-02-25T23:18:17.662000\", \"uid\": \"uAa6QVJ9Gaiv\", \"isFirst\": true, \"utmSource\": \"na\", \"isRegistered\": \"Non Registered\"}, {\"date\": \"2016-02-25T00:00:00\", \"timestamp\": \"2016-02-25T23:18:52.927000\", \"uid\": \"AddvuNgrjVvk\", \"isFirst\": true, \"utmSource\": \"na\", \"isRegistered\": \"Non Registered\"}, {\"date\": \"2016-02-25T00:00:00\", \"timestamp\": \"2016-02-26T00:09:17.102000\", \"uid\": \"bVtrUFpdGoEk\", \"isFirst\": true, \"utmSource\": \"na\", \"isRegistered\": \"Non Registered\"}, {\"date\": \"2016-02-25T00:00:00\", \"timestamp\": \"2016-02-26T00:35:52.857000\", \"uid\": \"83uOzC6RBWwQ\", \"isFirst\": true, \"utmSource\": \"na\", \"isRegistered\": \"Non Registered\"}, {\"date\": \"2016-02-25T00:00:00\", \"timestamp\": \"2016-02-26T03:48:10.785000\", \"uid\": \"Y6x0eth0vOaS\", \"isFirst\": false, \"utmSource\": \"biznesowe rewolucje\", \"isRegistered\": \"Non Registered\"}, {\"date\": \"2016-02-25T00:00:00\", \"timestamp\": \"2016-02-26T03:57:50.712000\", \"uid\": \"55539695\", \"isFirst\": false, \"utmSource\": \"other\", \"isRegistered\": \"Registered\"}, {\"date\": \"2016-02-25T00:00:00\", \"timestamp\": \"2016-02-26T05:45:02.471000\", \"uid\": \"cRBR8W41CCMe\", \"isFirst\": true, \"utmSource\": \"na\", \"isRegistered\": \"Non Registered\"}, {\"date\": \"2016-02-26T00:00:00\", \"timestamp\": \"2016-02-26T09:25:20.583000\", \"uid\": \"ZAhXS7wCI1uM\", \"isFirst\": false, \"utmSource\": \"mosalingua fr\", \"isRegistered\": \"Non Registered\"}, {\"date\": \"2016-02-26T00:00:00\", \"timestamp\": \"2016-02-26T10:48:25.750000\", \"uid\": \"6BoVU96dZVHG\", \"isFirst\": true, \"utmSource\": \"na\", \"isRegistered\": \"Non Registered\"}, {\"date\": \"2016-02-26T00:00:00\", \"timestamp\": \"2016-02-26T12:28:53.323000\", \"uid\": \"iTwVAq0pt7Ix\", \"isFirst\": true, \"utmSource\": \"na\", \"isRegistered\": \"Non Registered\"}, {\"date\": \"2016-02-26T00:00:00\", \"timestamp\": \"2016-02-26T13:10:32.915000\", \"uid\": \"zBU2UCq1qyJp\", \"isFirst\": true, \"utmSource\": \"na\", \"isRegistered\": \"Non Registered\"}, {\"date\": \"2016-02-26T00:00:00\", \"timestamp\": \"2016-02-26T14:51:49.607000\", \"uid\": \"npdg8GzkoS10\", \"isFirst\": true, \"utmSource\": \"na\", \"isRegistered\": \"Non Registered\"}, {\"date\": \"2016-02-26T00:00:00\", \"timestamp\": \"2016-02-26T15:48:38.887000\", \"uid\": \"knQYHXlddlqc\", \"isFirst\": true, \"utmSource\": \"na\", \"isRegistered\": \"Non Registered\"}, {\"date\": \"2016-02-26T00:00:00\", \"timestamp\": \"2016-02-26T16:32:48.432000\", \"uid\": \"uStSGVN4c6xZ\", \"isFirst\": true, \"utmSource\": \"na\", \"isRegistered\": \"Non Registered\"}, {\"date\": \"2016-02-26T00:00:00\", \"timestamp\": \"2016-02-26T16:49:14.314000\", \"uid\": \"ciy8yOXJyRto\", \"isFirst\": true, \"utmSource\": \"na\", \"isRegistered\": \"Non Registered\"}, {\"date\": \"2016-02-26T00:00:00\", \"timestamp\": \"2016-02-26T17:54:56.715000\", \"uid\": \"qLloJmSqwG6n\", \"isFirst\": true, \"utmSource\": \"na\", \"isRegistered\": \"Non Registered\"}, {\"date\": \"2016-02-26T00:00:00\", \"timestamp\": \"2016-02-26T18:18:04.481000\", \"uid\": \"8w2mQLiygpC1\", \"isFirst\": true, \"utmSource\": \"na\", \"isRegistered\": \"Non Registered\"}, {\"date\": \"2016-02-26T00:00:00\", \"timestamp\": \"2016-02-26T18:41:31.872000\", \"uid\": \"lmQLV4h2Zy0C\", \"isFirst\": true, \"utmSource\": \"na\", \"isRegistered\": \"Non Registered\"}, {\"date\": \"2016-02-26T00:00:00\", \"timestamp\": \"2016-02-26T18:41:53.913000\", \"uid\": \"5fZaX4HYteFu\", \"isFirst\": true, \"utmSource\": \"na\", \"isRegistered\": \"Non Registered\"}, {\"date\": \"2016-02-26T00:00:00\", \"timestamp\": \"2016-02-26T19:13:47.170000\", \"uid\": \"vJRVAk4PFTc8\", \"isFirst\": true, \"utmSource\": \"na\", \"isRegistered\": \"Non Registered\"}, {\"date\": \"2016-02-26T00:00:00\", \"timestamp\": \"2016-02-26T19:18:29.466000\", \"uid\": \"NiRHpXfqJ0IY\", \"isFirst\": true, \"utmSource\": \"na\", \"isRegistered\": \"Non Registered\"}, {\"date\": \"2016-02-26T00:00:00\", \"timestamp\": \"2016-02-26T19:33:10.652000\", \"uid\": \"a3ajn5H3DL0t\", \"isFirst\": true, \"utmSource\": \"na\", \"isRegistered\": \"Non Registered\"}, {\"date\": \"2016-02-26T00:00:00\", \"timestamp\": \"2016-02-26T19:57:26.101000\", \"uid\": \"yGhP8OBm9S7l\", \"isFirst\": true, \"utmSource\": \"na\", \"isRegistered\": \"Non Registered\"}, {\"date\": \"2016-02-26T00:00:00\", \"timestamp\": \"2016-02-26T21:06:46.314000\", \"uid\": \"1xrq1y8Z6bDW\", \"isFirst\": true, \"utmSource\": \"na\", \"isRegistered\": \"Non Registered\"}, {\"date\": \"2016-02-26T00:00:00\", \"timestamp\": \"2016-02-26T21:27:09.737000\", \"uid\": \"Q2wGfDQ9m9ZX\", \"isFirst\": true, \"utmSource\": \"na\", \"isRegistered\": \"Non Registered\"}, {\"date\": \"2016-02-26T00:00:00\", \"timestamp\": \"2016-02-26T21:40:53.007000\", \"uid\": \"CaXyXrbqWQDT\", \"isFirst\": true, \"utmSource\": \"na\", \"isRegistered\": \"Non Registered\"}, {\"date\": \"2016-02-26T00:00:00\", \"timestamp\": \"2016-02-26T21:53:30.097000\", \"uid\": \"hbp5Yz5ZkEmf\", \"isFirst\": false, \"utmSource\": \"na\", \"isRegistered\": \"Non Registered\"}, {\"date\": \"2016-02-26T00:00:00\", \"timestamp\": \"2016-02-26T21:53:51.962000\", \"uid\": \"tVpJpOQKJvj0\", \"isFirst\": true, \"utmSource\": \"na\", \"isRegistered\": \"Non Registered\"}, {\"date\": \"2016-02-26T00:00:00\", \"timestamp\": \"2016-02-26T22:06:35.339000\", \"uid\": \"hYi9BXC55OPX\", \"isFirst\": true, \"utmSource\": \"na\", \"isRegistered\": \"Non Registered\"}, {\"date\": \"2016-02-26T00:00:00\", \"timestamp\": \"2016-02-26T22:50:24.377000\", \"uid\": \"t2JhqqxR8PPj\", \"isFirst\": true, \"utmSource\": \"na\", \"isRegistered\": \"Non Registered\"}, {\"date\": \"2016-02-26T00:00:00\", \"timestamp\": \"2016-02-27T01:39:14.255000\", \"uid\": \"aQ6DPM1cEUHw\", \"isFirst\": true, \"utmSource\": \"na\", \"isRegistered\": \"Non Registered\"}, {\"date\": \"2016-02-26T00:00:00\", \"timestamp\": \"2016-02-27T01:45:03.212000\", \"uid\": \"TMGQp1CcrO37\", \"isFirst\": true, \"utmSource\": \"na\", \"isRegistered\": \"Non Registered\"}, {\"date\": \"2016-02-26T00:00:00\", \"timestamp\": \"2016-02-27T02:12:30.487000\", \"uid\": \"VPa7YGrs5Pc6\", \"isFirst\": true, \"utmSource\": \"na\", \"isRegistered\": \"Non Registered\"}, {\"date\": \"2016-02-26T00:00:00\", \"timestamp\": \"2016-02-27T02:16:21.970000\", \"uid\": \"KkMaHZlXDPpO\", \"isFirst\": true, \"utmSource\": \"na\", \"isRegistered\": \"Non Registered\"}, {\"date\": \"2016-02-26T00:00:00\", \"timestamp\": \"2016-02-27T02:53:42.922000\", \"uid\": \"XFpM8DhPPMHl\", \"isFirst\": true, \"utmSource\": \"na\", \"isRegistered\": \"Non Registered\"}, {\"date\": \"2016-02-26T00:00:00\", \"timestamp\": \"2016-02-27T02:58:11.515000\", \"uid\": \"nty6cF2WEe5e\", \"isFirst\": true, \"utmSource\": \"na\", \"isRegistered\": \"Non Registered\"}, {\"date\": \"2016-02-26T00:00:00\", \"timestamp\": \"2016-02-27T03:00:54.456000\", \"uid\": \"kYKa7qKEWlXD\", \"isFirst\": true, \"utmSource\": \"na\", \"isRegistered\": \"Non Registered\"}, {\"date\": \"2016-02-26T00:00:00\", \"timestamp\": \"2016-02-27T03:11:15.828000\", \"uid\": \"ZwHNTNkTWg87\", \"isFirst\": true, \"utmSource\": \"na\", \"isRegistered\": \"Non Registered\"}, {\"date\": \"2016-02-26T00:00:00\", \"timestamp\": \"2016-02-27T05:31:45.808000\", \"uid\": \"JaZVZMSIoyVt\", \"isFirst\": true, \"utmSource\": \"na\", \"isRegistered\": \"Non Registered\"}, {\"date\": \"2016-02-26T00:00:00\", \"timestamp\": \"2016-02-27T06:09:14.126000\", \"uid\": \"nJMzFhc2JkkN\", \"isFirst\": true, \"utmSource\": \"na\", \"isRegistered\": \"Non Registered\"}, {\"date\": \"2016-02-26T00:00:00\", \"timestamp\": \"2016-02-27T06:27:30.603000\", \"uid\": \"aFIhEahV8Mpf\", \"isFirst\": true, \"utmSource\": \"na\", \"isRegistered\": \"Non Registered\"}, {\"date\": \"2016-02-26T00:00:00\", \"timestamp\": \"2016-02-27T07:31:59.378000\", \"uid\": \"5PrAWRsU8tGg\", \"isFirst\": true, \"utmSource\": \"na\", \"isRegistered\": \"Non Registered\"}, {\"date\": \"2016-02-27T00:00:00\", \"timestamp\": \"2016-02-27T08:56:16.994000\", \"uid\": \"mMk16MyorZCH\", \"isFirst\": true, \"utmSource\": \"na\", \"isRegistered\": \"Non Registered\"}, {\"date\": \"2016-02-27T00:00:00\", \"timestamp\": \"2016-02-27T09:15:59.852000\", \"uid\": \"2zT32EHX5cXl\", \"isFirst\": true, \"utmSource\": \"na\", \"isRegistered\": \"Non Registered\"}, {\"date\": \"2016-02-27T00:00:00\", \"timestamp\": \"2016-02-27T09:27:39.414000\", \"uid\": \"IfRONIpHYCVn\", \"isFirst\": true, \"utmSource\": \"na\", \"isRegistered\": \"Non Registered\"}, {\"date\": \"2016-02-27T00:00:00\", \"timestamp\": \"2016-02-27T12:22:21.010000\", \"uid\": \"blsM1D47346K\", \"isFirst\": true, \"utmSource\": \"na\", \"isRegistered\": \"Non Registered\"}, {\"date\": \"2016-02-27T00:00:00\", \"timestamp\": \"2016-02-27T12:24:49.527000\", \"uid\": \"4dVsx01Bld4C\", \"isFirst\": true, \"utmSource\": \"na\", \"isRegistered\": \"Non Registered\"}, {\"date\": \"2016-02-27T00:00:00\", \"timestamp\": \"2016-02-27T12:33:14.246000\", \"uid\": \"l4odr9jVZcdC\", \"isFirst\": true, \"utmSource\": \"na\", \"isRegistered\": \"Non Registered\"}, {\"date\": \"2016-02-27T00:00:00\", \"timestamp\": \"2016-02-27T14:55:11.242000\", \"uid\": \"ZSM0lvvZareX\", \"isFirst\": true, \"utmSource\": \"na\", \"isRegistered\": \"Non Registered\"}, {\"date\": \"2016-02-27T00:00:00\", \"timestamp\": \"2016-02-27T15:22:29.366000\", \"uid\": \"ymu8QLrv02I8\", \"isFirst\": true, \"utmSource\": \"na\", \"isRegistered\": \"Non Registered\"}, {\"date\": \"2016-02-27T00:00:00\", \"timestamp\": \"2016-02-27T15:29:21.755000\", \"uid\": \"cx5qxGf0dcMR\", \"isFirst\": true, \"utmSource\": \"na\", \"isRegistered\": \"Non Registered\"}, {\"date\": \"2016-02-27T00:00:00\", \"timestamp\": \"2016-02-27T15:37:23.201000\", \"uid\": \"rYt4Ysmc3s2A\", \"isFirst\": true, \"utmSource\": \"na\", \"isRegistered\": \"Non Registered\"}, {\"date\": \"2016-02-27T00:00:00\", \"timestamp\": \"2016-02-27T16:22:35.722000\", \"uid\": \"vdYbWytLOshu\", \"isFirst\": true, \"utmSource\": \"na\", \"isRegistered\": \"Non Registered\"}, {\"date\": \"2016-02-27T00:00:00\", \"timestamp\": \"2016-02-27T17:25:36.975000\", \"uid\": \"1Iuhd44d0Bft\", \"isFirst\": true, \"utmSource\": \"na\", \"isRegistered\": \"Non Registered\"}, {\"date\": \"2016-02-27T00:00:00\", \"timestamp\": \"2016-02-27T17:31:11.677000\", \"uid\": \"vzfPiSiaB9l0\", \"isFirst\": true, \"utmSource\": \"na\", \"isRegistered\": \"Non Registered\"}, {\"date\": \"2016-02-27T00:00:00\", \"timestamp\": \"2016-02-27T19:25:03.453000\", \"uid\": \"2xEza2qF31Pr\", \"isFirst\": true, \"utmSource\": \"na\", \"isRegistered\": \"Non Registered\"}, {\"date\": \"2016-02-27T00:00:00\", \"timestamp\": \"2016-02-27T19:26:28.050000\", \"uid\": \"CVn15O6JOwGs\", \"isFirst\": true, \"utmSource\": \"na\", \"isRegistered\": \"Non Registered\"}, {\"date\": \"2016-02-27T00:00:00\", \"timestamp\": \"2016-02-27T19:38:22.858000\", \"uid\": \"hQqQ8DYrjZ22\", \"isFirst\": true, \"utmSource\": \"na\", \"isRegistered\": \"Non Registered\"}, {\"date\": \"2016-02-27T00:00:00\", \"timestamp\": \"2016-02-27T21:07:17.138000\", \"uid\": \"8U7KGOSbifw7\", \"isFirst\": false, \"utmSource\": \"biznesowe rewolucje\", \"isRegistered\": \"Non Registered\"}, {\"date\": \"2016-02-27T00:00:00\", \"timestamp\": \"2016-02-27T21:17:34.320000\", \"uid\": \"MSASwjTOnzRh\", \"isFirst\": true, \"utmSource\": \"na\", \"isRegistered\": \"Non Registered\"}, {\"date\": \"2016-02-27T00:00:00\", \"timestamp\": \"2016-02-27T21:49:07.679000\", \"uid\": \"W3aSa1C6aodD\", \"isFirst\": false, \"utmSource\": \"twitter\", \"isRegistered\": \"Non Registered\"}, {\"date\": \"2016-02-27T00:00:00\", \"timestamp\": \"2016-02-27T22:25:46.534000\", \"uid\": \"WVxq7ivKJHda\", \"isFirst\": true, \"utmSource\": \"na\", \"isRegistered\": \"Non Registered\"}, {\"date\": \"2016-02-27T00:00:00\", \"timestamp\": \"2016-02-28T00:11:07.886000\", \"uid\": \"Rz9NdGjNbEEZ\", \"isFirst\": true, \"utmSource\": \"na\", \"isRegistered\": \"Non Registered\"}, {\"date\": \"2016-02-27T00:00:00\", \"timestamp\": \"2016-02-28T00:47:32.698000\", \"uid\": \"cUbrRZ2cmsBI\", \"isFirst\": true, \"utmSource\": \"na\", \"isRegistered\": \"Non Registered\"}, {\"date\": \"2016-02-27T00:00:00\", \"timestamp\": \"2016-02-28T01:50:23.979000\", \"uid\": \"Za0LvOHYjIGP\", \"isFirst\": true, \"utmSource\": \"na\", \"isRegistered\": \"Non Registered\"}, {\"date\": \"2016-02-27T00:00:00\", \"timestamp\": \"2016-02-28T02:11:13.017000\", \"uid\": \"m0cYGI5hKTms\", \"isFirst\": false, \"utmSource\": \"program\", \"isRegistered\": \"Non Registered\"}, {\"date\": \"2016-02-27T00:00:00\", \"timestamp\": \"2016-02-28T03:29:48.220000\", \"uid\": \"NcvyPcO0Bhnu\", \"isFirst\": true, \"utmSource\": \"na\", \"isRegistered\": \"Non Registered\"}, {\"date\": \"2016-02-27T00:00:00\", \"timestamp\": \"2016-02-28T03:37:41.731000\", \"uid\": \"7mu7TdxFSyDL\", \"isFirst\": true, \"utmSource\": \"na\", \"isRegistered\": \"Non Registered\"}, {\"date\": \"2016-02-27T00:00:00\", \"timestamp\": \"2016-02-28T04:21:15.470000\", \"uid\": \"nwn41NDsKnpJ\", \"isFirst\": true, \"utmSource\": \"na\", \"isRegistered\": \"Non Registered\"}, {\"date\": \"2016-02-27T00:00:00\", \"timestamp\": \"2016-02-28T05:48:10.791000\", \"uid\": \"BJw9WD3rYsLd\", \"isFirst\": true, \"utmSource\": \"biznesowe rewolucje\", \"isRegistered\": \"Non Registered\"}, {\"date\": \"2016-02-27T00:00:00\", \"timestamp\": \"2016-02-28T06:24:59.497000\", \"uid\": \"xRXJs7xDhYoa\", \"isFirst\": true, \"utmSource\": \"na\", \"isRegistered\": \"Non Registered\"}, {\"date\": \"2016-02-27T00:00:00\", \"timestamp\": \"2016-02-28T07:31:33.708000\", \"uid\": \"nZiBNGPSep0s\", \"isFirst\": true, \"utmSource\": \"na\", \"isRegistered\": \"Non Registered\"}, {\"date\": \"2016-02-28T00:00:00\", \"timestamp\": \"2016-02-28T08:21:36.376000\", \"uid\": \"ycvLQbZ52Zf7\", \"isFirst\": true, \"utmSource\": \"na\", \"isRegistered\": \"Non Registered\"}, {\"date\": \"2016-02-28T00:00:00\", \"timestamp\": \"2016-02-28T08:29:57.888000\", \"uid\": \"jENJXqkq6PVa\", \"isFirst\": true, \"utmSource\": \"na\", \"isRegistered\": \"Non Registered\"}, {\"date\": \"2016-02-28T00:00:00\", \"timestamp\": \"2016-02-28T09:20:50.471000\", \"uid\": \"EThh9jsuss53\", \"isFirst\": false, \"utmSource\": \"program\", \"isRegistered\": \"Non Registered\"}, {\"date\": \"2016-02-28T00:00:00\", \"timestamp\": \"2016-02-28T10:01:59.190000\", \"uid\": \"yBoroK6rSS1p\", \"isFirst\": false, \"utmSource\": \"program\", \"isRegistered\": \"Non Registered\"}, {\"date\": \"2016-02-28T00:00:00\", \"timestamp\": \"2016-02-28T10:39:47.940000\", \"uid\": \"sxx9p1TTMIjz\", \"isFirst\": true, \"utmSource\": \"na\", \"isRegistered\": \"Non Registered\"}, {\"date\": \"2016-02-28T00:00:00\", \"timestamp\": \"2016-02-28T12:22:56.140000\", \"uid\": \"PgwjHp7P1cow\", \"isFirst\": true, \"utmSource\": \"biznesowe rewolucje\", \"isRegistered\": \"Non Registered\"}, {\"date\": \"2016-02-28T00:00:00\", \"timestamp\": \"2016-02-28T13:55:42.507000\", \"uid\": \"ljvZtx6Sd3k9\", \"isFirst\": true, \"utmSource\": \"na\", \"isRegistered\": \"Non Registered\"}, {\"date\": \"2016-02-28T00:00:00\", \"timestamp\": \"2016-02-28T14:12:08.299000\", \"uid\": \"N89gX4byflru\", \"isFirst\": true, \"utmSource\": \"na\", \"isRegistered\": \"Non Registered\"}, {\"date\": \"2016-02-28T00:00:00\", \"timestamp\": \"2016-02-28T17:07:59.731000\", \"uid\": \"gkYb5Md1mGSd\", \"isFirst\": true, \"utmSource\": \"na\", \"isRegistered\": \"Non Registered\"}, {\"date\": \"2016-02-28T00:00:00\", \"timestamp\": \"2016-02-28T17:13:47.320000\", \"uid\": \"L9ctyH7pViwd\", \"isFirst\": true, \"utmSource\": \"na\", \"isRegistered\": \"Non Registered\"}, {\"date\": \"2016-02-28T00:00:00\", \"timestamp\": \"2016-02-28T17:20:48.001000\", \"uid\": \"nItYtciuMzyJ\", \"isFirst\": true, \"utmSource\": \"na\", \"isRegistered\": \"Non Registered\"}, {\"date\": \"2016-02-28T00:00:00\", \"timestamp\": \"2016-02-28T18:51:58.727000\", \"uid\": \"3WmzpSGC3n0u\", \"isFirst\": true, \"utmSource\": \"na\", \"isRegistered\": \"Non Registered\"}, {\"date\": \"2016-02-28T00:00:00\", \"timestamp\": \"2016-02-28T18:53:03.707000\", \"uid\": \"k9rZI16W7uYq\", \"isFirst\": true, \"utmSource\": \"na\", \"isRegistered\": \"Non Registered\"}, {\"date\": \"2016-02-28T00:00:00\", \"timestamp\": \"2016-02-28T19:39:50.318000\", \"uid\": \"9XftpzVTNDR0\", \"isFirst\": true, \"utmSource\": \"na\", \"isRegistered\": \"Non Registered\"}, {\"date\": \"2016-02-28T00:00:00\", \"timestamp\": \"2016-02-28T19:53:07.019000\", \"uid\": \"qnRyy2woRdhz\", \"isFirst\": true, \"utmSource\": \"na\", \"isRegistered\": \"Non Registered\"}, {\"date\": \"2016-02-28T00:00:00\", \"timestamp\": \"2016-02-28T19:55:58.840000\", \"uid\": \"9Md0jAFAWQCn\", \"isFirst\": true, \"utmSource\": \"na\", \"isRegistered\": \"Non Registered\"}, {\"date\": \"2016-02-28T00:00:00\", \"timestamp\": \"2016-02-28T20:03:49.925000\", \"uid\": \"72475587\", \"isFirst\": false, \"utmSource\": \"biznesowe rewolucje\", \"isRegistered\": \"Registered\"}, {\"date\": \"2016-02-28T00:00:00\", \"timestamp\": \"2016-02-28T21:30:34.451000\", \"uid\": \"Vc2oXOWocXII\", \"isFirst\": true, \"utmSource\": \"na\", \"isRegistered\": \"Non Registered\"}, {\"date\": \"2016-02-28T00:00:00\", \"timestamp\": \"2016-02-28T22:07:45.599000\", \"uid\": \"1EBbaagZq0Dr\", \"isFirst\": true, \"utmSource\": \"na\", \"isRegistered\": \"Non Registered\"}, {\"date\": \"2016-02-28T00:00:00\", \"timestamp\": \"2016-02-28T23:58:31.653000\", \"uid\": \"06PzkS8rzldH\", \"isFirst\": true, \"utmSource\": \"na\", \"isRegistered\": \"Non Registered\"}, {\"date\": \"2016-02-28T00:00:00\", \"timestamp\": \"2016-02-29T02:11:30.830000\", \"uid\": \"cbRuunHvL1ew\", \"isFirst\": true, \"utmSource\": \"na\", \"isRegistered\": \"Non Registered\"}, {\"date\": \"2016-02-28T00:00:00\", \"timestamp\": \"2016-02-29T02:19:48.629000\", \"uid\": \"P8Y648q5mQCC\", \"isFirst\": true, \"utmSource\": \"na\", \"isRegistered\": \"Non Registered\"}, {\"date\": \"2016-02-28T00:00:00\", \"timestamp\": \"2016-02-29T02:41:53.159000\", \"uid\": \"1bEocJ5FqurT\", \"isFirst\": true, \"utmSource\": \"na\", \"isRegistered\": \"Non Registered\"}, {\"date\": \"2016-02-28T00:00:00\", \"timestamp\": \"2016-02-29T03:46:24.987000\", \"uid\": \"MRQezmN0VAgO\", \"isFirst\": true, \"utmSource\": \"na\", \"isRegistered\": \"Non Registered\"}, {\"date\": \"2016-02-28T00:00:00\", \"timestamp\": \"2016-02-29T03:53:19.069000\", \"uid\": \"LCcnRUnqczNF\", \"isFirst\": true, \"utmSource\": \"na\", \"isRegistered\": \"Non Registered\"}, {\"date\": \"2016-02-28T00:00:00\", \"timestamp\": \"2016-02-29T03:59:13.255000\", \"uid\": \"ibi85HOqti3I\", \"isFirst\": true, \"utmSource\": \"na\", \"isRegistered\": \"Non Registered\"}, {\"date\": \"2016-02-28T00:00:00\", \"timestamp\": \"2016-02-29T04:11:37.120000\", \"uid\": \"mylGhfxs9rKS\", \"isFirst\": true, \"utmSource\": \"na\", \"isRegistered\": \"Non Registered\"}, {\"date\": \"2016-02-29T00:00:00\", \"timestamp\": \"2016-02-29T08:35:37.698000\", \"uid\": \"LuxeQr1Sc3dk\", \"isFirst\": true, \"utmSource\": \"na\", \"isRegistered\": \"Non Registered\"}, {\"date\": \"2016-02-29T00:00:00\", \"timestamp\": \"2016-02-29T11:52:06.633000\", \"uid\": \"qU974I0HjUP7\", \"isFirst\": true, \"utmSource\": \"na\", \"isRegistered\": \"Non Registered\"}, {\"date\": \"2016-02-29T00:00:00\", \"timestamp\": \"2016-02-29T12:43:09.251000\", \"uid\": \"XyZhrM8dR3xY\", \"isFirst\": true, \"utmSource\": \"na\", \"isRegistered\": \"Non Registered\"}, {\"date\": \"2016-02-29T00:00:00\", \"timestamp\": \"2016-02-29T14:27:11.051000\", \"uid\": \"ZCZvNuOBEfFo\", \"isFirst\": false, \"utmSource\": \"biznesowe rewolucje\", \"isRegistered\": \"Non Registered\"}, {\"date\": \"2016-02-29T00:00:00\", \"timestamp\": \"2016-02-29T14:36:39.991000\", \"uid\": \"cReNSziSKdYG\", \"isFirst\": true, \"utmSource\": \"na\", \"isRegistered\": \"Non Registered\"}, {\"date\": \"2016-02-29T00:00:00\", \"timestamp\": \"2016-02-29T14:41:40.812000\", \"uid\": \"yhRsv2CsupBQ\", \"isFirst\": true, \"utmSource\": \"na\", \"isRegistered\": \"Non Registered\"}, {\"date\": \"2016-02-29T00:00:00\", \"timestamp\": \"2016-02-29T14:48:11.815000\", \"uid\": \"zX2sSmDdwPsD\", \"isFirst\": true, \"utmSource\": \"na\", \"isRegistered\": \"Non Registered\"}, {\"date\": \"2016-02-29T00:00:00\", \"timestamp\": \"2016-02-29T14:50:34.477000\", \"uid\": \"h4j4quqBMHeR\", \"isFirst\": true, \"utmSource\": \"na\", \"isRegistered\": \"Non Registered\"}, {\"date\": \"2016-02-29T00:00:00\", \"timestamp\": \"2016-02-29T15:28:50.482000\", \"uid\": \"3YmCYktbuvqZ\", \"isFirst\": true, \"utmSource\": \"na\", \"isRegistered\": \"Non Registered\"}, {\"date\": \"2016-02-29T00:00:00\", \"timestamp\": \"2016-02-29T16:37:57.956000\", \"uid\": \"55675006\", \"isFirst\": false, \"utmSource\": \"shmoop\", \"isRegistered\": \"Registered\"}, {\"date\": \"2016-02-29T00:00:00\", \"timestamp\": \"2016-02-29T16:48:16.273000\", \"uid\": \"e5r7aSo3dJCm\", \"isFirst\": true, \"utmSource\": \"na\", \"isRegistered\": \"Non Registered\"}, {\"date\": \"2016-02-29T00:00:00\", \"timestamp\": \"2016-02-29T17:21:20.741000\", \"uid\": \"63466744\", \"isFirst\": false, \"utmSource\": \"grub street\", \"isRegistered\": \"Registered\"}, {\"date\": \"2016-02-29T00:00:00\", \"timestamp\": \"2016-02-29T19:00:55.853000\", \"uid\": \"OuJcHf6fPGkE\", \"isFirst\": true, \"utmSource\": \"na\", \"isRegistered\": \"Non Registered\"}, {\"date\": \"2016-02-29T00:00:00\", \"timestamp\": \"2016-02-29T19:01:34.134000\", \"uid\": \"rzZmUc7fgGuL\", \"isFirst\": true, \"utmSource\": \"na\", \"isRegistered\": \"Non Registered\"}, {\"date\": \"2016-02-29T00:00:00\", \"timestamp\": \"2016-02-29T19:07:46.861000\", \"uid\": \"B2UdMlNFqolK\", \"isFirst\": true, \"utmSource\": \"na\", \"isRegistered\": \"Non Registered\"}, {\"date\": \"2016-02-29T00:00:00\", \"timestamp\": \"2016-02-29T19:17:08.614000\", \"uid\": \"ypAG1ye0K59r\", \"isFirst\": true, \"utmSource\": \"na\", \"isRegistered\": \"Non Registered\"}, {\"date\": \"2016-02-29T00:00:00\", \"timestamp\": \"2016-02-29T19:29:08.663000\", \"uid\": \"63956666\", \"isFirst\": false, \"utmSource\": \"na\", \"isRegistered\": \"Registered\"}, {\"date\": \"2016-02-29T00:00:00\", \"timestamp\": \"2016-02-29T19:30:01.518000\", \"uid\": \"pNrZwqUEofQO\", \"isFirst\": false, \"utmSource\": \"handbook\", \"isRegistered\": \"Non Registered\"}, {\"date\": \"2016-02-29T00:00:00\", \"timestamp\": \"2016-02-29T19:48:11.559000\", \"uid\": \"75qrzv1MdWeI\", \"isFirst\": false, \"utmSource\": \"na\", \"isRegistered\": \"Non Registered\"}, {\"date\": \"2016-02-29T00:00:00\", \"timestamp\": \"2016-02-29T20:24:39.597000\", \"uid\": \"VuvZLqKn17Hc\", \"isFirst\": true, \"utmSource\": \"na\", \"isRegistered\": \"Non Registered\"}, {\"date\": \"2016-02-29T00:00:00\", \"timestamp\": \"2016-02-29T20:42:56.867000\", \"uid\": \"lXvYGD5vSBkg\", \"isFirst\": true, \"utmSource\": \"na\", \"isRegistered\": \"Non Registered\"}, {\"date\": \"2016-02-29T00:00:00\", \"timestamp\": \"2016-02-29T22:49:41.550000\", \"uid\": \"CgMyqZKzrZDY\", \"isFirst\": true, \"utmSource\": \"na\", \"isRegistered\": \"Non Registered\"}, {\"date\": \"2016-02-29T00:00:00\", \"timestamp\": \"2016-03-01T00:27:27.890000\", \"uid\": \"BFXzD9i9WW2v\", \"isFirst\": true, \"utmSource\": \"na\", \"isRegistered\": \"Non Registered\"}, {\"date\": \"2016-02-29T00:00:00\", \"timestamp\": \"2016-03-01T01:12:15.176000\", \"uid\": \"1gxFrdcEo8S6\", \"isFirst\": true, \"utmSource\": \"na\", \"isRegistered\": \"Non Registered\"}, {\"date\": \"2016-02-29T00:00:00\", \"timestamp\": \"2016-03-01T01:43:51.609000\", \"uid\": \"icFI2b4rH3xB\", \"isFirst\": true, \"utmSource\": \"na\", \"isRegistered\": \"Non Registered\"}]}}, {\"mode\": \"vega-lite\"});\n",
       "</script>"
      ],
      "text/plain": [
       "alt.LayerChart(...)"
      ]
     },
     "execution_count": 75,
     "metadata": {},
     "output_type": "execute_result"
    }
   ],
   "source": [
    "# Sources of Top 1000 Users - Bar Chart \n",
    "fig6 = alt.Chart(df_top_users_unq).mark_bar(size=10).encode(\n",
    "    x=alt.X('utmSource:O', axis = alt.Axis(title = 'Traffic Source',labelAngle=90)),\n",
    "    y=alt.Y('count(utmSource):Q', axis = alt.Axis(title = 'Number of Top Users')),\n",
    "    color = alt.Color(\"utmSource:O\",legend=alt.Legend(title=\"Source\"), scale=alt.Scale(range=[\"#d5c56f\",\"#e78c19\",\"#fa8775\",\"#ea5f94\",\"#34cda5\",\"#9d02d7\",\"#0000ff\",\"#6b9c2e\",\"#c95d1a\",\"#7e745b\",\"#91a9e7\",\"#929482\",\"#e81515\",\"#27a18e\"])),\n",
    "    tooltip=[alt.Tooltip('utmSource', title = 'Source'),\n",
    "             alt.Tooltip('count(utmSource):Q', title = 'Total Users')]\n",
    ").properties(\n",
    "    height= 420,\n",
    "    width = 400 ,title=[\"Sources of Top 1000 Users\", \"February 2016\"]\n",
    ")\n",
    "\n",
    "chart_f = alt.layer(fig6\n",
    "    ).configure_title(fontSize=14,font='Helvetica Sans', color='dimgrey', dy=-5\n",
    "    ).configure_legend(labelFontSize=12, titleColor ='dimgray'\n",
    "    ).configure_axisY(labelPadding=5, titleX=-50, labelFontSize=10,titleFontSize=12, titleColor = 'dimgray', titleFont = 'Helvetica Sans' \n",
    "    ).configure_axisX(grid=False,titleY=80,titleFontSize=12, labelFontSize=10, titleColor = 'dimgray', titleFont = 'Helvetica Sans'\n",
    "    ).configure_axis(gridOpacity = 0.6\n",
    "    )\n",
    "\n",
    "chart_f"
   ]
  },
  {
   "cell_type": "code",
   "execution_count": 76,
   "metadata": {},
   "outputs": [],
   "source": [
    "chart_f.save('chart_f.html')"
   ]
  },
  {
   "cell_type": "markdown",
   "metadata": {},
   "source": [
    "Most of the top users **83%** their sources are not identified. So, let's repeat the same steps excluding the entries with \"NA\" source. "
   ]
  },
  {
   "cell_type": "markdown",
   "metadata": {},
   "source": [
    "##### Top Users ->  Excluding NA Source"
   ]
  },
  {
   "cell_type": "code",
   "execution_count": 77,
   "metadata": {},
   "outputs": [],
   "source": [
    "df_cl_wo_na = df_cl[df_cl['utmSource'] != 'na']"
   ]
  },
  {
   "cell_type": "code",
   "execution_count": 78,
   "metadata": {},
   "outputs": [],
   "source": [
    "# Grouping the df into [id,date] and count the occurence\n",
    "\n",
    "df_cl_wo_na_grp_user_day = df_cl_wo_na.groupby(['uid','date'])['timestamp'].count().reset_index()"
   ]
  },
  {
   "cell_type": "code",
   "execution_count": 79,
   "metadata": {},
   "outputs": [],
   "source": [
    "# Group the output df per user id and calculate the average \n",
    "\n",
    "df_avgdaily_ping_wo_na = df_cl_wo_na_grp_user_day.groupby(['uid']).mean().reset_index()"
   ]
  },
  {
   "cell_type": "code",
   "execution_count": 80,
   "metadata": {},
   "outputs": [
    {
     "data": {
      "text/html": [
       "<div>\n",
       "<style scoped>\n",
       "    .dataframe tbody tr th:only-of-type {\n",
       "        vertical-align: middle;\n",
       "    }\n",
       "\n",
       "    .dataframe tbody tr th {\n",
       "        vertical-align: top;\n",
       "    }\n",
       "\n",
       "    .dataframe thead th {\n",
       "        text-align: right;\n",
       "    }\n",
       "</style>\n",
       "<table border=\"1\" class=\"dataframe\">\n",
       "  <thead>\n",
       "    <tr style=\"text-align: right;\">\n",
       "      <th></th>\n",
       "      <th>timestamp</th>\n",
       "    </tr>\n",
       "  </thead>\n",
       "  <tbody>\n",
       "    <tr>\n",
       "      <th>count</th>\n",
       "      <td>147737.000000</td>\n",
       "    </tr>\n",
       "    <tr>\n",
       "      <th>mean</th>\n",
       "      <td>1.469193</td>\n",
       "    </tr>\n",
       "    <tr>\n",
       "      <th>std</th>\n",
       "      <td>1.457093</td>\n",
       "    </tr>\n",
       "    <tr>\n",
       "      <th>min</th>\n",
       "      <td>1.000000</td>\n",
       "    </tr>\n",
       "    <tr>\n",
       "      <th>5%</th>\n",
       "      <td>1.000000</td>\n",
       "    </tr>\n",
       "    <tr>\n",
       "      <th>10%</th>\n",
       "      <td>1.000000</td>\n",
       "    </tr>\n",
       "    <tr>\n",
       "      <th>25%</th>\n",
       "      <td>1.000000</td>\n",
       "    </tr>\n",
       "    <tr>\n",
       "      <th>50%</th>\n",
       "      <td>1.166667</td>\n",
       "    </tr>\n",
       "    <tr>\n",
       "      <th>75%</th>\n",
       "      <td>1.533333</td>\n",
       "    </tr>\n",
       "    <tr>\n",
       "      <th>90%</th>\n",
       "      <td>2.153846</td>\n",
       "    </tr>\n",
       "    <tr>\n",
       "      <th>99.8%</th>\n",
       "      <td>10.745630</td>\n",
       "    </tr>\n",
       "    <tr>\n",
       "      <th>max</th>\n",
       "      <td>130.000000</td>\n",
       "    </tr>\n",
       "  </tbody>\n",
       "</table>\n",
       "</div>"
      ],
      "text/plain": [
       "           timestamp\n",
       "count  147737.000000\n",
       "mean        1.469193\n",
       "std         1.457093\n",
       "min         1.000000\n",
       "5%          1.000000\n",
       "10%         1.000000\n",
       "25%         1.000000\n",
       "50%         1.166667\n",
       "75%         1.533333\n",
       "90%         2.153846\n",
       "99.8%      10.745630\n",
       "max       130.000000"
      ]
     },
     "execution_count": 80,
     "metadata": {},
     "output_type": "execute_result"
    }
   ],
   "source": [
    "df_avgdaily_ping_wo_na.describe(percentiles = [.05,.1,.25,.5,.75,.9,.998])"
   ]
  },
  {
   "cell_type": "markdown",
   "metadata": {},
   "source": [
    "so let's dig into **top 500(~0.2%)** users (based on daily average pings) "
   ]
  },
  {
   "cell_type": "code",
   "execution_count": 81,
   "metadata": {},
   "outputs": [],
   "source": [
    "# Seperate top 500 users based on average daily ping\n",
    "\n",
    "df_avgdaily_ping_top500 = df_avgdaily_ping_wo_na.sort_values(by='timestamp',ascending=False).iloc[:500]\n",
    "\n",
    "# List of top 500 users\n",
    "top_users_wo_na = df_avgdaily_ping_top500['uid'].tolist()\n",
    "\n",
    "# DF of top 500 users \n",
    "df_top_users_wo_na = df_cl_wo_na[df_cl_wo_na['uid'].isin(top_users_wo_na)]"
   ]
  },
  {
   "cell_type": "code",
   "execution_count": 82,
   "metadata": {},
   "outputs": [
    {
     "data": {
      "text/html": [
       "<div>\n",
       "<style scoped>\n",
       "    .dataframe tbody tr th:only-of-type {\n",
       "        vertical-align: middle;\n",
       "    }\n",
       "\n",
       "    .dataframe tbody tr th {\n",
       "        vertical-align: top;\n",
       "    }\n",
       "\n",
       "    .dataframe thead th {\n",
       "        text-align: right;\n",
       "    }\n",
       "</style>\n",
       "<table border=\"1\" class=\"dataframe\">\n",
       "  <thead>\n",
       "    <tr style=\"text-align: right;\">\n",
       "      <th></th>\n",
       "      <th>date</th>\n",
       "      <th>timestamp</th>\n",
       "      <th>uid</th>\n",
       "      <th>isFirst</th>\n",
       "      <th>utmSource</th>\n",
       "      <th>isRegistered</th>\n",
       "    </tr>\n",
       "  </thead>\n",
       "  <tbody>\n",
       "    <tr>\n",
       "      <th>count</th>\n",
       "      <td>129865</td>\n",
       "      <td>129865</td>\n",
       "      <td>129865</td>\n",
       "      <td>129865</td>\n",
       "      <td>129865</td>\n",
       "      <td>129865</td>\n",
       "    </tr>\n",
       "    <tr>\n",
       "      <th>unique</th>\n",
       "      <td>29</td>\n",
       "      <td>128831</td>\n",
       "      <td>500</td>\n",
       "      <td>2</td>\n",
       "      <td>17</td>\n",
       "      <td>2</td>\n",
       "    </tr>\n",
       "    <tr>\n",
       "      <th>top</th>\n",
       "      <td>2016-02-12 00:00:00</td>\n",
       "      <td>2016-02-25 19:01:10.168000</td>\n",
       "      <td>vwLJO2uDWrXr</td>\n",
       "      <td>False</td>\n",
       "      <td>biznesowe rewolucje</td>\n",
       "      <td>Non Registered</td>\n",
       "    </tr>\n",
       "    <tr>\n",
       "      <th>freq</th>\n",
       "      <td>5538</td>\n",
       "      <td>17</td>\n",
       "      <td>2807</td>\n",
       "      <td>129816</td>\n",
       "      <td>58958</td>\n",
       "      <td>101882</td>\n",
       "    </tr>\n",
       "    <tr>\n",
       "      <th>first</th>\n",
       "      <td>2016-02-01 00:00:00</td>\n",
       "      <td>2016-02-01 08:00:06.284000</td>\n",
       "      <td>NaN</td>\n",
       "      <td>NaN</td>\n",
       "      <td>NaN</td>\n",
       "      <td>NaN</td>\n",
       "    </tr>\n",
       "    <tr>\n",
       "      <th>last</th>\n",
       "      <td>2016-02-29 00:00:00</td>\n",
       "      <td>2016-03-01 07:59:00.142000</td>\n",
       "      <td>NaN</td>\n",
       "      <td>NaN</td>\n",
       "      <td>NaN</td>\n",
       "      <td>NaN</td>\n",
       "    </tr>\n",
       "  </tbody>\n",
       "</table>\n",
       "</div>"
      ],
      "text/plain": [
       "                       date                   timestamp           uid isFirst  \\\n",
       "count                129865                      129865        129865  129865   \n",
       "unique                   29                      128831           500       2   \n",
       "top     2016-02-12 00:00:00  2016-02-25 19:01:10.168000  vwLJO2uDWrXr   False   \n",
       "freq                   5538                          17          2807  129816   \n",
       "first   2016-02-01 00:00:00  2016-02-01 08:00:06.284000           NaN     NaN   \n",
       "last    2016-02-29 00:00:00  2016-03-01 07:59:00.142000           NaN     NaN   \n",
       "\n",
       "                  utmSource    isRegistered  \n",
       "count                129865          129865  \n",
       "unique                   17               2  \n",
       "top     biznesowe rewolucje  Non Registered  \n",
       "freq                  58958          101882  \n",
       "first                   NaN             NaN  \n",
       "last                    NaN             NaN  "
      ]
     },
     "execution_count": 82,
     "metadata": {},
     "output_type": "execute_result"
    }
   ],
   "source": [
    "df_top_users_wo_na.describe()"
   ]
  },
  {
   "cell_type": "code",
   "execution_count": 83,
   "metadata": {},
   "outputs": [],
   "source": [
    "df_top_users_grp_usr_wo_na = df_top_users_wo_na.groupby(['uid'])['utmSource'].nunique().reset_index()"
   ]
  },
  {
   "cell_type": "code",
   "execution_count": 84,
   "metadata": {},
   "outputs": [
    {
     "name": "stdout",
     "output_type": "stream",
     "text": [
      "The number of multi sources of top 1000 users: 21\n"
     ]
    }
   ],
   "source": [
    "mlt_src_top_users_wo_na = df_top_users_grp_usr_wo_na[df_top_users_grp_usr_wo_na['utmSource'] > 1]['uid'].tolist()\n",
    "print (\"The number of multi sources of top 1000 users:\", len(mlt_src_top_users_wo_na))"
   ]
  },
  {
   "cell_type": "markdown",
   "metadata": {},
   "source": [
    "There are just **21 (4%)** top users that have more than one sources. So we can simply remove them. "
   ]
  },
  {
   "cell_type": "code",
   "execution_count": 85,
   "metadata": {},
   "outputs": [],
   "source": [
    "# Remove 21 users that have more than one source\n",
    "\n",
    "df_top_users_wo_na = df_top_users_wo_na[~df_top_users_wo_na['uid'].isin(mlt_src_top_users_wo_na)] "
   ]
  },
  {
   "cell_type": "code",
   "execution_count": 86,
   "metadata": {},
   "outputs": [
    {
     "data": {
      "text/html": [
       "<div>\n",
       "<style scoped>\n",
       "    .dataframe tbody tr th:only-of-type {\n",
       "        vertical-align: middle;\n",
       "    }\n",
       "\n",
       "    .dataframe tbody tr th {\n",
       "        vertical-align: top;\n",
       "    }\n",
       "\n",
       "    .dataframe thead th {\n",
       "        text-align: right;\n",
       "    }\n",
       "</style>\n",
       "<table border=\"1\" class=\"dataframe\">\n",
       "  <thead>\n",
       "    <tr style=\"text-align: right;\">\n",
       "      <th></th>\n",
       "      <th>date</th>\n",
       "      <th>timestamp</th>\n",
       "      <th>uid</th>\n",
       "      <th>isFirst</th>\n",
       "      <th>utmSource</th>\n",
       "      <th>isRegistered</th>\n",
       "    </tr>\n",
       "  </thead>\n",
       "  <tbody>\n",
       "    <tr>\n",
       "      <th>12</th>\n",
       "      <td>2016-02-01</td>\n",
       "      <td>2016-02-01 08:00:06.284</td>\n",
       "      <td>F7RPRxLBMKN9</td>\n",
       "      <td>False</td>\n",
       "      <td>biznesowe rewolucje</td>\n",
       "      <td>Non Registered</td>\n",
       "    </tr>\n",
       "    <tr>\n",
       "      <th>390</th>\n",
       "      <td>2016-02-01</td>\n",
       "      <td>2016-02-01 08:04:40.326</td>\n",
       "      <td>saJJ9pkcq4Rb</td>\n",
       "      <td>False</td>\n",
       "      <td>contenthub</td>\n",
       "      <td>Non Registered</td>\n",
       "    </tr>\n",
       "    <tr>\n",
       "      <th>434</th>\n",
       "      <td>2016-02-01</td>\n",
       "      <td>2016-02-01 08:05:05.509</td>\n",
       "      <td>57123875</td>\n",
       "      <td>False</td>\n",
       "      <td>biznesowe rewolucje</td>\n",
       "      <td>Registered</td>\n",
       "    </tr>\n",
       "    <tr>\n",
       "      <th>810</th>\n",
       "      <td>2016-02-01</td>\n",
       "      <td>2016-02-01 08:09:37.042</td>\n",
       "      <td>rN6LJTYjmQdb</td>\n",
       "      <td>False</td>\n",
       "      <td>biznesowe rewolucje</td>\n",
       "      <td>Non Registered</td>\n",
       "    </tr>\n",
       "    <tr>\n",
       "      <th>1088</th>\n",
       "      <td>2016-02-01</td>\n",
       "      <td>2016-02-01 08:12:41.471</td>\n",
       "      <td>EJihOVKqyQXv</td>\n",
       "      <td>False</td>\n",
       "      <td>other</td>\n",
       "      <td>Non Registered</td>\n",
       "    </tr>\n",
       "  </tbody>\n",
       "</table>\n",
       "</div>"
      ],
      "text/plain": [
       "           date               timestamp           uid  isFirst  \\\n",
       "12   2016-02-01 2016-02-01 08:00:06.284  F7RPRxLBMKN9    False   \n",
       "390  2016-02-01 2016-02-01 08:04:40.326  saJJ9pkcq4Rb    False   \n",
       "434  2016-02-01 2016-02-01 08:05:05.509      57123875    False   \n",
       "810  2016-02-01 2016-02-01 08:09:37.042  rN6LJTYjmQdb    False   \n",
       "1088 2016-02-01 2016-02-01 08:12:41.471  EJihOVKqyQXv    False   \n",
       "\n",
       "                utmSource    isRegistered  \n",
       "12    biznesowe rewolucje  Non Registered  \n",
       "390            contenthub  Non Registered  \n",
       "434   biznesowe rewolucje      Registered  \n",
       "810   biznesowe rewolucje  Non Registered  \n",
       "1088                other  Non Registered  "
      ]
     },
     "execution_count": 86,
     "metadata": {},
     "output_type": "execute_result"
    }
   ],
   "source": [
    "df_top_users_unq_wo_na = df_top_users_wo_na.loc[~df_top_users_wo_na.duplicated(subset=['uid']),:]\n",
    "df_top_users_unq_wo_na.head()"
   ]
  },
  {
   "cell_type": "code",
   "execution_count": 87,
   "metadata": {},
   "outputs": [
    {
     "data": {
      "text/html": [
       "\n",
       "<div id=\"altair-viz-8\"></div>\n",
       "<script type=\"text/javascript\">\n",
       "  (function(spec, embedOpt){\n",
       "    const outputDiv = document.getElementById(\"altair-viz-8\");\n",
       "    const paths = {\n",
       "      \"vega\": \"https://cdn.jsdelivr.net/npm//vega@5?noext\",\n",
       "      \"vega-lib\": \"https://cdn.jsdelivr.net/npm//vega-lib?noext\",\n",
       "      \"vega-lite\": \"https://cdn.jsdelivr.net/npm//vega-lite@4.0.0?noext\",\n",
       "      \"vega-embed\": \"https://cdn.jsdelivr.net/npm//vega-embed@6?noext\",\n",
       "    };\n",
       "\n",
       "    function loadScript(lib) {\n",
       "      return new Promise(function(resolve, reject) {\n",
       "        var s = document.createElement('script');\n",
       "        s.src = paths[lib];\n",
       "        s.async = true;\n",
       "        s.onload = () => resolve(paths[lib]);\n",
       "        s.onerror = () => reject(`Error loading script: ${paths[lib]}`);\n",
       "        document.getElementsByTagName(\"head\")[0].appendChild(s);\n",
       "      });\n",
       "    }\n",
       "\n",
       "    function showError(err) {\n",
       "      outputDiv.innerHTML = `<div class=\"error\" style=\"color:red;\">${err}</div>`;\n",
       "      throw err;\n",
       "    }\n",
       "\n",
       "    function displayChart(vegaEmbed) {\n",
       "      vegaEmbed(outputDiv, spec, embedOpt)\n",
       "        .catch(err => showError(`Javascript Error: ${err.message}<br>This usually means there's a typo in your chart specification. See the javascript console for the full traceback.`));\n",
       "    }\n",
       "\n",
       "    if(typeof define === \"function\" && define.amd) {\n",
       "      requirejs.config({paths});\n",
       "      require([\"vega-embed\"], displayChart, err => showError(`Error loading script: ${err.message}`));\n",
       "    } else if (typeof vegaEmbed === \"function\") {\n",
       "      displayChart(vegaEmbed);\n",
       "    } else {\n",
       "      loadScript(\"vega\")\n",
       "        .then(() => loadScript(\"vega-lite\"))\n",
       "        .then(() => loadScript(\"vega-embed\"))\n",
       "        .catch(showError)\n",
       "        .then(() => displayChart(vegaEmbed));\n",
       "    }\n",
       "  })({\"config\": {\"view\": {\"continuousWidth\": 400, \"continuousHeight\": 300}, \"axis\": {\"gridOpacity\": 0.6}, \"axisX\": {\"grid\": false, \"labelFontSize\": 10, \"titleColor\": \"dimgray\", \"titleFont\": \"Helvetica Sans\", \"titleFontSize\": 12, \"titleY\": 80}, \"axisY\": {\"labelFontSize\": 10, \"labelPadding\": 5, \"titleColor\": \"dimgray\", \"titleFont\": \"Helvetica Sans\", \"titleFontSize\": 12, \"titleX\": -50}, \"legend\": {\"labelFontSize\": 12, \"titleColor\": \"dimgray\"}, \"title\": {\"color\": \"dimgrey\", \"dy\": -5, \"font\": \"Helvetica Sans\", \"fontSize\": 14}}, \"layer\": [{\"mark\": {\"type\": \"bar\", \"size\": 10}, \"encoding\": {\"color\": {\"type\": \"ordinal\", \"field\": \"utmSource\", \"legend\": {\"title\": \"Source\"}, \"scale\": {\"range\": [\"#d5c56f\", \"#e78c19\", \"#fa8775\", \"#ea5f94\", \"#34cda5\", \"#9d02d7\", \"#0000ff\", \"#6b9c2e\", \"#c95d1a\", \"#7e745b\", \"#91a9e7\", \"#929482\", \"#e81515\", \"#27a18e\", \"#f3a384\", \"#1bf542\", \"#c7a3cd\"]}}, \"tooltip\": [{\"type\": \"nominal\", \"field\": \"utmSource\", \"title\": \"Source\"}, {\"type\": \"quantitative\", \"aggregate\": \"count\", \"field\": \"utmSource\", \"title\": \"Total Users\"}], \"x\": {\"type\": \"ordinal\", \"axis\": {\"labelAngle\": 90, \"title\": \"Traffic Source\"}, \"field\": \"utmSource\"}, \"y\": {\"type\": \"quantitative\", \"aggregate\": \"count\", \"axis\": {\"title\": \"Number of Top Users\"}, \"field\": \"utmSource\"}}, \"height\": 420, \"title\": [\"Sources of Top 500 Users\", \"February 2016\"], \"width\": 400}], \"data\": {\"name\": \"data-3050537d7a60af39e06a3067e1564089\"}, \"$schema\": \"https://vega.github.io/schema/vega-lite/v4.0.0.json\", \"datasets\": {\"data-3050537d7a60af39e06a3067e1564089\": [{\"date\": \"2016-02-01T00:00:00\", \"timestamp\": \"2016-02-01T08:00:06.284000\", \"uid\": \"F7RPRxLBMKN9\", \"isFirst\": false, \"utmSource\": \"biznesowe rewolucje\", \"isRegistered\": \"Non Registered\"}, {\"date\": \"2016-02-01T00:00:00\", \"timestamp\": \"2016-02-01T08:04:40.326000\", \"uid\": \"saJJ9pkcq4Rb\", \"isFirst\": false, \"utmSource\": \"contenthub\", \"isRegistered\": \"Non Registered\"}, {\"date\": \"2016-02-01T00:00:00\", \"timestamp\": \"2016-02-01T08:05:05.509000\", \"uid\": \"57123875\", \"isFirst\": false, \"utmSource\": \"biznesowe rewolucje\", \"isRegistered\": \"Registered\"}, {\"date\": \"2016-02-01T00:00:00\", \"timestamp\": \"2016-02-01T08:09:37.042000\", \"uid\": \"rN6LJTYjmQdb\", \"isFirst\": false, \"utmSource\": \"biznesowe rewolucje\", \"isRegistered\": \"Non Registered\"}, {\"date\": \"2016-02-01T00:00:00\", \"timestamp\": \"2016-02-01T08:12:41.471000\", \"uid\": \"EJihOVKqyQXv\", \"isFirst\": false, \"utmSource\": \"other\", \"isRegistered\": \"Non Registered\"}, {\"date\": \"2016-02-01T00:00:00\", \"timestamp\": \"2016-02-01T08:14:58.793000\", \"uid\": \"DMlcqXGXKqla\", \"isFirst\": false, \"utmSource\": \"program\", \"isRegistered\": \"Non Registered\"}, {\"date\": \"2016-02-01T00:00:00\", \"timestamp\": \"2016-02-01T08:15:14.577000\", \"uid\": \"Nexf1zhaRkL0\", \"isFirst\": false, \"utmSource\": \"biznesowe rewolucje\", \"isRegistered\": \"Non Registered\"}, {\"date\": \"2016-02-01T00:00:00\", \"timestamp\": \"2016-02-01T08:20:04.756000\", \"uid\": \"wnSNcQfktb2U\", \"isFirst\": false, \"utmSource\": \"other\", \"isRegistered\": \"Non Registered\"}, {\"date\": \"2016-02-01T00:00:00\", \"timestamp\": \"2016-02-01T08:20:23.632000\", \"uid\": \"hNHUGWldcjg6\", \"isFirst\": false, \"utmSource\": \"biznesowe rewolucje\", \"isRegistered\": \"Non Registered\"}, {\"date\": \"2016-02-01T00:00:00\", \"timestamp\": \"2016-02-01T08:20:46.483000\", \"uid\": \"58507491\", \"isFirst\": false, \"utmSource\": \"biznesowe rewolucje\", \"isRegistered\": \"Registered\"}, {\"date\": \"2016-02-01T00:00:00\", \"timestamp\": \"2016-02-01T08:29:47.553000\", \"uid\": \"upBSh4cTiSWv\", \"isFirst\": false, \"utmSource\": \"shmoop\", \"isRegistered\": \"Non Registered\"}, {\"date\": \"2016-02-01T00:00:00\", \"timestamp\": \"2016-02-01T08:31:34.998000\", \"uid\": \"Rt2RSSlP1yyT\", \"isFirst\": false, \"utmSource\": \"biznesowe rewolucje\", \"isRegistered\": \"Non Registered\"}, {\"date\": \"2016-02-01T00:00:00\", \"timestamp\": \"2016-02-01T08:33:25.452000\", \"uid\": \"JoTTIn2nt6MF\", \"isFirst\": false, \"utmSource\": \"salesmanago\", \"isRegistered\": \"Non Registered\"}, {\"date\": \"2016-02-01T00:00:00\", \"timestamp\": \"2016-02-01T08:35:24.451000\", \"uid\": \"62571741\", \"isFirst\": false, \"utmSource\": \"youtube\", \"isRegistered\": \"Registered\"}, {\"date\": \"2016-02-01T00:00:00\", \"timestamp\": \"2016-02-01T08:46:26.363000\", \"uid\": \"N3gHV0qmDzme\", \"isFirst\": false, \"utmSource\": \"biznesowe rewolucje\", \"isRegistered\": \"Non Registered\"}, {\"date\": \"2016-02-01T00:00:00\", \"timestamp\": \"2016-02-01T08:52:08.606000\", \"uid\": \"pHxd75qgIdKe\", \"isFirst\": false, \"utmSource\": \"biznesowe rewolucje\", \"isRegistered\": \"Non Registered\"}, {\"date\": \"2016-02-01T00:00:00\", \"timestamp\": \"2016-02-01T08:58:21.150000\", \"uid\": \"SRrsftqO2Pj8\", \"isFirst\": false, \"utmSource\": \"biznesowe rewolucje\", \"isRegistered\": \"Non Registered\"}, {\"date\": \"2016-02-01T00:00:00\", \"timestamp\": \"2016-02-01T08:58:33.513000\", \"uid\": \"7f31uGSOkN3C\", \"isFirst\": false, \"utmSource\": \"biznesowe rewolucje\", \"isRegistered\": \"Non Registered\"}, {\"date\": \"2016-02-01T00:00:00\", \"timestamp\": \"2016-02-01T09:03:02.994000\", \"uid\": \"dIV0lR6nrQpG\", \"isFirst\": false, \"utmSource\": \"biznesowe rewolucje\", \"isRegistered\": \"Non Registered\"}, {\"date\": \"2016-02-01T00:00:00\", \"timestamp\": \"2016-02-01T09:07:13.876000\", \"uid\": \"UvR6vYp5q7kD\", \"isFirst\": false, \"utmSource\": \"biznesowe rewolucje\", \"isRegistered\": \"Non Registered\"}, {\"date\": \"2016-02-01T00:00:00\", \"timestamp\": \"2016-02-01T09:09:27.538000\", \"uid\": \"62624292\", \"isFirst\": false, \"utmSource\": \"biznesowe rewolucje\", \"isRegistered\": \"Registered\"}, {\"date\": \"2016-02-01T00:00:00\", \"timestamp\": \"2016-02-01T09:09:55.489000\", \"uid\": \"22y3OdPAjRnh\", \"isFirst\": false, \"utmSource\": \"shmoop\", \"isRegistered\": \"Non Registered\"}, {\"date\": \"2016-02-01T00:00:00\", \"timestamp\": \"2016-02-01T09:12:53.560000\", \"uid\": \"53433349\", \"isFirst\": false, \"utmSource\": \"biznesowe rewolucje\", \"isRegistered\": \"Registered\"}, {\"date\": \"2016-02-01T00:00:00\", \"timestamp\": \"2016-02-01T09:17:03.306000\", \"uid\": \"4PVbM90ekLxA\", \"isFirst\": false, \"utmSource\": \"shmoop\", \"isRegistered\": \"Non Registered\"}, {\"date\": \"2016-02-01T00:00:00\", \"timestamp\": \"2016-02-01T09:30:21.205000\", \"uid\": \"b4saIsYiuRJu\", \"isFirst\": false, \"utmSource\": \"program\", \"isRegistered\": \"Non Registered\"}, {\"date\": \"2016-02-01T00:00:00\", \"timestamp\": \"2016-02-01T09:30:57.611000\", \"uid\": \"QHre1pzFUE9M\", \"isFirst\": false, \"utmSource\": \"biznesowe rewolucje\", \"isRegistered\": \"Non Registered\"}, {\"date\": \"2016-02-01T00:00:00\", \"timestamp\": \"2016-02-01T09:31:25.930000\", \"uid\": \"qpeB6bUIn2rD\", \"isFirst\": false, \"utmSource\": \"biznesowe rewolucje\", \"isRegistered\": \"Non Registered\"}, {\"date\": \"2016-02-01T00:00:00\", \"timestamp\": \"2016-02-01T09:33:54.262000\", \"uid\": \"LGD3a987Ypja\", \"isFirst\": false, \"utmSource\": \"program\", \"isRegistered\": \"Non Registered\"}, {\"date\": \"2016-02-01T00:00:00\", \"timestamp\": \"2016-02-01T09:35:09.947000\", \"uid\": \"XplrDgJnFnLR\", \"isFirst\": false, \"utmSource\": \"biznesowe rewolucje\", \"isRegistered\": \"Non Registered\"}, {\"date\": \"2016-02-01T00:00:00\", \"timestamp\": \"2016-02-01T09:44:49.044000\", \"uid\": \"oOVDX5zxR5H5\", \"isFirst\": false, \"utmSource\": \"program\", \"isRegistered\": \"Non Registered\"}, {\"date\": \"2016-02-01T00:00:00\", \"timestamp\": \"2016-02-01T09:50:40.098000\", \"uid\": \"74094003\", \"isFirst\": false, \"utmSource\": \"program\", \"isRegistered\": \"Registered\"}, {\"date\": \"2016-02-01T00:00:00\", \"timestamp\": \"2016-02-01T09:56:19.106000\", \"uid\": \"MHDXULFdnKzF\", \"isFirst\": false, \"utmSource\": \"biznesowe rewolucje\", \"isRegistered\": \"Non Registered\"}, {\"date\": \"2016-02-01T00:00:00\", \"timestamp\": \"2016-02-01T10:01:01.076000\", \"uid\": \"14CSKmZslFcF\", \"isFirst\": false, \"utmSource\": \"biznesowe rewolucje\", \"isRegistered\": \"Non Registered\"}, {\"date\": \"2016-02-01T00:00:00\", \"timestamp\": \"2016-02-01T10:11:41.807000\", \"uid\": \"V7EMBSyiLs89\", \"isFirst\": false, \"utmSource\": \"blog\", \"isRegistered\": \"Non Registered\"}, {\"date\": \"2016-02-01T00:00:00\", \"timestamp\": \"2016-02-01T10:14:49.851000\", \"uid\": \"Y0ZytflP1Bl1\", \"isFirst\": false, \"utmSource\": \"program\", \"isRegistered\": \"Non Registered\"}, {\"date\": \"2016-02-01T00:00:00\", \"timestamp\": \"2016-02-01T10:18:03\", \"uid\": \"2Pjdi2gwX9wL\", \"isFirst\": false, \"utmSource\": \"biznesowe rewolucje\", \"isRegistered\": \"Non Registered\"}, {\"date\": \"2016-02-01T00:00:00\", \"timestamp\": \"2016-02-01T10:29:03.376000\", \"uid\": \"62209181\", \"isFirst\": false, \"utmSource\": \"biznesowe rewolucje\", \"isRegistered\": \"Registered\"}, {\"date\": \"2016-02-01T00:00:00\", \"timestamp\": \"2016-02-01T10:30:24.128000\", \"uid\": \"55592554\", \"isFirst\": false, \"utmSource\": \"program\", \"isRegistered\": \"Registered\"}, {\"date\": \"2016-02-01T00:00:00\", \"timestamp\": \"2016-02-01T10:30:25.877000\", \"uid\": \"tBGzrK80y3bP\", \"isFirst\": false, \"utmSource\": \"program\", \"isRegistered\": \"Non Registered\"}, {\"date\": \"2016-02-01T00:00:00\", \"timestamp\": \"2016-02-01T10:41:09.173000\", \"uid\": \"53855682\", \"isFirst\": false, \"utmSource\": \"shmoop\", \"isRegistered\": \"Registered\"}, {\"date\": \"2016-02-01T00:00:00\", \"timestamp\": \"2016-02-01T10:42:13.366000\", \"uid\": \"52584855\", \"isFirst\": false, \"utmSource\": \"biznesowe rewolucje\", \"isRegistered\": \"Registered\"}, {\"date\": \"2016-02-01T00:00:00\", \"timestamp\": \"2016-02-01T10:42:28.497000\", \"uid\": \"g8VtgL7CYslf\", \"isFirst\": false, \"utmSource\": \"biznesowe rewolucje\", \"isRegistered\": \"Non Registered\"}, {\"date\": \"2016-02-01T00:00:00\", \"timestamp\": \"2016-02-01T10:46:34.474000\", \"uid\": \"uDSJXg8weKjm\", \"isFirst\": false, \"utmSource\": \"program\", \"isRegistered\": \"Non Registered\"}, {\"date\": \"2016-02-01T00:00:00\", \"timestamp\": \"2016-02-01T10:48:06.554000\", \"uid\": \"RwzjcQULos2P\", \"isFirst\": false, \"utmSource\": \"program\", \"isRegistered\": \"Non Registered\"}, {\"date\": \"2016-02-01T00:00:00\", \"timestamp\": \"2016-02-01T10:57:26.127000\", \"uid\": \"axTyHNJjfOai\", \"isFirst\": false, \"utmSource\": \"salesmanago\", \"isRegistered\": \"Non Registered\"}, {\"date\": \"2016-02-01T00:00:00\", \"timestamp\": \"2016-02-01T11:02:34.668000\", \"uid\": \"55903958\", \"isFirst\": false, \"utmSource\": \"program\", \"isRegistered\": \"Registered\"}, {\"date\": \"2016-02-01T00:00:00\", \"timestamp\": \"2016-02-01T11:11:29.002000\", \"uid\": \"bUP4tCTjC0dy\", \"isFirst\": false, \"utmSource\": \"program\", \"isRegistered\": \"Non Registered\"}, {\"date\": \"2016-02-01T00:00:00\", \"timestamp\": \"2016-02-01T11:12:13.137000\", \"uid\": \"67762314\", \"isFirst\": false, \"utmSource\": \"biznesowe rewolucje\", \"isRegistered\": \"Registered\"}, {\"date\": \"2016-02-01T00:00:00\", \"timestamp\": \"2016-02-01T11:16:00.561000\", \"uid\": \"oUZXPYeol10O\", \"isFirst\": false, \"utmSource\": \"biznesowe rewolucje\", \"isRegistered\": \"Non Registered\"}, {\"date\": \"2016-02-01T00:00:00\", \"timestamp\": \"2016-02-01T11:17:21.480000\", \"uid\": \"68621110\", \"isFirst\": false, \"utmSource\": \"twitter\", \"isRegistered\": \"Registered\"}, {\"date\": \"2016-02-01T00:00:00\", \"timestamp\": \"2016-02-01T11:26:29.202000\", \"uid\": \"zGGykz8GV6iy\", \"isFirst\": false, \"utmSource\": \"program\", \"isRegistered\": \"Non Registered\"}, {\"date\": \"2016-02-01T00:00:00\", \"timestamp\": \"2016-02-01T11:36:49.463000\", \"uid\": \"0GhmeHRbK2cT\", \"isFirst\": false, \"utmSource\": \"biznesowe rewolucje\", \"isRegistered\": \"Non Registered\"}, {\"date\": \"2016-02-01T00:00:00\", \"timestamp\": \"2016-02-01T11:44:08.731000\", \"uid\": \"IDokXeUpDB5P\", \"isFirst\": false, \"utmSource\": \"program\", \"isRegistered\": \"Non Registered\"}, {\"date\": \"2016-02-01T00:00:00\", \"timestamp\": \"2016-02-01T11:46:31.223000\", \"uid\": \"GLt8bgitp1f0\", \"isFirst\": false, \"utmSource\": \"biznesowe rewolucje\", \"isRegistered\": \"Non Registered\"}, {\"date\": \"2016-02-01T00:00:00\", \"timestamp\": \"2016-02-01T11:46:31.359000\", \"uid\": \"pYflxu2RxVPp\", \"isFirst\": false, \"utmSource\": \"biznesowe rewolucje\", \"isRegistered\": \"Non Registered\"}, {\"date\": \"2016-02-01T00:00:00\", \"timestamp\": \"2016-02-01T11:59:45.898000\", \"uid\": \"58955459\", \"isFirst\": false, \"utmSource\": \"biznesowe rewolucje\", \"isRegistered\": \"Registered\"}, {\"date\": \"2016-02-01T00:00:00\", \"timestamp\": \"2016-02-01T12:00:49.049000\", \"uid\": \"57795265\", \"isFirst\": false, \"utmSource\": \"shmoop\", \"isRegistered\": \"Registered\"}, {\"date\": \"2016-02-01T00:00:00\", \"timestamp\": \"2016-02-01T12:04:04.627000\", \"uid\": \"zUcC5F2c5q3I\", \"isFirst\": false, \"utmSource\": \"other\", \"isRegistered\": \"Non Registered\"}, {\"date\": \"2016-02-01T00:00:00\", \"timestamp\": \"2016-02-01T12:10:49.999000\", \"uid\": \"G2q9RmT1kspN\", \"isFirst\": false, \"utmSource\": \"biznesowe rewolucje\", \"isRegistered\": \"Non Registered\"}, {\"date\": \"2016-02-01T00:00:00\", \"timestamp\": \"2016-02-01T12:13:58.306000\", \"uid\": \"79396206\", \"isFirst\": false, \"utmSource\": \"biznesowe rewolucje\", \"isRegistered\": \"Registered\"}, {\"date\": \"2016-02-01T00:00:00\", \"timestamp\": \"2016-02-01T12:17:44.274000\", \"uid\": \"72604776\", \"isFirst\": false, \"utmSource\": \"grub street\", \"isRegistered\": \"Registered\"}, {\"date\": \"2016-02-01T00:00:00\", \"timestamp\": \"2016-02-01T12:17:46.345000\", \"uid\": \"68470619\", \"isFirst\": false, \"utmSource\": \"shmoop\", \"isRegistered\": \"Registered\"}, {\"date\": \"2016-02-01T00:00:00\", \"timestamp\": \"2016-02-01T12:27:10.031000\", \"uid\": \"e0QGZqibJ2tZ\", \"isFirst\": false, \"utmSource\": \"biznesowe rewolucje\", \"isRegistered\": \"Non Registered\"}, {\"date\": \"2016-02-01T00:00:00\", \"timestamp\": \"2016-02-01T12:27:37.315000\", \"uid\": \"67164560\", \"isFirst\": false, \"utmSource\": \"shmoop\", \"isRegistered\": \"Registered\"}, {\"date\": \"2016-02-01T00:00:00\", \"timestamp\": \"2016-02-01T12:34:31.115000\", \"uid\": \"z9gicKouNcTK\", \"isFirst\": false, \"utmSource\": \"biznesowe rewolucje\", \"isRegistered\": \"Non Registered\"}, {\"date\": \"2016-02-01T00:00:00\", \"timestamp\": \"2016-02-01T12:34:36.270000\", \"uid\": \"rXNMI00xE62V\", \"isFirst\": false, \"utmSource\": \"biznesowe rewolucje\", \"isRegistered\": \"Non Registered\"}, {\"date\": \"2016-02-01T00:00:00\", \"timestamp\": \"2016-02-01T12:35:58.916000\", \"uid\": \"54393263\", \"isFirst\": false, \"utmSource\": \"biznesowe rewolucje\", \"isRegistered\": \"Registered\"}, {\"date\": \"2016-02-01T00:00:00\", \"timestamp\": \"2016-02-01T12:38:53.218000\", \"uid\": \"KKwufVHJF8fE\", \"isFirst\": false, \"utmSource\": \"mosalingua fr\", \"isRegistered\": \"Non Registered\"}, {\"date\": \"2016-02-01T00:00:00\", \"timestamp\": \"2016-02-01T12:39:11.054000\", \"uid\": \"76431672\", \"isFirst\": false, \"utmSource\": \"program\", \"isRegistered\": \"Registered\"}, {\"date\": \"2016-02-01T00:00:00\", \"timestamp\": \"2016-02-01T12:53:20.267000\", \"uid\": \"64513903\", \"isFirst\": false, \"utmSource\": \"program\", \"isRegistered\": \"Registered\"}, {\"date\": \"2016-02-01T00:00:00\", \"timestamp\": \"2016-02-01T13:01:47.255000\", \"uid\": \"LMczuwpq4BmT\", \"isFirst\": false, \"utmSource\": \"biznesowe rewolucje\", \"isRegistered\": \"Non Registered\"}, {\"date\": \"2016-02-01T00:00:00\", \"timestamp\": \"2016-02-01T13:03:53.869000\", \"uid\": \"gK3k0CS8xppB\", \"isFirst\": false, \"utmSource\": \"program\", \"isRegistered\": \"Non Registered\"}, {\"date\": \"2016-02-01T00:00:00\", \"timestamp\": \"2016-02-01T13:04:26.518000\", \"uid\": \"7JzTbUJDhDjJ\", \"isFirst\": false, \"utmSource\": \"biznesowe rewolucje\", \"isRegistered\": \"Non Registered\"}, {\"date\": \"2016-02-01T00:00:00\", \"timestamp\": \"2016-02-01T13:12:37.520000\", \"uid\": \"3RFwS3Peqp3s\", \"isFirst\": false, \"utmSource\": \"other\", \"isRegistered\": \"Non Registered\"}, {\"date\": \"2016-02-01T00:00:00\", \"timestamp\": \"2016-02-01T13:18:04.564000\", \"uid\": \"50314648\", \"isFirst\": false, \"utmSource\": \"biznesowe rewolucje\", \"isRegistered\": \"Registered\"}, {\"date\": \"2016-02-01T00:00:00\", \"timestamp\": \"2016-02-01T13:20:11.630000\", \"uid\": \"jSroe0XmItsB\", \"isFirst\": false, \"utmSource\": \"biznesowe rewolucje\", \"isRegistered\": \"Non Registered\"}, {\"date\": \"2016-02-01T00:00:00\", \"timestamp\": \"2016-02-01T13:20:48.495000\", \"uid\": \"51651028\", \"isFirst\": false, \"utmSource\": \"mosalingua fr\", \"isRegistered\": \"Registered\"}, {\"date\": \"2016-02-01T00:00:00\", \"timestamp\": \"2016-02-01T13:23:16.400000\", \"uid\": \"77830581\", \"isFirst\": false, \"utmSource\": \"biznesowe rewolucje\", \"isRegistered\": \"Registered\"}, {\"date\": \"2016-02-01T00:00:00\", \"timestamp\": \"2016-02-01T13:24:20.537000\", \"uid\": \"67915104\", \"isFirst\": false, \"utmSource\": \"program\", \"isRegistered\": \"Registered\"}, {\"date\": \"2016-02-01T00:00:00\", \"timestamp\": \"2016-02-01T13:31:35.694000\", \"uid\": \"66380220\", \"isFirst\": false, \"utmSource\": \"biznesowe rewolucje\", \"isRegistered\": \"Registered\"}, {\"date\": \"2016-02-01T00:00:00\", \"timestamp\": \"2016-02-01T13:34:04.990000\", \"uid\": \"VzjO4o6QwGeW\", \"isFirst\": false, \"utmSource\": \"biznesowe rewolucje\", \"isRegistered\": \"Non Registered\"}, {\"date\": \"2016-02-01T00:00:00\", \"timestamp\": \"2016-02-01T13:39:53.618000\", \"uid\": \"ecjSDmSf7X3D\", \"isFirst\": false, \"utmSource\": \"program\", \"isRegistered\": \"Non Registered\"}, {\"date\": \"2016-02-01T00:00:00\", \"timestamp\": \"2016-02-01T13:41:04.291000\", \"uid\": \"72056141\", \"isFirst\": false, \"utmSource\": \"shmoop\", \"isRegistered\": \"Registered\"}, {\"date\": \"2016-02-01T00:00:00\", \"timestamp\": \"2016-02-01T13:47:12.676000\", \"uid\": \"jg0fAS8isgul\", \"isFirst\": false, \"utmSource\": \"biznesowe rewolucje\", \"isRegistered\": \"Non Registered\"}, {\"date\": \"2016-02-01T00:00:00\", \"timestamp\": \"2016-02-01T13:47:21.860000\", \"uid\": \"74733615\", \"isFirst\": false, \"utmSource\": \"biznesowe rewolucje\", \"isRegistered\": \"Registered\"}, {\"date\": \"2016-02-01T00:00:00\", \"timestamp\": \"2016-02-01T13:49:20.830000\", \"uid\": \"Zd3C1BTf7sOX\", \"isFirst\": false, \"utmSource\": \"shmoop\", \"isRegistered\": \"Non Registered\"}, {\"date\": \"2016-02-01T00:00:00\", \"timestamp\": \"2016-02-01T13:50:54.263000\", \"uid\": \"54414845\", \"isFirst\": false, \"utmSource\": \"biznesowe rewolucje\", \"isRegistered\": \"Registered\"}, {\"date\": \"2016-02-01T00:00:00\", \"timestamp\": \"2016-02-01T13:54:25.016000\", \"uid\": \"53117930\", \"isFirst\": false, \"utmSource\": \"biznesowe rewolucje\", \"isRegistered\": \"Registered\"}, {\"date\": \"2016-02-01T00:00:00\", \"timestamp\": \"2016-02-01T13:57:32.004000\", \"uid\": \"72273450\", \"isFirst\": false, \"utmSource\": \"program\", \"isRegistered\": \"Registered\"}, {\"date\": \"2016-02-01T00:00:00\", \"timestamp\": \"2016-02-01T13:57:42.304000\", \"uid\": \"54653406\", \"isFirst\": false, \"utmSource\": \"biznesowe rewolucje\", \"isRegistered\": \"Registered\"}, {\"date\": \"2016-02-01T00:00:00\", \"timestamp\": \"2016-02-01T13:59:42.091000\", \"uid\": \"73291715\", \"isFirst\": false, \"utmSource\": \"biznesowe rewolucje\", \"isRegistered\": \"Registered\"}, {\"date\": \"2016-02-01T00:00:00\", \"timestamp\": \"2016-02-01T14:02:56.321000\", \"uid\": \"59436512\", \"isFirst\": false, \"utmSource\": \"shmoop\", \"isRegistered\": \"Registered\"}, {\"date\": \"2016-02-01T00:00:00\", \"timestamp\": \"2016-02-01T14:04:21.638000\", \"uid\": \"53456062\", \"isFirst\": false, \"utmSource\": \"biznesowe rewolucje\", \"isRegistered\": \"Registered\"}, {\"date\": \"2016-02-01T00:00:00\", \"timestamp\": \"2016-02-01T14:05:33.579000\", \"uid\": \"TGbae0iIlxoI\", \"isFirst\": false, \"utmSource\": \"biznesowe rewolucje\", \"isRegistered\": \"Non Registered\"}, {\"date\": \"2016-02-01T00:00:00\", \"timestamp\": \"2016-02-01T14:08:51.856000\", \"uid\": \"61654098\", \"isFirst\": false, \"utmSource\": \"shmoop\", \"isRegistered\": \"Registered\"}, {\"date\": \"2016-02-01T00:00:00\", \"timestamp\": \"2016-02-01T14:12:06.936000\", \"uid\": \"61628785\", \"isFirst\": false, \"utmSource\": \"mosalingua fr\", \"isRegistered\": \"Registered\"}, {\"date\": \"2016-02-01T00:00:00\", \"timestamp\": \"2016-02-01T14:13:15.683000\", \"uid\": \"Hj0hha2qwtEM\", \"isFirst\": false, \"utmSource\": \"biznesowe rewolucje\", \"isRegistered\": \"Non Registered\"}, {\"date\": \"2016-02-01T00:00:00\", \"timestamp\": \"2016-02-01T14:18:46.553000\", \"uid\": \"PhVSTPxI45gj\", \"isFirst\": false, \"utmSource\": \"biznesowe rewolucje\", \"isRegistered\": \"Non Registered\"}, {\"date\": \"2016-02-01T00:00:00\", \"timestamp\": \"2016-02-01T14:18:58.525000\", \"uid\": \"LwYtaded2mXV\", \"isFirst\": false, \"utmSource\": \"biznesowe rewolucje\", \"isRegistered\": \"Non Registered\"}, {\"date\": \"2016-02-01T00:00:00\", \"timestamp\": \"2016-02-01T14:21:16.174000\", \"uid\": \"vwLJO2uDWrXr\", \"isFirst\": false, \"utmSource\": \"shmoop\", \"isRegistered\": \"Non Registered\"}, {\"date\": \"2016-02-01T00:00:00\", \"timestamp\": \"2016-02-01T14:21:41.235000\", \"uid\": \"ejZCPmE7pRMj\", \"isFirst\": false, \"utmSource\": \"shmoop\", \"isRegistered\": \"Non Registered\"}, {\"date\": \"2016-02-01T00:00:00\", \"timestamp\": \"2016-02-01T14:26:43.195000\", \"uid\": \"2WqEZaCDo0Yu\", \"isFirst\": false, \"utmSource\": \"other\", \"isRegistered\": \"Non Registered\"}, {\"date\": \"2016-02-01T00:00:00\", \"timestamp\": \"2016-02-01T14:49:04.741000\", \"uid\": \"8nMTY26mROxk\", \"isFirst\": false, \"utmSource\": \"salesmanago\", \"isRegistered\": \"Non Registered\"}, {\"date\": \"2016-02-01T00:00:00\", \"timestamp\": \"2016-02-01T14:52:59.296000\", \"uid\": \"59291967\", \"isFirst\": false, \"utmSource\": \"biznesowe rewolucje\", \"isRegistered\": \"Registered\"}, {\"date\": \"2016-02-01T00:00:00\", \"timestamp\": \"2016-02-01T14:54:04.856000\", \"uid\": \"71490672\", \"isFirst\": false, \"utmSource\": \"biznesowe rewolucje\", \"isRegistered\": \"Registered\"}, {\"date\": \"2016-02-01T00:00:00\", \"timestamp\": \"2016-02-01T14:54:42.454000\", \"uid\": \"LoCnT6khwSUY\", \"isFirst\": false, \"utmSource\": \"biznesowe rewolucje\", \"isRegistered\": \"Non Registered\"}, {\"date\": \"2016-02-01T00:00:00\", \"timestamp\": \"2016-02-01T14:55:12.172000\", \"uid\": \"67517582\", \"isFirst\": false, \"utmSource\": \"shmoop\", \"isRegistered\": \"Registered\"}, {\"date\": \"2016-02-01T00:00:00\", \"timestamp\": \"2016-02-01T14:57:34.163000\", \"uid\": \"63831912\", \"isFirst\": false, \"utmSource\": \"program\", \"isRegistered\": \"Registered\"}, {\"date\": \"2016-02-01T00:00:00\", \"timestamp\": \"2016-02-01T14:59:10.850000\", \"uid\": \"qVnTTbynhDFv\", \"isFirst\": false, \"utmSource\": \"biznesowe rewolucje\", \"isRegistered\": \"Non Registered\"}, {\"date\": \"2016-02-01T00:00:00\", \"timestamp\": \"2016-02-01T14:59:11\", \"uid\": \"jTnnmjwzbR3r\", \"isFirst\": false, \"utmSource\": \"program\", \"isRegistered\": \"Non Registered\"}, {\"date\": \"2016-02-01T00:00:00\", \"timestamp\": \"2016-02-01T15:03:18.094000\", \"uid\": \"XImxaMfZIeOj\", \"isFirst\": false, \"utmSource\": \"shmoop\", \"isRegistered\": \"Non Registered\"}, {\"date\": \"2016-02-01T00:00:00\", \"timestamp\": \"2016-02-01T15:04:19.870000\", \"uid\": \"uLQ3Lpl71BIq\", \"isFirst\": false, \"utmSource\": \"biznesowe rewolucje\", \"isRegistered\": \"Non Registered\"}, {\"date\": \"2016-02-01T00:00:00\", \"timestamp\": \"2016-02-01T15:05:15.653000\", \"uid\": \"cRVR8qmrhhvC\", \"isFirst\": false, \"utmSource\": \"program\", \"isRegistered\": \"Non Registered\"}, {\"date\": \"2016-02-01T00:00:00\", \"timestamp\": \"2016-02-01T15:06:24.150000\", \"uid\": \"63753542\", \"isFirst\": false, \"utmSource\": \"biznesowe rewolucje\", \"isRegistered\": \"Registered\"}, {\"date\": \"2016-02-01T00:00:00\", \"timestamp\": \"2016-02-01T15:06:29.768000\", \"uid\": \"tgi1evZOkovL\", \"isFirst\": false, \"utmSource\": \"biznesowe rewolucje\", \"isRegistered\": \"Non Registered\"}, {\"date\": \"2016-02-01T00:00:00\", \"timestamp\": \"2016-02-01T15:07:28.156000\", \"uid\": \"HjvF9ww2ivbQ\", \"isFirst\": false, \"utmSource\": \"salesmanago\", \"isRegistered\": \"Non Registered\"}, {\"date\": \"2016-02-01T00:00:00\", \"timestamp\": \"2016-02-01T15:08:41.224000\", \"uid\": \"51953715\", \"isFirst\": false, \"utmSource\": \"biznesowe rewolucje\", \"isRegistered\": \"Registered\"}, {\"date\": \"2016-02-01T00:00:00\", \"timestamp\": \"2016-02-01T15:09:05.951000\", \"uid\": \"kDgoiQjBZqFa\", \"isFirst\": false, \"utmSource\": \"shmoop\", \"isRegistered\": \"Non Registered\"}, {\"date\": \"2016-02-01T00:00:00\", \"timestamp\": \"2016-02-01T15:12:56.049000\", \"uid\": \"1fK0uq5Cpbjp\", \"isFirst\": false, \"utmSource\": \"shmoop\", \"isRegistered\": \"Non Registered\"}, {\"date\": \"2016-02-01T00:00:00\", \"timestamp\": \"2016-02-01T15:13:16.853000\", \"uid\": \"76137953\", \"isFirst\": false, \"utmSource\": \"shmoop\", \"isRegistered\": \"Registered\"}, {\"date\": \"2016-02-01T00:00:00\", \"timestamp\": \"2016-02-01T15:23:34.499000\", \"uid\": \"gMg7cHoTe07n\", \"isFirst\": false, \"utmSource\": \"biznesowe rewolucje\", \"isRegistered\": \"Non Registered\"}, {\"date\": \"2016-02-01T00:00:00\", \"timestamp\": \"2016-02-01T15:32:10.255000\", \"uid\": \"zB4M1DIym0DN\", \"isFirst\": false, \"utmSource\": \"shmoop\", \"isRegistered\": \"Non Registered\"}, {\"date\": \"2016-02-01T00:00:00\", \"timestamp\": \"2016-02-01T15:33:28.885000\", \"uid\": \"64593389\", \"isFirst\": false, \"utmSource\": \"program\", \"isRegistered\": \"Registered\"}, {\"date\": \"2016-02-01T00:00:00\", \"timestamp\": \"2016-02-01T15:37:26.949000\", \"uid\": \"50295964\", \"isFirst\": false, \"utmSource\": \"biznesowe rewolucje\", \"isRegistered\": \"Registered\"}, {\"date\": \"2016-02-01T00:00:00\", \"timestamp\": \"2016-02-01T15:39:16.503000\", \"uid\": \"62761200\", \"isFirst\": false, \"utmSource\": \"shmoop\", \"isRegistered\": \"Registered\"}, {\"date\": \"2016-02-01T00:00:00\", \"timestamp\": \"2016-02-01T15:42:06.245000\", \"uid\": \"lKNE3LGHscjl\", \"isFirst\": false, \"utmSource\": \"program\", \"isRegistered\": \"Non Registered\"}, {\"date\": \"2016-02-01T00:00:00\", \"timestamp\": \"2016-02-01T15:42:28.580000\", \"uid\": \"MEvPtuDtEn7i\", \"isFirst\": false, \"utmSource\": \"other\", \"isRegistered\": \"Non Registered\"}, {\"date\": \"2016-02-01T00:00:00\", \"timestamp\": \"2016-02-01T15:43:49.760000\", \"uid\": \"MQ5hFHCIU6k7\", \"isFirst\": false, \"utmSource\": \"shmoop\", \"isRegistered\": \"Non Registered\"}, {\"date\": \"2016-02-01T00:00:00\", \"timestamp\": \"2016-02-01T15:57:58.050000\", \"uid\": \"67330508\", \"isFirst\": false, \"utmSource\": \"answers\", \"isRegistered\": \"Registered\"}, {\"date\": \"2016-02-01T00:00:00\", \"timestamp\": \"2016-02-01T16:09:14.612000\", \"uid\": \"69237316\", \"isFirst\": false, \"utmSource\": \"mosalingua fr\", \"isRegistered\": \"Registered\"}, {\"date\": \"2016-02-01T00:00:00\", \"timestamp\": \"2016-02-01T16:09:47.843000\", \"uid\": \"76479079\", \"isFirst\": false, \"utmSource\": \"shmoop\", \"isRegistered\": \"Registered\"}, {\"date\": \"2016-02-01T00:00:00\", \"timestamp\": \"2016-02-01T16:17:47.630000\", \"uid\": \"paqerXGXKssu\", \"isFirst\": false, \"utmSource\": \"twitter\", \"isRegistered\": \"Non Registered\"}, {\"date\": \"2016-02-01T00:00:00\", \"timestamp\": \"2016-02-01T16:18:08.353000\", \"uid\": \"71798510\", \"isFirst\": false, \"utmSource\": \"biznesowe rewolucje\", \"isRegistered\": \"Registered\"}, {\"date\": \"2016-02-01T00:00:00\", \"timestamp\": \"2016-02-01T16:19:02.308000\", \"uid\": \"SerWoniWLK6T\", \"isFirst\": false, \"utmSource\": \"biznesowe rewolucje\", \"isRegistered\": \"Non Registered\"}, {\"date\": \"2016-02-01T00:00:00\", \"timestamp\": \"2016-02-01T16:34:16.102000\", \"uid\": \"KDS3yBHpHPbd\", \"isFirst\": false, \"utmSource\": \"biznesowe rewolucje\", \"isRegistered\": \"Non Registered\"}, {\"date\": \"2016-02-01T00:00:00\", \"timestamp\": \"2016-02-01T16:40:20.394000\", \"uid\": \"76724744\", \"isFirst\": false, \"utmSource\": \"biznesowe rewolucje\", \"isRegistered\": \"Registered\"}, {\"date\": \"2016-02-01T00:00:00\", \"timestamp\": \"2016-02-01T16:41:31.552000\", \"uid\": \"gy7GXE516WxI\", \"isFirst\": false, \"utmSource\": \"biznesowe rewolucje\", \"isRegistered\": \"Non Registered\"}, {\"date\": \"2016-02-01T00:00:00\", \"timestamp\": \"2016-02-01T16:41:43.738000\", \"uid\": \"bnVq3fPViMrb\", \"isFirst\": false, \"utmSource\": \"twitter\", \"isRegistered\": \"Non Registered\"}, {\"date\": \"2016-02-01T00:00:00\", \"timestamp\": \"2016-02-01T16:43:31.635000\", \"uid\": \"51046887\", \"isFirst\": false, \"utmSource\": \"biznesowe rewolucje\", \"isRegistered\": \"Registered\"}, {\"date\": \"2016-02-01T00:00:00\", \"timestamp\": \"2016-02-01T16:45:15.756000\", \"uid\": \"79550576\", \"isFirst\": false, \"utmSource\": \"program\", \"isRegistered\": \"Registered\"}, {\"date\": \"2016-02-01T00:00:00\", \"timestamp\": \"2016-02-01T16:48:18.502000\", \"uid\": \"PSI8N5PulmXL\", \"isFirst\": false, \"utmSource\": \"biznesowe rewolucje\", \"isRegistered\": \"Non Registered\"}, {\"date\": \"2016-02-01T00:00:00\", \"timestamp\": \"2016-02-01T17:00:20.125000\", \"uid\": \"Nys8TtuKNjGY\", \"isFirst\": false, \"utmSource\": \"biznesowe rewolucje\", \"isRegistered\": \"Non Registered\"}, {\"date\": \"2016-02-01T00:00:00\", \"timestamp\": \"2016-02-01T17:00:42.818000\", \"uid\": \"x8GpQwITgsxT\", \"isFirst\": false, \"utmSource\": \"salesmanago\", \"isRegistered\": \"Non Registered\"}, {\"date\": \"2016-02-01T00:00:00\", \"timestamp\": \"2016-02-01T17:00:59.067000\", \"uid\": \"OxygPlZ1STEn\", \"isFirst\": false, \"utmSource\": \"grub street\", \"isRegistered\": \"Non Registered\"}, {\"date\": \"2016-02-01T00:00:00\", \"timestamp\": \"2016-02-01T17:04:07.719000\", \"uid\": \"IprftpKrsHCE\", \"isFirst\": false, \"utmSource\": \"program\", \"isRegistered\": \"Non Registered\"}, {\"date\": \"2016-02-01T00:00:00\", \"timestamp\": \"2016-02-01T17:04:23.753000\", \"uid\": \"60826704\", \"isFirst\": false, \"utmSource\": \"twitter\", \"isRegistered\": \"Registered\"}, {\"date\": \"2016-02-01T00:00:00\", \"timestamp\": \"2016-02-01T17:06:04.057000\", \"uid\": \"m15pxKy3kMCR\", \"isFirst\": false, \"utmSource\": \"twitter\", \"isRegistered\": \"Non Registered\"}, {\"date\": \"2016-02-01T00:00:00\", \"timestamp\": \"2016-02-01T17:14:56.507000\", \"uid\": \"55445839\", \"isFirst\": false, \"utmSource\": \"program\", \"isRegistered\": \"Registered\"}, {\"date\": \"2016-02-01T00:00:00\", \"timestamp\": \"2016-02-01T17:23:45.897000\", \"uid\": \"59731736\", \"isFirst\": false, \"utmSource\": \"biznesowe rewolucje\", \"isRegistered\": \"Registered\"}, {\"date\": \"2016-02-01T00:00:00\", \"timestamp\": \"2016-02-01T17:23:50.175000\", \"uid\": \"sZTKmvMYDWtJ\", \"isFirst\": false, \"utmSource\": \"biznesowe rewolucje\", \"isRegistered\": \"Non Registered\"}, {\"date\": \"2016-02-01T00:00:00\", \"timestamp\": \"2016-02-01T17:25:05.549000\", \"uid\": \"SJR8GDPif4TA\", \"isFirst\": false, \"utmSource\": \"program\", \"isRegistered\": \"Non Registered\"}, {\"date\": \"2016-02-01T00:00:00\", \"timestamp\": \"2016-02-01T17:26:01.804000\", \"uid\": \"1y8UkNaMpd4F\", \"isFirst\": false, \"utmSource\": \"tapjoy\", \"isRegistered\": \"Non Registered\"}, {\"date\": \"2016-02-01T00:00:00\", \"timestamp\": \"2016-02-01T17:27:08.497000\", \"uid\": \"74156530\", \"isFirst\": false, \"utmSource\": \"program\", \"isRegistered\": \"Registered\"}, {\"date\": \"2016-02-01T00:00:00\", \"timestamp\": \"2016-02-01T17:31:53.744000\", \"uid\": \"CXCxakgQslSM\", \"isFirst\": false, \"utmSource\": \"biznesowe rewolucje\", \"isRegistered\": \"Non Registered\"}, {\"date\": \"2016-02-01T00:00:00\", \"timestamp\": \"2016-02-01T17:40:23.549000\", \"uid\": \"50911931\", \"isFirst\": false, \"utmSource\": \"program\", \"isRegistered\": \"Registered\"}, {\"date\": \"2016-02-01T00:00:00\", \"timestamp\": \"2016-02-01T17:44:54.169000\", \"uid\": \"DSksjPXVUwym\", \"isFirst\": false, \"utmSource\": \"biznesowe rewolucje\", \"isRegistered\": \"Non Registered\"}, {\"date\": \"2016-02-01T00:00:00\", \"timestamp\": \"2016-02-01T17:51:09.155000\", \"uid\": \"57924403\", \"isFirst\": false, \"utmSource\": \"biznesowe rewolucje\", \"isRegistered\": \"Registered\"}, {\"date\": \"2016-02-01T00:00:00\", \"timestamp\": \"2016-02-01T17:52:42.635000\", \"uid\": \"64665744\", \"isFirst\": false, \"utmSource\": \"biznesowe rewolucje\", \"isRegistered\": \"Registered\"}, {\"date\": \"2016-02-01T00:00:00\", \"timestamp\": \"2016-02-01T18:02:06.708000\", \"uid\": \"vcRDNoJNWKSK\", \"isFirst\": false, \"utmSource\": \"biznesowe rewolucje\", \"isRegistered\": \"Non Registered\"}, {\"date\": \"2016-02-01T00:00:00\", \"timestamp\": \"2016-02-01T18:04:24.098000\", \"uid\": \"5TcIcyFG6Ltk\", \"isFirst\": false, \"utmSource\": \"program\", \"isRegistered\": \"Non Registered\"}, {\"date\": \"2016-02-01T00:00:00\", \"timestamp\": \"2016-02-01T18:12:29.105000\", \"uid\": \"2Mv6AxF1kXH9\", \"isFirst\": false, \"utmSource\": \"biznesowe rewolucje\", \"isRegistered\": \"Non Registered\"}, {\"date\": \"2016-02-01T00:00:00\", \"timestamp\": \"2016-02-01T18:18:43.527000\", \"uid\": \"F12zAkkYnwBz\", \"isFirst\": false, \"utmSource\": \"program\", \"isRegistered\": \"Non Registered\"}, {\"date\": \"2016-02-01T00:00:00\", \"timestamp\": \"2016-02-01T18:18:48.713000\", \"uid\": \"sE8T1mS3Sfpb\", \"isFirst\": false, \"utmSource\": \"shmoop\", \"isRegistered\": \"Non Registered\"}, {\"date\": \"2016-02-01T00:00:00\", \"timestamp\": \"2016-02-01T18:21:58.766000\", \"uid\": \"8TTQcsUd4XH6\", \"isFirst\": false, \"utmSource\": \"shmoop\", \"isRegistered\": \"Non Registered\"}, {\"date\": \"2016-02-01T00:00:00\", \"timestamp\": \"2016-02-01T18:26:52.885000\", \"uid\": \"Ohycgp7RYcGe\", \"isFirst\": false, \"utmSource\": \"twitter\", \"isRegistered\": \"Non Registered\"}, {\"date\": \"2016-02-01T00:00:00\", \"timestamp\": \"2016-02-01T18:35:23.934000\", \"uid\": \"gW6rtRcPwtjv\", \"isFirst\": false, \"utmSource\": \"other\", \"isRegistered\": \"Non Registered\"}, {\"date\": \"2016-02-01T00:00:00\", \"timestamp\": \"2016-02-01T18:53:33.538000\", \"uid\": \"W9as7zZ4vTff\", \"isFirst\": false, \"utmSource\": \"shmoop\", \"isRegistered\": \"Non Registered\"}, {\"date\": \"2016-02-01T00:00:00\", \"timestamp\": \"2016-02-01T19:00:31.729000\", \"uid\": \"LDdD1cjOJPpz\", \"isFirst\": false, \"utmSource\": \"program\", \"isRegistered\": \"Non Registered\"}, {\"date\": \"2016-02-01T00:00:00\", \"timestamp\": \"2016-02-01T19:04:47.931000\", \"uid\": \"72987598\", \"isFirst\": false, \"utmSource\": \"other\", \"isRegistered\": \"Registered\"}, {\"date\": \"2016-02-01T00:00:00\", \"timestamp\": \"2016-02-01T19:13:56.640000\", \"uid\": \"ruxOtZuhyjeK\", \"isFirst\": false, \"utmSource\": \"mosalingua fr\", \"isRegistered\": \"Non Registered\"}, {\"date\": \"2016-02-01T00:00:00\", \"timestamp\": \"2016-02-01T19:21:14.088000\", \"uid\": \"50475338\", \"isFirst\": false, \"utmSource\": \"salesmanago\", \"isRegistered\": \"Registered\"}, {\"date\": \"2016-02-01T00:00:00\", \"timestamp\": \"2016-02-01T19:21:45.930000\", \"uid\": \"kJvcvV3fZpU6\", \"isFirst\": false, \"utmSource\": \"shmoop\", \"isRegistered\": \"Non Registered\"}, {\"date\": \"2016-02-01T00:00:00\", \"timestamp\": \"2016-02-01T19:27:38.858000\", \"uid\": \"51050453\", \"isFirst\": false, \"utmSource\": \"biznesowe rewolucje\", \"isRegistered\": \"Registered\"}, {\"date\": \"2016-02-01T00:00:00\", \"timestamp\": \"2016-02-01T19:34:39.038000\", \"uid\": \"55629027\", \"isFirst\": false, \"utmSource\": \"biznesowe rewolucje\", \"isRegistered\": \"Registered\"}, {\"date\": \"2016-02-01T00:00:00\", \"timestamp\": \"2016-02-01T19:37:14.777000\", \"uid\": \"67745748\", \"isFirst\": false, \"utmSource\": \"twitter\", \"isRegistered\": \"Registered\"}, {\"date\": \"2016-02-01T00:00:00\", \"timestamp\": \"2016-02-01T19:40:43.898000\", \"uid\": \"CEmO4yohg96U\", \"isFirst\": false, \"utmSource\": \"biznesowe rewolucje\", \"isRegistered\": \"Non Registered\"}, {\"date\": \"2016-02-01T00:00:00\", \"timestamp\": \"2016-02-01T19:42:12.688000\", \"uid\": \"7lIUpDmUED60\", \"isFirst\": false, \"utmSource\": \"biznesowe rewolucje\", \"isRegistered\": \"Non Registered\"}, {\"date\": \"2016-02-01T00:00:00\", \"timestamp\": \"2016-02-01T20:01:24.060000\", \"uid\": \"58025793\", \"isFirst\": false, \"utmSource\": \"program\", \"isRegistered\": \"Registered\"}, {\"date\": \"2016-02-01T00:00:00\", \"timestamp\": \"2016-02-01T20:17:33.076000\", \"uid\": \"dOo9BAneDbSP\", \"isFirst\": false, \"utmSource\": \"biznesowe rewolucje\", \"isRegistered\": \"Non Registered\"}, {\"date\": \"2016-02-01T00:00:00\", \"timestamp\": \"2016-02-01T20:19:15.820000\", \"uid\": \"oQbOurgqfoOk\", \"isFirst\": false, \"utmSource\": \"biznesowe rewolucje\", \"isRegistered\": \"Non Registered\"}, {\"date\": \"2016-02-01T00:00:00\", \"timestamp\": \"2016-02-01T20:38:12.647000\", \"uid\": \"75272471\", \"isFirst\": false, \"utmSource\": \"twitter\", \"isRegistered\": \"Registered\"}, {\"date\": \"2016-02-01T00:00:00\", \"timestamp\": \"2016-02-01T20:40:55.116000\", \"uid\": \"rMYlj3C4Wc7r\", \"isFirst\": false, \"utmSource\": \"shmoop\", \"isRegistered\": \"Non Registered\"}, {\"date\": \"2016-02-01T00:00:00\", \"timestamp\": \"2016-02-01T20:48:53.258000\", \"uid\": \"gWNBNtfb6MhK\", \"isFirst\": false, \"utmSource\": \"grub street\", \"isRegistered\": \"Non Registered\"}, {\"date\": \"2016-02-01T00:00:00\", \"timestamp\": \"2016-02-01T20:50:18.179000\", \"uid\": \"mVHG7s4nUU5u\", \"isFirst\": false, \"utmSource\": \"biznesowe rewolucje\", \"isRegistered\": \"Non Registered\"}, {\"date\": \"2016-02-01T00:00:00\", \"timestamp\": \"2016-02-01T21:00:11.270000\", \"uid\": \"vYCP1FRXUtec\", \"isFirst\": false, \"utmSource\": \"biznesowe rewolucje\", \"isRegistered\": \"Non Registered\"}, {\"date\": \"2016-02-01T00:00:00\", \"timestamp\": \"2016-02-01T21:01:14.282000\", \"uid\": \"bL15PlpTQZ2G\", \"isFirst\": false, \"utmSource\": \"shmoop\", \"isRegistered\": \"Non Registered\"}, {\"date\": \"2016-02-01T00:00:00\", \"timestamp\": \"2016-02-01T21:15:44.423000\", \"uid\": \"tKcat7O65YFQ\", \"isFirst\": false, \"utmSource\": \"biznesowe rewolucje\", \"isRegistered\": \"Non Registered\"}, {\"date\": \"2016-02-01T00:00:00\", \"timestamp\": \"2016-02-01T21:28:39.092000\", \"uid\": \"60423622\", \"isFirst\": false, \"utmSource\": \"shmoop\", \"isRegistered\": \"Registered\"}, {\"date\": \"2016-02-01T00:00:00\", \"timestamp\": \"2016-02-01T21:28:49.287000\", \"uid\": \"ePV0YjvZjEfH\", \"isFirst\": false, \"utmSource\": \"shmoop\", \"isRegistered\": \"Non Registered\"}, {\"date\": \"2016-02-01T00:00:00\", \"timestamp\": \"2016-02-01T21:36:47.404000\", \"uid\": \"61093071\", \"isFirst\": false, \"utmSource\": \"shmoop\", \"isRegistered\": \"Registered\"}, {\"date\": \"2016-02-01T00:00:00\", \"timestamp\": \"2016-02-01T21:48:33.235000\", \"uid\": \"KvyOEsCG5ESO\", \"isFirst\": false, \"utmSource\": \"biznesowe rewolucje\", \"isRegistered\": \"Non Registered\"}, {\"date\": \"2016-02-01T00:00:00\", \"timestamp\": \"2016-02-01T21:50:37.802000\", \"uid\": \"hbbDhi8Paicf\", \"isFirst\": false, \"utmSource\": \"shmoop\", \"isRegistered\": \"Non Registered\"}, {\"date\": \"2016-02-01T00:00:00\", \"timestamp\": \"2016-02-01T21:59:39.912000\", \"uid\": \"8GQ2hFMVLXds\", \"isFirst\": false, \"utmSource\": \"biznesowe rewolucje\", \"isRegistered\": \"Non Registered\"}, {\"date\": \"2016-02-01T00:00:00\", \"timestamp\": \"2016-02-01T22:07:21.786000\", \"uid\": \"qIyCHzwbxMSW\", \"isFirst\": false, \"utmSource\": \"biznesowe rewolucje\", \"isRegistered\": \"Non Registered\"}, {\"date\": \"2016-02-01T00:00:00\", \"timestamp\": \"2016-02-01T22:11:25.833000\", \"uid\": \"zSgvszKaSbLL\", \"isFirst\": false, \"utmSource\": \"program\", \"isRegistered\": \"Non Registered\"}, {\"date\": \"2016-02-01T00:00:00\", \"timestamp\": \"2016-02-01T22:12:23.652000\", \"uid\": \"58309850\", \"isFirst\": false, \"utmSource\": \"other\", \"isRegistered\": \"Registered\"}, {\"date\": \"2016-02-01T00:00:00\", \"timestamp\": \"2016-02-01T22:19:19.511000\", \"uid\": \"bOFUETcIkUuA\", \"isFirst\": true, \"utmSource\": \"program\", \"isRegistered\": \"Non Registered\"}, {\"date\": \"2016-02-01T00:00:00\", \"timestamp\": \"2016-02-01T22:25:16.533000\", \"uid\": \"VePcbWbToGQv\", \"isFirst\": false, \"utmSource\": \"grub street\", \"isRegistered\": \"Non Registered\"}, {\"date\": \"2016-02-01T00:00:00\", \"timestamp\": \"2016-02-01T22:25:58.857000\", \"uid\": \"5xm01bGLbcP5\", \"isFirst\": false, \"utmSource\": \"biznesowe rewolucje\", \"isRegistered\": \"Non Registered\"}, {\"date\": \"2016-02-01T00:00:00\", \"timestamp\": \"2016-02-01T22:30:00.571000\", \"uid\": \"77343029\", \"isFirst\": false, \"utmSource\": \"biznesowe rewolucje\", \"isRegistered\": \"Registered\"}, {\"date\": \"2016-02-01T00:00:00\", \"timestamp\": \"2016-02-01T22:47:46.561000\", \"uid\": \"ulSF9vOoaCtr\", \"isFirst\": false, \"utmSource\": \"biznesowe rewolucje\", \"isRegistered\": \"Non Registered\"}, {\"date\": \"2016-02-01T00:00:00\", \"timestamp\": \"2016-02-01T22:57:23.506000\", \"uid\": \"0LmNeNlCVRl5\", \"isFirst\": false, \"utmSource\": \"salesmanago\", \"isRegistered\": \"Non Registered\"}, {\"date\": \"2016-02-01T00:00:00\", \"timestamp\": \"2016-02-01T22:59:42.223000\", \"uid\": \"jrkzuCwY1vcK\", \"isFirst\": false, \"utmSource\": \"grub street\", \"isRegistered\": \"Non Registered\"}, {\"date\": \"2016-02-01T00:00:00\", \"timestamp\": \"2016-02-01T23:13:02.018000\", \"uid\": \"73576732\", \"isFirst\": false, \"utmSource\": \"twitter\", \"isRegistered\": \"Registered\"}, {\"date\": \"2016-02-01T00:00:00\", \"timestamp\": \"2016-02-01T23:21:22.529000\", \"uid\": \"56945030\", \"isFirst\": false, \"utmSource\": \"tapjoy\", \"isRegistered\": \"Registered\"}, {\"date\": \"2016-02-01T00:00:00\", \"timestamp\": \"2016-02-01T23:34:31.057000\", \"uid\": \"69354846\", \"isFirst\": false, \"utmSource\": \"shmoop\", \"isRegistered\": \"Registered\"}, {\"date\": \"2016-02-01T00:00:00\", \"timestamp\": \"2016-02-01T23:37:25.171000\", \"uid\": \"nOCLz7BphGcG\", \"isFirst\": false, \"utmSource\": \"program\", \"isRegistered\": \"Non Registered\"}, {\"date\": \"2016-02-01T00:00:00\", \"timestamp\": \"2016-02-01T23:39:25.041000\", \"uid\": \"57359595\", \"isFirst\": false, \"utmSource\": \"program\", \"isRegistered\": \"Registered\"}, {\"date\": \"2016-02-01T00:00:00\", \"timestamp\": \"2016-02-01T23:58:50.387000\", \"uid\": \"YENz76c1MM3g\", \"isFirst\": false, \"utmSource\": \"biznesowe rewolucje\", \"isRegistered\": \"Non Registered\"}, {\"date\": \"2016-02-01T00:00:00\", \"timestamp\": \"2016-02-02T00:11:02.960000\", \"uid\": \"isNbP6aySzPs\", \"isFirst\": false, \"utmSource\": \"program\", \"isRegistered\": \"Non Registered\"}, {\"date\": \"2016-02-01T00:00:00\", \"timestamp\": \"2016-02-02T00:19:06.950000\", \"uid\": \"1oUMVyJo3JuX\", \"isFirst\": false, \"utmSource\": \"biznesowe rewolucje\", \"isRegistered\": \"Non Registered\"}, {\"date\": \"2016-02-01T00:00:00\", \"timestamp\": \"2016-02-02T00:34:14.798000\", \"uid\": \"SGqAD3L1Nv2p\", \"isFirst\": false, \"utmSource\": \"biznesowe rewolucje\", \"isRegistered\": \"Non Registered\"}, {\"date\": \"2016-02-01T00:00:00\", \"timestamp\": \"2016-02-02T00:39:31.721000\", \"uid\": \"xEjsyD2eAzNx\", \"isFirst\": false, \"utmSource\": \"biznesowe rewolucje\", \"isRegistered\": \"Non Registered\"}, {\"date\": \"2016-02-01T00:00:00\", \"timestamp\": \"2016-02-02T00:45:23.056000\", \"uid\": \"nJl2EemxXWUS\", \"isFirst\": false, \"utmSource\": \"biznesowe rewolucje\", \"isRegistered\": \"Non Registered\"}, {\"date\": \"2016-02-01T00:00:00\", \"timestamp\": \"2016-02-02T00:55:40.431000\", \"uid\": \"59736123\", \"isFirst\": false, \"utmSource\": \"shmoop\", \"isRegistered\": \"Registered\"}, {\"date\": \"2016-02-01T00:00:00\", \"timestamp\": \"2016-02-02T00:56:06.212000\", \"uid\": \"BHnjL2aRPM3z\", \"isFirst\": false, \"utmSource\": \"biznesowe rewolucje\", \"isRegistered\": \"Non Registered\"}, {\"date\": \"2016-02-01T00:00:00\", \"timestamp\": \"2016-02-02T01:11:38.839000\", \"uid\": \"50233656\", \"isFirst\": false, \"utmSource\": \"program\", \"isRegistered\": \"Registered\"}, {\"date\": \"2016-02-01T00:00:00\", \"timestamp\": \"2016-02-02T01:45:53.058000\", \"uid\": \"SuH15oLuHfXf\", \"isFirst\": false, \"utmSource\": \"biznesowe rewolucje\", \"isRegistered\": \"Non Registered\"}, {\"date\": \"2016-02-01T00:00:00\", \"timestamp\": \"2016-02-02T01:56:22.195000\", \"uid\": \"74129670\", \"isFirst\": false, \"utmSource\": \"program\", \"isRegistered\": \"Registered\"}, {\"date\": \"2016-02-01T00:00:00\", \"timestamp\": \"2016-02-02T02:10:38.651000\", \"uid\": \"pDJouxv0NhmR\", \"isFirst\": false, \"utmSource\": \"biznesowe rewolucje\", \"isRegistered\": \"Non Registered\"}, {\"date\": \"2016-02-01T00:00:00\", \"timestamp\": \"2016-02-02T02:12:17.489000\", \"uid\": \"GC8HiBGUkKWF\", \"isFirst\": false, \"utmSource\": \"biznesowe rewolucje\", \"isRegistered\": \"Non Registered\"}, {\"date\": \"2016-02-01T00:00:00\", \"timestamp\": \"2016-02-02T02:22:28.937000\", \"uid\": \"60927011\", \"isFirst\": false, \"utmSource\": \"biznesowe rewolucje\", \"isRegistered\": \"Registered\"}, {\"date\": \"2016-02-01T00:00:00\", \"timestamp\": \"2016-02-02T02:22:50.836000\", \"uid\": \"64580840\", \"isFirst\": false, \"utmSource\": \"shmoop\", \"isRegistered\": \"Registered\"}, {\"date\": \"2016-02-01T00:00:00\", \"timestamp\": \"2016-02-02T02:23:44.816000\", \"uid\": \"55650432\", \"isFirst\": false, \"utmSource\": \"biznesowe rewolucje\", \"isRegistered\": \"Registered\"}, {\"date\": \"2016-02-01T00:00:00\", \"timestamp\": \"2016-02-02T02:30:25.337000\", \"uid\": \"iOxU7fSET5An\", \"isFirst\": false, \"utmSource\": \"twitter\", \"isRegistered\": \"Non Registered\"}, {\"date\": \"2016-02-01T00:00:00\", \"timestamp\": \"2016-02-02T03:02:50.372000\", \"uid\": \"lfFpCbY1d6BH\", \"isFirst\": false, \"utmSource\": \"shmoop\", \"isRegistered\": \"Non Registered\"}, {\"date\": \"2016-02-01T00:00:00\", \"timestamp\": \"2016-02-02T03:05:06.786000\", \"uid\": \"64334066\", \"isFirst\": false, \"utmSource\": \"biznesowe rewolucje\", \"isRegistered\": \"Registered\"}, {\"date\": \"2016-02-01T00:00:00\", \"timestamp\": \"2016-02-02T03:41:38.946000\", \"uid\": \"O6tb0jjTOY0H\", \"isFirst\": false, \"utmSource\": \"twitter\", \"isRegistered\": \"Non Registered\"}, {\"date\": \"2016-02-01T00:00:00\", \"timestamp\": \"2016-02-02T04:12:47.553000\", \"uid\": \"SvhuJDwceEo5\", \"isFirst\": false, \"utmSource\": \"shmoop\", \"isRegistered\": \"Non Registered\"}, {\"date\": \"2016-02-01T00:00:00\", \"timestamp\": \"2016-02-02T04:23:31.790000\", \"uid\": \"aNxBnJcFSLIf\", \"isFirst\": false, \"utmSource\": \"biznesowe rewolucje\", \"isRegistered\": \"Non Registered\"}, {\"date\": \"2016-02-01T00:00:00\", \"timestamp\": \"2016-02-02T04:41:37.746000\", \"uid\": \"vE8i3EXHEN0t\", \"isFirst\": false, \"utmSource\": \"biznesowe rewolucje\", \"isRegistered\": \"Non Registered\"}, {\"date\": \"2016-02-01T00:00:00\", \"timestamp\": \"2016-02-02T04:49:29.978000\", \"uid\": \"s6FlCIODV3oR\", \"isFirst\": false, \"utmSource\": \"program\", \"isRegistered\": \"Non Registered\"}, {\"date\": \"2016-02-01T00:00:00\", \"timestamp\": \"2016-02-02T05:31:52.701000\", \"uid\": \"qUTQIcQn886h\", \"isFirst\": false, \"utmSource\": \"biznesowe rewolucje\", \"isRegistered\": \"Non Registered\"}, {\"date\": \"2016-02-01T00:00:00\", \"timestamp\": \"2016-02-02T05:56:56.222000\", \"uid\": \"61622191\", \"isFirst\": false, \"utmSource\": \"program\", \"isRegistered\": \"Registered\"}, {\"date\": \"2016-02-01T00:00:00\", \"timestamp\": \"2016-02-02T06:08:47.049000\", \"uid\": \"66150978\", \"isFirst\": false, \"utmSource\": \"program\", \"isRegistered\": \"Registered\"}, {\"date\": \"2016-02-01T00:00:00\", \"timestamp\": \"2016-02-02T06:38:46.302000\", \"uid\": \"qR7mqOk4Ixmt\", \"isFirst\": false, \"utmSource\": \"shmoop\", \"isRegistered\": \"Non Registered\"}, {\"date\": \"2016-02-01T00:00:00\", \"timestamp\": \"2016-02-02T07:06:24.902000\", \"uid\": \"BDNzketFuwdF\", \"isFirst\": false, \"utmSource\": \"other\", \"isRegistered\": \"Non Registered\"}, {\"date\": \"2016-02-02T00:00:00\", \"timestamp\": \"2016-02-02T08:43:15.482000\", \"uid\": \"70191535\", \"isFirst\": false, \"utmSource\": \"program\", \"isRegistered\": \"Registered\"}, {\"date\": \"2016-02-02T00:00:00\", \"timestamp\": \"2016-02-02T09:58:16.512000\", \"uid\": \"yuc2fL1z1cYR\", \"isFirst\": false, \"utmSource\": \"program\", \"isRegistered\": \"Non Registered\"}, {\"date\": \"2016-02-02T00:00:00\", \"timestamp\": \"2016-02-02T11:33:17.851000\", \"uid\": \"6tfwFqaSlWbw\", \"isFirst\": false, \"utmSource\": \"biznesowe rewolucje\", \"isRegistered\": \"Non Registered\"}, {\"date\": \"2016-02-02T00:00:00\", \"timestamp\": \"2016-02-02T13:23:43.640000\", \"uid\": \"BCxtgS3a45By\", \"isFirst\": false, \"utmSource\": \"twitter\", \"isRegistered\": \"Non Registered\"}, {\"date\": \"2016-02-02T00:00:00\", \"timestamp\": \"2016-02-02T13:55:16.693000\", \"uid\": \"52439308\", \"isFirst\": false, \"utmSource\": \"biznesowe rewolucje\", \"isRegistered\": \"Registered\"}, {\"date\": \"2016-02-02T00:00:00\", \"timestamp\": \"2016-02-02T14:38:16.686000\", \"uid\": \"atNeQ15HMaxq\", \"isFirst\": false, \"utmSource\": \"biznesowe rewolucje\", \"isRegistered\": \"Non Registered\"}, {\"date\": \"2016-02-02T00:00:00\", \"timestamp\": \"2016-02-02T16:26:40.497000\", \"uid\": \"xIWaLySwwBb1\", \"isFirst\": false, \"utmSource\": \"biznesowe rewolucje\", \"isRegistered\": \"Non Registered\"}, {\"date\": \"2016-02-02T00:00:00\", \"timestamp\": \"2016-02-02T16:37:30.197000\", \"uid\": \"60800543\", \"isFirst\": false, \"utmSource\": \"biznesowe rewolucje\", \"isRegistered\": \"Registered\"}, {\"date\": \"2016-02-02T00:00:00\", \"timestamp\": \"2016-02-02T17:55:29.111000\", \"uid\": \"UZTIGw3KbSY8\", \"isFirst\": false, \"utmSource\": \"biznesowe rewolucje\", \"isRegistered\": \"Non Registered\"}, {\"date\": \"2016-02-02T00:00:00\", \"timestamp\": \"2016-02-02T18:05:35.664000\", \"uid\": \"64222754\", \"isFirst\": false, \"utmSource\": \"program\", \"isRegistered\": \"Registered\"}, {\"date\": \"2016-02-02T00:00:00\", \"timestamp\": \"2016-02-02T18:11:56.911000\", \"uid\": \"53338525\", \"isFirst\": false, \"utmSource\": \"biznesowe rewolucje\", \"isRegistered\": \"Registered\"}, {\"date\": \"2016-02-02T00:00:00\", \"timestamp\": \"2016-02-02T19:26:45.708000\", \"uid\": \"79644593\", \"isFirst\": false, \"utmSource\": \"program\", \"isRegistered\": \"Registered\"}, {\"date\": \"2016-02-02T00:00:00\", \"timestamp\": \"2016-02-02T21:13:54.682000\", \"uid\": \"mOgAllHawOyc\", \"isFirst\": false, \"utmSource\": \"shmoop\", \"isRegistered\": \"Non Registered\"}, {\"date\": \"2016-02-02T00:00:00\", \"timestamp\": \"2016-02-02T22:53:31.969000\", \"uid\": \"aRSWbWoC3iG7\", \"isFirst\": false, \"utmSource\": \"biznesowe rewolucje\", \"isRegistered\": \"Non Registered\"}, {\"date\": \"2016-02-02T00:00:00\", \"timestamp\": \"2016-02-02T23:10:04.054000\", \"uid\": \"G7aHVKvD3FSL\", \"isFirst\": false, \"utmSource\": \"program\", \"isRegistered\": \"Non Registered\"}, {\"date\": \"2016-02-02T00:00:00\", \"timestamp\": \"2016-02-03T00:03:46.180000\", \"uid\": \"77271541\", \"isFirst\": false, \"utmSource\": \"program\", \"isRegistered\": \"Registered\"}, {\"date\": \"2016-02-02T00:00:00\", \"timestamp\": \"2016-02-03T00:06:07.691000\", \"uid\": \"GChTnlYvX9r1\", \"isFirst\": false, \"utmSource\": \"biznesowe rewolucje\", \"isRegistered\": \"Non Registered\"}, {\"date\": \"2016-02-02T00:00:00\", \"timestamp\": \"2016-02-03T00:20:10.116000\", \"uid\": \"NZbmi4LdEZou\", \"isFirst\": false, \"utmSource\": \"twitter\", \"isRegistered\": \"Non Registered\"}, {\"date\": \"2016-02-02T00:00:00\", \"timestamp\": \"2016-02-03T00:52:07.310000\", \"uid\": \"8GJFpQ967QPP\", \"isFirst\": false, \"utmSource\": \"program\", \"isRegistered\": \"Non Registered\"}, {\"date\": \"2016-02-02T00:00:00\", \"timestamp\": \"2016-02-03T01:44:44.925000\", \"uid\": \"73NYFmqISAiv\", \"isFirst\": false, \"utmSource\": \"shmoop\", \"isRegistered\": \"Non Registered\"}, {\"date\": \"2016-02-02T00:00:00\", \"timestamp\": \"2016-02-03T02:30:55.524000\", \"uid\": \"glF4siUJKG8a\", \"isFirst\": false, \"utmSource\": \"program\", \"isRegistered\": \"Non Registered\"}, {\"date\": \"2016-02-02T00:00:00\", \"timestamp\": \"2016-02-03T02:54:43.917000\", \"uid\": \"64079799\", \"isFirst\": false, \"utmSource\": \"biznesowe rewolucje\", \"isRegistered\": \"Registered\"}, {\"date\": \"2016-02-02T00:00:00\", \"timestamp\": \"2016-02-03T03:04:33.725000\", \"uid\": \"rDBoKuN5tcAE\", \"isFirst\": false, \"utmSource\": \"biznesowe rewolucje\", \"isRegistered\": \"Non Registered\"}, {\"date\": \"2016-02-02T00:00:00\", \"timestamp\": \"2016-02-03T03:57:58.805000\", \"uid\": \"V72QxkTJQhbw\", \"isFirst\": false, \"utmSource\": \"biznesowe rewolucje\", \"isRegistered\": \"Non Registered\"}, {\"date\": \"2016-02-02T00:00:00\", \"timestamp\": \"2016-02-03T04:24:01.466000\", \"uid\": \"77782442\", \"isFirst\": false, \"utmSource\": \"grub street\", \"isRegistered\": \"Registered\"}, {\"date\": \"2016-02-02T00:00:00\", \"timestamp\": \"2016-02-03T06:00:02.896000\", \"uid\": \"3XSmxF9tlU6X\", \"isFirst\": false, \"utmSource\": \"program\", \"isRegistered\": \"Non Registered\"}, {\"date\": \"2016-02-02T00:00:00\", \"timestamp\": \"2016-02-03T07:53:20.179000\", \"uid\": \"rLYPIMPZm9gQ\", \"isFirst\": false, \"utmSource\": \"biznesowe rewolucje\", \"isRegistered\": \"Non Registered\"}, {\"date\": \"2016-02-03T00:00:00\", \"timestamp\": \"2016-02-03T09:41:34.159000\", \"uid\": \"SU6w2oTU5w8E\", \"isFirst\": false, \"utmSource\": \"biznesowe rewolucje\", \"isRegistered\": \"Non Registered\"}, {\"date\": \"2016-02-03T00:00:00\", \"timestamp\": \"2016-02-03T13:50:42.232000\", \"uid\": \"8ymLN0CUsq9x\", \"isFirst\": false, \"utmSource\": \"program\", \"isRegistered\": \"Non Registered\"}, {\"date\": \"2016-02-03T00:00:00\", \"timestamp\": \"2016-02-03T16:33:48.390000\", \"uid\": \"B364BXi6aI3R\", \"isFirst\": false, \"utmSource\": \"biznesowe rewolucje\", \"isRegistered\": \"Non Registered\"}, {\"date\": \"2016-02-03T00:00:00\", \"timestamp\": \"2016-02-03T16:42:24.444000\", \"uid\": \"56261915\", \"isFirst\": false, \"utmSource\": \"program\", \"isRegistered\": \"Registered\"}, {\"date\": \"2016-02-03T00:00:00\", \"timestamp\": \"2016-02-03T17:18:04.512000\", \"uid\": \"76723228\", \"isFirst\": false, \"utmSource\": \"biznesowe rewolucje\", \"isRegistered\": \"Registered\"}, {\"date\": \"2016-02-03T00:00:00\", \"timestamp\": \"2016-02-03T17:23:35.880000\", \"uid\": \"pcdY5EJ7NpUx\", \"isFirst\": false, \"utmSource\": \"biznesowe rewolucje\", \"isRegistered\": \"Non Registered\"}, {\"date\": \"2016-02-03T00:00:00\", \"timestamp\": \"2016-02-03T17:35:59.568000\", \"uid\": \"5JQJb9loS8Wi\", \"isFirst\": false, \"utmSource\": \"biznesowe rewolucje\", \"isRegistered\": \"Non Registered\"}, {\"date\": \"2016-02-03T00:00:00\", \"timestamp\": \"2016-02-03T18:51:52.654000\", \"uid\": \"50586255\", \"isFirst\": false, \"utmSource\": \"program\", \"isRegistered\": \"Registered\"}, {\"date\": \"2016-02-03T00:00:00\", \"timestamp\": \"2016-02-03T18:54:49.662000\", \"uid\": \"64583449\", \"isFirst\": false, \"utmSource\": \"biznesowe rewolucje\", \"isRegistered\": \"Registered\"}, {\"date\": \"2016-02-03T00:00:00\", \"timestamp\": \"2016-02-03T20:26:17.481000\", \"uid\": \"v7mBBujC3ITG\", \"isFirst\": false, \"utmSource\": \"biznesowe rewolucje\", \"isRegistered\": \"Non Registered\"}, {\"date\": \"2016-02-03T00:00:00\", \"timestamp\": \"2016-02-03T20:52:58.259000\", \"uid\": \"OCbYYhmdWV5c\", \"isFirst\": false, \"utmSource\": \"biznesowe rewolucje\", \"isRegistered\": \"Non Registered\"}, {\"date\": \"2016-02-03T00:00:00\", \"timestamp\": \"2016-02-03T21:42:41.703000\", \"uid\": \"WwtnHybtE8qY\", \"isFirst\": false, \"utmSource\": \"salesmanago\", \"isRegistered\": \"Non Registered\"}, {\"date\": \"2016-02-03T00:00:00\", \"timestamp\": \"2016-02-04T00:43:45.711000\", \"uid\": \"QzF0wO6XAM6l\", \"isFirst\": false, \"utmSource\": \"biznesowe rewolucje\", \"isRegistered\": \"Non Registered\"}, {\"date\": \"2016-02-03T00:00:00\", \"timestamp\": \"2016-02-04T01:31:38.388000\", \"uid\": \"8rNwEMO98p86\", \"isFirst\": false, \"utmSource\": \"biznesowe rewolucje\", \"isRegistered\": \"Non Registered\"}, {\"date\": \"2016-02-03T00:00:00\", \"timestamp\": \"2016-02-04T03:57:32.815000\", \"uid\": \"VGIFHDy5RuKt\", \"isFirst\": false, \"utmSource\": \"biznesowe rewolucje\", \"isRegistered\": \"Non Registered\"}, {\"date\": \"2016-02-04T00:00:00\", \"timestamp\": \"2016-02-04T10:23:55.454000\", \"uid\": \"bZahe3bn4wkw\", \"isFirst\": false, \"utmSource\": \"biznesowe rewolucje\", \"isRegistered\": \"Non Registered\"}, {\"date\": \"2016-02-04T00:00:00\", \"timestamp\": \"2016-02-04T17:00:55.474000\", \"uid\": \"rkQsnakjTuh0\", \"isFirst\": false, \"utmSource\": \"biznesowe rewolucje\", \"isRegistered\": \"Non Registered\"}, {\"date\": \"2016-02-04T00:00:00\", \"timestamp\": \"2016-02-04T18:04:08.808000\", \"uid\": \"68485666\", \"isFirst\": false, \"utmSource\": \"biznesowe rewolucje\", \"isRegistered\": \"Registered\"}, {\"date\": \"2016-02-04T00:00:00\", \"timestamp\": \"2016-02-04T18:45:42.763000\", \"uid\": \"NkopwYgCicnF\", \"isFirst\": false, \"utmSource\": \"biznesowe rewolucje\", \"isRegistered\": \"Non Registered\"}, {\"date\": \"2016-02-04T00:00:00\", \"timestamp\": \"2016-02-04T21:55:25.236000\", \"uid\": \"LNijY584PNPv\", \"isFirst\": true, \"utmSource\": \"biznesowe rewolucje\", \"isRegistered\": \"Non Registered\"}, {\"date\": \"2016-02-04T00:00:00\", \"timestamp\": \"2016-02-05T06:09:11.276000\", \"uid\": \"2wZ776Wnifcy\", \"isFirst\": false, \"utmSource\": \"program\", \"isRegistered\": \"Non Registered\"}, {\"date\": \"2016-02-04T00:00:00\", \"timestamp\": \"2016-02-05T07:52:16.665000\", \"uid\": \"Tn1n7zEZvjM4\", \"isFirst\": false, \"utmSource\": \"biznesowe rewolucje\", \"isRegistered\": \"Non Registered\"}, {\"date\": \"2016-02-04T00:00:00\", \"timestamp\": \"2016-02-05T07:58:04.885000\", \"uid\": \"GntsfC3OmExA\", \"isFirst\": false, \"utmSource\": \"mosalingua fr\", \"isRegistered\": \"Non Registered\"}, {\"date\": \"2016-02-05T00:00:00\", \"timestamp\": \"2016-02-05T14:02:36.065000\", \"uid\": \"NWvZx045GiBJ\", \"isFirst\": false, \"utmSource\": \"biznesowe rewolucje\", \"isRegistered\": \"Non Registered\"}, {\"date\": \"2016-02-05T00:00:00\", \"timestamp\": \"2016-02-05T14:59:54.668000\", \"uid\": \"iMiz07K4GQGV\", \"isFirst\": false, \"utmSource\": \"biznesowe rewolucje\", \"isRegistered\": \"Non Registered\"}, {\"date\": \"2016-02-05T00:00:00\", \"timestamp\": \"2016-02-06T00:22:14.835000\", \"uid\": \"P3HxRYO7qwXv\", \"isFirst\": false, \"utmSource\": \"biznesowe rewolucje\", \"isRegistered\": \"Non Registered\"}, {\"date\": \"2016-02-05T00:00:00\", \"timestamp\": \"2016-02-06T00:37:10.556000\", \"uid\": \"Cn9XQl0dW3c3\", \"isFirst\": false, \"utmSource\": \"program\", \"isRegistered\": \"Non Registered\"}, {\"date\": \"2016-02-05T00:00:00\", \"timestamp\": \"2016-02-06T05:18:50.634000\", \"uid\": \"57589179\", \"isFirst\": false, \"utmSource\": \"program\", \"isRegistered\": \"Registered\"}, {\"date\": \"2016-02-06T00:00:00\", \"timestamp\": \"2016-02-06T08:15:46.975000\", \"uid\": \"rUn531hnFO5h\", \"isFirst\": false, \"utmSource\": \"program\", \"isRegistered\": \"Non Registered\"}, {\"date\": \"2016-02-06T00:00:00\", \"timestamp\": \"2016-02-06T09:33:14.209000\", \"uid\": \"58725792\", \"isFirst\": false, \"utmSource\": \"biznesowe rewolucje\", \"isRegistered\": \"Registered\"}, {\"date\": \"2016-02-06T00:00:00\", \"timestamp\": \"2016-02-06T14:55:54.443000\", \"uid\": \"69246307\", \"isFirst\": false, \"utmSource\": \"biznesowe rewolucje\", \"isRegistered\": \"Registered\"}, {\"date\": \"2016-02-06T00:00:00\", \"timestamp\": \"2016-02-06T14:57:41.825000\", \"uid\": \"61235456\", \"isFirst\": false, \"utmSource\": \"biznesowe rewolucje\", \"isRegistered\": \"Registered\"}, {\"date\": \"2016-02-06T00:00:00\", \"timestamp\": \"2016-02-06T15:58:14.754000\", \"uid\": \"57486600\", \"isFirst\": false, \"utmSource\": \"shmoop\", \"isRegistered\": \"Registered\"}, {\"date\": \"2016-02-06T00:00:00\", \"timestamp\": \"2016-02-06T16:19:19.038000\", \"uid\": \"vVGpgOGR53VF\", \"isFirst\": false, \"utmSource\": \"biznesowe rewolucje\", \"isRegistered\": \"Non Registered\"}, {\"date\": \"2016-02-06T00:00:00\", \"timestamp\": \"2016-02-06T16:48:40.646000\", \"uid\": \"Y8DQUaPS5v8B\", \"isFirst\": false, \"utmSource\": \"twitter\", \"isRegistered\": \"Non Registered\"}, {\"date\": \"2016-02-06T00:00:00\", \"timestamp\": \"2016-02-06T16:51:37.559000\", \"uid\": \"64459218\", \"isFirst\": false, \"utmSource\": \"program\", \"isRegistered\": \"Registered\"}, {\"date\": \"2016-02-06T00:00:00\", \"timestamp\": \"2016-02-06T17:41:45.095000\", \"uid\": \"eezkVXMgGzJb\", \"isFirst\": false, \"utmSource\": \"biznesowe rewolucje\", \"isRegistered\": \"Non Registered\"}, {\"date\": \"2016-02-06T00:00:00\", \"timestamp\": \"2016-02-06T21:00:44.313000\", \"uid\": \"8oYYE3DtE23h\", \"isFirst\": false, \"utmSource\": \"shmoop\", \"isRegistered\": \"Non Registered\"}, {\"date\": \"2016-02-06T00:00:00\", \"timestamp\": \"2016-02-07T01:49:01.749000\", \"uid\": \"wqpEpz0m57ro\", \"isFirst\": false, \"utmSource\": \"program\", \"isRegistered\": \"Non Registered\"}, {\"date\": \"2016-02-06T00:00:00\", \"timestamp\": \"2016-02-07T04:37:13.013000\", \"uid\": \"70704780\", \"isFirst\": false, \"utmSource\": \"biznesowe rewolucje\", \"isRegistered\": \"Registered\"}, {\"date\": \"2016-02-07T00:00:00\", \"timestamp\": \"2016-02-07T16:13:53.019000\", \"uid\": \"wF0TSjpr5156\", \"isFirst\": false, \"utmSource\": \"biznesowe rewolucje\", \"isRegistered\": \"Non Registered\"}, {\"date\": \"2016-02-07T00:00:00\", \"timestamp\": \"2016-02-07T18:04:30.685000\", \"uid\": \"hGILo4fJzyAC\", \"isFirst\": false, \"utmSource\": \"program\", \"isRegistered\": \"Non Registered\"}, {\"date\": \"2016-02-07T00:00:00\", \"timestamp\": \"2016-02-07T20:57:20.038000\", \"uid\": \"ZpI3QuiVcdXf\", \"isFirst\": false, \"utmSource\": \"grub street\", \"isRegistered\": \"Non Registered\"}, {\"date\": \"2016-02-08T00:00:00\", \"timestamp\": \"2016-02-08T09:05:52.269000\", \"uid\": \"t1fkzbj44KoO\", \"isFirst\": false, \"utmSource\": \"grub street\", \"isRegistered\": \"Non Registered\"}, {\"date\": \"2016-02-08T00:00:00\", \"timestamp\": \"2016-02-08T16:11:46.217000\", \"uid\": \"62131068\", \"isFirst\": true, \"utmSource\": \"handbook\", \"isRegistered\": \"Registered\"}, {\"date\": \"2016-02-08T00:00:00\", \"timestamp\": \"2016-02-08T16:26:53.794000\", \"uid\": \"qf3HZBeOzoKP\", \"isFirst\": false, \"utmSource\": \"biznesowe rewolucje\", \"isRegistered\": \"Non Registered\"}, {\"date\": \"2016-02-08T00:00:00\", \"timestamp\": \"2016-02-08T17:17:11.415000\", \"uid\": \"67903234\", \"isFirst\": false, \"utmSource\": \"biznesowe rewolucje\", \"isRegistered\": \"Registered\"}, {\"date\": \"2016-02-08T00:00:00\", \"timestamp\": \"2016-02-08T17:58:39.024000\", \"uid\": \"4Nx0d6d641Rm\", \"isFirst\": false, \"utmSource\": \"tapjoy\", \"isRegistered\": \"Non Registered\"}, {\"date\": \"2016-02-08T00:00:00\", \"timestamp\": \"2016-02-08T19:14:36.237000\", \"uid\": \"g0mgDPaY0kcw\", \"isFirst\": false, \"utmSource\": \"other\", \"isRegistered\": \"Non Registered\"}, {\"date\": \"2016-02-08T00:00:00\", \"timestamp\": \"2016-02-08T20:50:43.197000\", \"uid\": \"kszLW8TsXqe1\", \"isFirst\": false, \"utmSource\": \"biznesowe rewolucje\", \"isRegistered\": \"Non Registered\"}, {\"date\": \"2016-02-08T00:00:00\", \"timestamp\": \"2016-02-09T02:09:12.525000\", \"uid\": \"8M7T8QZOHMZE\", \"isFirst\": false, \"utmSource\": \"biznesowe rewolucje\", \"isRegistered\": \"Non Registered\"}, {\"date\": \"2016-02-08T00:00:00\", \"timestamp\": \"2016-02-09T02:42:27.768000\", \"uid\": \"baZ4A1FkYfrJ\", \"isFirst\": true, \"utmSource\": \"biznesowe rewolucje\", \"isRegistered\": \"Non Registered\"}, {\"date\": \"2016-02-09T00:00:00\", \"timestamp\": \"2016-02-09T09:53:28.508000\", \"uid\": \"wyNFzgnXZvsI\", \"isFirst\": true, \"utmSource\": \"biznesowe rewolucje\", \"isRegistered\": \"Non Registered\"}, {\"date\": \"2016-02-09T00:00:00\", \"timestamp\": \"2016-02-09T16:29:19.666000\", \"uid\": \"wf2px3wcf7MV\", \"isFirst\": false, \"utmSource\": \"biznesowe rewolucje\", \"isRegistered\": \"Non Registered\"}, {\"date\": \"2016-02-09T00:00:00\", \"timestamp\": \"2016-02-09T18:51:06.767000\", \"uid\": \"55291945\", \"isFirst\": true, \"utmSource\": \"biznesowe rewolucje\", \"isRegistered\": \"Registered\"}, {\"date\": \"2016-02-09T00:00:00\", \"timestamp\": \"2016-02-09T18:59:14.201000\", \"uid\": \"58191673\", \"isFirst\": false, \"utmSource\": \"program\", \"isRegistered\": \"Registered\"}, {\"date\": \"2016-02-09T00:00:00\", \"timestamp\": \"2016-02-09T23:11:32.844000\", \"uid\": \"IaaYlw9wNR1C\", \"isFirst\": false, \"utmSource\": \"program\", \"isRegistered\": \"Non Registered\"}, {\"date\": \"2016-02-09T00:00:00\", \"timestamp\": \"2016-02-10T05:46:59.612000\", \"uid\": \"59094794\", \"isFirst\": false, \"utmSource\": \"mosalingua fr\", \"isRegistered\": \"Registered\"}, {\"date\": \"2016-02-09T00:00:00\", \"timestamp\": \"2016-02-10T06:15:57.164000\", \"uid\": \"5NimRYB8X1bZ\", \"isFirst\": true, \"utmSource\": \"biznesowe rewolucje\", \"isRegistered\": \"Non Registered\"}, {\"date\": \"2016-02-10T00:00:00\", \"timestamp\": \"2016-02-10T14:48:57.690000\", \"uid\": \"68167927\", \"isFirst\": false, \"utmSource\": \"biznesowe rewolucje\", \"isRegistered\": \"Registered\"}, {\"date\": \"2016-02-10T00:00:00\", \"timestamp\": \"2016-02-10T14:49:20.841000\", \"uid\": \"60857668\", \"isFirst\": false, \"utmSource\": \"just in time travels newsletter\", \"isRegistered\": \"Registered\"}, {\"date\": \"2016-02-10T00:00:00\", \"timestamp\": \"2016-02-10T18:43:57.972000\", \"uid\": \"T7AaGCAJmDC4\", \"isFirst\": false, \"utmSource\": \"biznesowe rewolucje\", \"isRegistered\": \"Non Registered\"}, {\"date\": \"2016-02-10T00:00:00\", \"timestamp\": \"2016-02-10T18:48:15.498000\", \"uid\": \"jL2HBKRofpHH\", \"isFirst\": false, \"utmSource\": \"biznesowe rewolucje\", \"isRegistered\": \"Non Registered\"}, {\"date\": \"2016-02-10T00:00:00\", \"timestamp\": \"2016-02-10T21:33:15.910000\", \"uid\": \"HiFR2HRR6g6n\", \"isFirst\": false, \"utmSource\": \"biznesowe rewolucje\", \"isRegistered\": \"Non Registered\"}, {\"date\": \"2016-02-10T00:00:00\", \"timestamp\": \"2016-02-10T23:14:37.882000\", \"uid\": \"hdyAKdOKJH3K\", \"isFirst\": false, \"utmSource\": \"program\", \"isRegistered\": \"Non Registered\"}, {\"date\": \"2016-02-10T00:00:00\", \"timestamp\": \"2016-02-11T00:16:08.196000\", \"uid\": \"X8HIn6priraK\", \"isFirst\": false, \"utmSource\": \"biznesowe rewolucje\", \"isRegistered\": \"Non Registered\"}, {\"date\": \"2016-02-10T00:00:00\", \"timestamp\": \"2016-02-11T01:00:17.708000\", \"uid\": \"2QgB1kOe5X8Z\", \"isFirst\": false, \"utmSource\": \"shmoop\", \"isRegistered\": \"Non Registered\"}, {\"date\": \"2016-02-10T00:00:00\", \"timestamp\": \"2016-02-11T04:00:34.905000\", \"uid\": \"52944812\", \"isFirst\": false, \"utmSource\": \"biznesowe rewolucje\", \"isRegistered\": \"Registered\"}, {\"date\": \"2016-02-11T00:00:00\", \"timestamp\": \"2016-02-11T10:56:53.122000\", \"uid\": \"50591219\", \"isFirst\": false, \"utmSource\": \"biznesowe rewolucje\", \"isRegistered\": \"Registered\"}, {\"date\": \"2016-02-11T00:00:00\", \"timestamp\": \"2016-02-11T15:23:20.702000\", \"uid\": \"QHqrtlfapAqy\", \"isFirst\": false, \"utmSource\": \"biznesowe rewolucje\", \"isRegistered\": \"Non Registered\"}, {\"date\": \"2016-02-11T00:00:00\", \"timestamp\": \"2016-02-11T21:04:03.138000\", \"uid\": \"70776366\", \"isFirst\": false, \"utmSource\": \"biznesowe rewolucje\", \"isRegistered\": \"Registered\"}, {\"date\": \"2016-02-11T00:00:00\", \"timestamp\": \"2016-02-12T03:42:00.164000\", \"uid\": \"61338652\", \"isFirst\": false, \"utmSource\": \"biznesowe rewolucje\", \"isRegistered\": \"Registered\"}, {\"date\": \"2016-02-11T00:00:00\", \"timestamp\": \"2016-02-12T04:47:16.968000\", \"uid\": \"Vp3wbTMvSxBx\", \"isFirst\": false, \"utmSource\": \"program\", \"isRegistered\": \"Non Registered\"}, {\"date\": \"2016-02-11T00:00:00\", \"timestamp\": \"2016-02-12T06:54:16.237000\", \"uid\": \"xRE87Dak3G3F\", \"isFirst\": false, \"utmSource\": \"biznesowe rewolucje\", \"isRegistered\": \"Non Registered\"}, {\"date\": \"2016-02-12T00:00:00\", \"timestamp\": \"2016-02-12T10:07:01.606000\", \"uid\": \"B5UNAncFqOLt\", \"isFirst\": false, \"utmSource\": \"mosalingua fr\", \"isRegistered\": \"Non Registered\"}, {\"date\": \"2016-02-12T00:00:00\", \"timestamp\": \"2016-02-12T13:40:08.346000\", \"uid\": \"71951333\", \"isFirst\": true, \"utmSource\": \"biznesowe rewolucje\", \"isRegistered\": \"Registered\"}, {\"date\": \"2016-02-12T00:00:00\", \"timestamp\": \"2016-02-12T14:42:46.268000\", \"uid\": \"P7ukaXwuXCQ7\", \"isFirst\": false, \"utmSource\": \"contenthub\", \"isRegistered\": \"Non Registered\"}, {\"date\": \"2016-02-12T00:00:00\", \"timestamp\": \"2016-02-12T15:06:07.423000\", \"uid\": \"CulJTWxq4VFL\", \"isFirst\": false, \"utmSource\": \"program\", \"isRegistered\": \"Non Registered\"}, {\"date\": \"2016-02-12T00:00:00\", \"timestamp\": \"2016-02-12T20:23:58.505000\", \"uid\": \"j2OLyI68lsDu\", \"isFirst\": true, \"utmSource\": \"biznesowe rewolucje\", \"isRegistered\": \"Non Registered\"}, {\"date\": \"2016-02-13T00:00:00\", \"timestamp\": \"2016-02-13T10:12:49.826000\", \"uid\": \"8UoI3QrVqgEn\", \"isFirst\": false, \"utmSource\": \"shmoop\", \"isRegistered\": \"Non Registered\"}, {\"date\": \"2016-02-13T00:00:00\", \"timestamp\": \"2016-02-13T12:24:48.951000\", \"uid\": \"nqBp3MuVlDd2\", \"isFirst\": false, \"utmSource\": \"shmoop\", \"isRegistered\": \"Non Registered\"}, {\"date\": \"2016-02-13T00:00:00\", \"timestamp\": \"2016-02-13T12:47:46.730000\", \"uid\": \"IO2mehVX3UJN\", \"isFirst\": false, \"utmSource\": \"biznesowe rewolucje\", \"isRegistered\": \"Non Registered\"}, {\"date\": \"2016-02-13T00:00:00\", \"timestamp\": \"2016-02-13T13:40:00.479000\", \"uid\": \"07fUs1Iz60Cg\", \"isFirst\": false, \"utmSource\": \"biznesowe rewolucje\", \"isRegistered\": \"Non Registered\"}, {\"date\": \"2016-02-13T00:00:00\", \"timestamp\": \"2016-02-13T18:15:17.458000\", \"uid\": \"I1h7nZW3TOi0\", \"isFirst\": false, \"utmSource\": \"other\", \"isRegistered\": \"Non Registered\"}, {\"date\": \"2016-02-13T00:00:00\", \"timestamp\": \"2016-02-13T19:07:59.303000\", \"uid\": \"ibifD9VwMrCY\", \"isFirst\": false, \"utmSource\": \"other\", \"isRegistered\": \"Non Registered\"}, {\"date\": \"2016-02-13T00:00:00\", \"timestamp\": \"2016-02-13T21:08:50.215000\", \"uid\": \"lVzJ8JNjWdzu\", \"isFirst\": false, \"utmSource\": \"pandora\", \"isRegistered\": \"Non Registered\"}, {\"date\": \"2016-02-13T00:00:00\", \"timestamp\": \"2016-02-14T03:08:26.139000\", \"uid\": \"55626736\", \"isFirst\": true, \"utmSource\": \"answers\", \"isRegistered\": \"Registered\"}, {\"date\": \"2016-02-14T00:00:00\", \"timestamp\": \"2016-02-14T10:38:55.992000\", \"uid\": \"w5sZbBnBj7wG\", \"isFirst\": false, \"utmSource\": \"twitter\", \"isRegistered\": \"Non Registered\"}, {\"date\": \"2016-02-14T00:00:00\", \"timestamp\": \"2016-02-14T17:52:36.423000\", \"uid\": \"76159365\", \"isFirst\": false, \"utmSource\": \"biznesowe rewolucje\", \"isRegistered\": \"Registered\"}, {\"date\": \"2016-02-14T00:00:00\", \"timestamp\": \"2016-02-14T18:29:14.896000\", \"uid\": \"ix15HrehZvMM\", \"isFirst\": false, \"utmSource\": \"biznesowe rewolucje\", \"isRegistered\": \"Non Registered\"}, {\"date\": \"2016-02-14T00:00:00\", \"timestamp\": \"2016-02-14T19:14:02.457000\", \"uid\": \"60382721\", \"isFirst\": false, \"utmSource\": \"biznesowe rewolucje\", \"isRegistered\": \"Registered\"}, {\"date\": \"2016-02-14T00:00:00\", \"timestamp\": \"2016-02-14T23:37:05.406000\", \"uid\": \"LRZzrx0ZLhqJ\", \"isFirst\": true, \"utmSource\": \"biznesowe rewolucje\", \"isRegistered\": \"Non Registered\"}, {\"date\": \"2016-02-14T00:00:00\", \"timestamp\": \"2016-02-15T02:26:14.012000\", \"uid\": \"VcxFXH6wbleC\", \"isFirst\": false, \"utmSource\": \"biznesowe rewolucje\", \"isRegistered\": \"Non Registered\"}, {\"date\": \"2016-02-14T00:00:00\", \"timestamp\": \"2016-02-15T03:09:58.212000\", \"uid\": \"MUTCseEXCWnx\", \"isFirst\": false, \"utmSource\": \"biznesowe rewolucje\", \"isRegistered\": \"Non Registered\"}, {\"date\": \"2016-02-15T00:00:00\", \"timestamp\": \"2016-02-15T18:07:54.472000\", \"uid\": \"kRVfAGsF5Lcg\", \"isFirst\": false, \"utmSource\": \"biznesowe rewolucje\", \"isRegistered\": \"Non Registered\"}, {\"date\": \"2016-02-15T00:00:00\", \"timestamp\": \"2016-02-15T18:59:35.102000\", \"uid\": \"Xciv1ilwES8s\", \"isFirst\": true, \"utmSource\": \"program\", \"isRegistered\": \"Non Registered\"}, {\"date\": \"2016-02-15T00:00:00\", \"timestamp\": \"2016-02-15T19:00:51.383000\", \"uid\": \"enGCEkOCTUhk\", \"isFirst\": false, \"utmSource\": \"twitter\", \"isRegistered\": \"Non Registered\"}, {\"date\": \"2016-02-15T00:00:00\", \"timestamp\": \"2016-02-15T20:02:40.792000\", \"uid\": \"tzR3z3jzp4jC\", \"isFirst\": false, \"utmSource\": \"other\", \"isRegistered\": \"Non Registered\"}, {\"date\": \"2016-02-15T00:00:00\", \"timestamp\": \"2016-02-15T20:44:31.113000\", \"uid\": \"P7UfVMCYZkYW\", \"isFirst\": true, \"utmSource\": \"program\", \"isRegistered\": \"Non Registered\"}, {\"date\": \"2016-02-15T00:00:00\", \"timestamp\": \"2016-02-16T04:40:17.505000\", \"uid\": \"70136660\", \"isFirst\": false, \"utmSource\": \"biznesowe rewolucje\", \"isRegistered\": \"Registered\"}, {\"date\": \"2016-02-15T00:00:00\", \"timestamp\": \"2016-02-16T06:27:17.497000\", \"uid\": \"gpqr54KtgdBV\", \"isFirst\": false, \"utmSource\": \"biznesowe rewolucje\", \"isRegistered\": \"Non Registered\"}, {\"date\": \"2016-02-16T00:00:00\", \"timestamp\": \"2016-02-16T14:31:24.723000\", \"uid\": \"LRj6qF36n63a\", \"isFirst\": false, \"utmSource\": \"biznesowe rewolucje\", \"isRegistered\": \"Non Registered\"}, {\"date\": \"2016-02-16T00:00:00\", \"timestamp\": \"2016-02-16T15:55:45.643000\", \"uid\": \"n84ajNNcTrKV\", \"isFirst\": false, \"utmSource\": \"biznesowe rewolucje\", \"isRegistered\": \"Non Registered\"}, {\"date\": \"2016-02-16T00:00:00\", \"timestamp\": \"2016-02-16T18:32:30.561000\", \"uid\": \"76588942\", \"isFirst\": false, \"utmSource\": \"biznesowe rewolucje\", \"isRegistered\": \"Registered\"}, {\"date\": \"2016-02-16T00:00:00\", \"timestamp\": \"2016-02-16T19:45:37.515000\", \"uid\": \"66327898\", \"isFirst\": false, \"utmSource\": \"twitter\", \"isRegistered\": \"Registered\"}, {\"date\": \"2016-02-16T00:00:00\", \"timestamp\": \"2016-02-16T20:54:29.937000\", \"uid\": \"b8JM0cBOw3vD\", \"isFirst\": false, \"utmSource\": \"program\", \"isRegistered\": \"Non Registered\"}, {\"date\": \"2016-02-16T00:00:00\", \"timestamp\": \"2016-02-16T23:48:30.045000\", \"uid\": \"QlSmnq32EgBP\", \"isFirst\": false, \"utmSource\": \"biznesowe rewolucje\", \"isRegistered\": \"Non Registered\"}, {\"date\": \"2016-02-16T00:00:00\", \"timestamp\": \"2016-02-17T02:21:09.155000\", \"uid\": \"NPcJ3fewiWrZ\", \"isFirst\": false, \"utmSource\": \"biznesowe rewolucje\", \"isRegistered\": \"Non Registered\"}, {\"date\": \"2016-02-16T00:00:00\", \"timestamp\": \"2016-02-17T05:43:20.197000\", \"uid\": \"59438081\", \"isFirst\": false, \"utmSource\": \"biznesowe rewolucje\", \"isRegistered\": \"Registered\"}, {\"date\": \"2016-02-16T00:00:00\", \"timestamp\": \"2016-02-17T05:50:41.914000\", \"uid\": \"fjee1jN3m7be\", \"isFirst\": false, \"utmSource\": \"biznesowe rewolucje\", \"isRegistered\": \"Non Registered\"}, {\"date\": \"2016-02-17T00:00:00\", \"timestamp\": \"2016-02-17T18:06:29.048000\", \"uid\": \"64563536\", \"isFirst\": false, \"utmSource\": \"biznesowe rewolucje\", \"isRegistered\": \"Registered\"}, {\"date\": \"2016-02-17T00:00:00\", \"timestamp\": \"2016-02-17T19:44:05.296000\", \"uid\": \"57094782\", \"isFirst\": false, \"utmSource\": \"program\", \"isRegistered\": \"Registered\"}, {\"date\": \"2016-02-17T00:00:00\", \"timestamp\": \"2016-02-17T20:05:27.993000\", \"uid\": \"68239141\", \"isFirst\": false, \"utmSource\": \"program\", \"isRegistered\": \"Registered\"}, {\"date\": \"2016-02-17T00:00:00\", \"timestamp\": \"2016-02-17T21:20:04.036000\", \"uid\": \"mPRjkVtUB3oM\", \"isFirst\": true, \"utmSource\": \"program\", \"isRegistered\": \"Non Registered\"}, {\"date\": \"2016-02-18T00:00:00\", \"timestamp\": \"2016-02-18T12:06:31.658000\", \"uid\": \"uyKumqlyt6it\", \"isFirst\": false, \"utmSource\": \"biznesowe rewolucje\", \"isRegistered\": \"Non Registered\"}, {\"date\": \"2016-02-18T00:00:00\", \"timestamp\": \"2016-02-18T22:12:40.931000\", \"uid\": \"72708812\", \"isFirst\": false, \"utmSource\": \"other\", \"isRegistered\": \"Registered\"}, {\"date\": \"2016-02-18T00:00:00\", \"timestamp\": \"2016-02-18T22:18:14.914000\", \"uid\": \"Tg21CTR7exF3\", \"isFirst\": false, \"utmSource\": \"program\", \"isRegistered\": \"Non Registered\"}, {\"date\": \"2016-02-18T00:00:00\", \"timestamp\": \"2016-02-19T02:07:41.919000\", \"uid\": \"LXQJPXuicBU4\", \"isFirst\": false, \"utmSource\": \"twitter\", \"isRegistered\": \"Non Registered\"}, {\"date\": \"2016-02-19T00:00:00\", \"timestamp\": \"2016-02-19T12:24:32.074000\", \"uid\": \"Tin8MGgZB2Ld\", \"isFirst\": false, \"utmSource\": \"biznesowe rewolucje\", \"isRegistered\": \"Non Registered\"}, {\"date\": \"2016-02-20T00:00:00\", \"timestamp\": \"2016-02-20T16:45:09.311000\", \"uid\": \"gc2t3E4byJI3\", \"isFirst\": true, \"utmSource\": \"shmoop\", \"isRegistered\": \"Non Registered\"}, {\"date\": \"2016-02-20T00:00:00\", \"timestamp\": \"2016-02-20T23:22:35.156000\", \"uid\": \"IXiGENAWGe8m\", \"isFirst\": false, \"utmSource\": \"biznesowe rewolucje\", \"isRegistered\": \"Non Registered\"}, {\"date\": \"2016-02-20T00:00:00\", \"timestamp\": \"2016-02-21T05:11:32.388000\", \"uid\": \"77326474\", \"isFirst\": true, \"utmSource\": \"answers\", \"isRegistered\": \"Registered\"}, {\"date\": \"2016-02-20T00:00:00\", \"timestamp\": \"2016-02-21T07:20:38.665000\", \"uid\": \"64947761\", \"isFirst\": false, \"utmSource\": \"other\", \"isRegistered\": \"Registered\"}, {\"date\": \"2016-02-21T00:00:00\", \"timestamp\": \"2016-02-21T09:25:08.578000\", \"uid\": \"64606781\", \"isFirst\": false, \"utmSource\": \"program\", \"isRegistered\": \"Registered\"}, {\"date\": \"2016-02-21T00:00:00\", \"timestamp\": \"2016-02-21T11:37:17.783000\", \"uid\": \"QphLAFe37QxY\", \"isFirst\": false, \"utmSource\": \"biznesowe rewolucje\", \"isRegistered\": \"Non Registered\"}, {\"date\": \"2016-02-21T00:00:00\", \"timestamp\": \"2016-02-21T11:53:38.975000\", \"uid\": \"5V4YDiLTrFuo\", \"isFirst\": false, \"utmSource\": \"biznesowe rewolucje\", \"isRegistered\": \"Non Registered\"}, {\"date\": \"2016-02-21T00:00:00\", \"timestamp\": \"2016-02-21T17:30:38.333000\", \"uid\": \"WVdNGIT0RIQ5\", \"isFirst\": false, \"utmSource\": \"biznesowe rewolucje\", \"isRegistered\": \"Non Registered\"}, {\"date\": \"2016-02-21T00:00:00\", \"timestamp\": \"2016-02-21T20:42:21.898000\", \"uid\": \"hy5O8LRzGhe7\", \"isFirst\": false, \"utmSource\": \"biznesowe rewolucje\", \"isRegistered\": \"Non Registered\"}, {\"date\": \"2016-02-21T00:00:00\", \"timestamp\": \"2016-02-21T20:55:57.894000\", \"uid\": \"73905063\", \"isFirst\": false, \"utmSource\": \"program\", \"isRegistered\": \"Registered\"}, {\"date\": \"2016-02-21T00:00:00\", \"timestamp\": \"2016-02-21T22:19:41.349000\", \"uid\": \"tNM6d3dK5MGH\", \"isFirst\": false, \"utmSource\": \"tapjoy\", \"isRegistered\": \"Non Registered\"}, {\"date\": \"2016-02-21T00:00:00\", \"timestamp\": \"2016-02-21T23:24:43.510000\", \"uid\": \"VCs8CusgcifA\", \"isFirst\": false, \"utmSource\": \"biznesowe rewolucje\", \"isRegistered\": \"Non Registered\"}, {\"date\": \"2016-02-21T00:00:00\", \"timestamp\": \"2016-02-22T00:38:47.860000\", \"uid\": \"3odDU11SJ0MP\", \"isFirst\": false, \"utmSource\": \"twitter\", \"isRegistered\": \"Non Registered\"}, {\"date\": \"2016-02-21T00:00:00\", \"timestamp\": \"2016-02-22T02:17:08.055000\", \"uid\": \"21P6PejQj0uh\", \"isFirst\": false, \"utmSource\": \"biznesowe rewolucje\", \"isRegistered\": \"Non Registered\"}, {\"date\": \"2016-02-22T00:00:00\", \"timestamp\": \"2016-02-22T08:01:12.123000\", \"uid\": \"69700615\", \"isFirst\": false, \"utmSource\": \"shmoop\", \"isRegistered\": \"Registered\"}, {\"date\": \"2016-02-22T00:00:00\", \"timestamp\": \"2016-02-22T14:27:24.750000\", \"uid\": \"59873492\", \"isFirst\": false, \"utmSource\": \"biznesowe rewolucje\", \"isRegistered\": \"Registered\"}, {\"date\": \"2016-02-22T00:00:00\", \"timestamp\": \"2016-02-22T15:22:51.145000\", \"uid\": \"kCCpHY47cbXP\", \"isFirst\": false, \"utmSource\": \"biznesowe rewolucje\", \"isRegistered\": \"Non Registered\"}, {\"date\": \"2016-02-22T00:00:00\", \"timestamp\": \"2016-02-22T15:49:46.979000\", \"uid\": \"51543088\", \"isFirst\": false, \"utmSource\": \"biznesowe rewolucje\", \"isRegistered\": \"Registered\"}, {\"date\": \"2016-02-22T00:00:00\", \"timestamp\": \"2016-02-22T20:49:41.084000\", \"uid\": \"5IMZrVmb7lRx\", \"isFirst\": false, \"utmSource\": \"program\", \"isRegistered\": \"Non Registered\"}, {\"date\": \"2016-02-22T00:00:00\", \"timestamp\": \"2016-02-22T23:57:41.147000\", \"uid\": \"79118462\", \"isFirst\": false, \"utmSource\": \"twitter\", \"isRegistered\": \"Registered\"}, {\"date\": \"2016-02-22T00:00:00\", \"timestamp\": \"2016-02-23T04:39:30.933000\", \"uid\": \"3V6bFdqlhZfT\", \"isFirst\": false, \"utmSource\": \"salesmanago\", \"isRegistered\": \"Non Registered\"}, {\"date\": \"2016-02-22T00:00:00\", \"timestamp\": \"2016-02-23T06:18:47.348000\", \"uid\": \"50182168\", \"isFirst\": false, \"utmSource\": \"biznesowe rewolucje\", \"isRegistered\": \"Registered\"}, {\"date\": \"2016-02-23T00:00:00\", \"timestamp\": \"2016-02-23T11:09:27.518000\", \"uid\": \"JUOg6ElzWw8r\", \"isFirst\": false, \"utmSource\": \"biznesowe rewolucje\", \"isRegistered\": \"Non Registered\"}, {\"date\": \"2016-02-23T00:00:00\", \"timestamp\": \"2016-02-23T12:44:50.279000\", \"uid\": \"74685375\", \"isFirst\": false, \"utmSource\": \"biznesowe rewolucje\", \"isRegistered\": \"Registered\"}, {\"date\": \"2016-02-23T00:00:00\", \"timestamp\": \"2016-02-23T14:18:56.678000\", \"uid\": \"jM7ATgHOz7Cw\", \"isFirst\": false, \"utmSource\": \"biznesowe rewolucje\", \"isRegistered\": \"Non Registered\"}, {\"date\": \"2016-02-23T00:00:00\", \"timestamp\": \"2016-02-23T19:21:52.507000\", \"uid\": \"FHDS1nYNPL8G\", \"isFirst\": false, \"utmSource\": \"program\", \"isRegistered\": \"Non Registered\"}, {\"date\": \"2016-02-23T00:00:00\", \"timestamp\": \"2016-02-23T22:33:01.945000\", \"uid\": \"71693439\", \"isFirst\": true, \"utmSource\": \"answers\", \"isRegistered\": \"Registered\"}, {\"date\": \"2016-02-23T00:00:00\", \"timestamp\": \"2016-02-23T23:08:12.959000\", \"uid\": \"d5tPXQMa9kpY\", \"isFirst\": false, \"utmSource\": \"biznesowe rewolucje\", \"isRegistered\": \"Non Registered\"}, {\"date\": \"2016-02-23T00:00:00\", \"timestamp\": \"2016-02-24T04:51:06.412000\", \"uid\": \"72501283\", \"isFirst\": true, \"utmSource\": \"biznesowe rewolucje\", \"isRegistered\": \"Registered\"}, {\"date\": \"2016-02-23T00:00:00\", \"timestamp\": \"2016-02-24T07:35:56.641000\", \"uid\": \"50345134\", \"isFirst\": false, \"utmSource\": \"biznesowe rewolucje\", \"isRegistered\": \"Registered\"}, {\"date\": \"2016-02-24T00:00:00\", \"timestamp\": \"2016-02-24T14:01:15.573000\", \"uid\": \"62390054\", \"isFirst\": false, \"utmSource\": \"biznesowe rewolucje\", \"isRegistered\": \"Registered\"}, {\"date\": \"2016-02-24T00:00:00\", \"timestamp\": \"2016-02-24T18:59:11.915000\", \"uid\": \"67207151\", \"isFirst\": false, \"utmSource\": \"mosalingua fr\", \"isRegistered\": \"Registered\"}, {\"date\": \"2016-02-24T00:00:00\", \"timestamp\": \"2016-02-24T22:01:54.655000\", \"uid\": \"55016686\", \"isFirst\": false, \"utmSource\": \"shmoop\", \"isRegistered\": \"Registered\"}, {\"date\": \"2016-02-24T00:00:00\", \"timestamp\": \"2016-02-25T01:01:34.833000\", \"uid\": \"56955239\", \"isFirst\": true, \"utmSource\": \"biznesowe rewolucje\", \"isRegistered\": \"Registered\"}, {\"date\": \"2016-02-25T00:00:00\", \"timestamp\": \"2016-02-25T09:54:13.340000\", \"uid\": \"1cCEHpPxQyHQ\", \"isFirst\": false, \"utmSource\": \"shmoop\", \"isRegistered\": \"Non Registered\"}, {\"date\": \"2016-02-25T00:00:00\", \"timestamp\": \"2016-02-25T14:50:57.861000\", \"uid\": \"66960001\", \"isFirst\": false, \"utmSource\": \"biznesowe rewolucje\", \"isRegistered\": \"Registered\"}, {\"date\": \"2016-02-25T00:00:00\", \"timestamp\": \"2016-02-25T14:50:57.861000\", \"uid\": \"68259529\", \"isFirst\": false, \"utmSource\": \"biznesowe rewolucje\", \"isRegistered\": \"Registered\"}, {\"date\": \"2016-02-25T00:00:00\", \"timestamp\": \"2016-02-26T03:48:10.785000\", \"uid\": \"Y6x0eth0vOaS\", \"isFirst\": false, \"utmSource\": \"biznesowe rewolucje\", \"isRegistered\": \"Non Registered\"}, {\"date\": \"2016-02-25T00:00:00\", \"timestamp\": \"2016-02-26T03:57:50.712000\", \"uid\": \"55539695\", \"isFirst\": false, \"utmSource\": \"other\", \"isRegistered\": \"Registered\"}, {\"date\": \"2016-02-25T00:00:00\", \"timestamp\": \"2016-02-26T07:15:33.238000\", \"uid\": \"53618234\", \"isFirst\": true, \"utmSource\": \"biznesowe rewolucje\", \"isRegistered\": \"Registered\"}, {\"date\": \"2016-02-26T00:00:00\", \"timestamp\": \"2016-02-26T09:25:20.583000\", \"uid\": \"ZAhXS7wCI1uM\", \"isFirst\": false, \"utmSource\": \"mosalingua fr\", \"isRegistered\": \"Non Registered\"}, {\"date\": \"2016-02-26T00:00:00\", \"timestamp\": \"2016-02-27T01:08:52.555000\", \"uid\": \"75326886\", \"isFirst\": false, \"utmSource\": \"twitter\", \"isRegistered\": \"Registered\"}, {\"date\": \"2016-02-27T00:00:00\", \"timestamp\": \"2016-02-27T21:07:17.138000\", \"uid\": \"8U7KGOSbifw7\", \"isFirst\": false, \"utmSource\": \"biznesowe rewolucje\", \"isRegistered\": \"Non Registered\"}, {\"date\": \"2016-02-27T00:00:00\", \"timestamp\": \"2016-02-27T21:49:07.679000\", \"uid\": \"W3aSa1C6aodD\", \"isFirst\": false, \"utmSource\": \"twitter\", \"isRegistered\": \"Non Registered\"}, {\"date\": \"2016-02-27T00:00:00\", \"timestamp\": \"2016-02-28T01:29:43.575000\", \"uid\": \"71479937\", \"isFirst\": true, \"utmSource\": \"answers\", \"isRegistered\": \"Registered\"}, {\"date\": \"2016-02-27T00:00:00\", \"timestamp\": \"2016-02-28T02:04:35.520000\", \"uid\": \"64857720\", \"isFirst\": true, \"utmSource\": \"program\", \"isRegistered\": \"Registered\"}, {\"date\": \"2016-02-27T00:00:00\", \"timestamp\": \"2016-02-28T02:11:13.017000\", \"uid\": \"m0cYGI5hKTms\", \"isFirst\": false, \"utmSource\": \"program\", \"isRegistered\": \"Non Registered\"}, {\"date\": \"2016-02-27T00:00:00\", \"timestamp\": \"2016-02-28T04:50:10.354000\", \"uid\": \"58384082\", \"isFirst\": false, \"utmSource\": \"answers\", \"isRegistered\": \"Registered\"}, {\"date\": \"2016-02-27T00:00:00\", \"timestamp\": \"2016-02-28T05:48:10.791000\", \"uid\": \"BJw9WD3rYsLd\", \"isFirst\": true, \"utmSource\": \"biznesowe rewolucje\", \"isRegistered\": \"Non Registered\"}, {\"date\": \"2016-02-27T00:00:00\", \"timestamp\": \"2016-02-28T06:48:54.461000\", \"uid\": \"6aTUblumeN2d\", \"isFirst\": false, \"utmSource\": \"shmoop\", \"isRegistered\": \"Non Registered\"}, {\"date\": \"2016-02-28T00:00:00\", \"timestamp\": \"2016-02-28T09:20:50.471000\", \"uid\": \"EThh9jsuss53\", \"isFirst\": false, \"utmSource\": \"program\", \"isRegistered\": \"Non Registered\"}, {\"date\": \"2016-02-28T00:00:00\", \"timestamp\": \"2016-02-28T10:01:59.190000\", \"uid\": \"yBoroK6rSS1p\", \"isFirst\": false, \"utmSource\": \"program\", \"isRegistered\": \"Non Registered\"}, {\"date\": \"2016-02-28T00:00:00\", \"timestamp\": \"2016-02-28T12:22:56.140000\", \"uid\": \"PgwjHp7P1cow\", \"isFirst\": true, \"utmSource\": \"biznesowe rewolucje\", \"isRegistered\": \"Non Registered\"}, {\"date\": \"2016-02-28T00:00:00\", \"timestamp\": \"2016-02-28T16:18:55.064000\", \"uid\": \"hY0vRfdmU8My\", \"isFirst\": false, \"utmSource\": \"biznesowe rewolucje\", \"isRegistered\": \"Non Registered\"}, {\"date\": \"2016-02-28T00:00:00\", \"timestamp\": \"2016-02-28T18:32:49.025000\", \"uid\": \"51344357\", \"isFirst\": false, \"utmSource\": \"answers\", \"isRegistered\": \"Registered\"}, {\"date\": \"2016-02-28T00:00:00\", \"timestamp\": \"2016-02-28T19:05:57.140000\", \"uid\": \"63329000\", \"isFirst\": false, \"utmSource\": \"biznesowe rewolucje\", \"isRegistered\": \"Registered\"}, {\"date\": \"2016-02-28T00:00:00\", \"timestamp\": \"2016-02-28T20:03:49.925000\", \"uid\": \"72475587\", \"isFirst\": false, \"utmSource\": \"biznesowe rewolucje\", \"isRegistered\": \"Registered\"}, {\"date\": \"2016-02-28T00:00:00\", \"timestamp\": \"2016-02-28T20:38:53.763000\", \"uid\": \"qflg6gyUv9yF\", \"isFirst\": false, \"utmSource\": \"placement\", \"isRegistered\": \"Non Registered\"}, {\"date\": \"2016-02-28T00:00:00\", \"timestamp\": \"2016-02-28T20:42:59.958000\", \"uid\": \"51613290\", \"isFirst\": false, \"utmSource\": \"biznesowe rewolucje\", \"isRegistered\": \"Registered\"}, {\"date\": \"2016-02-28T00:00:00\", \"timestamp\": \"2016-02-28T20:49:22.365000\", \"uid\": \"JQqLRec6vwWg\", \"isFirst\": false, \"utmSource\": \"grub street\", \"isRegistered\": \"Non Registered\"}, {\"date\": \"2016-02-28T00:00:00\", \"timestamp\": \"2016-02-28T22:41:45.621000\", \"uid\": \"64903642\", \"isFirst\": false, \"utmSource\": \"biznesowe rewolucje\", \"isRegistered\": \"Registered\"}, {\"date\": \"2016-02-28T00:00:00\", \"timestamp\": \"2016-02-28T23:25:11.042000\", \"uid\": \"73966224\", \"isFirst\": false, \"utmSource\": \"biznesowe rewolucje\", \"isRegistered\": \"Registered\"}, {\"date\": \"2016-02-28T00:00:00\", \"timestamp\": \"2016-02-29T02:29:05.608000\", \"uid\": \"c5qpNWJvHOLj\", \"isFirst\": false, \"utmSource\": \"biznesowe rewolucje\", \"isRegistered\": \"Non Registered\"}, {\"date\": \"2016-02-28T00:00:00\", \"timestamp\": \"2016-02-29T03:01:14.718000\", \"uid\": \"65471224\", \"isFirst\": false, \"utmSource\": \"answers\", \"isRegistered\": \"Registered\"}, {\"date\": \"2016-02-28T00:00:00\", \"timestamp\": \"2016-02-29T03:22:08.782000\", \"uid\": \"59416579\", \"isFirst\": false, \"utmSource\": \"just in time travels newsletter\", \"isRegistered\": \"Registered\"}, {\"date\": \"2016-02-28T00:00:00\", \"timestamp\": \"2016-02-29T04:29:02.117000\", \"uid\": \"71486153\", \"isFirst\": false, \"utmSource\": \"biznesowe rewolucje\", \"isRegistered\": \"Registered\"}, {\"date\": \"2016-02-28T00:00:00\", \"timestamp\": \"2016-02-29T05:44:59.515000\", \"uid\": \"76450801\", \"isFirst\": false, \"utmSource\": \"biznesowe rewolucje\", \"isRegistered\": \"Registered\"}, {\"date\": \"2016-02-29T00:00:00\", \"timestamp\": \"2016-02-29T08:50:48.164000\", \"uid\": \"58485130\", \"isFirst\": false, \"utmSource\": \"biznesowe rewolucje\", \"isRegistered\": \"Registered\"}, {\"date\": \"2016-02-29T00:00:00\", \"timestamp\": \"2016-02-29T10:05:04.067000\", \"uid\": \"73807614\", \"isFirst\": false, \"utmSource\": \"biznesowe rewolucje\", \"isRegistered\": \"Registered\"}, {\"date\": \"2016-02-29T00:00:00\", \"timestamp\": \"2016-02-29T12:46:44.957000\", \"uid\": \"64135130\", \"isFirst\": true, \"utmSource\": \"answers\", \"isRegistered\": \"Registered\"}, {\"date\": \"2016-02-29T00:00:00\", \"timestamp\": \"2016-02-29T13:59:13.317000\", \"uid\": \"68555479\", \"isFirst\": true, \"utmSource\": \"biznesowe rewolucje\", \"isRegistered\": \"Registered\"}, {\"date\": \"2016-02-29T00:00:00\", \"timestamp\": \"2016-02-29T14:27:11.051000\", \"uid\": \"ZCZvNuOBEfFo\", \"isFirst\": false, \"utmSource\": \"biznesowe rewolucje\", \"isRegistered\": \"Non Registered\"}, {\"date\": \"2016-02-29T00:00:00\", \"timestamp\": \"2016-02-29T14:32:45.660000\", \"uid\": \"79354852\", \"isFirst\": false, \"utmSource\": \"answers\", \"isRegistered\": \"Registered\"}, {\"date\": \"2016-02-29T00:00:00\", \"timestamp\": \"2016-02-29T15:11:07.546000\", \"uid\": \"61099367\", \"isFirst\": false, \"utmSource\": \"biznesowe rewolucje\", \"isRegistered\": \"Registered\"}, {\"date\": \"2016-02-29T00:00:00\", \"timestamp\": \"2016-02-29T16:33:18.534000\", \"uid\": \"7o90GgGbeC0s\", \"isFirst\": false, \"utmSource\": \"biznesowe rewolucje\", \"isRegistered\": \"Non Registered\"}, {\"date\": \"2016-02-29T00:00:00\", \"timestamp\": \"2016-02-29T16:35:24.275000\", \"uid\": \"64796083\", \"isFirst\": false, \"utmSource\": \"biznesowe rewolucje\", \"isRegistered\": \"Registered\"}, {\"date\": \"2016-02-29T00:00:00\", \"timestamp\": \"2016-02-29T16:37:57.956000\", \"uid\": \"55675006\", \"isFirst\": false, \"utmSource\": \"shmoop\", \"isRegistered\": \"Registered\"}, {\"date\": \"2016-02-29T00:00:00\", \"timestamp\": \"2016-02-29T16:38:09.882000\", \"uid\": \"65380804\", \"isFirst\": true, \"utmSource\": \"biznesowe rewolucje\", \"isRegistered\": \"Registered\"}, {\"date\": \"2016-02-29T00:00:00\", \"timestamp\": \"2016-02-29T17:13:19.980000\", \"uid\": \"63681923\", \"isFirst\": true, \"utmSource\": \"biznesowe rewolucje\", \"isRegistered\": \"Registered\"}, {\"date\": \"2016-02-29T00:00:00\", \"timestamp\": \"2016-02-29T17:21:20.741000\", \"uid\": \"63466744\", \"isFirst\": false, \"utmSource\": \"grub street\", \"isRegistered\": \"Registered\"}, {\"date\": \"2016-02-29T00:00:00\", \"timestamp\": \"2016-02-29T17:49:49.257000\", \"uid\": \"72042882\", \"isFirst\": false, \"utmSource\": \"other\", \"isRegistered\": \"Registered\"}, {\"date\": \"2016-02-29T00:00:00\", \"timestamp\": \"2016-02-29T18:16:14.760000\", \"uid\": \"52355688\", \"isFirst\": false, \"utmSource\": \"program\", \"isRegistered\": \"Registered\"}, {\"date\": \"2016-02-29T00:00:00\", \"timestamp\": \"2016-02-29T19:19:07.845000\", \"uid\": \"77044631\", \"isFirst\": true, \"utmSource\": \"shmoop\", \"isRegistered\": \"Registered\"}, {\"date\": \"2016-02-29T00:00:00\", \"timestamp\": \"2016-02-29T19:30:01.518000\", \"uid\": \"pNrZwqUEofQO\", \"isFirst\": false, \"utmSource\": \"handbook\", \"isRegistered\": \"Non Registered\"}, {\"date\": \"2016-02-29T00:00:00\", \"timestamp\": \"2016-02-29T20:34:02.547000\", \"uid\": \"76828985\", \"isFirst\": false, \"utmSource\": \"biznesowe rewolucje\", \"isRegistered\": \"Registered\"}, {\"date\": \"2016-02-29T00:00:00\", \"timestamp\": \"2016-02-29T21:06:22.436000\", \"uid\": \"79005060\", \"isFirst\": true, \"utmSource\": \"shmoop\", \"isRegistered\": \"Registered\"}, {\"date\": \"2016-02-29T00:00:00\", \"timestamp\": \"2016-02-29T21:25:00.775000\", \"uid\": \"61694657\", \"isFirst\": false, \"utmSource\": \"biznesowe rewolucje\", \"isRegistered\": \"Registered\"}, {\"date\": \"2016-02-29T00:00:00\", \"timestamp\": \"2016-02-29T21:28:34.840000\", \"uid\": \"67066162\", \"isFirst\": false, \"utmSource\": \"biznesowe rewolucje\", \"isRegistered\": \"Registered\"}, {\"date\": \"2016-02-29T00:00:00\", \"timestamp\": \"2016-02-29T21:43:17.756000\", \"uid\": \"aLmGi1PXjh8e\", \"isFirst\": false, \"utmSource\": \"biznesowe rewolucje\", \"isRegistered\": \"Non Registered\"}, {\"date\": \"2016-02-29T00:00:00\", \"timestamp\": \"2016-02-29T22:49:00.018000\", \"uid\": \"AkyqGTYHtKjd\", \"isFirst\": false, \"utmSource\": \"other\", \"isRegistered\": \"Non Registered\"}, {\"date\": \"2016-02-29T00:00:00\", \"timestamp\": \"2016-03-01T00:04:42.174000\", \"uid\": \"68138409\", \"isFirst\": false, \"utmSource\": \"program\", \"isRegistered\": \"Registered\"}, {\"date\": \"2016-02-29T00:00:00\", \"timestamp\": \"2016-03-01T02:07:00.727000\", \"uid\": \"54917531\", \"isFirst\": false, \"utmSource\": \"biznesowe rewolucje\", \"isRegistered\": \"Registered\"}, {\"date\": \"2016-02-29T00:00:00\", \"timestamp\": \"2016-03-01T02:23:32.844000\", \"uid\": \"53277803\", \"isFirst\": true, \"utmSource\": \"biznesowe rewolucje\", \"isRegistered\": \"Registered\"}, {\"date\": \"2016-02-29T00:00:00\", \"timestamp\": \"2016-03-01T04:03:51.214000\", \"uid\": \"1Vbe0YehtuOs\", \"isFirst\": false, \"utmSource\": \"biznesowe rewolucje\", \"isRegistered\": \"Non Registered\"}, {\"date\": \"2016-02-29T00:00:00\", \"timestamp\": \"2016-03-01T04:19:33.119000\", \"uid\": \"63586057\", \"isFirst\": false, \"utmSource\": \"biznesowe rewolucje\", \"isRegistered\": \"Registered\"}, {\"date\": \"2016-02-29T00:00:00\", \"timestamp\": \"2016-03-01T05:55:43.293000\", \"uid\": \"57287567\", \"isFirst\": true, \"utmSource\": \"biznesowe rewolucje\", \"isRegistered\": \"Registered\"}]}}, {\"mode\": \"vega-lite\"});\n",
       "</script>"
      ],
      "text/plain": [
       "alt.LayerChart(...)"
      ]
     },
     "execution_count": 87,
     "metadata": {},
     "output_type": "execute_result"
    }
   ],
   "source": [
    "# Sources of Top 500 Users(Without NA Source) - Bar Chart \n",
    "fig7 = alt.Chart(df_top_users_unq_wo_na).mark_bar(size=10).encode(\n",
    "    x=alt.X('utmSource:O', axis = alt.Axis(title = 'Traffic Source',labelAngle=90)),\n",
    "    y=alt.Y('count(utmSource):Q', axis = alt.Axis(title = 'Number of Top Users')),\n",
    "    color = alt.Color(\"utmSource:O\",legend=alt.Legend(title=\"Source\"), scale=alt.Scale(range=[\"#d5c56f\",\"#e78c19\",\"#fa8775\",\"#ea5f94\",\"#34cda5\",\"#9d02d7\",\"#0000ff\",\"#6b9c2e\",\"#c95d1a\",\"#7e745b\",\"#91a9e7\",\"#929482\",\"#e81515\",\"#27a18e\",\"#f3a384\",\"#1bf542\",\"#c7a3cd\"])),\n",
    "    tooltip=[alt.Tooltip('utmSource', title = 'Source'),\n",
    "             alt.Tooltip('count(utmSource):Q', title = 'Total Users')]\n",
    ").properties(\n",
    "    height= 420,\n",
    "    width = 400 ,title=[\"Sources of Top 500 Users\", \"February 2016\"]\n",
    ")\n",
    "\n",
    "chart_g = alt.layer(fig7\n",
    "    ).configure_title(fontSize=14,font='Helvetica Sans', color='dimgrey', dy=-5\n",
    "    ).configure_legend(labelFontSize=12, titleColor ='dimgray'\n",
    "    ).configure_axisY(labelPadding=5, titleX=-50, labelFontSize=10,titleFontSize=12, titleColor = 'dimgray', titleFont = 'Helvetica Sans' \n",
    "    ).configure_axisX(grid=False,titleY=80,titleFontSize=12, labelFontSize=10, titleColor = 'dimgray', titleFont = 'Helvetica Sans'\n",
    "    ).configure_axis(gridOpacity = 0.6\n",
    "    )\n",
    "\n",
    "\n",
    "chart_g\n"
   ]
  },
  {
   "cell_type": "code",
   "execution_count": 88,
   "metadata": {},
   "outputs": [],
   "source": [
    "chart_g.save('chart_g.html')"
   ]
  }
 ],
 "metadata": {
  "kernelspec": {
   "display_name": "Python 3",
   "language": "python",
   "name": "python3"
  },
  "language_info": {
   "codemirror_mode": {
    "name": "ipython",
    "version": 3
   },
   "file_extension": ".py",
   "mimetype": "text/x-python",
   "name": "python",
   "nbconvert_exporter": "python",
   "pygments_lexer": "ipython3",
   "version": "3.7.3"
  }
 },
 "nbformat": 4,
 "nbformat_minor": 4
}
